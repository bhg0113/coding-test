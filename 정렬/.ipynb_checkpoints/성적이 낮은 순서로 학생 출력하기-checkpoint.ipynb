{
 "cells": [
  {
   "cell_type": "code",
   "execution_count": 2,
   "id": "b6e8fd22",
   "metadata": {
    "ExecuteTime": {
     "end_time": "2022-07-15T08:50:26.978846Z",
     "start_time": "2022-07-15T08:50:19.362366Z"
    }
   },
   "outputs": [
    {
     "name": "stdout",
     "output_type": "stream",
     "text": [
      "2\n",
      "g 95\n",
      "a 77\n"
     ]
    }
   ],
   "source": [
    "# 키 활용해 정렬하는 문제 \n",
    "n = int(input())\n",
    "arr=[]\n",
    "for i in range(n):\n",
    "    arr.append(input().split())"
   ]
  },
  {
   "cell_type": "code",
   "execution_count": 10,
   "id": "488b0902",
   "metadata": {
    "ExecuteTime": {
     "end_time": "2022-07-15T08:52:29.060043Z",
     "start_time": "2022-07-15T08:52:29.041026Z"
    }
   },
   "outputs": [],
   "source": [
    "arr.sort(key=lambda x: int(x[1]))"
   ]
  },
  {
   "cell_type": "code",
   "execution_count": 11,
   "id": "c1390691",
   "metadata": {
    "ExecuteTime": {
     "end_time": "2022-07-15T08:52:29.589904Z",
     "start_time": "2022-07-15T08:52:29.578918Z"
    }
   },
   "outputs": [
    {
     "data": {
      "text/plain": [
       "[['a', '77'], ['g', '95']]"
      ]
     },
     "execution_count": 11,
     "metadata": {},
     "output_type": "execute_result"
    }
   ],
   "source": [
    "arr"
   ]
  },
  {
   "cell_type": "code",
   "execution_count": 12,
   "id": "18f4e75c",
   "metadata": {
    "ExecuteTime": {
     "end_time": "2022-07-15T08:52:30.026706Z",
     "start_time": "2022-07-15T08:52:30.019714Z"
    }
   },
   "outputs": [
    {
     "name": "stdout",
     "output_type": "stream",
     "text": [
      "a g "
     ]
    }
   ],
   "source": [
    "for a in arr:\n",
    "    print(a[0],end=' ')"
   ]
  },
  {
   "cell_type": "code",
   "execution_count": null,
   "id": "27b8321b",
   "metadata": {},
   "outputs": [],
   "source": []
  }
 ],
 "metadata": {
  "kernelspec": {
   "display_name": "Python 3 (ipykernel)",
   "language": "python",
   "name": "python3"
  },
  "language_info": {
   "codemirror_mode": {
    "name": "ipython",
    "version": 3
   },
   "file_extension": ".py",
   "mimetype": "text/x-python",
   "name": "python",
   "nbconvert_exporter": "python",
   "pygments_lexer": "ipython3",
   "version": "3.8.12"
  },
  "toc": {
   "base_numbering": 1,
   "nav_menu": {},
   "number_sections": true,
   "sideBar": true,
   "skip_h1_title": true,
   "title_cell": "Table of Contents",
   "title_sidebar": "Contents",
   "toc_cell": false,
   "toc_position": {},
   "toc_section_display": true,
   "toc_window_display": false
  },
  "varInspector": {
   "cols": {
    "lenName": 16,
    "lenType": 16,
    "lenVar": 40
   },
   "kernels_config": {
    "python": {
     "delete_cmd_postfix": "",
     "delete_cmd_prefix": "del ",
     "library": "var_list.py",
     "varRefreshCmd": "print(var_dic_list())"
    },
    "r": {
     "delete_cmd_postfix": ") ",
     "delete_cmd_prefix": "rm(",
     "library": "var_list.r",
     "varRefreshCmd": "cat(var_dic_list()) "
    }
   },
   "types_to_exclude": [
    "module",
    "function",
    "builtin_function_or_method",
    "instance",
    "_Feature"
   ],
   "window_display": false
  }
 },
 "nbformat": 4,
 "nbformat_minor": 5
}
