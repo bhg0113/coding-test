{
 "cells": [
  {
   "cell_type": "code",
   "execution_count": 25,
   "id": "31267ac1",
   "metadata": {
    "ExecuteTime": {
     "end_time": "2022-07-15T09:38:28.276446Z",
     "start_time": "2022-07-15T09:38:19.684035Z"
    }
   },
   "outputs": [
    {
     "name": "stdout",
     "output_type": "stream",
     "text": [
      "5 3\n",
      "1 2 5 4 3\n",
      "5 5 6 6 5\n"
     ]
    }
   ],
   "source": [
    "n,k = map(int,input().split())\n",
    "\n",
    "arr1= list(map(int,input().split()))\n",
    "arr2 = list(map(int,input().split()))\n"
   ]
  },
  {
   "cell_type": "code",
   "execution_count": 13,
   "id": "071d3fa3",
   "metadata": {
    "ExecuteTime": {
     "end_time": "2022-07-15T09:26:24.997884Z",
     "start_time": "2022-07-15T09:26:24.980877Z"
    }
   },
   "outputs": [],
   "source": [
    "# 내풀이는 정렬사용하지 않고 min, max와 스와핑 사용\n",
    "# 한번 교체된 원소는 다시 교체되지 않는 조건이 없어 사용했으나 예시 풀이에선 다시 교체하지 않음\n",
    "for i in range(k):\n",
    "    arr1[arr1.index(min(arr1))],arr2[arr2.index(max(arr2))] = max(arr2), min(arr1)\n",
    "#     max(arr2"
   ]
  },
  {
   "cell_type": "code",
   "execution_count": 14,
   "id": "28b478dc",
   "metadata": {
    "ExecuteTime": {
     "end_time": "2022-07-15T09:26:25.449744Z",
     "start_time": "2022-07-15T09:26:25.441740Z"
    }
   },
   "outputs": [
    {
     "data": {
      "text/plain": [
       "27"
      ]
     },
     "execution_count": 14,
     "metadata": {},
     "output_type": "execute_result"
    }
   ],
   "source": [
    "sum(arr1[0])\n",
    "# print(sum(arr1))"
   ]
  },
  {
   "cell_type": "code",
   "execution_count": 26,
   "id": "bfffcc28",
   "metadata": {
    "ExecuteTime": {
     "end_time": "2022-07-15T09:38:30.627139Z",
     "start_time": "2022-07-15T09:38:30.610135Z"
    }
   },
   "outputs": [
    {
     "name": "stdout",
     "output_type": "stream",
     "text": [
      "[1, 2, 3, 4, 5] [6, 6, 5, 5, 5]\n"
     ]
    }
   ],
   "source": [
    "arr1.sort()\n",
    "arr2.sort(reverse=True)\n",
    "print(arr1, arr2)\n",
    "for i in range(k):\n",
    "    if arr1[i] <= arr2[i]:\n",
    "        arr1[i], arr2[i] = arr2[i],arr1[i]\n",
    "    else: break"
   ]
  },
  {
   "cell_type": "code",
   "execution_count": 27,
   "id": "3178d7bc",
   "metadata": {
    "ExecuteTime": {
     "end_time": "2022-07-15T09:38:32.568270Z",
     "start_time": "2022-07-15T09:38:32.549253Z"
    }
   },
   "outputs": [
    {
     "data": {
      "text/plain": [
       "[6, 6, 5, 4, 5]"
      ]
     },
     "execution_count": 27,
     "metadata": {},
     "output_type": "execute_result"
    }
   ],
   "source": [
    "arr1"
   ]
  },
  {
   "cell_type": "code",
   "execution_count": null,
   "id": "5cb29f89",
   "metadata": {},
   "outputs": [],
   "source": []
  }
 ],
 "metadata": {
  "kernelspec": {
   "display_name": "Python 3 (ipykernel)",
   "language": "python",
   "name": "python3"
  },
  "language_info": {
   "codemirror_mode": {
    "name": "ipython",
    "version": 3
   },
   "file_extension": ".py",
   "mimetype": "text/x-python",
   "name": "python",
   "nbconvert_exporter": "python",
   "pygments_lexer": "ipython3",
   "version": "3.8.12"
  },
  "toc": {
   "base_numbering": 1,
   "nav_menu": {},
   "number_sections": true,
   "sideBar": true,
   "skip_h1_title": true,
   "title_cell": "Table of Contents",
   "title_sidebar": "Contents",
   "toc_cell": false,
   "toc_position": {},
   "toc_section_display": true,
   "toc_window_display": false
  },
  "varInspector": {
   "cols": {
    "lenName": 16,
    "lenType": 16,
    "lenVar": 40
   },
   "kernels_config": {
    "python": {
     "delete_cmd_postfix": "",
     "delete_cmd_prefix": "del ",
     "library": "var_list.py",
     "varRefreshCmd": "print(var_dic_list())"
    },
    "r": {
     "delete_cmd_postfix": ") ",
     "delete_cmd_prefix": "rm(",
     "library": "var_list.r",
     "varRefreshCmd": "cat(var_dic_list()) "
    }
   },
   "types_to_exclude": [
    "module",
    "function",
    "builtin_function_or_method",
    "instance",
    "_Feature"
   ],
   "window_display": false
  }
 },
 "nbformat": 4,
 "nbformat_minor": 5
}
