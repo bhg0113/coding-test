{
 "cells": [
  {
   "cell_type": "code",
   "execution_count": 4,
   "id": "837f8c30",
   "metadata": {
    "ExecuteTime": {
     "end_time": "2022-07-14T14:43:07.908125Z",
     "start_time": "2022-07-14T14:43:07.891068Z"
    }
   },
   "outputs": [
    {
     "data": {
      "text/plain": [
       "[0, 1, 2, 3, 4, 5, 6, 7, 8, 9]"
      ]
     },
     "execution_count": 4,
     "metadata": {},
     "output_type": "execute_result"
    }
   ],
   "source": [
    "# 선택정렬\n",
    "\n",
    "arr = [7,5,9,0,3,1,6,2,4,8]\n",
    "\n",
    "for i in range(len(arr)):\n",
    "    min_index = i\n",
    "    for j in range(i+1,len(arr)):\n",
    "        if arr[min_index] > arr[j]:\n",
    "            min_index = j\n",
    "    arr[i],arr[min_index] = arr[min_index],arr[i] # 원소 스와핑\n",
    "\n",
    "arr\n",
    "# 시간복잡도는 O(N^2)으로 비효율적이나 가장 작은 데이터 찾는 경우 잦으므로 기억해두기"
   ]
  },
  {
   "cell_type": "code",
   "execution_count": 6,
   "id": "6fc40dd0",
   "metadata": {
    "ExecuteTime": {
     "end_time": "2022-07-14T14:50:33.479270Z",
     "start_time": "2022-07-14T14:50:33.464268Z"
    }
   },
   "outputs": [
    {
     "data": {
      "text/plain": [
       "[0, 1, 2, 3, 4, 5, 6, 7, 8, 9]"
      ]
     },
     "execution_count": 6,
     "metadata": {},
     "output_type": "execute_result"
    }
   ],
   "source": [
    "# 삽입정렬\n",
    "arr = [7,5,9,0,3,1,6,2,4,8]\n",
    "for i in range(1,len(arr)):\n",
    "    for j in range(i,0,-1):\n",
    "        if arr[j] < arr[j-1]:\n",
    "            arr[j],arr[j-1] = arr[j-1],arr[j]\n",
    "        else:\n",
    "            break\n",
    "arr\n",
    "# 시간복잡도는  O(N^2)이나 정렬이 거의 되어 있는 경우 매우 효율적"
   ]
  },
  {
   "cell_type": "code",
   "execution_count": 8,
   "id": "27bed6a2",
   "metadata": {
    "ExecuteTime": {
     "end_time": "2022-07-14T15:17:17.213434Z",
     "start_time": "2022-07-14T15:17:17.204446Z"
    }
   },
   "outputs": [
    {
     "name": "stdout",
     "output_type": "stream",
     "text": [
      "[0, 1, 2, 3, 4, 5, 6, 7, 8, 9]\n"
     ]
    }
   ],
   "source": [
    "# 퀵정렬 ver1\n",
    "\n",
    "arr = [5,7,9,0,3,1,6,2,4,8]\n",
    "\n",
    "def quick_sort(array,start,end):\n",
    "    if start >= end: # 원소가 1개인 경우\n",
    "        return\n",
    "    pivot = start\n",
    "    left = start +1\n",
    "    right = end\n",
    "    while left<= right:\n",
    "        while left <= end and array[left] <= array[pivot]:\n",
    "            left +=1\n",
    "        while right > start and array[right] >= array[pivot]:\n",
    "            right -=1\n",
    "        if left > right: # 엇갈린 경우\n",
    "            array[right],array[pivot] = array[pivot],array[right]\n",
    "        else:\n",
    "            array[left],array[right] = array[right],array[left]\n",
    "    quick_sort(array,start,right-1) # 재귀 사용, pivot을 기준으로 재귀적으로 반복되므로 \n",
    "    quick_sort(array,right+1,end)\n",
    "\n",
    "quick_sort(arr,0,len(arr)-1)\n",
    "print(arr)"
   ]
  },
  {
   "cell_type": "code",
   "execution_count": null,
   "id": "c826d757",
   "metadata": {},
   "outputs": [],
   "source": [
    "# 퀵정렬 ver2 - 파이썬의 장점 살림 \n",
    "# ver1에 비해 비교 연산이 증가해 시간 면에서 조금 비효율이지만 직관적이고 파이써닉함\n",
    "arr = [5,7,9,0,3,1,6,2,4,8]\n",
    "\n",
    "def quick_sort(array):\n",
    "    if len(array)<=1:\n",
    "        return array\n",
    "    pivot = array[0]\n",
    "    tail = array[1:]\n",
    "    left_side = [x for x in tail if x <= pivot]\n",
    "    right_side = [x for x in tail if x > pivot]\n",
    "    \n",
    "    return quick_sort(left_side) +[pivot]+quick_sort(right_side)\n",
    "\n",
    "# 퀵정렬의 시간복잡도는 O(NlogN) ~~ 피봇을 중심으로 둘씩 나누므로 이진탐색처럼 로그로 나뉨 + 각 사이드 안에서 다시 재귀적 N\n",
    "# 그러나 최악의 경우 O(N^2), 가장 왼쪽 데이터를 피벗으로 삼는 경우에 이미 정렬되어 있다면 매우 느림(한쪽씩 만되고 모두 확인 해야 함)"
   ]
  },
  {
   "cell_type": "code",
   "execution_count": 3,
   "id": "18088f15",
   "metadata": {
    "ExecuteTime": {
     "end_time": "2022-07-15T08:39:14.626091Z",
     "start_time": "2022-07-15T08:39:14.613088Z"
    }
   },
   "outputs": [
    {
     "name": "stdout",
     "output_type": "stream",
     "text": [
      "0 0 1 1 2 2 3 4 5 5 6 7 8 9 9 "
     ]
    }
   ],
   "source": [
    "# 계수정렬\n",
    "# 특정 조건 부합할 경우만 사용가능, 매우 빠름\n",
    "# 최악에도 O(N+K) / 데이터의 크기 범위가 제한되어 정수 형태로 표현할 수 있을 떄만 사용 가능, 현존하는 알고리즘 중 가장 빠르다고 볼 수 있음 \n",
    "# 일반적으로 max-min이 백만을 넘지 않을 때 효과적\n",
    "# 정렬해야하는 array의 모든 범위를 포함하는 리스트 선언 range(min,max,1)\n",
    "# 동일한 값 여러 개 가지는 등 데이터 많을 때 유리\n",
    "\n",
    "array= [7,5,9,0,3,1,6,2,9,1,4,8,0,5,2]\n",
    "\n",
    "count = [0]*(max(array)+1)\n",
    "for i in range(len(array)):\n",
    "    count[array[i]] +=1\n",
    "for i in range(len(count)):\n",
    "    for j in range(count[i]): # 등장한 횟수까지 출력\n",
    "        print(i,end=' ')\n"
   ]
  },
  {
   "cell_type": "markdown",
   "id": "3b0a1a7d",
   "metadata": {},
   "source": [
    "일반적인 상황에서는 기본 정렬 라이브러리 사용 / 데이터 범위 한정, 빠르게 동작해야하는 경우 계수 정렬\n",
    "\n",
    "#### 정렬 알고리즘 유형\n",
    "1. 정렬 라이브러리로 풀 수 있는 문제 \n",
    "2. 정렬 알고리즘 원리 물어보는 문제\n",
    "3. 더 빠른 정렬 필요한 문제 "
   ]
  },
  {
   "cell_type": "code",
   "execution_count": null,
   "id": "57dc23c0",
   "metadata": {},
   "outputs": [],
   "source": []
  }
 ],
 "metadata": {
  "kernelspec": {
   "display_name": "Python 3 (ipykernel)",
   "language": "python",
   "name": "python3"
  },
  "language_info": {
   "codemirror_mode": {
    "name": "ipython",
    "version": 3
   },
   "file_extension": ".py",
   "mimetype": "text/x-python",
   "name": "python",
   "nbconvert_exporter": "python",
   "pygments_lexer": "ipython3",
   "version": "3.8.12"
  },
  "toc": {
   "base_numbering": 1,
   "nav_menu": {},
   "number_sections": true,
   "sideBar": true,
   "skip_h1_title": true,
   "title_cell": "Table of Contents",
   "title_sidebar": "Contents",
   "toc_cell": false,
   "toc_position": {},
   "toc_section_display": true,
   "toc_window_display": false
  },
  "varInspector": {
   "cols": {
    "lenName": 16,
    "lenType": 16,
    "lenVar": 40
   },
   "kernels_config": {
    "python": {
     "delete_cmd_postfix": "",
     "delete_cmd_prefix": "del ",
     "library": "var_list.py",
     "varRefreshCmd": "print(var_dic_list())"
    },
    "r": {
     "delete_cmd_postfix": ") ",
     "delete_cmd_prefix": "rm(",
     "library": "var_list.r",
     "varRefreshCmd": "cat(var_dic_list()) "
    }
   },
   "types_to_exclude": [
    "module",
    "function",
    "builtin_function_or_method",
    "instance",
    "_Feature"
   ],
   "window_display": false
  }
 },
 "nbformat": 4,
 "nbformat_minor": 5
}
