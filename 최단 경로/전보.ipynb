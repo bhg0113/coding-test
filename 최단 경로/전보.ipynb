{
 "cells": [
  {
   "cell_type": "markdown",
   "id": "d2cea215",
   "metadata": {},
   "source": [
    "https://unie2.tistory.com/287"
   ]
  },
  {
   "cell_type": "code",
   "execution_count": 5,
   "id": "e6befaae",
   "metadata": {
    "ExecuteTime": {
     "end_time": "2022-07-31T13:00:24.491995Z",
     "start_time": "2022-07-31T13:00:19.022459Z"
    }
   },
   "outputs": [
    {
     "name": "stdout",
     "output_type": "stream",
     "text": [
      "3 2 1\n",
      "1 2 4\n",
      "1 3 2\n"
     ]
    }
   ],
   "source": [
    "# n, c은 3만 이하, m은 20만 이하로 딱 개선 다익스트라 정도 \n",
    "# 출발도시에서 각 도착 거리, 도착 도시 수 프린트 ~ 다익스트라로 가능\n",
    "# 개선 다익스트라 코드 참조해 풀이\n",
    "n, m, c = map(int, input().split())\n",
    "inf = int(1e9)\n",
    "graph = [[]for _ in range(n+1)] # 각 노드의 연결 정보 리스트, 그래프\n",
    "distance = [inf]*(n+1) # 최단거리 테이블\n",
    "\n",
    "#간선정보 입력\n",
    "for _ in range(m):\n",
    "    x, y, z = map(int, input().split())\n",
    "    graph[x].append((y,z))\n"
   ]
  },
  {
   "cell_type": "code",
   "execution_count": 10,
   "id": "08476ab9",
   "metadata": {
    "ExecuteTime": {
     "end_time": "2022-07-31T13:01:13.237529Z",
     "start_time": "2022-07-31T13:01:13.219915Z"
    }
   },
   "outputs": [
    {
     "name": "stdout",
     "output_type": "stream",
     "text": [
      "2 4\n"
     ]
    }
   ],
   "source": [
    "import heapq\n",
    "\n",
    "def dijkstra(start):\n",
    "    q=[]\n",
    "    # 시작지점의 경로 삽입\n",
    "    heapq.heappush(q,(0,start))\n",
    "    distance[start] =0\n",
    "    while q:\n",
    "        dist, now = heapq.heappop(q)\n",
    "        if distance[now] < dist: # 이미 처리됨\n",
    "            continue\n",
    "        # 인접노드 확인 \n",
    "        for i in graph[now]:\n",
    "            cost = dist + i[1]\n",
    "            if cost < distance[i[0]]:\n",
    "                distance[i[0]] = cost\n",
    "                heapq.heappush(q,(cost,i[0]))\n",
    "\n",
    "dijkstra(c)\n",
    "res = [i for i in distance if i != inf]\n",
    "print(len(res)-1,max(res)) # 시작은 제외해야 하므로 "
   ]
  },
  {
   "cell_type": "code",
   "execution_count": null,
   "id": "f1fdfc0a",
   "metadata": {},
   "outputs": [],
   "source": []
  }
 ],
 "metadata": {
  "kernelspec": {
   "display_name": "Python 3 (ipykernel)",
   "language": "python",
   "name": "python3"
  },
  "language_info": {
   "codemirror_mode": {
    "name": "ipython",
    "version": 3
   },
   "file_extension": ".py",
   "mimetype": "text/x-python",
   "name": "python",
   "nbconvert_exporter": "python",
   "pygments_lexer": "ipython3",
   "version": "3.8.12"
  },
  "toc": {
   "base_numbering": 1,
   "nav_menu": {},
   "number_sections": true,
   "sideBar": true,
   "skip_h1_title": true,
   "title_cell": "Table of Contents",
   "title_sidebar": "Contents",
   "toc_cell": false,
   "toc_position": {},
   "toc_section_display": true,
   "toc_window_display": false
  },
  "varInspector": {
   "cols": {
    "lenName": 16,
    "lenType": 16,
    "lenVar": 40
   },
   "kernels_config": {
    "python": {
     "delete_cmd_postfix": "",
     "delete_cmd_prefix": "del ",
     "library": "var_list.py",
     "varRefreshCmd": "print(var_dic_list())"
    },
    "r": {
     "delete_cmd_postfix": ") ",
     "delete_cmd_prefix": "rm(",
     "library": "var_list.r",
     "varRefreshCmd": "cat(var_dic_list()) "
    }
   },
   "types_to_exclude": [
    "module",
    "function",
    "builtin_function_or_method",
    "instance",
    "_Feature"
   ],
   "window_display": false
  }
 },
 "nbformat": 4,
 "nbformat_minor": 5
}
