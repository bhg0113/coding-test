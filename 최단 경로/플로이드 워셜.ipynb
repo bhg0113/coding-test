{
 "cells": [
  {
   "cell_type": "markdown",
   "id": "c0bafe53",
   "metadata": {},
   "source": [
    "'모든 지점'에서 다른 모든 지점까지의 최단 경로 모두 구하는 경우 사용\n",
    "\n",
    "단계 마다 거쳐 가는 노드 기준으로 알고리즘 수행하지만 방문하지 않은 노드 중 최단 거리를 갖는 노드를 찾지 않음\n",
    "\n",
    "노드의 개수 N개일 때 N번의 단게수행, 단계마다 O(N^2)연산해 현재 노드 거쳐 가는 모든 경로 고려 -> 총 시간 복잡도는 O(N^3)\n"
   ]
  },
  {
   "cell_type": "markdown",
   "id": "59871a69",
   "metadata": {},
   "source": [
    "2차원 리스트에 최단 거리 정보 저장 (모든 노드에 대해 다른 모든 노드로 가는 최단 거리 필요하므로) 이 때문에 매번 O(N^2) 연산 필요\n",
    "\n",
    "다익스트라는 그리디 / 플로이드 워셜은 다이나믹 프로그래밍\n",
    "\n",
    "N번 만큼의 단계 반복하며 '점화식에 맞게' 2차원 리스트 갱신하기 때문"
   ]
  },
  {
   "cell_type": "markdown",
   "id": "970d99f5",
   "metadata": {},
   "source": [
    "현재 확인하고 있는 노드 제외하고 나머지 노드 중 서로 다른 노드 쌍을 선택해 현 노드를 거쳐가는 비용 계산 (n-1에서 2개 뽑는 순열의 수) ~ O(N^2)\n",
    "\n",
    "구체적인 점화식은 $D_{ab} = min(D_{ab},D_{ak}+D_{kb})$ # ab 그냥 가거나, k 거쳐 가거나 둘 중 최소 거리"
   ]
  },
  {
   "cell_type": "code",
   "execution_count": 1,
   "id": "0687a1a5",
   "metadata": {
    "ExecuteTime": {
     "end_time": "2022-07-31T05:31:01.036616Z",
     "start_time": "2022-07-31T05:30:41.497791Z"
    }
   },
   "outputs": [
    {
     "name": "stdout",
     "output_type": "stream",
     "text": [
      "4\n",
      "7\n",
      "1 2 4\n",
      "1 4 6\n",
      "2 1 3\n",
      "2 3 7\n",
      "3 1 5\n",
      "3 4 4\n",
      "4 3 2\n",
      "0 4 8 6 \n",
      "3 0 7 9 \n",
      "5 9 0 4 \n",
      "7 11 2 0 \n"
     ]
    }
   ],
   "source": [
    "inf = int(1e9)\n",
    "n = int(input())\n",
    "m = int(input())\n",
    "graph = [[inf] * (n+1) for _ in range(n+1)] # 2차원 리스트이므로 \n",
    "\n",
    "for a in range(1,n+1): # 자기에게 가는 비용 0으로 초기화\n",
    "    for b in range(1,n+1):\n",
    "        if a==b:\n",
    "            graph[a][b]=0\n",
    "\n",
    "for _ in range(m): # 비용 입력\n",
    "    a,b,c, = map(int,input().split())\n",
    "    graph[a][b]=c\n",
    "\n",
    "for k in range(1,n+1): # 점화식에 따라 알고리즘 수행\n",
    "    for a in range(1,n+1):\n",
    "        for b in range(1,n+1):\n",
    "            graph[a][b] = min(graph[a][b],graph[a][k]+graph[k][b])\n",
    "                                                               \n",
    "for a in range(1,n+1):# 결과 출력\n",
    "    for b in range(1,n+1):\n",
    "        if graph[a][b]==inf:\n",
    "            print('infinity')\n",
    "        else:\n",
    "            print(graph[a][b],end=' ')\n",
    "    print()"
   ]
  },
  {
   "cell_type": "code",
   "execution_count": null,
   "id": "cc4b5711",
   "metadata": {},
   "outputs": [],
   "source": []
  }
 ],
 "metadata": {
  "kernelspec": {
   "display_name": "Python 3 (ipykernel)",
   "language": "python",
   "name": "python3"
  },
  "language_info": {
   "codemirror_mode": {
    "name": "ipython",
    "version": 3
   },
   "file_extension": ".py",
   "mimetype": "text/x-python",
   "name": "python",
   "nbconvert_exporter": "python",
   "pygments_lexer": "ipython3",
   "version": "3.8.12"
  },
  "toc": {
   "base_numbering": 1,
   "nav_menu": {},
   "number_sections": true,
   "sideBar": true,
   "skip_h1_title": true,
   "title_cell": "Table of Contents",
   "title_sidebar": "Contents",
   "toc_cell": false,
   "toc_position": {},
   "toc_section_display": true,
   "toc_window_display": false
  },
  "varInspector": {
   "cols": {
    "lenName": 16,
    "lenType": 16,
    "lenVar": 40
   },
   "kernels_config": {
    "python": {
     "delete_cmd_postfix": "",
     "delete_cmd_prefix": "del ",
     "library": "var_list.py",
     "varRefreshCmd": "print(var_dic_list())"
    },
    "r": {
     "delete_cmd_postfix": ") ",
     "delete_cmd_prefix": "rm(",
     "library": "var_list.r",
     "varRefreshCmd": "cat(var_dic_list()) "
    }
   },
   "types_to_exclude": [
    "module",
    "function",
    "builtin_function_or_method",
    "instance",
    "_Feature"
   ],
   "window_display": false
  }
 },
 "nbformat": 4,
 "nbformat_minor": 5
}
