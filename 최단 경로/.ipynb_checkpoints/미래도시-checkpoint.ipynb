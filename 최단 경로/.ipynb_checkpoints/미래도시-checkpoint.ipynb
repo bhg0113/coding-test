{
 "cells": [
  {
   "cell_type": "markdown",
   "id": "3e921324",
   "metadata": {},
   "source": [
    "https://unie2.tistory.com/286"
   ]
  },
  {
   "cell_type": "code",
   "execution_count": 6,
   "id": "1d974362",
   "metadata": {
    "ExecuteTime": {
     "end_time": "2022-07-31T11:41:40.270876Z",
     "start_time": "2022-07-31T11:41:27.330980Z"
    }
   },
   "outputs": [
    {
     "name": "stdout",
     "output_type": "stream",
     "text": [
      "5 7\n",
      "1 2\n",
      "1 3\n",
      "1 4\n",
      "2 4\n",
      "3 4\n",
      "3 5\n",
      "4 5\n",
      "4 5\n"
     ]
    }
   ],
   "source": [
    "# n,m은 100이하 1초 제한으로 O(N^3)까지 가능 ~ 플로이드워셜까지 가능\n",
    "# 1에서 k로, k에서 x로 가야하므로 모든 노드의 최단거리가 있는 플로이드 워셜 사용 (다익스트라로 두번 해도 되긴 할듯)\n",
    "n, m = map(int, input().split())\n",
    "inf = int(1e9)\n",
    "graph =[[inf] * (n+1)for _ in range(n+1)] # 2차원리스트 초기화\n",
    " \n",
    "# 자기자신 0으로 초기화\n",
    "for a in range(1,n+1):\n",
    "    for b in range(1,n+1):\n",
    "        if a==b:\n",
    "            graph[a][b]=0\n",
    "            graph[b][b]=0\n",
    "            \n",
    "# 간선 정보 받아 입력            \n",
    "for _ in range(m):\n",
    "    a,b = map(int,input().split())\n",
    "    graph[a][b] =1\n",
    "    graph[b][a]=1 # 서로 입력해줘야 함\n",
    "     \n",
    "x, k = map(int,input().split())"
   ]
  },
  {
   "cell_type": "code",
   "execution_count": 7,
   "id": "81cc0dc3",
   "metadata": {
    "ExecuteTime": {
     "end_time": "2022-07-31T11:41:41.588243Z",
     "start_time": "2022-07-31T11:41:41.579240Z"
    }
   },
   "outputs": [
    {
     "name": "stdout",
     "output_type": "stream",
     "text": [
      "2\n"
     ]
    }
   ],
   "source": [
    "# 점화식에 따라 플로이드 워셜 알고리즘 수행\n",
    "for k in range(1,n+1):\n",
    "    for a in range(1,n+1):\n",
    "        for b in range(1,n+1):\n",
    "            graph[a][b] = min(graph[a][b], graph[a][k]+ graph[k][b])\n",
    "\n",
    "if graph[1][x] + graph[x][k] < inf:\n",
    "    print(graph[1][x] + graph[x][k])\n",
    "else: print(-1)"
   ]
  },
  {
   "cell_type": "code",
   "execution_count": null,
   "id": "c1eed5a1",
   "metadata": {},
   "outputs": [],
   "source": []
  }
 ],
 "metadata": {
  "kernelspec": {
   "display_name": "Python 3 (ipykernel)",
   "language": "python",
   "name": "python3"
  },
  "language_info": {
   "codemirror_mode": {
    "name": "ipython",
    "version": 3
   },
   "file_extension": ".py",
   "mimetype": "text/x-python",
   "name": "python",
   "nbconvert_exporter": "python",
   "pygments_lexer": "ipython3",
   "version": "3.8.12"
  },
  "toc": {
   "base_numbering": 1,
   "nav_menu": {},
   "number_sections": true,
   "sideBar": true,
   "skip_h1_title": true,
   "title_cell": "Table of Contents",
   "title_sidebar": "Contents",
   "toc_cell": false,
   "toc_position": {},
   "toc_section_display": true,
   "toc_window_display": false
  },
  "varInspector": {
   "cols": {
    "lenName": 16,
    "lenType": 16,
    "lenVar": 40
   },
   "kernels_config": {
    "python": {
     "delete_cmd_postfix": "",
     "delete_cmd_prefix": "del ",
     "library": "var_list.py",
     "varRefreshCmd": "print(var_dic_list())"
    },
    "r": {
     "delete_cmd_postfix": ") ",
     "delete_cmd_prefix": "rm(",
     "library": "var_list.r",
     "varRefreshCmd": "cat(var_dic_list()) "
    }
   },
   "types_to_exclude": [
    "module",
    "function",
    "builtin_function_or_method",
    "instance",
    "_Feature"
   ],
   "window_display": false
  }
 },
 "nbformat": 4,
 "nbformat_minor": 5
}
