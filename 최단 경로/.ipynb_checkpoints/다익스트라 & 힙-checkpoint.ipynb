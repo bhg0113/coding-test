{
 "cells": [
  {
   "cell_type": "markdown",
   "id": "741eb0dc",
   "metadata": {},
   "source": [
    "음의 간선이 없을 때 정상 동작\n",
    "\n",
    "그리디로 분류됨 ~ 매번 '가장 비용이 적은 노드' 선택해 반복"
   ]
  },
  {
   "cell_type": "markdown",
   "id": "54107559",
   "metadata": {
    "ExecuteTime": {
     "end_time": "2022-07-30T06:42:28.232183Z",
     "start_time": "2022-07-30T06:42:28.208178Z"
    }
   },
   "source": [
    "원리\n",
    "\n",
    "1. 출발 노드 설정\n",
    "\n",
    "2. 최단 거리 테이블 초기화\n",
    "\n",
    "3. 방문하지 않은 노드 중 최단 거리(현 시점)가 가장 짧은 노드 선택\n",
    "\n",
    "4. 해당 노드 거쳐 다른 노드로 가는 비용 계산해 최단 거리 테이블 갱신 \n",
    "\n",
    "5. 3~4번 과정 반복\n",
    "\n",
    "'각 노드에 대한 현재까지의 최단 거리'를 항상 1차원 리스트(최단 거리 테이블)에 저장하며 갱신"
   ]
  },
  {
   "cell_type": "code",
   "execution_count": 2,
   "id": "1204fd89",
   "metadata": {
    "ExecuteTime": {
     "end_time": "2022-07-30T16:53:58.069089Z",
     "start_time": "2022-07-30T16:53:25.673010Z"
    }
   },
   "outputs": [
    {
     "name": "stdout",
     "output_type": "stream",
     "text": [
      "6 11\n",
      "1\n",
      "1 2 2\n",
      "1 3 5\n",
      "1 4 1\n",
      "2 3 3\n",
      "2 4 2\n",
      "3 2 3\n",
      "3 6 5\n",
      "4 3 3\n",
      "4 5 1\n",
      "5 3 1\n",
      "5 6 2\n"
     ]
    }
   ],
   "source": [
    "# O(V^2)의 시간복잡도\n",
    "# 코딩 테스트에서 대체로 최단 거리를 요청\n",
    "# 간단한 다익스트라 알고리즘 구현\n",
    "\n",
    "import sys\n",
    "# input = sys.stdin.readline # input 함수 치환해 빠르게 사용\n",
    "inf = int(1e9) # 거리 무한으로 초기화하기 위함\n",
    "\n",
    "n, m = map(int,input().split())\n",
    "start = int(input())\n",
    "graph = [[] for i in range(n+1)] # 노드 번호대로 확인하도록\n",
    "visited = [False]*(n+1)\n",
    "distance = [inf] *(n+1)\n",
    "\n",
    "for _ in range(m):\n",
    "    a,b,c = map(int,input().split()) # a to b의 비용이 c\n",
    "    graph[a].append((b,c))"
   ]
  },
  {
   "cell_type": "code",
   "execution_count": 19,
   "id": "d61b216a",
   "metadata": {
    "ExecuteTime": {
     "end_time": "2022-07-30T07:30:06.037533Z",
     "start_time": "2022-07-30T07:30:06.028533Z"
    }
   },
   "outputs": [
    {
     "data": {
      "text/plain": [
       "[[],\n",
       " [(2, 2), (3, 5), (4, 1)],\n",
       " [(3, 3), (4, 2)],\n",
       " [(2, 3), (6, 5)],\n",
       " [(3, 3), (5, 1)],\n",
       " [(3, 1), (6, 2)],\n",
       " []]"
      ]
     },
     "execution_count": 19,
     "metadata": {},
     "output_type": "execute_result"
    }
   ],
   "source": [
    "graph"
   ]
  },
  {
   "cell_type": "code",
   "execution_count": 8,
   "id": "bd10d512",
   "metadata": {
    "ExecuteTime": {
     "end_time": "2022-07-30T16:54:41.489913Z",
     "start_time": "2022-07-30T16:54:41.481919Z"
    }
   },
   "outputs": [
    {
     "name": "stdout",
     "output_type": "stream",
     "text": [
      "0\n",
      "2\n",
      "5\n",
      "1\n",
      "2\n",
      "4\n"
     ]
    }
   ],
   "source": [
    "def get_smallest_node(): # 방문하지 않은 노드 중 최단거리의 노드 번호 반환\n",
    "    min_value = inf\n",
    "    idx = 0\n",
    "    for i in range(1,n+1):\n",
    "        if distance[i] < min_value and not visited[i]:\n",
    "            min_value = distance[i]\n",
    "            idx = i\n",
    "    return idx \n",
    "\n",
    "def dijkstra(start):\n",
    "    distance[start] =0\n",
    "    visited[start]=True\n",
    "    for j in graph[start]:\n",
    "        distance[j[0]] = j[1] # 시작 노드에 대해서 거리 초기화\n",
    "    for i in range(n-1): # 시작 노드를 제외한 전체 노드에 대해 반복\n",
    "        now = get_smallest_node()\n",
    "        visited[now]=True\n",
    "        for j in graph[now]:\n",
    "            cost = distance[now]+j[1] \n",
    "            # distance는 해당 노드의 거리(완전 시작지점), j는 해당 노드에서 연결된 노드의 거리\n",
    "            if cost < distance[j[0]]: # 기존 최단 거리보다 짧으면 갱신\n",
    "                distance[j[0]] = cost\n",
    "    \n",
    "dijkstra(start)\n",
    "\n",
    "for i in range(1,n+1):\n",
    "    if distance==inf: print('infinity') # 도달할 수 없는 경우\n",
    "    else: print(distance[i])\n",
    "        "
   ]
  },
  {
   "cell_type": "markdown",
   "id": "efc6fa15",
   "metadata": {},
   "source": [
    "간단한 다익스트라는 O(V^2)이기에 노드 수가 10,000 이상이면 해결하기 어려움\n",
    "\n",
    "힙으로 개선한 다익스트라 필요 O(ElogV) # E는 간선 수 \n",
    "\n",
    "간단한 다익스트라에서는 최단거리가 가장 짧은 노드 찾기 위해 선형 탐색 -> 이를 힙으로 개선"
   ]
  },
  {
   "cell_type": "markdown",
   "id": "5d8387d3",
   "metadata": {},
   "source": [
    "힙(heapq 사용 권장)\n",
    "\n",
    "우선순위 큐를 구현하기 위해 사용하는 자료구조\n",
    "\n",
    "우선순위 큐 : 우선순위가 가장 높은 데이터를 먼저 삭제 (스택은 나중에, 큐는 먼저 삽입된 데이터 먼저 삭제)\n",
    "\n",
    "물건 데이터의 경우 (물건, 가치)와 같이 들어가서 '가치'의 순서대로 출력됨\n",
    "\n",
    "최소 힙 혹은 최대 힙 이용하나 파이썬에서는 기본적으로 최소 힙 구조 이용 -> 최단거리이므로 그대로 사용\n",
    "\n",
    "최대 힙의 경우 우선순위에 해당하는 값에 -부호 붙여 넣었다가 꺼낸 이후에 다시 원 값으로 돌리는 방식으로 사용 가능\n",
    "\n",
    "\n"
   ]
  },
  {
   "cell_type": "code",
   "execution_count": 12,
   "id": "c76a6dcb",
   "metadata": {
    "ExecuteTime": {
     "end_time": "2022-07-30T17:14:42.929989Z",
     "start_time": "2022-07-30T17:14:42.913988Z"
    }
   },
   "outputs": [
    {
     "name": "stdout",
     "output_type": "stream",
     "text": [
      "0\n",
      "2\n",
      "5\n",
      "1\n",
      "2\n",
      "4\n"
     ]
    }
   ],
   "source": [
    "import heapq\n",
    "# 데이터를 받는 부분은 앞과 동일\n",
    "def dijkstra(start):\n",
    "    q=[]\n",
    "    heapq.heappush(q,(0,start)) # 시작 노드 경로는 0으로 큐에 삽입\n",
    "    distance[start] = 0\n",
    "    while q:\n",
    "        dist, now = heapq.heappop(q) # 최단거리가 가장 짧은 노드 꺼내기 ~ 반복문 한번 덜 쓸 수 있음 \n",
    "        if distance[now] < dist: # 이미 처리된 적이 있는(무조건 최소 값을 가짐) 노드면 무시 \n",
    "            continue\n",
    "        for i in graph[now]: # 연결된 인접 노드 확인\n",
    "            cost = dist + i[1] # dist(출발지에서 현재 노드 최저) + i[1](현 노드에서 인접 노드 거리)\n",
    "            if cost < distance[i[0]]: # 현재 노드에서 다른 노드로 이동하는 거리가 이전 거리보다 짧은 경우 \n",
    "                distance[i[0]] = cost\n",
    "                heapq.heappush(q,(cost,i[0])) # 다음 노드 후보 (거리,노드번호)로 q에 입력 \n",
    "\n",
    "dijkstra(start)\n",
    "\n",
    "for i in range(1, n+1):\n",
    "    if distance[i] == inf: print('infinity')\n",
    "    else: print(distance[i])\n",
    "    "
   ]
  },
  {
   "cell_type": "markdown",
   "id": "88d213b3",
   "metadata": {},
   "source": [
    "간선 수 만큼만 while에서 확인\n",
    "\n",
    "E개의 원소를 우선순위 큐에 넣었다가 빼내는 것과 매우 유사 (시간복잡도 상)"
   ]
  }
 ],
 "metadata": {
  "kernelspec": {
   "display_name": "Python 3 (ipykernel)",
   "language": "python",
   "name": "python3"
  },
  "language_info": {
   "codemirror_mode": {
    "name": "ipython",
    "version": 3
   },
   "file_extension": ".py",
   "mimetype": "text/x-python",
   "name": "python",
   "nbconvert_exporter": "python",
   "pygments_lexer": "ipython3",
   "version": "3.8.12"
  },
  "toc": {
   "base_numbering": 1,
   "nav_menu": {},
   "number_sections": true,
   "sideBar": true,
   "skip_h1_title": true,
   "title_cell": "Table of Contents",
   "title_sidebar": "Contents",
   "toc_cell": false,
   "toc_position": {},
   "toc_section_display": true,
   "toc_window_display": false
  },
  "varInspector": {
   "cols": {
    "lenName": 16,
    "lenType": 16,
    "lenVar": 40
   },
   "kernels_config": {
    "python": {
     "delete_cmd_postfix": "",
     "delete_cmd_prefix": "del ",
     "library": "var_list.py",
     "varRefreshCmd": "print(var_dic_list())"
    },
    "r": {
     "delete_cmd_postfix": ") ",
     "delete_cmd_prefix": "rm(",
     "library": "var_list.r",
     "varRefreshCmd": "cat(var_dic_list()) "
    }
   },
   "types_to_exclude": [
    "module",
    "function",
    "builtin_function_or_method",
    "instance",
    "_Feature"
   ],
   "window_display": false
  }
 },
 "nbformat": 4,
 "nbformat_minor": 5
}
