{
 "cells": [
  {
   "cell_type": "markdown",
   "id": "00d6c815",
   "metadata": {},
   "source": [
    "https://blex.me/@mildsalmon/chap-8-%EB%8B%A4%EC%9D%B4%EB%82%98%EB%AF%B9-%ED%94%84%EB%A1%9C%EA%B7%B8%EB%9E%98%EB%B0%8D-%EA%B0%9C%EB%AF%B8%EC%A0%84%EC%82%AC"
   ]
  },
  {
   "cell_type": "code",
   "execution_count": 20,
   "id": "f89cfcf0",
   "metadata": {
    "ExecuteTime": {
     "end_time": "2022-07-26T13:31:40.094576Z",
     "start_time": "2022-07-26T13:31:37.122589Z"
    }
   },
   "outputs": [
    {
     "name": "stdout",
     "output_type": "stream",
     "text": [
      "4\n",
      "1 3 1 5\n"
     ]
    }
   ],
   "source": [
    "# n은 3~100, 1초이므로 조건은 여유로움\n",
    "n= int(input())\n",
    "arr = list(map(int,input().split()))"
   ]
  },
  {
   "cell_type": "code",
   "execution_count": 18,
   "id": "8930818b",
   "metadata": {
    "ExecuteTime": {
     "end_time": "2022-07-26T13:26:43.819518Z",
     "start_time": "2022-07-26T13:26:43.800518Z"
    }
   },
   "outputs": [
    {
     "name": "stdout",
     "output_type": "stream",
     "text": [
      "[0, 0, 0, 0, 0, 0]\n",
      "[1, 3, 1, 5]\n",
      "[0, 0, 1, 0, 0, 0]\n",
      "[0, 0, 1, 3, 0, 0]\n",
      "[0, 0, 1, 3, 2, 0]\n",
      "[0, 0, 1, 3, 2, 8]\n",
      "8\n"
     ]
    }
   ],
   "source": [
    "# 내 접근(DP적?) : 각 방까지의 최대 값 / 건너뛰는것 고려하지 않음\n",
    "d = [0]*(n+2) # 첫 값부터 갓이 들어가야 하므로\n",
    "for i in range(2,n+2):\n",
    "    d[i] = d[i-2] +arr[i-2] \n",
    "    print(d)\n",
    "\n",
    "print(max(d))"
   ]
  },
  {
   "cell_type": "code",
   "execution_count": null,
   "id": "44aab6de",
   "metadata": {},
   "outputs": [],
   "source": [
    "# 예제 답안, 바텀업은 맞으나 점화식이 틀림\n",
    "# DP할때는 점화식 미리 생각해보기 \n",
    "\n",
    "# 정수 N을 입력 받기\n",
    "n = int(input())\n",
    "# 모든 식량 정보 입력 받기\n",
    "array = list(map(int, input().split()))\n",
    "\n",
    "# 앞서 계산된 결과를 저장하기 위한 DP 테이블 초기화\n",
    "d = [0] * 100\n",
    "\n",
    "# 다이나믹 프로그래밍(Dynamic Programming) 진행 (보텀업)\n",
    "d[0] = array[0]\n",
    "d[1] = max(array[0], array[1]) \n",
    "for i in range(2, n):\n",
    "    d[i] = max(d[i - 1], d[i - 2] + array[i]) # 점화식 \n",
    "\n",
    "# 계산된 결과 출력\n",
    "print(d[n - 1])"
   ]
  },
  {
   "cell_type": "code",
   "execution_count": 25,
   "id": "e2b0ccfb",
   "metadata": {
    "ExecuteTime": {
     "end_time": "2022-07-26T13:32:31.889904Z",
     "start_time": "2022-07-26T13:32:31.877901Z"
    }
   },
   "outputs": [
    {
     "name": "stdout",
     "output_type": "stream",
     "text": [
      "[1, 3, 0, 0]\n",
      "[1, 3, 0, 0]\n",
      "[1, 3, 3, 0]\n",
      "[1, 3, 3, 8]\n",
      "8\n"
     ]
    }
   ],
   "source": [
    "d = [0]*n \n",
    "d[0] = arr[0]\n",
    "d[1] = max(arr[0],arr[1]) \n",
    "for i in range(n):\n",
    "    d[i] = max(d[i-2]+arr[i],d[i-1]) # 건너뛰는게 나은 선택일 수 있으므로 예제처럼 max 필요\n",
    "    print(d)\n",
    "\n",
    "print(max(d))"
   ]
  },
  {
   "cell_type": "code",
   "execution_count": null,
   "id": "efa06efc",
   "metadata": {},
   "outputs": [],
   "source": []
  }
 ],
 "metadata": {
  "kernelspec": {
   "display_name": "Python 3 (ipykernel)",
   "language": "python",
   "name": "python3"
  },
  "language_info": {
   "codemirror_mode": {
    "name": "ipython",
    "version": 3
   },
   "file_extension": ".py",
   "mimetype": "text/x-python",
   "name": "python",
   "nbconvert_exporter": "python",
   "pygments_lexer": "ipython3",
   "version": "3.8.12"
  },
  "toc": {
   "base_numbering": 1,
   "nav_menu": {},
   "number_sections": true,
   "sideBar": true,
   "skip_h1_title": true,
   "title_cell": "Table of Contents",
   "title_sidebar": "Contents",
   "toc_cell": false,
   "toc_position": {},
   "toc_section_display": true,
   "toc_window_display": false
  },
  "varInspector": {
   "cols": {
    "lenName": 16,
    "lenType": 16,
    "lenVar": 40
   },
   "kernels_config": {
    "python": {
     "delete_cmd_postfix": "",
     "delete_cmd_prefix": "del ",
     "library": "var_list.py",
     "varRefreshCmd": "print(var_dic_list())"
    },
    "r": {
     "delete_cmd_postfix": ") ",
     "delete_cmd_prefix": "rm(",
     "library": "var_list.r",
     "varRefreshCmd": "cat(var_dic_list()) "
    }
   },
   "types_to_exclude": [
    "module",
    "function",
    "builtin_function_or_method",
    "instance",
    "_Feature"
   ],
   "window_display": false
  }
 },
 "nbformat": 4,
 "nbformat_minor": 5
}
