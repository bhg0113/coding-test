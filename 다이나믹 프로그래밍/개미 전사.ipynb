{
 "cells": [
  {
   "cell_type": "markdown",
   "id": "00d6c815",
   "metadata": {},
   "source": [
    "https://blex.me/@mildsalmon/chap-8-%EB%8B%A4%EC%9D%B4%EB%82%98%EB%AF%B9-%ED%94%84%EB%A1%9C%EA%B7%B8%EB%9E%98%EB%B0%8D-%EA%B0%9C%EB%AF%B8%EC%A0%84%EC%82%AC"
   ]
  },
  {
   "cell_type": "code",
   "execution_count": null,
   "id": "f89cfcf0",
   "metadata": {},
   "outputs": [],
   "source": [
    "n= int(n)"
   ]
  },
  {
   "cell_type": "code",
   "execution_count": null,
   "id": "44aab6de",
   "metadata": {},
   "outputs": [],
   "source": [
    "\n",
    "# 정수 N을 입력 받기\n",
    "n = int(input())\n",
    "# 모든 식량 정보 입력 받기\n",
    "array = list(map(int, input().split()))\n",
    "\n",
    "# 앞서 계산된 결과를 저장하기 위한 DP 테이블 초기화\n",
    "d = [0] * 100\n",
    "\n",
    "# 다이나믹 프로그래밍(Dynamic Programming) 진행 (보텀업)\n",
    "d[0] = array[0]\n",
    "d[1] = max(array[0], array[1]) \n",
    "for i in range(2, n):\n",
    "    d[i] = max(d[i - 1], d[i - 2] + array[i])\n",
    "\n",
    "# 계산된 결과 출력\n",
    "print(d[n - 1])"
   ]
  }
 ],
 "metadata": {
  "kernelspec": {
   "display_name": "Python 3 (ipykernel)",
   "language": "python",
   "name": "python3"
  },
  "language_info": {
   "codemirror_mode": {
    "name": "ipython",
    "version": 3
   },
   "file_extension": ".py",
   "mimetype": "text/x-python",
   "name": "python",
   "nbconvert_exporter": "python",
   "pygments_lexer": "ipython3",
   "version": "3.8.12"
  },
  "toc": {
   "base_numbering": 1,
   "nav_menu": {},
   "number_sections": true,
   "sideBar": true,
   "skip_h1_title": true,
   "title_cell": "Table of Contents",
   "title_sidebar": "Contents",
   "toc_cell": false,
   "toc_position": {},
   "toc_section_display": true,
   "toc_window_display": false
  },
  "varInspector": {
   "cols": {
    "lenName": 16,
    "lenType": 16,
    "lenVar": 40
   },
   "kernels_config": {
    "python": {
     "delete_cmd_postfix": "",
     "delete_cmd_prefix": "del ",
     "library": "var_list.py",
     "varRefreshCmd": "print(var_dic_list())"
    },
    "r": {
     "delete_cmd_postfix": ") ",
     "delete_cmd_prefix": "rm(",
     "library": "var_list.r",
     "varRefreshCmd": "cat(var_dic_list()) "
    }
   },
   "types_to_exclude": [
    "module",
    "function",
    "builtin_function_or_method",
    "instance",
    "_Feature"
   ],
   "window_display": false
  }
 },
 "nbformat": 4,
 "nbformat_minor": 5
}
