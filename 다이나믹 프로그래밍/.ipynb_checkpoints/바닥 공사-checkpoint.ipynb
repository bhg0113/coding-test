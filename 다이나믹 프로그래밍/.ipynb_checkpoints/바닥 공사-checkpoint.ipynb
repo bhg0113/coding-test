{
 "cells": [
  {
   "cell_type": "markdown",
   "id": "29f18737",
   "metadata": {},
   "source": [
    "https://unie2.tistory.com/321"
   ]
  },
  {
   "cell_type": "code",
   "execution_count": 6,
   "id": "0b3d5502",
   "metadata": {
    "ExecuteTime": {
     "end_time": "2022-07-26T14:50:22.393603Z",
     "start_time": "2022-07-26T14:50:21.868030Z"
    }
   },
   "outputs": [
    {
     "name": "stdout",
     "output_type": "stream",
     "text": [
      "10\n",
      "47\n"
     ]
    }
   ],
   "source": [
    "# n은 1000이하, 1초로 조건 여유 있음\n",
    "#점화식 틀림 \n",
    "n = int(input())\n",
    "d = [0]*(n+1)\n",
    "d[1] = 1\n",
    "d[2] = 3\n",
    "for i in range(3,n+1):\n",
    "    d[i] = d[i-1] +i-1\n",
    "print(d[n]%796796)"
   ]
  },
  {
   "cell_type": "code",
   "execution_count": 5,
   "id": "1f65691b",
   "metadata": {
    "ExecuteTime": {
     "end_time": "2022-07-26T14:50:19.980130Z",
     "start_time": "2022-07-26T14:50:17.497734Z"
    }
   },
   "outputs": [
    {
     "name": "stdout",
     "output_type": "stream",
     "text": [
      "10\n",
      "683\n"
     ]
    }
   ],
   "source": [
    "# 예시 답안 \n",
    "# 정수 N을 입력 받기\n",
    "n = int(input())\n",
    "\n",
    "# 앞서 계산된 결과를 저장하기 위한 DP 테이블 초기화\n",
    "d = [0] * 1001\n",
    "\n",
    "# 다이나믹 프로그래밍(Dynamic Programming) 진행 (보텀업)\n",
    "d[1] = 1\n",
    "d[2] = 3\n",
    "for i in range(3, n + 1): \n",
    "    d[i] = (d[i - 1] + 2 * d[i - 2]) % 796796 # 크게 생각하면 당연함\n",
    "\n",
    "# 계산된 결과 출력\n",
    "print(d[n])"
   ]
  },
  {
   "cell_type": "code",
   "execution_count": null,
   "id": "d05e53f3",
   "metadata": {},
   "outputs": [],
   "source": []
  }
 ],
 "metadata": {
  "kernelspec": {
   "display_name": "Python 3 (ipykernel)",
   "language": "python",
   "name": "python3"
  },
  "language_info": {
   "codemirror_mode": {
    "name": "ipython",
    "version": 3
   },
   "file_extension": ".py",
   "mimetype": "text/x-python",
   "name": "python",
   "nbconvert_exporter": "python",
   "pygments_lexer": "ipython3",
   "version": "3.8.12"
  },
  "toc": {
   "base_numbering": 1,
   "nav_menu": {},
   "number_sections": true,
   "sideBar": true,
   "skip_h1_title": true,
   "title_cell": "Table of Contents",
   "title_sidebar": "Contents",
   "toc_cell": false,
   "toc_position": {},
   "toc_section_display": true,
   "toc_window_display": false
  },
  "varInspector": {
   "cols": {
    "lenName": 16,
    "lenType": 16,
    "lenVar": 40
   },
   "kernels_config": {
    "python": {
     "delete_cmd_postfix": "",
     "delete_cmd_prefix": "del ",
     "library": "var_list.py",
     "varRefreshCmd": "print(var_dic_list())"
    },
    "r": {
     "delete_cmd_postfix": ") ",
     "delete_cmd_prefix": "rm(",
     "library": "var_list.r",
     "varRefreshCmd": "cat(var_dic_list()) "
    }
   },
   "types_to_exclude": [
    "module",
    "function",
    "builtin_function_or_method",
    "instance",
    "_Feature"
   ],
   "window_display": false
  }
 },
 "nbformat": 4,
 "nbformat_minor": 5
}
