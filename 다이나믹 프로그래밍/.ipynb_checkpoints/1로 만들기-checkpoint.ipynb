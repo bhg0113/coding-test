{
 "cells": [
  {
   "cell_type": "markdown",
   "id": "ce7f1756",
   "metadata": {},
   "source": [
    "https://velog.io/@suzieep/Algorithm-%EC%9D%B4%EC%BD%94%ED%85%8C-1%EB%A1%9C-%EB%A7%8C%EB%93%A4%EA%B8%B0-%ED%8C%8C%EC%9D%B4%EC%8D%AC"
   ]
  },
  {
   "cell_type": "code",
   "execution_count": 2,
   "id": "fc07a424",
   "metadata": {
    "ExecuteTime": {
     "end_time": "2022-07-25T13:53:00.713747Z",
     "start_time": "2022-07-25T13:52:58.689621Z"
    },
    "collapsed": true
   },
   "outputs": [
    {
     "name": "stdout",
     "output_type": "stream",
     "text": [
      "26\n",
      "13.0 0\n",
      "12.0 1\n",
      "4.0 2\n",
      "2.0 3\n",
      "1.0 4\n",
      "5\n"
     ]
    }
   ],
   "source": [
    "x = int(input())\n",
    "cnt =0\n",
    "while x !=1:\n",
    "    if x%5 ==0:\n",
    "        x /=5\n",
    "    elif x%3 ==0:\n",
    "        x /=3\n",
    "    elif x%2 ==0:\n",
    "        x /=2\n",
    "    else: x -=1\n",
    "    print(x,cnt)\n",
    "    cnt+=1\n",
    "print(cnt)"
   ]
  },
  {
   "cell_type": "code",
   "execution_count": 3,
   "id": "a6a26699",
   "metadata": {
    "ExecuteTime": {
     "end_time": "2022-07-25T14:00:48.739405Z",
     "start_time": "2022-07-25T14:00:47.575452Z"
    }
   },
   "outputs": [
    {
     "name": "stdout",
     "output_type": "stream",
     "text": [
      "26\n",
      "3\n"
     ]
    }
   ],
   "source": [
    "x = int(input())\n",
    "d = [0]*30001 # 30000이내 이므로 \n",
    "\n",
    "for i in range(2,x+1):\n",
    "    d[i] = d[i-1] +1\n",
    "    if i%2 ==0:\n",
    "        d[i] = min(d[i],d[i//2]+1)\n",
    "    if i%3 ==0:\n",
    "        d[i] = min(d[i],d[i//3]+1)\n",
    "    if i%5 ==0:\n",
    "        d[i] = min(d[i],d[i//5]+1)\n",
    "print(d[x])"
   ]
  },
  {
   "cell_type": "code",
   "execution_count": null,
   "id": "dd309690",
   "metadata": {},
   "outputs": [],
   "source": []
  }
 ],
 "metadata": {
  "kernelspec": {
   "display_name": "Python 3 (ipykernel)",
   "language": "python",
   "name": "python3"
  },
  "language_info": {
   "codemirror_mode": {
    "name": "ipython",
    "version": 3
   },
   "file_extension": ".py",
   "mimetype": "text/x-python",
   "name": "python",
   "nbconvert_exporter": "python",
   "pygments_lexer": "ipython3",
   "version": "3.8.12"
  },
  "toc": {
   "base_numbering": 1,
   "nav_menu": {},
   "number_sections": true,
   "sideBar": true,
   "skip_h1_title": true,
   "title_cell": "Table of Contents",
   "title_sidebar": "Contents",
   "toc_cell": false,
   "toc_position": {},
   "toc_section_display": true,
   "toc_window_display": false
  },
  "varInspector": {
   "cols": {
    "lenName": 16,
    "lenType": 16,
    "lenVar": 40
   },
   "kernels_config": {
    "python": {
     "delete_cmd_postfix": "",
     "delete_cmd_prefix": "del ",
     "library": "var_list.py",
     "varRefreshCmd": "print(var_dic_list())"
    },
    "r": {
     "delete_cmd_postfix": ") ",
     "delete_cmd_prefix": "rm(",
     "library": "var_list.r",
     "varRefreshCmd": "cat(var_dic_list()) "
    }
   },
   "types_to_exclude": [
    "module",
    "function",
    "builtin_function_or_method",
    "instance",
    "_Feature"
   ],
   "window_display": false
  }
 },
 "nbformat": 4,
 "nbformat_minor": 5
}
