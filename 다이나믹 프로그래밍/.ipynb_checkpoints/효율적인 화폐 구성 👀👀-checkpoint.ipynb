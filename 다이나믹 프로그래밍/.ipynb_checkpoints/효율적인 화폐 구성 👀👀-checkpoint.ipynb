{
 "cells": [
  {
   "cell_type": "markdown",
   "id": "9779f385",
   "metadata": {},
   "source": [
    "https://velog.io/@suzieep/Algorithm-%EC%9D%B4%EC%BD%94%ED%85%8C-%ED%9A%A8%EC%9C%A8%EC%A0%81%EC%9D%B8-%ED%99%94%ED%8F%90-%EA%B5%AC%EC%84%B1-%ED%8C%8C%EC%9D%B4%EC%8D%AC"
   ]
  },
  {
   "cell_type": "code",
   "execution_count": 50,
   "id": "22e2a4ab",
   "metadata": {
    "ExecuteTime": {
     "end_time": "2022-07-26T16:13:48.756315Z",
     "start_time": "2022-07-26T16:13:46.951993Z"
    }
   },
   "outputs": [
    {
     "name": "stdout",
     "output_type": "stream",
     "text": [
      "2 15\n",
      "2\n",
      "3\n"
     ]
    }
   ],
   "source": [
    "# n은 100, m은 10000이하로 n이 낮아서 연산 여유로움\n",
    "n, m = map(int, input().split())\n",
    "arr = []\n",
    "for i in range(n):\n",
    "    arr.append(int(input()))"
   ]
  },
  {
   "cell_type": "code",
   "execution_count": 53,
   "id": "7f447019",
   "metadata": {
    "ExecuteTime": {
     "end_time": "2022-07-26T16:14:51.801480Z",
     "start_time": "2022-07-26T16:14:51.783474Z"
    }
   },
   "outputs": [
    {
     "name": "stdout",
     "output_type": "stream",
     "text": [
      "[0, 0, 1, 1, 0, 0, 0, 0, 0, 0, 0, 0, 0, 0, 0, 0] 2\n",
      "[0, 0, 1, 1, 0, 0, 0, 0, 0, 0, 0, 0, 0, 0, 0, 0] 2\n",
      "[0, 0, 1, 1, 1, 0, 0, 0, 0, 0, 0, 0, 0, 0, 0, 0] 4\n",
      "[0, 0, 1, 1, 1, 0, 0, 0, 0, 0, 0, 0, 0, 0, 0, 0] 4\n",
      "[0, 0, 1, 1, 1, 0, 1, 0, 0, 0, 0, 0, 0, 0, 0, 0] 4\n",
      "[0, 0, 1, 1, 1, 0, 1, 1, 0, 0, 0, 0, 0, 0, 0, 0] 4\n",
      "[0, 0, 1, 1, 1, 0, 1, 1, 2, 0, 0, 0, 0, 0, 0, 0] 8\n",
      "[0, 0, 1, 1, 1, 0, 1, 1, 2, 0, 0, 0, 0, 0, 0, 0] 8\n",
      "[0, 0, 1, 1, 1, 0, 1, 1, 2, 0, 2, 0, 0, 0, 0, 0] 8\n",
      "[0, 0, 1, 1, 1, 0, 1, 1, 2, 0, 2, 2, 0, 0, 0, 0] 8\n",
      "[0, 0, 1, 1, 1, 0, 1, 1, 2, 0, 2, 2, 3, 0, 0, 0] 8\n",
      "[0, 0, 1, 1, 1, 0, 1, 1, 2, 0, 2, 2, 3, 3, 0, 0] 8\n",
      "-1\n"
     ]
    }
   ],
   "source": [
    "# tmp를 기준으로 늘어나는 방식 / tmp만을 기준으로 계산할 수 없음  -> 예시처럼 min 식으로 했어야 함 \n",
    "d = [0]*(m+1) # 인덱스는 필요 금액(m), 값은 화폐 수\n",
    "arr.sort()\n",
    "d[arr[0]:arr[-1]+1] = [1]*(arr[-1]-arr[0]+1)\n",
    "tmp = arr[0]\n",
    "for i in range(min(arr)+1,m): \n",
    "    print(d,tmp)\n",
    "    if i > tmp + arr[-1]: # tmp보다 최대 화폐 더한게 큼 \n",
    "        d[i] = d[tmp]+1\n",
    "    for j in arr:\n",
    "        if i == tmp+j: # tmp \n",
    "            d[i] = d[tmp]\n",
    "    if i == 2*tmp:\n",
    "        tmp = i\n",
    "\n",
    "if d[m] != 0:\n",
    "    print(d[m])\n",
    "else:\n",
    "    print(-1)\n",
    "        \n",
    "    "
   ]
  },
  {
   "cell_type": "code",
   "execution_count": 54,
   "id": "9a1fee38",
   "metadata": {
    "ExecuteTime": {
     "end_time": "2022-07-26T16:16:04.254816Z",
     "start_time": "2022-07-26T16:16:01.301703Z"
    }
   },
   "outputs": [
    {
     "name": "stdout",
     "output_type": "stream",
     "text": [
      "2 15\n",
      "2\n",
      "3\n",
      "5\n"
     ]
    }
   ],
   "source": [
    "# 정수 N, M을 입력 받기\n",
    "n, m = map(int, input().split())\n",
    "# N개의 화폐 단위 정보를 입력 받기\n",
    "array = []\n",
    "for i in range(n):\n",
    "    array.append(int(input()))\n",
    "\n",
    "# 한 번 계산된 결과를 저장하기 위한 DP 테이블 초기화\n",
    "d = [10001] * (m + 1)\n",
    "\n",
    "# 다이나믹 프로그래밍(Dynamic Programming) 진행(보텀업)\n",
    "d[0] = 0\n",
    "for i in range(n): # 화페 차례대로 \n",
    "    for j in range(array[i], m + 1): # 화폐 시작부터\n",
    "        if d[j - array[i]] != 10001: # (i - k)원을 만드는 방법이 존재하는 경우, 뒤의 min에서 반영되므로 필요없는 조건이긴 함\n",
    "            d[j] = min(d[j], d[j - array[i]] + 1)\n",
    "\n",
    "# 계산된 결과 출력\n",
    "if d[m] == 10001: # 최종적으로 M원을 만드는 방법이 없는 경우\n",
    "    print(-1)\n",
    "else:\n",
    "    print(d[m])"
   ]
  },
  {
   "cell_type": "code",
   "execution_count": null,
   "id": "973c4a9c",
   "metadata": {},
   "outputs": [],
   "source": []
  }
 ],
 "metadata": {
  "kernelspec": {
   "display_name": "Python 3 (ipykernel)",
   "language": "python",
   "name": "python3"
  },
  "language_info": {
   "codemirror_mode": {
    "name": "ipython",
    "version": 3
   },
   "file_extension": ".py",
   "mimetype": "text/x-python",
   "name": "python",
   "nbconvert_exporter": "python",
   "pygments_lexer": "ipython3",
   "version": "3.8.12"
  },
  "toc": {
   "base_numbering": 1,
   "nav_menu": {},
   "number_sections": true,
   "sideBar": true,
   "skip_h1_title": true,
   "title_cell": "Table of Contents",
   "title_sidebar": "Contents",
   "toc_cell": false,
   "toc_position": {},
   "toc_section_display": true,
   "toc_window_display": false
  },
  "varInspector": {
   "cols": {
    "lenName": 16,
    "lenType": 16,
    "lenVar": 40
   },
   "kernels_config": {
    "python": {
     "delete_cmd_postfix": "",
     "delete_cmd_prefix": "del ",
     "library": "var_list.py",
     "varRefreshCmd": "print(var_dic_list())"
    },
    "r": {
     "delete_cmd_postfix": ") ",
     "delete_cmd_prefix": "rm(",
     "library": "var_list.r",
     "varRefreshCmd": "cat(var_dic_list()) "
    }
   },
   "types_to_exclude": [
    "module",
    "function",
    "builtin_function_or_method",
    "instance",
    "_Feature"
   ],
   "window_display": false
  }
 },
 "nbformat": 4,
 "nbformat_minor": 5
}
