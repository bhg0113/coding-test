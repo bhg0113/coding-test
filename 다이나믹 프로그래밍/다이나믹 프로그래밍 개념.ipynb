{
 "cells": [
  {
   "cell_type": "markdown",
   "id": "56b6034b",
   "metadata": {},
   "source": [
    "다음 조건에 따라 사용\n",
    "\n",
    "1. 큰 문제를 작은 문제로 나눌 수 있다.\n",
    "\n",
    "2. 작은 문제에서 구한 정답은 그것을 포함하는 큰 문제에서도 동일하다.\n",
    "\n",
    "-> 메모이제이션=캐싱(구한 정보 저장하는 것, 주로 탑다운 국한됨), DP 테이블 사용"
   ]
  },
  {
   "cell_type": "code",
   "execution_count": 4,
   "id": "291f64ec",
   "metadata": {
    "ExecuteTime": {
     "end_time": "2022-07-25T12:23:30.821993Z",
     "start_time": "2022-07-25T12:23:30.805003Z"
    }
   },
   "outputs": [
    {
     "name": "stdout",
     "output_type": "stream",
     "text": [
      "f(10)f(9)f(8)f(7)f(6)f(5)f(4)f(3)f(2)f(1)f(2)f(3)f(2)f(1)f(4)f(3)f(2)f(1)f(2)f(5)f(4)f(3)f(2)f(1)f(2)f(3)f(2)f(1)f(6)f(5)f(4)f(3)f(2)f(1)f(2)f(3)f(2)f(1)f(4)f(3)f(2)f(1)f(2)f(7)f(6)f(5)f(4)f(3)f(2)f(1)f(2)f(3)f(2)f(1)f(4)f(3)f(2)f(1)f(2)f(5)f(4)f(3)f(2)f(1)f(2)f(3)f(2)f(1)f(8)f(7)f(6)f(5)f(4)f(3)f(2)f(1)f(2)f(3)f(2)f(1)f(4)f(3)f(2)f(1)f(2)f(5)f(4)f(3)f(2)f(1)f(2)f(3)f(2)f(1)f(6)f(5)f(4)f(3)f(2)f(1)f(2)f(3)f(2)f(1)f(4)f(3)f(2)f(1)f(2)55\n"
     ]
    }
   ],
   "source": [
    "# 피보나치 예\n",
    "def fibo(x):\n",
    "    print('f('+str(x)+')',end='')\n",
    "    if x==1 or x==2:\n",
    "        return 1\n",
    "    return fibo(x-1)+fibo(x-2)\n",
    "print(fibo(10))\n",
    "# 같은 것들이 여러 번 중복해 연산됨 n커지면 매우 비효율적"
   ]
  },
  {
   "cell_type": "code",
   "execution_count": 7,
   "id": "09da28da",
   "metadata": {
    "ExecuteTime": {
     "end_time": "2022-07-25T13:40:26.136318Z",
     "start_time": "2022-07-25T13:40:26.128323Z"
    }
   },
   "outputs": [
    {
     "name": "stdout",
     "output_type": "stream",
     "text": [
      "f(10)f(9)f(8)f(7)f(6)f(5)f(4)f(3)f(2)f(1)f(2)f(3)f(4)f(5)f(6)f(7)f(8)55\n"
     ]
    }
   ],
   "source": [
    "# 재귀적 피보나치 -> 큰 문제에서 작은 문제 호출 하여 탑다운 방식\n",
    "d = [0]*10\n",
    "def fibo(x):\n",
    "    print('f('+str(x)+')',end='')\n",
    "    if x==1 or x==2:\n",
    "        return 1\n",
    "    if d[x] !=0:\n",
    "        return d[x]\n",
    "    d[x] = fibo(x-1)+fibo(x-2)\n",
    "    return d[x]\n",
    "print(fibo(10)) \n",
    "# 계산한 것은 저장해두어서 훨씬 출력이 적음"
   ]
  },
  {
   "cell_type": "code",
   "execution_count": 14,
   "id": "a5355b1f",
   "metadata": {
    "ExecuteTime": {
     "end_time": "2022-07-25T13:45:15.297470Z",
     "start_time": "2022-07-25T13:45:15.285467Z"
    }
   },
   "outputs": [
    {
     "name": "stdout",
     "output_type": "stream",
     "text": [
      "[0, 1, 1, 0, 0, 0, 0, 0, 0, 0, 0]\n",
      "[0, 1, 1, 2, 0, 0, 0, 0, 0, 0, 0]\n",
      "[0, 1, 1, 2, 3, 0, 0, 0, 0, 0, 0]\n",
      "[0, 1, 1, 2, 3, 5, 0, 0, 0, 0, 0]\n",
      "[0, 1, 1, 2, 3, 5, 8, 0, 0, 0, 0]\n",
      "[0, 1, 1, 2, 3, 5, 8, 13, 0, 0, 0]\n",
      "[0, 1, 1, 2, 3, 5, 8, 13, 21, 0, 0]\n",
      "[0, 1, 1, 2, 3, 5, 8, 13, 21, 34, 0]\n",
      "55\n"
     ]
    }
   ],
   "source": [
    "# 반복적 피보나치 -> 작은 문제에서 차근차근 도출해 바텀업 방식, 다이내믹 프로그래밍의 전형적 방식\n",
    "d = [0]*11\n",
    "d[1] = 1\n",
    "d[2] = 1\n",
    "n=10\n",
    "for i in range(3,n+1):\n",
    "    print(d)\n",
    "    d[i]= d[i-1]+d[i-2]\n",
    "print(d[n]) # 차근차근 도출"
   ]
  },
  {
   "cell_type": "markdown",
   "id": "97a03142",
   "metadata": {},
   "source": [
    "수열처럼 연속적이지 않은 경우 dict 자료형도 유용\n",
    "\n",
    "완전 탐색으로 매우 오래 걸릴 경우 다이내믹 프로그래밍 적용가능한 지 해결하고자 하는 부분 문제들의 중복 여부 확인\n",
    "\n",
    "단순 재귀로 구현해두고 이후에 메모이제이션 적용해 개선\n",
    "\n",
    "가능하다면 바텀업 방식 구현을 권장(재귀 함수의 스택 크기가 한정되어 있을 수 있기 때문, 이는 sys.setrecursionlimit()으로 완화 가능) "
   ]
  },
  {
   "cell_type": "code",
   "execution_count": null,
   "id": "7122a167",
   "metadata": {},
   "outputs": [],
   "source": []
  }
 ],
 "metadata": {
  "kernelspec": {
   "display_name": "Python 3 (ipykernel)",
   "language": "python",
   "name": "python3"
  },
  "language_info": {
   "codemirror_mode": {
    "name": "ipython",
    "version": 3
   },
   "file_extension": ".py",
   "mimetype": "text/x-python",
   "name": "python",
   "nbconvert_exporter": "python",
   "pygments_lexer": "ipython3",
   "version": "3.8.12"
  },
  "toc": {
   "base_numbering": 1,
   "nav_menu": {},
   "number_sections": true,
   "sideBar": true,
   "skip_h1_title": true,
   "title_cell": "Table of Contents",
   "title_sidebar": "Contents",
   "toc_cell": false,
   "toc_position": {},
   "toc_section_display": true,
   "toc_window_display": false
  },
  "varInspector": {
   "cols": {
    "lenName": 16,
    "lenType": 16,
    "lenVar": 40
   },
   "kernels_config": {
    "python": {
     "delete_cmd_postfix": "",
     "delete_cmd_prefix": "del ",
     "library": "var_list.py",
     "varRefreshCmd": "print(var_dic_list())"
    },
    "r": {
     "delete_cmd_postfix": ") ",
     "delete_cmd_prefix": "rm(",
     "library": "var_list.r",
     "varRefreshCmd": "cat(var_dic_list()) "
    }
   },
   "types_to_exclude": [
    "module",
    "function",
    "builtin_function_or_method",
    "instance",
    "_Feature"
   ],
   "window_display": false
  }
 },
 "nbformat": 4,
 "nbformat_minor": 5
}
