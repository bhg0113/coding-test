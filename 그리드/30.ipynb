{
 "cells": [
  {
   "cell_type": "markdown",
   "id": "6359fc4a",
   "metadata": {},
   "source": [
    "https://www.acmicpc.net/problem/10610"
   ]
  },
  {
   "cell_type": "code",
   "execution_count": null,
   "id": "c3c6fb47",
   "metadata": {
    "ExecuteTime": {
     "end_time": "2022-05-28T11:02:11.417089Z",
     "start_time": "2022-05-28T11:02:11.417089Z"
    }
   },
   "outputs": [],
   "source": [
    "# 가장 큰 수 + 30의 배수 / 가장 큰 수와는 다르게 길이가 길지 않기에 모든 조합을 고려하는 방식 사용 가능 -> 정렬한 후 30의 배수인 수 찾기\n",
    "# 메모리 초과 -> 입력이 100000개의 수로 이루어졌다는 것을 잘못 이해함(자릿수가 100000이라는 것) -> 모든 조합 고려할 수 없음\n",
    "from itertools import permutations\n",
    "\n",
    "a = list(input())\n",
    "l = list(permutations(a,len(a))) \n",
    "for i,v in enumerate(l):\n",
    "    l[i] = int(''.join(v))\n",
    "l.sort(reverse=True)\n",
    "\n",
    "for i,v in enumerate(l):\n",
    "    if v % 30==0:\n",
    "        print(v)\n",
    "        break\n",
    "    if i== len(l)-1:\n",
    "        print(-1)"
   ]
  },
  {
   "cell_type": "markdown",
   "id": "b1252d6b",
   "metadata": {},
   "source": [
    "3의 배수이자 10의 배수이므로 \n",
    "맨 뒤에 0 넣고 그 앞의 숫자가 3의 배수가 되도록, 둘 중 하나라도 안되면 -1 출력\n",
    "3의 배수가 되도록 어떻게 정렬? -> 풀이 참조"
   ]
  },
  {
   "cell_type": "code",
   "execution_count": 5,
   "id": "8e8929c0",
   "metadata": {
    "ExecuteTime": {
     "end_time": "2022-05-28T11:05:14.691896Z",
     "start_time": "2022-05-28T11:05:13.738060Z"
    }
   },
   "outputs": [
    {
     "name": "stdout",
     "output_type": "stream",
     "text": [
      "80875542\n",
      "88755420\n"
     ]
    }
   ],
   "source": [
    "# 3의 배수 판정법(모든 자릿수의 합이 3의배수)에 따라 가장 큰 수를 만들어 놓고 3의 배수인지만 판정하면됨\n",
    "n = list(input())\n",
    "n.sort(reverse=True)\n",
    "if '0' not in n: # 10의 배수도 되어야 하므로 \n",
    "    print(-1)\n",
    "else:\n",
    "    if sum(map(int,n)) %3 !=0:\n",
    "        print(-1)\n",
    "    else:\n",
    "        print(''.join(n))"
   ]
  },
  {
   "cell_type": "code",
   "execution_count": null,
   "id": "3d6f36ad",
   "metadata": {},
   "outputs": [],
   "source": [
    "# 참조한 풀이 \n",
    "n = input()\n",
    "n = sorted(n, reverse=True)\n",
    "sum = 0\n",
    "if '0' not in n:\t# 우선은 input의 디폴트인 string으로 받았기에 '0' 문자로 적음\n",
    "    print(-1)\n",
    "else:\n",
    "    for i in n:\n",
    "        sum += int(i)\n",
    "    if sum % 3 != 0 :\t# 3의 배수 체크\n",
    "        print(-1)\n",
    "    else :\n",
    "        print(''.join(n))"
   ]
  }
 ],
 "metadata": {
  "kernelspec": {
   "display_name": "Python 3 (ipykernel)",
   "language": "python",
   "name": "python3"
  },
  "language_info": {
   "codemirror_mode": {
    "name": "ipython",
    "version": 3
   },
   "file_extension": ".py",
   "mimetype": "text/x-python",
   "name": "python",
   "nbconvert_exporter": "python",
   "pygments_lexer": "ipython3",
   "version": "3.8.12"
  },
  "toc": {
   "base_numbering": 1,
   "nav_menu": {},
   "number_sections": true,
   "sideBar": true,
   "skip_h1_title": true,
   "title_cell": "Table of Contents",
   "title_sidebar": "Contents",
   "toc_cell": false,
   "toc_position": {},
   "toc_section_display": true,
   "toc_window_display": false
  },
  "varInspector": {
   "cols": {
    "lenName": 16,
    "lenType": 16,
    "lenVar": 40
   },
   "kernels_config": {
    "python": {
     "delete_cmd_postfix": "",
     "delete_cmd_prefix": "del ",
     "library": "var_list.py",
     "varRefreshCmd": "print(var_dic_list())"
    },
    "r": {
     "delete_cmd_postfix": ") ",
     "delete_cmd_prefix": "rm(",
     "library": "var_list.r",
     "varRefreshCmd": "cat(var_dic_list()) "
    }
   },
   "types_to_exclude": [
    "module",
    "function",
    "builtin_function_or_method",
    "instance",
    "_Feature"
   ],
   "window_display": false
  }
 },
 "nbformat": 4,
 "nbformat_minor": 5
}
