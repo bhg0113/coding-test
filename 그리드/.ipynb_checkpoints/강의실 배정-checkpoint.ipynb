{
 "cells": [
  {
   "cell_type": "markdown",
   "id": "b079822d",
   "metadata": {},
   "source": [
    "https://www.acmicpc.net/problem/11000"
   ]
  },
  {
   "cell_type": "code",
   "execution_count": 38,
   "id": "4e79c215",
   "metadata": {
    "ExecuteTime": {
     "end_time": "2022-06-07T11:05:52.320646Z",
     "start_time": "2022-06-07T11:05:48.124110Z"
    }
   },
   "outputs": [
    {
     "name": "stdout",
     "output_type": "stream",
     "text": [
      "3\n",
      "1 3\n",
      "2 4\n",
      "3 5\n"
     ]
    },
    {
     "ename": "TypeError",
     "evalue": "'NoneType' object is not subscriptable",
     "output_type": "error",
     "traceback": [
      "\u001b[1;31m---------------------------------------------------------------------------\u001b[0m",
      "\u001b[1;31mTypeError\u001b[0m                                 Traceback (most recent call last)",
      "\u001b[1;32m~\\AppData\\Local\\Temp/ipykernel_21116/1843649193.py\u001b[0m in \u001b[0;36m<module>\u001b[1;34m\u001b[0m\n\u001b[0;32m     16\u001b[0m \u001b[1;31m# 중간에 추가된 룸에 대해서도 수업 진행하므로 각 룸에 대해서도 처리 필요\u001b[0m\u001b[1;33m\u001b[0m\u001b[1;33m\u001b[0m\u001b[1;33m\u001b[0m\u001b[0m\n\u001b[0;32m     17\u001b[0m \u001b[0mrooms\u001b[0m \u001b[1;33m=\u001b[0m\u001b[1;33m[\u001b[0m\u001b[1;33m]\u001b[0m\u001b[1;33m\u001b[0m\u001b[1;33m\u001b[0m\u001b[0m\n\u001b[1;32m---> 18\u001b[1;33m \u001b[0mrooms\u001b[0m\u001b[1;33m.\u001b[0m\u001b[0mappend\u001b[0m\u001b[1;33m(\u001b[0m\u001b[0mclasses\u001b[0m\u001b[1;33m[\u001b[0m\u001b[1;36m0\u001b[0m\u001b[1;33m]\u001b[0m\u001b[1;33m)\u001b[0m\u001b[1;33m\u001b[0m\u001b[1;33m\u001b[0m\u001b[0m\n\u001b[0m\u001b[0;32m     19\u001b[0m \u001b[1;32mfor\u001b[0m \u001b[0mc\u001b[0m \u001b[1;32min\u001b[0m \u001b[0mclasses\u001b[0m\u001b[1;33m[\u001b[0m\u001b[1;36m1\u001b[0m\u001b[1;33m:\u001b[0m\u001b[1;33m]\u001b[0m\u001b[1;33m:\u001b[0m \u001b[1;31m# 현재 O(N^2)이기 때문에 시간초과로 보임\u001b[0m\u001b[1;33m\u001b[0m\u001b[1;33m\u001b[0m\u001b[0m\n\u001b[0;32m     20\u001b[0m     \u001b[1;31m#print(rooms, c)\u001b[0m\u001b[1;33m\u001b[0m\u001b[1;33m\u001b[0m\u001b[1;33m\u001b[0m\u001b[0m\n",
      "\u001b[1;31mTypeError\u001b[0m: 'NoneType' object is not subscriptable"
     ]
    }
   ],
   "source": [
    "# N은 200000, classes의 값은 10^9 이내 -> 200000개의 값 처리하는 것으로 생각\n",
    "# 시간 초과 -> 자료 구조, 알고리즘 다시 생각 -> 다른 풀이 참조하니 알고리즘은 동일하나 heapq 사용\n",
    "n = int(input())\n",
    "classes = []\n",
    "for i in range(n):\n",
    "    start, end = map(int, input().split())\n",
    "    classes.append([start, end])\n",
    " \n",
    "# classes를 start,end에 따라 정렬\n",
    "classes.sort(key=lambda x: (x[0],x[1]))\n",
    "# start가장 작은 수 들어가고 end까지의 수 중에서 start가 있다면 새로 room 추가\n",
    "# end까지 되면 다시 앞의 방법 반복\n",
    "# 중간에 추가된 룸에 대해서도 수업 진행하므로 각 룸에 대해서도 처리 필요\n",
    "rooms =[]\n",
    "rooms.append(classes[0])\n",
    "for c in classes[1:]: # 현재 O(N^2)이기 때문에 시간초과로 보임\n",
    "    #print(rooms, c)\n",
    "    for r in rooms:\n",
    "        #print(r,rooms)\n",
    "        if c[0] >= r[1]: # 새 start값이 이전 end 값 이상일 때, 다음 수업 갱신\n",
    "            r[1] = c[1] # 끝값만 갱신:\n",
    "            break # 갱신 시 이후 확인x\n",
    "    rooms.append(c) #room을 다 확인했음에도 갱신할 수 없다면 room추가\n",
    "\n",
    "#print(rooms)\n",
    "print(len(rooms))"
   ]
  },
  {
   "cell_type": "code",
   "execution_count": 43,
   "id": "9c94bfd3",
   "metadata": {
    "ExecuteTime": {
     "end_time": "2022-06-07T11:55:34.903830Z",
     "start_time": "2022-06-07T11:55:34.871893Z"
    }
   },
   "outputs": [
    {
     "ename": "ValueError",
     "evalue": "invalid literal for int() with base 10: ''",
     "output_type": "error",
     "traceback": [
      "\u001b[1;31m---------------------------------------------------------------------------\u001b[0m",
      "\u001b[1;31mValueError\u001b[0m                                Traceback (most recent call last)",
      "\u001b[1;32m~\\AppData\\Local\\Temp/ipykernel_21116/2640995347.py\u001b[0m in \u001b[0;36m<module>\u001b[1;34m\u001b[0m\n\u001b[0;32m      3\u001b[0m \u001b[1;32mfrom\u001b[0m \u001b[0msys\u001b[0m \u001b[1;32mimport\u001b[0m \u001b[0mstdin\u001b[0m \u001b[1;31m# 안쓰고 그냥 input으로 받으면 시간초과\u001b[0m\u001b[1;33m\u001b[0m\u001b[1;33m\u001b[0m\u001b[0m\n\u001b[0;32m      4\u001b[0m \u001b[1;33m\u001b[0m\u001b[0m\n\u001b[1;32m----> 5\u001b[1;33m \u001b[0mn\u001b[0m\u001b[1;33m=\u001b[0m\u001b[0mint\u001b[0m\u001b[1;33m(\u001b[0m\u001b[0mstdin\u001b[0m\u001b[1;33m.\u001b[0m\u001b[0mreadline\u001b[0m\u001b[1;33m(\u001b[0m\u001b[1;33m)\u001b[0m\u001b[1;33m)\u001b[0m\u001b[1;33m\u001b[0m\u001b[1;33m\u001b[0m\u001b[0m\n\u001b[0m\u001b[0;32m      6\u001b[0m \u001b[0mheap\u001b[0m\u001b[1;33m=\u001b[0m\u001b[1;33m[\u001b[0m\u001b[1;33m]\u001b[0m\u001b[1;33m\u001b[0m\u001b[1;33m\u001b[0m\u001b[0m\n\u001b[0;32m      7\u001b[0m \u001b[1;33m\u001b[0m\u001b[0m\n",
      "\u001b[1;31mValueError\u001b[0m: invalid literal for int() with base 10: ''"
     ]
    }
   ],
   "source": [
    "# 참조풀이 https://duckracoon.tistory.com/entry/%EB%B0%B1%EC%A4%80-11000-%EA%B0%95%EC%9D%98%EC%8B%A4-%EB%B0%B0%EC%A0%95-%ED%95%B4%EC%84%A4-python\n",
    "import heapq\n",
    "from sys import stdin # 안쓰고 그냥 input으로 받으면 시간초과\n",
    "\n",
    "n = int(input()) \n",
    "#n=int(stdin.readline())\n",
    "heap=[]\n",
    "for i in range(n):\n",
    "    start, end = map(int, input().split())\n",
    "    heap.append([start, end])\n",
    "\n",
    "# for i in range(n):\n",
    "#     start, end=map(int, stdin.readline().split())\n",
    "#     heap.append([start, end])\n",
    "# heap.sort()\n",
    "\n",
    "room = []\n",
    "heapq.heappush(room, heap[0][1]) # 첫 강의 종료시간\n",
    "#room이 최소 heap이 되는 것(heap이 따로 존재하는 자료구조가 아니라 리스트에 heapq 모듈을 사용한 것)\n",
    "\n",
    "for i in range(1, n):\n",
    "    if heap[i][0]<room[0]: # 지금 강의 종료시간보다 다음 강의시작이 빠를때\n",
    "        heapq.heappush(room, heap[i][1]) # 강의실 추가\n",
    "    \n",
    "    else: # 지금 강의 끝나고 이어서 강의하면 됨\n",
    "        heapq.heappop(room) # 가장 일찍 끝나는 수업부터 이어서 시작  \n",
    "        heapq.heappush(room, heap[i][1])\n",
    "    #print(heap)\n",
    "\n",
    "print(len(room))"
   ]
  },
  {
   "cell_type": "code",
   "execution_count": 45,
   "id": "ddd5f9a2",
   "metadata": {
    "ExecuteTime": {
     "end_time": "2022-06-07T11:55:51.803418Z",
     "start_time": "2022-06-07T11:55:51.767438Z"
    }
   },
   "outputs": [
    {
     "ename": "ValueError",
     "evalue": "invalid literal for int() with base 10: ''",
     "output_type": "error",
     "traceback": [
      "\u001b[1;31m---------------------------------------------------------------------------\u001b[0m",
      "\u001b[1;31mValueError\u001b[0m                                Traceback (most recent call last)",
      "\u001b[1;32m~\\AppData\\Local\\Temp/ipykernel_21116/1831622753.py\u001b[0m in \u001b[0;36m<module>\u001b[1;34m\u001b[0m\n\u001b[0;32m     12\u001b[0m             \u001b[0mheapreplace\u001b[0m\u001b[1;33m(\u001b[0m\u001b[0mheap\u001b[0m\u001b[1;33m,\u001b[0m\u001b[0me\u001b[0m\u001b[1;33m)\u001b[0m\u001b[1;33m\u001b[0m\u001b[1;33m\u001b[0m\u001b[0m\n\u001b[0;32m     13\u001b[0m     \u001b[1;32mreturn\u001b[0m \u001b[0mlen\u001b[0m\u001b[1;33m(\u001b[0m\u001b[0mheap\u001b[0m\u001b[1;33m)\u001b[0m\u001b[1;33m\u001b[0m\u001b[1;33m\u001b[0m\u001b[0m\n\u001b[1;32m---> 14\u001b[1;33m \u001b[0mprint\u001b[0m\u001b[1;33m(\u001b[0m\u001b[0msol\u001b[0m\u001b[1;33m(\u001b[0m\u001b[1;33m)\u001b[0m\u001b[1;33m)\u001b[0m\u001b[1;33m\u001b[0m\u001b[1;33m\u001b[0m\u001b[0m\n\u001b[0m",
      "\u001b[1;32m~\\AppData\\Local\\Temp/ipykernel_21116/1831622753.py\u001b[0m in \u001b[0;36msol\u001b[1;34m()\u001b[0m\n\u001b[0;32m      3\u001b[0m \u001b[0minput\u001b[0m\u001b[1;33m=\u001b[0m\u001b[0msys\u001b[0m\u001b[1;33m.\u001b[0m\u001b[0mstdin\u001b[0m\u001b[1;33m.\u001b[0m\u001b[0mreadline\u001b[0m \u001b[1;31m# 이런 식으로도 가능\u001b[0m\u001b[1;33m\u001b[0m\u001b[1;33m\u001b[0m\u001b[0m\n\u001b[0;32m      4\u001b[0m \u001b[1;32mdef\u001b[0m \u001b[0msol\u001b[0m\u001b[1;33m(\u001b[0m\u001b[1;33m)\u001b[0m\u001b[1;33m:\u001b[0m\u001b[1;33m\u001b[0m\u001b[1;33m\u001b[0m\u001b[0m\n\u001b[1;32m----> 5\u001b[1;33m     \u001b[0mn\u001b[0m\u001b[1;33m=\u001b[0m\u001b[0mint\u001b[0m\u001b[1;33m(\u001b[0m\u001b[0minput\u001b[0m\u001b[1;33m(\u001b[0m\u001b[1;33m)\u001b[0m\u001b[1;33m)\u001b[0m\u001b[1;33m\u001b[0m\u001b[1;33m\u001b[0m\u001b[0m\n\u001b[0m\u001b[0;32m      6\u001b[0m     \u001b[0mheap\u001b[0m\u001b[1;33m=\u001b[0m\u001b[1;33m[\u001b[0m\u001b[1;33m-\u001b[0m\u001b[1;36m1\u001b[0m\u001b[1;33m]\u001b[0m \u001b[1;31m# 첫 값을 넣어주기 위해, 위의 room과 같음, 종료시간이 들어감\u001b[0m\u001b[1;33m\u001b[0m\u001b[1;33m\u001b[0m\u001b[0m\n\u001b[0;32m      7\u001b[0m     \u001b[0mdata\u001b[0m\u001b[1;33m=\u001b[0m\u001b[0msorted\u001b[0m\u001b[1;33m(\u001b[0m\u001b[0mtuple\u001b[0m\u001b[1;33m(\u001b[0m\u001b[0mmap\u001b[0m\u001b[1;33m(\u001b[0m\u001b[0mint\u001b[0m\u001b[1;33m,\u001b[0m\u001b[0minput\u001b[0m\u001b[1;33m(\u001b[0m\u001b[1;33m)\u001b[0m\u001b[1;33m.\u001b[0m\u001b[0msplit\u001b[0m\u001b[1;33m(\u001b[0m\u001b[1;33m)\u001b[0m\u001b[1;33m)\u001b[0m\u001b[1;33m)\u001b[0m \u001b[1;32mfor\u001b[0m \u001b[0m_\u001b[0m \u001b[1;32min\u001b[0m \u001b[0mrange\u001b[0m\u001b[1;33m(\u001b[0m\u001b[0mn\u001b[0m\u001b[1;33m)\u001b[0m\u001b[1;33m)\u001b[0m\u001b[1;33m\u001b[0m\u001b[1;33m\u001b[0m\u001b[0m\n",
      "\u001b[1;31mValueError\u001b[0m: invalid literal for int() with base 10: ''"
     ]
    }
   ],
   "source": [
    "import sys\n",
    "from heapq import heappush,heapreplace\n",
    "input=sys.stdin.readline # 이런 식으로도 가능\n",
    "def sol():\n",
    "    n=int(input())\n",
    "    heap=[-1] # 첫 값을 넣어주기 위해, 위의 room과 같음, 종료시간이 들어감\n",
    "    data=sorted(tuple(map(int,input().split())) for _ in range(n))\n",
    "    for s,e in data:\n",
    "        if s<heap[0]: # 새로운 강의 시작이 이전 강의 종료시간 보다 작다면\n",
    "            heappush(heap,e) # 강의실 추가(종료시간)\n",
    "        else:\n",
    "            heapreplace(heap,e) \n",
    "\"\"\"\n",
    "heapq.heapreplace(heap, item)\n",
    "heap에서 가장 작은 항목을 pop하고 반환  & 새로운 item 푸시\n",
    "heapq.pop와 heapq.push를 이어서 호출하는 것과 동일한 결과이지만, 더 효율적으로 실행\n",
    "\"\"\"\n",
    "    return len(heap)\n",
    "print(sol())"
   ]
  },
  {
   "cell_type": "code",
   "execution_count": null,
   "id": "41770353",
   "metadata": {},
   "outputs": [],
   "source": []
  }
 ],
 "metadata": {
  "kernelspec": {
   "display_name": "Python 3 (ipykernel)",
   "language": "python",
   "name": "python3"
  },
  "language_info": {
   "codemirror_mode": {
    "name": "ipython",
    "version": 3
   },
   "file_extension": ".py",
   "mimetype": "text/x-python",
   "name": "python",
   "nbconvert_exporter": "python",
   "pygments_lexer": "ipython3",
   "version": "3.8.12"
  },
  "toc": {
   "base_numbering": 1,
   "nav_menu": {},
   "number_sections": true,
   "sideBar": true,
   "skip_h1_title": true,
   "title_cell": "Table of Contents",
   "title_sidebar": "Contents",
   "toc_cell": false,
   "toc_position": {},
   "toc_section_display": true,
   "toc_window_display": false
  },
  "varInspector": {
   "cols": {
    "lenName": 16,
    "lenType": 16,
    "lenVar": 40
   },
   "kernels_config": {
    "python": {
     "delete_cmd_postfix": "",
     "delete_cmd_prefix": "del ",
     "library": "var_list.py",
     "varRefreshCmd": "print(var_dic_list())"
    },
    "r": {
     "delete_cmd_postfix": ") ",
     "delete_cmd_prefix": "rm(",
     "library": "var_list.r",
     "varRefreshCmd": "cat(var_dic_list()) "
    }
   },
   "types_to_exclude": [
    "module",
    "function",
    "builtin_function_or_method",
    "instance",
    "_Feature"
   ],
   "window_display": false
  }
 },
 "nbformat": 4,
 "nbformat_minor": 5
}
