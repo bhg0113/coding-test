{
 "cells": [
  {
   "cell_type": "markdown",
   "id": "b079822d",
   "metadata": {},
   "source": [
    "https://www.acmicpc.net/problem/11000"
   ]
  },
  {
   "cell_type": "code",
   "execution_count": null,
   "id": "4e79c215",
   "metadata": {},
   "outputs": [],
   "source": [
    "import heapq\n",
    "n = int(input())\n",
    "q = []\n",
    "\n",
    "for i in range(n):\n",
    "    start, end = map(int, input().split())\n",
    "    q.append([start, end])\n",
    "\n",
    "q.sort()\n",
    "\n",
    "room = []\n",
    "heapq.heappush(room, q[0][1])\n",
    "\n",
    "for i in range(1, n):\n",
    "    if q[i][0] < room[0]: # 현재 회의실 끝나는 시간보다 다음 회의 시작시간이 빠르면\n",
    "        heapq.heappush(room, q[i][1]) # 새로운 회의실 개설\n",
    "    else: # 현재 회의실에 이어서 회의 개최 가능\n",
    "        heapq.heappop(room) # 새로운 회의로 시간 변경을 위해 pop후 새 시간 push\n",
    "        heapq.heappush(room, q[i][1])\n",
    "\n",
    "print(len(room))"
   ]
  }
 ],
 "metadata": {
  "kernelspec": {
   "display_name": "Python 3 (ipykernel)",
   "language": "python",
   "name": "python3"
  },
  "language_info": {
   "codemirror_mode": {
    "name": "ipython",
    "version": 3
   },
   "file_extension": ".py",
   "mimetype": "text/x-python",
   "name": "python",
   "nbconvert_exporter": "python",
   "pygments_lexer": "ipython3",
   "version": "3.8.12"
  },
  "toc": {
   "base_numbering": 1,
   "nav_menu": {},
   "number_sections": true,
   "sideBar": true,
   "skip_h1_title": true,
   "title_cell": "Table of Contents",
   "title_sidebar": "Contents",
   "toc_cell": false,
   "toc_position": {},
   "toc_section_display": true,
   "toc_window_display": false
  },
  "varInspector": {
   "cols": {
    "lenName": 16,
    "lenType": 16,
    "lenVar": 40
   },
   "kernels_config": {
    "python": {
     "delete_cmd_postfix": "",
     "delete_cmd_prefix": "del ",
     "library": "var_list.py",
     "varRefreshCmd": "print(var_dic_list())"
    },
    "r": {
     "delete_cmd_postfix": ") ",
     "delete_cmd_prefix": "rm(",
     "library": "var_list.r",
     "varRefreshCmd": "cat(var_dic_list()) "
    }
   },
   "types_to_exclude": [
    "module",
    "function",
    "builtin_function_or_method",
    "instance",
    "_Feature"
   ],
   "window_display": false
  }
 },
 "nbformat": 4,
 "nbformat_minor": 5
}
