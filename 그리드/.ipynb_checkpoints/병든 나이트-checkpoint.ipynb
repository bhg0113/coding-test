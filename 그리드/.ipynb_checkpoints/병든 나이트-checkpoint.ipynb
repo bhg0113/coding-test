{
 "cells": [
  {
   "cell_type": "markdown",
   "id": "85b81b77",
   "metadata": {},
   "source": [
    "https://www.acmicpc.net/problem/1783"
   ]
  },
  {
   "cell_type": "code",
   "execution_count": null,
   "id": "73f2b3d3",
   "metadata": {
    "ExecuteTime": {
     "start_time": "2022-06-03T12:34:24.811Z"
    }
   },
   "outputs": [
    {
     "name": "stdout",
     "output_type": "stream",
     "text": [
      "200000000 199999999\n"
     ]
    }
   ],
   "source": [
    "# 모두 한번씩 돌아가면서 사용해야 하는 것이 아닌 최대로 사용까지 한번'은' 사용해야 함\n",
    "# 차이가 가장 많은 것 선택 -> 단순한 차이가 아니라 비율의 합으로 접근\n",
    "# 시간초과 -> 반복문을 사용하지 않고 처리가능한가?, 연산 과정 내에서 줄여야 하는가?\n",
    "# 값이 너무 커서 직접 움직이는 것으로는 시간초과 피할 수 없음\n",
    "moves = [[2,1],[1,2],[-1,2],[-2,1]]\n",
    "n,m = map(int,input().split())\n",
    "c_n,c_m = 0,0\n",
    "cnt =0\n",
    "\n",
    "if n>=2 and m>=6: # 5회 이상의 조건\n",
    "    cnt += 4\n",
    "    c_m+=6\n",
    "    while n> c_n and m>c_m: \n",
    "        tmp=[0,0]\n",
    "        idx=0\n",
    "        for move in moves:\n",
    "            tmp_n,tmp_m= c_n, c_m \n",
    "            tmp_n +=move[0] # 현재 위치에 move 더하여 임시 위치 생성\n",
    "            tmp_m +=move[1]\n",
    "            #print(\"tmp:\",tmp_n/n,tmp_m/m)\n",
    "            if (tmp_n>=0 and tmp_m >=0) and (sum(tmp)>= tmp_n/n + tmp_m/m):# tmp위치가 모두 0보다 크고 임시 위치 중 더 비율이 작은 경우가 있을 떼\n",
    "                tmp = [tmp_n/n,tmp_m/m] # tmp 대체\n",
    "                idx= moves.index(move) # 해당 move 저장\n",
    "                #print(tmp,move)\n",
    "        c_n += moves[idx][0] # 가장 작은 비율을 보인 move 선택\n",
    "        c_m += moves[idx][1]\n",
    "        cnt+=1\n",
    "        #print(\"current:\",c_n, c_m,cnt)\n",
    "    print(cnt)\n",
    "else:\n",
    "    while n> c_n and m>c_m:\n",
    "        tmp=[0,0]\n",
    "        idx=0\n",
    "        for move in moves:\n",
    "            tmp_n,tmp_m= c_n, c_m \n",
    "            tmp_n +=move[0] # 현재 위치에 move 더하여 임시 위치 생성\n",
    "            tmp_m +=move[1]\n",
    "            #print(\"tmp:\",tmp_n/n,tmp_m/m)\n",
    "            if (tmp_n>=0 and tmp_m >=0) and (sum(tmp) >= tmp_n/n + tmp_m/m):# tmp위치가 모두 0보다 크고 임시 위치 중 더 비율이 작은 경우가 있을 떼\n",
    "                tmp = [tmp_n/n,tmp_m/m] # tmp 대체\n",
    "                idx= moves.index(move) # 해당 move 저장\n",
    "                #print(tmp,move)\n",
    "        c_n += moves[idx][0] # 가장 작은 비율을 보인 move 선택\n",
    "        c_m += moves[idx][1]\n",
    "        cnt+=1\n",
    "        #print(\"current:\",c_n, c_m,cnt)\n",
    "    if cnt >4:\n",
    "        print(4)\n",
    "    else:\n",
    "        print(cnt)\n",
    "        \n",
    "    \n"
   ]
  },
  {
   "cell_type": "code",
   "execution_count": 21,
   "id": "bd99e327",
   "metadata": {
    "ExecuteTime": {
     "end_time": "2022-06-03T11:15:27.329489Z",
     "start_time": "2022-06-03T11:15:27.318487Z"
    }
   },
   "outputs": [
    {
     "data": {
      "text/plain": [
       "32"
      ]
     },
     "execution_count": 21,
     "metadata": {},
     "output_type": "execute_result"
    }
   ],
   "source": [
    "# 참조한 풀이 -> 세로는 3칸까지만 있으면 되므로 (1,1) 시작\n",
    "# !! 숫자가 큰 경우, 문제를 잘 살펴보고 생각해보기\n",
    "n, m = map(int, input().split())\n",
    "if n == 1:\n",
    "    print(1)\n",
    "elif n == 2: \n",
    "    print(min(4, (m-1)//2+1)) # 4개 방법을 모두 사용하지 못하므로\n",
    "elif m <= 6:\n",
    "    print(min(4, m)) # 4개 방법을 모두 사용하지 못하므로\n",
    "else:\n",
    "    print(m-2) # 2칸위 2칸아래로 가로로 1칸씩 움직이기  "
   ]
  },
  {
   "cell_type": "code",
   "execution_count": null,
   "id": "b7bf7595",
   "metadata": {
    "ExecuteTime": {
     "end_time": "2022-06-03T11:12:56.044378Z",
     "start_time": "2022-06-03T11:12:56.037375Z"
    },
    "heading_collapsed": true
   },
   "outputs": [],
   "source": []
  },
  {
   "cell_type": "code",
   "execution_count": null,
   "id": "38c791e5",
   "metadata": {},
   "outputs": [],
   "source": []
  }
 ],
 "metadata": {
  "kernelspec": {
   "display_name": "Python 3 (ipykernel)",
   "language": "python",
   "name": "python3"
  },
  "language_info": {
   "codemirror_mode": {
    "name": "ipython",
    "version": 3
   },
   "file_extension": ".py",
   "mimetype": "text/x-python",
   "name": "python",
   "nbconvert_exporter": "python",
   "pygments_lexer": "ipython3",
   "version": "3.8.12"
  },
  "toc": {
   "base_numbering": 1,
   "nav_menu": {},
   "number_sections": true,
   "sideBar": true,
   "skip_h1_title": true,
   "title_cell": "Table of Contents",
   "title_sidebar": "Contents",
   "toc_cell": false,
   "toc_position": {},
   "toc_section_display": true,
   "toc_window_display": false
  },
  "varInspector": {
   "cols": {
    "lenName": 16,
    "lenType": 16,
    "lenVar": 40
   },
   "kernels_config": {
    "python": {
     "delete_cmd_postfix": "",
     "delete_cmd_prefix": "del ",
     "library": "var_list.py",
     "varRefreshCmd": "print(var_dic_list())"
    },
    "r": {
     "delete_cmd_postfix": ") ",
     "delete_cmd_prefix": "rm(",
     "library": "var_list.r",
     "varRefreshCmd": "cat(var_dic_list()) "
    }
   },
   "types_to_exclude": [
    "module",
    "function",
    "builtin_function_or_method",
    "instance",
    "_Feature"
   ],
   "window_display": false
  }
 },
 "nbformat": 4,
 "nbformat_minor": 5
}
