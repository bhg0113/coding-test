{
 "cells": [
  {
   "cell_type": "markdown",
   "id": "ceee111f",
   "metadata": {},
   "source": [
    "https://www.acmicpc.net/problem/1700"
   ]
  },
  {
   "cell_type": "code",
   "execution_count": null,
   "id": "625744a5",
   "metadata": {},
   "outputs": [],
   "source": [
    "N, K = map(int, input().split())\n",
    "products = list(map(int, input().split()))\n",
    "multi_tab = [0] * N\n",
    "ans = 0\n",
    "change = maximum = 0\n",
    "\n",
    "while products:\n",
    "    product = products[0]\n",
    "    # 멀티탭에 동일한 제품이 꽂혀있을 경우 -> skip\n",
    "    if product in multi_tab:\n",
    "        products.remove(product)    # 멀티탭에 꽂았으니 제품 사용 순서 리스트에서 삭제\n",
    "        continue\n",
    "\n",
    "    # 멀티탭에 빈자리가 있을 경우 -> 빈자리에 해당 제품 꽂는다.\n",
    "    elif 0 in multi_tab:\n",
    "        multi_tab[multi_tab.index(0)] = product\n",
    "        products.remove(product)\n",
    "\n",
    "    # 멀티탭에 빈자리가 없을 경우\n",
    "    else:\n",
    "        for mt in multi_tab:\n",
    "            # 멀티탭에 꽂혀있는 제품 중 이후에 꽂는 제품이 없는 경우\n",
    "            # 이후에 꽂는 제품이 없는 제품을 빼주고 탐색중인 제품을 꽂는다.\n",
    "            if mt not in products:\n",
    "                change = mt\n",
    "                break\n",
    "\n",
    "            # 멀티탭에 꽂혀있는 제품 중 가장 나중에 사용하는 제품을 고름.\n",
    "            # -> 가장 나중에 사용하는 제품을 뽑고 탐색하고 있는 제품을 꽂는다.\n",
    "            elif products.index(mt) > maximum:\n",
    "                maximum = products.index(mt)\n",
    "                change = mt\n",
    "\n",
    "        multi_tab[multi_tab.index(change)] = product\n",
    "        products.remove(product)\n",
    "        maximum = 0\n",
    "        ans += 1\n",
    "\n",
    "print(ans)"
   ]
  }
 ],
 "metadata": {
  "kernelspec": {
   "display_name": "Python 3 (ipykernel)",
   "language": "python",
   "name": "python3"
  },
  "language_info": {
   "codemirror_mode": {
    "name": "ipython",
    "version": 3
   },
   "file_extension": ".py",
   "mimetype": "text/x-python",
   "name": "python",
   "nbconvert_exporter": "python",
   "pygments_lexer": "ipython3",
   "version": "3.8.12"
  },
  "toc": {
   "base_numbering": 1,
   "nav_menu": {},
   "number_sections": true,
   "sideBar": true,
   "skip_h1_title": true,
   "title_cell": "Table of Contents",
   "title_sidebar": "Contents",
   "toc_cell": false,
   "toc_position": {},
   "toc_section_display": true,
   "toc_window_display": false
  },
  "varInspector": {
   "cols": {
    "lenName": 16,
    "lenType": 16,
    "lenVar": 40
   },
   "kernels_config": {
    "python": {
     "delete_cmd_postfix": "",
     "delete_cmd_prefix": "del ",
     "library": "var_list.py",
     "varRefreshCmd": "print(var_dic_list())"
    },
    "r": {
     "delete_cmd_postfix": ") ",
     "delete_cmd_prefix": "rm(",
     "library": "var_list.r",
     "varRefreshCmd": "cat(var_dic_list()) "
    }
   },
   "types_to_exclude": [
    "module",
    "function",
    "builtin_function_or_method",
    "instance",
    "_Feature"
   ],
   "window_display": false
  }
 },
 "nbformat": 4,
 "nbformat_minor": 5
}
