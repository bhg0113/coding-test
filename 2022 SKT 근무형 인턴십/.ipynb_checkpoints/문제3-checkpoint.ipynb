{
 "cells": [
  {
   "cell_type": "code",
   "execution_count": null,
   "id": "88c8c59f",
   "metadata": {},
   "outputs": [],
   "source": [
    "def solution(n, plans, clients):\n",
    "    plan =[]\n",
    "    client=[]\n",
    "    s = []\n",
    "    answer = [0]*len(clients)\n",
    "    for p in plans: \n",
    "        s += p.split(' ')[1:] # 부가서비스가 추가되므로 \n",
    "        plan.append([p.split(' ')[0],s.copy()])\n",
    "    for c in clients:\n",
    "        client.append([c.split(' ')[0],c.split(' ')[1:]])\n",
    "\n",
    "    for i,c in enumerate(client): # 연산량 많아 줄일 필요 / 현재 break로만 줄임 \n",
    "        for p in plan:\n",
    "            if int(c[0]) <= int(p[0]): # 데이터 비교\n",
    "                add=True\n",
    "                for service in c[1]: # 부가서비스 비교\n",
    "                    if service not in p[1]:\n",
    "                        add=False\n",
    "                        break\n",
    "                if add ==True: \n",
    "                    answer[i] += plan.index(p)+1 # 요금제 번호\n",
    "                    break\n",
    "\n",
    "    return answer"
   ]
  }
 ],
 "metadata": {
  "kernelspec": {
   "display_name": "Python 3 (ipykernel)",
   "language": "python",
   "name": "python3"
  },
  "language_info": {
   "codemirror_mode": {
    "name": "ipython",
    "version": 3
   },
   "file_extension": ".py",
   "mimetype": "text/x-python",
   "name": "python",
   "nbconvert_exporter": "python",
   "pygments_lexer": "ipython3",
   "version": "3.8.12"
  },
  "toc": {
   "base_numbering": 1,
   "nav_menu": {},
   "number_sections": true,
   "sideBar": true,
   "skip_h1_title": true,
   "title_cell": "Table of Contents",
   "title_sidebar": "Contents",
   "toc_cell": false,
   "toc_position": {},
   "toc_section_display": true,
   "toc_window_display": false
  },
  "varInspector": {
   "cols": {
    "lenName": 16,
    "lenType": 16,
    "lenVar": 40
   },
   "kernels_config": {
    "python": {
     "delete_cmd_postfix": "",
     "delete_cmd_prefix": "del ",
     "library": "var_list.py",
     "varRefreshCmd": "print(var_dic_list())"
    },
    "r": {
     "delete_cmd_postfix": ") ",
     "delete_cmd_prefix": "rm(",
     "library": "var_list.r",
     "varRefreshCmd": "cat(var_dic_list()) "
    }
   },
   "types_to_exclude": [
    "module",
    "function",
    "builtin_function_or_method",
    "instance",
    "_Feature"
   ],
   "window_display": false
  }
 },
 "nbformat": 4,
 "nbformat_minor": 5
}
