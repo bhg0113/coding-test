{
 "cells": [
  {
   "cell_type": "code",
   "execution_count": null,
   "id": "7adf2bd1",
   "metadata": {},
   "outputs": [],
   "source": [
    "def solution(periods, payments, estimates):\n",
    "    answer = [0,0]\n",
    "    for i,p in enumerate(periods): # 기간별 vip 조건 할당 / 다음달이 되면서 기간별 조건도 변할 수 있음\n",
    "        if p <23: # 다음달 되어도 vip 불가능\n",
    "            continue\n",
    "        elif p ==23: # 다음달 2년 이상\n",
    "            need_pay = [10e8,900000] # 불가능, 가능\n",
    "        elif p >=24 and p <59: # 이번달, 다음달에도 2년이상 5년 미만\n",
    "            need_pay = [900000,900000]\n",
    "        elif p==59: # 다음달 5년이상\n",
    "            need_pay = [900000,600000]\n",
    "        else:\n",
    "            need_pay = [600000,600000]\n",
    "\n",
    "        this_pay = sum(payments[i]) # 지금까지 납부금액, 현재 기간\n",
    "        next_pay = sum(payments[i][1:])+estimates[i] # 다음달까지 납부금액, 다음달 기간\n",
    "        #print(need_pay,this_pay,next_pay)\n",
    "        if this_pay >= need_pay[0] and next_pay < need_pay[1]:\n",
    "           # 이번달은 vip이나 다음달 vip아닌 경우 \n",
    "            answer[1] +=1 \n",
    "        elif this_pay < need_pay[0] and next_pay >= need_pay[1]:\n",
    "            # 이번 달은 vip아니나 다음달 vip\n",
    "            answer[0] +=1\n",
    "\n",
    "    return answer"
   ]
  }
 ],
 "metadata": {
  "kernelspec": {
   "display_name": "Python 3 (ipykernel)",
   "language": "python",
   "name": "python3"
  },
  "language_info": {
   "codemirror_mode": {
    "name": "ipython",
    "version": 3
   },
   "file_extension": ".py",
   "mimetype": "text/x-python",
   "name": "python",
   "nbconvert_exporter": "python",
   "pygments_lexer": "ipython3",
   "version": "3.8.12"
  },
  "toc": {
   "base_numbering": 1,
   "nav_menu": {},
   "number_sections": true,
   "sideBar": true,
   "skip_h1_title": true,
   "title_cell": "Table of Contents",
   "title_sidebar": "Contents",
   "toc_cell": false,
   "toc_position": {},
   "toc_section_display": true,
   "toc_window_display": false
  },
  "varInspector": {
   "cols": {
    "lenName": 16,
    "lenType": 16,
    "lenVar": 40
   },
   "kernels_config": {
    "python": {
     "delete_cmd_postfix": "",
     "delete_cmd_prefix": "del ",
     "library": "var_list.py",
     "varRefreshCmd": "print(var_dic_list())"
    },
    "r": {
     "delete_cmd_postfix": ") ",
     "delete_cmd_prefix": "rm(",
     "library": "var_list.r",
     "varRefreshCmd": "cat(var_dic_list()) "
    }
   },
   "types_to_exclude": [
    "module",
    "function",
    "builtin_function_or_method",
    "instance",
    "_Feature"
   ],
   "window_display": false
  }
 },
 "nbformat": 4,
 "nbformat_minor": 5
}
