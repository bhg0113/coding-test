{
 "cells": [
  {
   "cell_type": "markdown",
   "id": "deba7234",
   "metadata": {},
   "source": [
    "https://velog.io/@suzieep/Algorithm-%EC%9D%B4%EC%BD%94%ED%85%8C-%EB%B6%80%ED%92%88-%EC%B0%BE%EA%B8%B0-%ED%8C%8C%EC%9D%B4%EC%8D%AC"
   ]
  },
  {
   "cell_type": "code",
   "execution_count": 2,
   "id": "8de92fd4",
   "metadata": {
    "ExecuteTime": {
     "end_time": "2022-07-15T10:42:44.870431Z",
     "start_time": "2022-07-15T10:42:32.782435Z"
    }
   },
   "outputs": [
    {
     "name": "stdout",
     "output_type": "stream",
     "text": [
      "5\n",
      "8 3 7 9 2\n",
      "3\n",
      "5 7 9\n"
     ]
    }
   ],
   "source": [
    "# 데이터 수는 각각 100만과 10만 이하,범위는 100만과 10억이하로\n",
    "# 각각 선형 탐색하면 O(N^2)으로 시간 초과 -> 이진탐색 필요\n",
    "\n",
    "n = int(input())\n",
    "arr1= list(map(int,input().split()))\n",
    "m = int(input())\n",
    "arr2= list(map(int,input().split()))"
   ]
  },
  {
   "cell_type": "code",
   "execution_count": 5,
   "id": "013ecc5f",
   "metadata": {
    "ExecuteTime": {
     "end_time": "2022-07-15T10:43:42.223440Z",
     "start_time": "2022-07-15T10:43:42.210437Z"
    }
   },
   "outputs": [
    {
     "name": "stdout",
     "output_type": "stream",
     "text": [
      "['NO', 'Yes', 'Yes'] "
     ]
    }
   ],
   "source": [
    "# 부품이 있으면 yes, 없으면 no\n",
    "#이진탐색 이용한 내 풀이\n",
    "def binary_search(array,target,start,end):\n",
    "    while start < end:\n",
    "        mid = (start+end)//2\n",
    "        if target == array[mid]:\n",
    "            return 'Yes'\n",
    "        elif target > array[mid]:\n",
    "            start = mid +1\n",
    "        else:\n",
    "            end = mid-1\n",
    "    return 'NO'\n",
    "\n",
    "arr1.sort() \n",
    "res = []\n",
    "for a in arr2:\n",
    "    res.append(binary_search(arr1,a,0,len(arr1)-1))\n",
    "print(res,end=' ')"
   ]
  },
  {
   "cell_type": "code",
   "execution_count": 7,
   "id": "8aa0bef2",
   "metadata": {
    "ExecuteTime": {
     "end_time": "2022-07-15T10:51:13.028151Z",
     "start_time": "2022-07-15T10:51:12.998147Z"
    }
   },
   "outputs": [
    {
     "name": "stdout",
     "output_type": "stream",
     "text": [
      "no yes yes "
     ]
    }
   ],
   "source": [
    "# 계수정렬로도 가능 (탐색하는 리스트의 범위가 100만 이하 이므로)\n",
    "array = [0]*1000000\n",
    "for i in arr1:\n",
    "    array[i] =1\n",
    "for i in arr2:\n",
    "    if array[i]==1:\n",
    "        print('yes',end=' ')\n",
    "    else:\n",
    "        print('no',end=' ')"
   ]
  },
  {
   "cell_type": "code",
   "execution_count": 8,
   "id": "b9c921de",
   "metadata": {
    "ExecuteTime": {
     "end_time": "2022-07-15T10:53:40.494150Z",
     "start_time": "2022-07-15T10:53:40.482147Z"
    }
   },
   "outputs": [
    {
     "name": "stdout",
     "output_type": "stream",
     "text": [
      "no yes yes "
     ]
    }
   ],
   "source": [
    "# set, in로도 가능 (단순히 등장여부 확인 이므로) set는 in으로 검사할때 매우 효과적 O(1) / list는 in 시 O(N)\n",
    "\n",
    "array = set(arr1)\n",
    "for i in arr2:\n",
    "    if i in array:\n",
    "        print('yes',end=' ')\n",
    "    else:\n",
    "        print('no',end=' ')\n"
   ]
  },
  {
   "cell_type": "code",
   "execution_count": null,
   "id": "0c66a419",
   "metadata": {},
   "outputs": [],
   "source": []
  }
 ],
 "metadata": {
  "kernelspec": {
   "display_name": "Python 3 (ipykernel)",
   "language": "python",
   "name": "python3"
  },
  "language_info": {
   "codemirror_mode": {
    "name": "ipython",
    "version": 3
   },
   "file_extension": ".py",
   "mimetype": "text/x-python",
   "name": "python",
   "nbconvert_exporter": "python",
   "pygments_lexer": "ipython3",
   "version": "3.8.12"
  },
  "toc": {
   "base_numbering": 1,
   "nav_menu": {},
   "number_sections": true,
   "sideBar": true,
   "skip_h1_title": true,
   "title_cell": "Table of Contents",
   "title_sidebar": "Contents",
   "toc_cell": false,
   "toc_position": {},
   "toc_section_display": true,
   "toc_window_display": false
  },
  "varInspector": {
   "cols": {
    "lenName": 16,
    "lenType": 16,
    "lenVar": 40
   },
   "kernels_config": {
    "python": {
     "delete_cmd_postfix": "",
     "delete_cmd_prefix": "del ",
     "library": "var_list.py",
     "varRefreshCmd": "print(var_dic_list())"
    },
    "r": {
     "delete_cmd_postfix": ") ",
     "delete_cmd_prefix": "rm(",
     "library": "var_list.r",
     "varRefreshCmd": "cat(var_dic_list()) "
    }
   },
   "types_to_exclude": [
    "module",
    "function",
    "builtin_function_or_method",
    "instance",
    "_Feature"
   ],
   "window_display": false
  }
 },
 "nbformat": 4,
 "nbformat_minor": 5
}
