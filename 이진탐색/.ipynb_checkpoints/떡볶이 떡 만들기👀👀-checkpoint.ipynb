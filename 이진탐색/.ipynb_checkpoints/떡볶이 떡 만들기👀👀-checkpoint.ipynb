{
 "cells": [
  {
   "cell_type": "markdown",
   "id": "f352a39d",
   "metadata": {},
   "source": [
    "https://velog.io/@qhsh866/%EC%9D%B4%EC%A7%84-%ED%83%90%EC%83%89-%EB%96%A1%EB%B3%B6%EC%9D%B4-%EB%96%A1-%EB%A7%8C%EB%93%A4%EA%B8%B0-Python"
   ]
  },
  {
   "cell_type": "code",
   "execution_count": 13,
   "id": "57e4c776",
   "metadata": {
    "ExecuteTime": {
     "end_time": "2022-07-15T13:51:34.977884Z",
     "start_time": "2022-07-15T13:51:19.266992Z"
    }
   },
   "outputs": [
    {
     "name": "stdout",
     "output_type": "stream",
     "text": [
      "4 6\n",
      "19 15 10 17\n"
     ]
    }
   ],
   "source": [
    "# n의 크기는 100만, m의 크기는 20억으로 이진탐색 필요, sys.stdin.readline()은 불필요\n",
    "n,m = map(int,input().split())\n",
    "arr = list(map(int,input().split()))\n"
   ]
  },
  {
   "cell_type": "code",
   "execution_count": 5,
   "id": "608a3193",
   "metadata": {
    "ExecuteTime": {
     "end_time": "2022-07-15T11:23:29.544501Z",
     "start_time": "2022-07-15T11:23:29.525489Z"
    }
   },
   "outputs": [],
   "source": [
    "# 이진탐색으로 h 위치 찾고 O(logN) / 여기서 부터 틀린 접근 h가 min(arr)보다 작으면 찾질 못하므로 \n",
    "# 위치 이후의 값들로 m 만족 여부 확인 O(N)\n",
    "# res.append\n",
    "arr.sort()\n",
    "def binary_search(array,target,start,end):\n",
    "    while start < end:\n",
    "        mid = (start+end)//2\n",
    "        if array[mid]== target:\n",
    "            return mid\n",
    "        elif array[mid] <target:\n",
    "            start=mid+1\n",
    "        else:\n",
    "            end = mid-1\n",
    "    return None\n",
    "\n",
    "res = []\n",
    "for i in range(max(arr)): \n",
    "    idx =  binary_search(arr,i,0,len(arr)-1)\n",
    "    if binary_search(arr,i,0,len(arr)-1) != None:\n",
    "        if sum(arr[idx:])-len(arr[idx:])*i >=m:\n",
    "            res.append(i)\n"
   ]
  },
  {
   "cell_type": "code",
   "execution_count": 6,
   "id": "b3bf0605",
   "metadata": {
    "ExecuteTime": {
     "end_time": "2022-07-15T11:23:30.150308Z",
     "start_time": "2022-07-15T11:23:30.143293Z"
    }
   },
   "outputs": [
    {
     "data": {
      "text/plain": [
       "[15]"
      ]
     },
     "execution_count": 6,
     "metadata": {},
     "output_type": "execute_result"
    }
   ],
   "source": [
    "res"
   ]
  },
  {
   "cell_type": "code",
   "execution_count": 18,
   "id": "1d524dcf",
   "metadata": {
    "ExecuteTime": {
     "end_time": "2022-07-15T13:58:03.051374Z",
     "start_time": "2022-07-15T13:58:03.041366Z"
    },
    "scrolled": true
   },
   "outputs": [
    {
     "data": {
      "text/plain": [
       "15"
      ]
     },
     "execution_count": 18,
     "metadata": {},
     "output_type": "execute_result"
    }
   ],
   "source": [
    "# 결과적으로 h의 범위가 너무 커서 안됨, h의 범위 자체를 이진탐색으로 줄여야 함\n",
    "# 탐색 값이 h이나 탐색 조건이 m\n",
    "# 예시답안 함수로 살짝 변형 \n",
    "res= 0\n",
    "def binary_search(array,start,end):\n",
    "    while start <= end:\n",
    "        total =0\n",
    "        mid = (start+end)//2 # mid가 h\n",
    "        for x in array:\n",
    "            if x > mid:\n",
    "                total +=x-mid\n",
    "        if total < m:\n",
    "            end = mid-1\n",
    "        else:\n",
    "            res = mid\n",
    "            start = mid+1\n",
    "    return res\n",
    "\n",
    "binary_search(arr,0,max(arr))"
   ]
  }
 ],
 "metadata": {
  "kernelspec": {
   "display_name": "Python 3 (ipykernel)",
   "language": "python",
   "name": "python3"
  },
  "language_info": {
   "codemirror_mode": {
    "name": "ipython",
    "version": 3
   },
   "file_extension": ".py",
   "mimetype": "text/x-python",
   "name": "python",
   "nbconvert_exporter": "python",
   "pygments_lexer": "ipython3",
   "version": "3.8.12"
  },
  "toc": {
   "base_numbering": 1,
   "nav_menu": {},
   "number_sections": true,
   "sideBar": true,
   "skip_h1_title": true,
   "title_cell": "Table of Contents",
   "title_sidebar": "Contents",
   "toc_cell": false,
   "toc_position": {},
   "toc_section_display": true,
   "toc_window_display": false
  },
  "varInspector": {
   "cols": {
    "lenName": 16,
    "lenType": 16,
    "lenVar": 40
   },
   "kernels_config": {
    "python": {
     "delete_cmd_postfix": "",
     "delete_cmd_prefix": "del ",
     "library": "var_list.py",
     "varRefreshCmd": "print(var_dic_list())"
    },
    "r": {
     "delete_cmd_postfix": ") ",
     "delete_cmd_prefix": "rm(",
     "library": "var_list.r",
     "varRefreshCmd": "cat(var_dic_list()) "
    }
   },
   "types_to_exclude": [
    "module",
    "function",
    "builtin_function_or_method",
    "instance",
    "_Feature"
   ],
   "window_display": false
  }
 },
 "nbformat": 4,
 "nbformat_minor": 5
}
