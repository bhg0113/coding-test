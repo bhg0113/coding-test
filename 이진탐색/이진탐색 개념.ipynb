{
 "cells": [
  {
   "cell_type": "markdown",
   "id": "72f72ea7",
   "metadata": {},
   "source": [
    "1.다른 알고리즘에서도 폭넓게 적용되는 원리와 비슷해 매우 중요\n",
    "2. 미리 암기해두기\n",
    "3. 탐색 범위가 2000만을 넘어가는 경우 접근해보기\n",
    " * 데이터 개수가 1000만을 넘어가면 O(logN)의 알고리즘 필요\n"
   ]
  },
  {
   "cell_type": "code",
   "execution_count": 5,
   "id": "1f4ea389",
   "metadata": {
    "ExecuteTime": {
     "end_time": "2022-07-15T10:00:49.983608Z",
     "start_time": "2022-07-15T10:00:49.970597Z"
    }
   },
   "outputs": [],
   "source": [
    "# 재귀 함수로 구현\n",
    "\n",
    "def binary_search(array,target,start,end):\n",
    "    if start>end:\n",
    "        return None\n",
    "    mid = (start+end)//2\n",
    "    if array[mid] ==target:\n",
    "        return mid\n",
    "    elif array[mid] > target:\n",
    "        binary_search(array,target,start,mid-1) # 예시에는 return이 있는데 어차피 결과로 mid를 내보이니 크게 의미x로 생각 \n",
    "    else:\n",
    "        binary_search(array,target,mid+1,end)\n",
    "    \n"
   ]
  },
  {
   "cell_type": "code",
   "execution_count": 7,
   "id": "29c5f544",
   "metadata": {
    "ExecuteTime": {
     "end_time": "2022-07-15T10:01:25.243236Z",
     "start_time": "2022-07-15T10:01:16.078492Z"
    }
   },
   "outputs": [
    {
     "name": "stdout",
     "output_type": "stream",
     "text": [
      "10 7\n",
      "1 3 5 7 9 11 13 15\n",
      "4\n"
     ]
    }
   ],
   "source": [
    "n, target = map(int,input().split())\n",
    "array = list(map(int,input().split()))\n",
    "result = binary_search(array,target,0,n-1)\n",
    "if result==None:\n",
    "    print('X')\n",
    "else:\n",
    "    print(result+1)"
   ]
  },
  {
   "cell_type": "code",
   "execution_count": null,
   "id": "a24f9986",
   "metadata": {},
   "outputs": [],
   "source": [
    "# 반복문으로 구현\n",
    "def binary_search(array,target,start,end):\n",
    "    while start<=end:\n",
    "        mid = (start+end)//2\n",
    "        if array[mid] ==target:\n",
    "            return mid\n",
    "        elif array[mid] > target:\n",
    "            end = mid-1# 예시에는 return이 있는데 어차피 결과로 mid를 내보이니 크게 의미x로 생각 \n",
    "        else:\n",
    "            start = mid+1\n",
    "    return None # 다 돌았는데 값없으면\n",
    "\n"
   ]
  },
  {
   "cell_type": "code",
   "execution_count": null,
   "id": "75c41fbf",
   "metadata": {},
   "outputs": [],
   "source": [
    "# 이진 탐색의 경우 임력 데이터가 많거나 범위가 넓은 편, 데이터 1000만개 이상, 범위 크기 1000억 이상인 경우 생가해보기\n",
    "# 이 경ㅇ우 input 함수가 느려 오답될 수 있음 -> sys의 readline() 사용\n",
    "import sys\n",
    "input_data = sys.stdin.readline().rstrip() # 한 줄마다 rstrip() 꼭 해야 함"
   ]
  }
 ],
 "metadata": {
  "kernelspec": {
   "display_name": "Python 3 (ipykernel)",
   "language": "python",
   "name": "python3"
  },
  "language_info": {
   "codemirror_mode": {
    "name": "ipython",
    "version": 3
   },
   "file_extension": ".py",
   "mimetype": "text/x-python",
   "name": "python",
   "nbconvert_exporter": "python",
   "pygments_lexer": "ipython3",
   "version": "3.8.13"
  },
  "toc": {
   "base_numbering": 1,
   "nav_menu": {},
   "number_sections": true,
   "sideBar": true,
   "skip_h1_title": true,
   "title_cell": "Table of Contents",
   "title_sidebar": "Contents",
   "toc_cell": false,
   "toc_position": {},
   "toc_section_display": true,
   "toc_window_display": false
  },
  "varInspector": {
   "cols": {
    "lenName": 16,
    "lenType": 16,
    "lenVar": 40
   },
   "kernels_config": {
    "python": {
     "delete_cmd_postfix": "",
     "delete_cmd_prefix": "del ",
     "library": "var_list.py",
     "varRefreshCmd": "print(var_dic_list())"
    },
    "r": {
     "delete_cmd_postfix": ") ",
     "delete_cmd_prefix": "rm(",
     "library": "var_list.r",
     "varRefreshCmd": "cat(var_dic_list()) "
    }
   },
   "types_to_exclude": [
    "module",
    "function",
    "builtin_function_or_method",
    "instance",
    "_Feature"
   ],
   "window_display": false
  }
 },
 "nbformat": 4,
 "nbformat_minor": 5
}
