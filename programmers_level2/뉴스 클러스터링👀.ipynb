{
 "cells": [
  {
   "cell_type": "code",
   "execution_count": 13,
   "id": "5d38a942",
   "metadata": {
    "ExecuteTime": {
     "end_time": "2022-05-01T06:20:56.862950Z",
     "start_time": "2022-05-01T06:20:56.840959Z"
    }
   },
   "outputs": [],
   "source": [
    "from collections import Counter\n",
    "\n",
    "def solution(str1, str2):\n",
    "    list1,list2 = [],[]\n",
    "    str1 = str1.lower()\n",
    "    str2 = str2.lower()\n",
    "    sim,u =0,0\n",
    "\n",
    "    for i in range(len(str1)-1): # 리스트 컴프리헨션으로 처리가능\n",
    "        if str1[i].isalpha() and str1[i+1].isalpha(): # str1[i:i+2]로 단순화 가능\n",
    "            list1.append(str1[i:i+2])\n",
    "    for i in range(len(str2)-1):\n",
    "        if str2[i].isalpha() and str2[i+1].isalpha():\n",
    "            list2.append(str2[i:i+2])\n",
    "        \n",
    "    c1 = Counter(list1)\n",
    "    c2 = Counter(list2)\n",
    "            \n",
    "    for k1,v1 in c1.items(): # 이렇게 하나씩 검색하여 넣는 것보다 아래처럼 교집합, 합집합 만들어 두고 진행하는 것이 좋아보임(코드 이해 간편)  \n",
    "        if k1 in c2:\n",
    "            u+= max(v1, c2[k1]) # str1을 기준으로 합집합은 max로\n",
    "            sim += min(v1, c2[k1]) #교집합은 min로\n",
    "        else:\n",
    "            u+=v1 # 나머지는 그냥 value 더하기               \n",
    "    for k2,v2 in c2.items(): #str2를 기준으로 차집합 부분 value 더해주기\n",
    "        if k2 not in c1:\n",
    "            u+= v2\n",
    "            \n",
    "    print(c1&c2, c1|c2)\n",
    "    try:\n",
    "        return int(sim/u*65536) \n",
    "    except: # 공집합인 경우 \n",
    "        return 65536\n",
    "    "
   ]
  },
  {
   "cell_type": "code",
   "execution_count": 6,
   "id": "73216493",
   "metadata": {
    "ExecuteTime": {
     "end_time": "2022-05-01T06:01:04.203064Z",
     "start_time": "2022-05-01T06:01:04.180046Z"
    }
   },
   "outputs": [],
   "source": [
    "import re\n",
    "import math\n",
    "\n",
    "def solution(str1, str2):\n",
    "    str1 = [str1[i:i+2].lower() for i in range(0, len(str1)-1) if not re.findall('[^a-zA-Z]+', str1[i:i+2])] # 첫 반복문을 이런식으로     \n",
    "    str2 = [str2[i:i+2].lower() for i in range(0, len(str2)-1) if not re.findall('[^a-zA-Z]+', str2[i:i+2])]\n",
    "\n",
    "    gyo = set(str1) & set(str2) # 먼저 교집합 및 합집합을 만들어 둠\n",
    "    hap = set(str1) | set(str2)\n",
    "\n",
    "    if len(hap) == 0 : # 여기서 미리 공집합 확인하여 처리 \n",
    "        return 65536\n",
    "\n",
    "    gyo_sum = sum([min(str1.count(gg), str2.count(gg)) for gg in gyo])\n",
    "    hap_sum = sum([max(str1.count(hh), str2.count(hh)) for hh in hap])\n",
    "\n",
    "    return math.floor((gyo_sum/hap_sum)*65536)"
   ]
  },
  {
   "cell_type": "code",
   "execution_count": 15,
   "id": "c28d14d0",
   "metadata": {
    "ExecuteTime": {
     "end_time": "2022-05-01T06:21:25.812558Z",
     "start_time": "2022-05-01T06:21:25.796574Z"
    }
   },
   "outputs": [
    {
     "name": "stdout",
     "output_type": "stream",
     "text": [
      "Counter({'aa': 2}) Counter({'aa': 3})\n"
     ]
    },
    {
     "data": {
      "text/plain": [
       "43690"
      ]
     },
     "execution_count": 15,
     "metadata": {},
     "output_type": "execute_result"
    }
   ],
   "source": [
    "solution('aa1+aa2','AAAA12')"
   ]
  },
  {
   "cell_type": "code",
   "execution_count": null,
   "id": "c66df39c",
   "metadata": {},
   "outputs": [],
   "source": [
    "def solution(str1, str2):\n",
    "\n",
    "    list1 = [str1[n:n+2].lower() for n in range(len(str1)-1) if str1[n:n+2].isalpha()]\n",
    "    list2 = [str2[n:n+2].lower() for n in range(len(str2)-1) if str2[n:n+2].isalpha()]\n",
    "\n",
    "    tlist = set(list1) | set(list2)\n",
    "    res1 = [] #합집합\n",
    "    res2 = [] #교집합\n",
    "\n",
    "    if tlist: # 공집합 처리 \n",
    "        for i in tlist:\n",
    "            res1.extend([i]*max(list1.count(i), list2.count(i)))\n",
    "            res2.extend([i]*min(list1.count(i), list2.count(i)))\n",
    "\n",
    "        answer = int(len(res2)/len(res1)*65536)\n",
    "        return answer\n",
    "\n",
    "    else:\n",
    "        return 65536"
   ]
  },
  {
   "cell_type": "code",
   "execution_count": null,
   "id": "c6fc29d4",
   "metadata": {},
   "outputs": [],
   "source": [
    "# 카운터 사용한 나랑 비슷한 풀이나 훨씬 간결\n",
    "from collections import Counter\n",
    "def solution(str1, str2):\n",
    "    # make sets\n",
    "    s1 = [str1[i:i+2].lower() for i in range(len(str1)-1) if str1[i:i+2].isalpha()]\n",
    "    s2 = [str2[i:i+2].lower() for i in range(len(str2)-1) if str2[i:i+2].isalpha()]\n",
    "    if not s1 and not s2:\n",
    "        return 65536\n",
    "    c1 = Counter(s1)\n",
    "    c2 = Counter(s2)\n",
    "    answer = int(float(sum((c1&c2).values()))/float(sum((c1|c2).values())) * 65536) # 카운터로 교집합 및 처리 봐둘 것 \n",
    "    return answer"
   ]
  }
 ],
 "metadata": {
  "kernelspec": {
   "display_name": "Python 3 (ipykernel)",
   "language": "python",
   "name": "python3"
  },
  "language_info": {
   "codemirror_mode": {
    "name": "ipython",
    "version": 3
   },
   "file_extension": ".py",
   "mimetype": "text/x-python",
   "name": "python",
   "nbconvert_exporter": "python",
   "pygments_lexer": "ipython3",
   "version": "3.8.12"
  },
  "toc": {
   "base_numbering": 1,
   "nav_menu": {},
   "number_sections": true,
   "sideBar": true,
   "skip_h1_title": true,
   "title_cell": "Table of Contents",
   "title_sidebar": "Contents",
   "toc_cell": false,
   "toc_position": {},
   "toc_section_display": true,
   "toc_window_display": false
  },
  "varInspector": {
   "cols": {
    "lenName": 16,
    "lenType": 16,
    "lenVar": 40
   },
   "kernels_config": {
    "python": {
     "delete_cmd_postfix": "",
     "delete_cmd_prefix": "del ",
     "library": "var_list.py",
     "varRefreshCmd": "print(var_dic_list())"
    },
    "r": {
     "delete_cmd_postfix": ") ",
     "delete_cmd_prefix": "rm(",
     "library": "var_list.r",
     "varRefreshCmd": "cat(var_dic_list()) "
    }
   },
   "types_to_exclude": [
    "module",
    "function",
    "builtin_function_or_method",
    "instance",
    "_Feature"
   ],
   "window_display": false
  }
 },
 "nbformat": 4,
 "nbformat_minor": 5
}
