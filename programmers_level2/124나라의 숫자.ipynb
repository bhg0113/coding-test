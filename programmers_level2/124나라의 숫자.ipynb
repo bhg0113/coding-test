{
 "cells": [
  {
   "cell_type": "code",
   "execution_count": 18,
   "id": "5784d872",
   "metadata": {
    "ExecuteTime": {
     "end_time": "2022-04-02T08:05:36.910012Z",
     "start_time": "2022-04-02T08:05:36.903008Z"
    }
   },
   "outputs": [],
   "source": [
    "# 내풀이 - 문제 이해 후 풀이까지 생각보다 오래걸림.. 속도는 모두 0.1이하로 매우 빠르나 용량이 10M로 꽤 높아 보임\n",
    "def solution(n):\n",
    "    answer=''\n",
    "    while n >=1:\n",
    "        d = n // 3\n",
    "        r = n % 3 # 1000까지 84 \n",
    "        #d, r = divmod(n-1, 3) # 1000까지 93 -> 속도는 오히려 조금 느리나(큰차이x) 한줄로 깔끔 \n",
    "        if r ==0: \n",
    "            d -= 1\n",
    "            r = 4\n",
    "        answer += str(r)\n",
    "        \n",
    "        n = d\n",
    "        \n",
    "    return answer[::-1] # 뒤집기 위함"
   ]
  },
  {
   "cell_type": "code",
   "execution_count": null,
   "id": "b0dec3a8",
   "metadata": {},
   "outputs": [],
   "source": [
    "# 재귀 사용한 풀이\n",
    "def solution(n):\n",
    "    if n<=3:\n",
    "        return '124'[n-1] # 인덱스이므로 -1\n",
    "    else:\n",
    "        q,r = divmod(n-1,3)\n",
    "        return solution(q)+'124'[r]"
   ]
  }
 ],
 "metadata": {
  "kernelspec": {
   "display_name": "Python 3 (ipykernel)",
   "language": "python",
   "name": "python3"
  },
  "language_info": {
   "codemirror_mode": {
    "name": "ipython",
    "version": 3
   },
   "file_extension": ".py",
   "mimetype": "text/x-python",
   "name": "python",
   "nbconvert_exporter": "python",
   "pygments_lexer": "ipython3",
   "version": "3.8.12"
  },
  "toc": {
   "base_numbering": 1,
   "nav_menu": {},
   "number_sections": true,
   "sideBar": true,
   "skip_h1_title": true,
   "title_cell": "Table of Contents",
   "title_sidebar": "Contents",
   "toc_cell": false,
   "toc_position": {},
   "toc_section_display": true,
   "toc_window_display": false
  },
  "varInspector": {
   "cols": {
    "lenName": 16,
    "lenType": 16,
    "lenVar": 40
   },
   "kernels_config": {
    "python": {
     "delete_cmd_postfix": "",
     "delete_cmd_prefix": "del ",
     "library": "var_list.py",
     "varRefreshCmd": "print(var_dic_list())"
    },
    "r": {
     "delete_cmd_postfix": ") ",
     "delete_cmd_prefix": "rm(",
     "library": "var_list.r",
     "varRefreshCmd": "cat(var_dic_list()) "
    }
   },
   "types_to_exclude": [
    "module",
    "function",
    "builtin_function_or_method",
    "instance",
    "_Feature"
   ],
   "window_display": false
  }
 },
 "nbformat": 4,
 "nbformat_minor": 5
}
