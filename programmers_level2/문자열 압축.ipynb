{
 "cells": [
  {
   "cell_type": "code",
   "execution_count": 2,
   "id": "d5c008e1",
   "metadata": {
    "ExecuteTime": {
     "end_time": "2022-04-08T16:27:22.426550Z",
     "start_time": "2022-04-08T16:27:22.410555Z"
    }
   },
   "outputs": [],
   "source": [
    "# 테스트 케이스 5 질문 참조 \"a\"인 경우  \n",
    "def solution(s):\n",
    "    answer = 10e3\n",
    "    for l in range(1,len(s)//2+2): # 자르는 단위 개수\n",
    "        n=0 # n 초기화\n",
    "        tmp =[] # 각 개수마다 초기화\n",
    "        while n <= len(s): # n씩 s 잘라 넣기 위해 \n",
    "            tmp.append(s[n:n+l])\n",
    "            n+=l\n",
    "        if tmp[-1] == '': # 맨 뒤에 ''생기는 경우 제거\n",
    "            tmp= tmp[:-1]\n",
    "        #  lengths = Counter(tmp).most_common()# -> 붙어 있지 않은 것도 합쳐 버림 \n",
    "        \n",
    "        length=i=0\n",
    "        while i < len(tmp)-1: # 같은 것끼리 묶음  ~~ 주로 타 풀이에선 추가 변수 count 사용하여 처리\n",
    "            if tmp[i][:l]== tmp[i+1]:\n",
    "                tmp[i] += tmp.pop(i+1)\n",
    "            else:\n",
    "                i+=1\n",
    "       \n",
    "        for i,_ in enumerate(tmp):\n",
    "            if len(tmp[i]) > l:\n",
    "                length += l + len(str(len(tmp[i])//l)) # 질문하기 참조(반복이 두 자리 이상 되는 경우 있음)\n",
    "            else: \n",
    "                length += len(tmp[i]) \n",
    "        if length <= answer:\n",
    "            answer = length\n",
    "    return answer"
   ]
  },
  {
   "cell_type": "code",
   "execution_count": 3,
   "id": "36b568de",
   "metadata": {
    "ExecuteTime": {
     "end_time": "2022-04-08T16:27:29.637118Z",
     "start_time": "2022-04-08T16:27:29.624115Z"
    }
   },
   "outputs": [
    {
     "data": {
      "text/plain": [
       "1"
      ]
     },
     "execution_count": 3,
     "metadata": {},
     "output_type": "execute_result"
    }
   ],
   "source": [
    "solution('a')"
   ]
  },
  {
   "cell_type": "code",
   "execution_count": 3,
   "id": "581e286d",
   "metadata": {
    "ExecuteTime": {
     "end_time": "2022-04-10T10:53:14.317865Z",
     "start_time": "2022-04-10T10:53:14.299862Z"
    }
   },
   "outputs": [],
   "source": [
    "# 파이써닉한 풀이\n",
    "def compress(text, tok_len): # 압축함술 따로 만듦 \n",
    "    words = [text[i:i+tok_len] for i in range(0, len(text), tok_len)] # 단위개수마다 text 자름 \n",
    "    res = []\n",
    "    cur_word = words[0]\n",
    "    cur_cnt = 1\n",
    "    for a, b in zip(words, words[1:] + ['']): # 한 칸씩 차이나게 하여 비교 \n",
    "        if a == b:\n",
    "            cur_cnt += 1\n",
    "        else:\n",
    "            res.append([cur_word, cur_cnt]) # 현재 문자열, 반복 개수 리스트로 넣음\n",
    "            cur_word = b # 다음 문자열\n",
    "            cur_cnt = 1\n",
    "    return sum(len(word) + (len(str(cnt)) if cnt > 1 else 0) for word, cnt in res) # 이 부분은 비슷\n",
    "\n",
    "def solution(text): \n",
    "    return min(compress(text, tok_len) for tok_len in list(range(1, int(len(text)/2) + 1)) + [len(text)]) # 여기에서 단위 개수 만큼 반복하기"
   ]
  },
  {
   "cell_type": "code",
   "execution_count": 8,
   "id": "8e7db84d",
   "metadata": {
    "ExecuteTime": {
     "end_time": "2022-04-10T11:01:15.675017Z",
     "start_time": "2022-04-10T11:01:15.657997Z"
    }
   },
   "outputs": [
    {
     "data": {
      "text/plain": [
       "7"
      ]
     },
     "execution_count": 8,
     "metadata": {},
     "output_type": "execute_result"
    }
   ],
   "source": [
    "solution(\"aabbaccc\")"
   ]
  },
  {
   "cell_type": "code",
   "execution_count": 12,
   "id": "b8b536ba",
   "metadata": {
    "ExecuteTime": {
     "end_time": "2022-04-10T11:01:46.272141Z",
     "start_time": "2022-04-10T11:01:46.251120Z"
    }
   },
   "outputs": [],
   "source": [
    "# 내 풀이랑 결은 비슷하지만 간략한 풀이\n",
    "def solution(s):\n",
    "    answer = len(s)\n",
    "    for x in range(1, int(len(s)/2)+1):\n",
    "        d = 0\n",
    "        comp = ''\n",
    "        c = 1\n",
    "        for i in range(0, len(s), x): # 단위 개수 늘려가며 처리, 압축 for 한번으로 처리\n",
    "            temp = s[i:i+x]\n",
    "            if comp == temp:\n",
    "                c += 1\n",
    "            elif comp != temp:\n",
    "                d += len(temp)\n",
    "                if c > 1:\n",
    "                    d += len(\"{}\".format(c))\n",
    "                c = 1\n",
    "                comp = temp\n",
    "        if c > 1:\n",
    "            #d += len(\"{}\".format(c)) # int(str(c))와 결과 같음 / 함수처리가 아니라 포맷팅이라 그런지 속도 약간 더 빠름\n",
    "        answer = min(answer, d)\n",
    "    return answer"
   ]
  },
  {
   "cell_type": "code",
   "execution_count": 6,
   "id": "4c399a48",
   "metadata": {
    "ExecuteTime": {
     "end_time": "2022-04-10T11:00:05.999499Z",
     "start_time": "2022-04-10T11:00:05.983514Z"
    }
   },
   "outputs": [
    {
     "data": {
      "text/plain": [
       "'3'"
      ]
     },
     "execution_count": 6,
     "metadata": {},
     "output_type": "execute_result"
    }
   ],
   "source": [
    "\"{}\".format(3)"
   ]
  },
  {
   "cell_type": "code",
   "execution_count": 13,
   "id": "2bcf5751",
   "metadata": {
    "ExecuteTime": {
     "end_time": "2022-04-10T11:01:48.971941Z",
     "start_time": "2022-04-10T11:01:48.958938Z"
    }
   },
   "outputs": [
    {
     "name": "stdout",
     "output_type": "stream",
     "text": [
      "7\n",
      "9\n",
      "8\n",
      "14\n",
      "17\n",
      "2\n"
     ]
    }
   ],
   "source": [
    "a = [\n",
    "    \"aabbaccc\",\n",
    "    \"ababcdcdababcdcd\",\n",
    "    \"abcabcdede\",\n",
    "    \"abcabcabcabcdededededede\",\n",
    "    \"xababcdcdababcdcd\",\n",
    "\n",
    "    'aaaaaa',\n",
    "]\n",
    "\n",
    "for x in a:\n",
    "    print(solution(x))"
   ]
  },
  {
   "cell_type": "markdown",
   "id": "d1ec1ab7",
   "metadata": {},
   "source": [
    "22.08.26 재풀이 (이코테 출제)"
   ]
  },
  {
   "cell_type": "code",
   "execution_count": 4,
   "id": "f4cccaf5",
   "metadata": {
    "ExecuteTime": {
     "end_time": "2022-08-26T01:41:55.958094Z",
     "start_time": "2022-08-26T01:41:55.949096Z"
    }
   },
   "outputs": [],
   "source": [
    "# 1차 테케 만족 \n",
    "def solution(s):\n",
    "    res = 1e6  # 최소길이 초기화\n",
    "    s = s+' '\n",
    "    for i in range(1,len(s)//2+1): # 자르는 단위 :1 ~ 절반\n",
    "        string=''\n",
    "        cnt = 1 # 중복 초기화\n",
    "        for j in range(0,len(s),i): # 문자열 자르기\n",
    "            tmp = s[j:j+i] #i 길이만큼 인덱싱\n",
    "            if tmp == s[j-i:j] : # 이전이랑 같으면\n",
    "                cnt +=1 # 중복 수 증가 \n",
    "            else:\n",
    "                string = str(cnt)+'.' + string # 중복 횟수 추가하기\n",
    "                string +=tmp\n",
    "                cnt=1\n",
    "        string = string.replace('1','')[:-1] # 중복 없으면 제거, 2이상은 중복인 것 \n",
    "        if len(string) <res: # 단위별 길이가 현재 길이보다 작으면 갱신\n",
    "            res = len(string)\n",
    "    \n",
    "    return res\n",
    "\n",
    "# 70점인데 질문하기 보니 10, 100 등의 반복에서도 1이 지워져 나타나는 문제 "
   ]
  },
  {
   "cell_type": "code",
   "execution_count": 7,
   "id": "c8702196",
   "metadata": {
    "ExecuteTime": {
     "end_time": "2022-08-26T01:47:17.936146Z",
     "start_time": "2022-08-26T01:47:17.917142Z"
    }
   },
   "outputs": [],
   "source": [
    "# 수정 풀이 \n",
    "def solution(s):\n",
    "    if len(s) == 1: # 테케 5 \n",
    "        return 1\n",
    "    res = 1e6  # 최소길이 초기화\n",
    "    s = s\n",
    "    for i in range(1,len(s)//2+1): # 자르는 단위 :1 ~ 절반\n",
    "        string=''\n",
    "        cnt = 1 # 중복 초기화\n",
    "        for j in range(0,len(s),i): # 문자열 자르기\n",
    "            tmp = s[j:j+i] #i 길이만큼 인덱싱\n",
    "            if tmp == s[j+i:j+2*i] : # 다음이랑 같으면\n",
    "                cnt +=1 # 중복 수 증가 \n",
    "            elif cnt !=1:\n",
    "                string += str(cnt) +tmp  # 중복 횟수 추가하기\n",
    "                cnt=1\n",
    "            else: # 중복이 1일 때는 문자열에 넣지 않음\n",
    "                string +=tmp\n",
    "        if len(string) <res: # 단위별 길이가 현재 길이보다 작으면 갱신\n",
    "            res = len(string)\n",
    "    \n",
    "    return res"
   ]
  },
  {
   "cell_type": "code",
   "execution_count": 13,
   "id": "2a2f8d1e",
   "metadata": {
    "ExecuteTime": {
     "end_time": "2022-08-26T02:19:03.402245Z",
     "start_time": "2022-08-26T02:19:03.385242Z"
    }
   },
   "outputs": [
    {
     "name": "stdout",
     "output_type": "stream",
     "text": [
      "x\n"
     ]
    },
    {
     "data": {
      "text/plain": [
       "1"
      ]
     },
     "execution_count": 13,
     "metadata": {},
     "output_type": "execute_result"
    }
   ],
   "source": [
    "solution(\"x\")"
   ]
  },
  {
   "cell_type": "code",
   "execution_count": null,
   "id": "88341754",
   "metadata": {},
   "outputs": [],
   "source": []
  }
 ],
 "metadata": {
  "kernelspec": {
   "display_name": "Python 3 (ipykernel)",
   "language": "python",
   "name": "python3"
  },
  "language_info": {
   "codemirror_mode": {
    "name": "ipython",
    "version": 3
   },
   "file_extension": ".py",
   "mimetype": "text/x-python",
   "name": "python",
   "nbconvert_exporter": "python",
   "pygments_lexer": "ipython3",
   "version": "3.8.13"
  },
  "toc": {
   "base_numbering": 1,
   "nav_menu": {},
   "number_sections": true,
   "sideBar": true,
   "skip_h1_title": true,
   "title_cell": "Table of Contents",
   "title_sidebar": "Contents",
   "toc_cell": false,
   "toc_position": {},
   "toc_section_display": true,
   "toc_window_display": false
  },
  "varInspector": {
   "cols": {
    "lenName": 16,
    "lenType": 16,
    "lenVar": 40
   },
   "kernels_config": {
    "python": {
     "delete_cmd_postfix": "",
     "delete_cmd_prefix": "del ",
     "library": "var_list.py",
     "varRefreshCmd": "print(var_dic_list())"
    },
    "r": {
     "delete_cmd_postfix": ") ",
     "delete_cmd_prefix": "rm(",
     "library": "var_list.r",
     "varRefreshCmd": "cat(var_dic_list()) "
    }
   },
   "types_to_exclude": [
    "module",
    "function",
    "builtin_function_or_method",
    "instance",
    "_Feature"
   ],
   "window_display": false
  }
 },
 "nbformat": 4,
 "nbformat_minor": 5
}
