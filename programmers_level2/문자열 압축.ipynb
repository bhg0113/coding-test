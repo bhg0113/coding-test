{
 "cells": [
  {
   "cell_type": "code",
   "execution_count": 2,
   "id": "d5c008e1",
   "metadata": {
    "ExecuteTime": {
     "end_time": "2022-04-08T16:27:22.426550Z",
     "start_time": "2022-04-08T16:27:22.410555Z"
    }
   },
   "outputs": [],
   "source": [
    "# 테스트 케이스 5 질문 참조 \"a\"인 경우  \n",
    "def solution(s):\n",
    "    answer = 10e3\n",
    "    for l in range(1,len(s)//2+2): # 자르는 단위 개수\n",
    "        n=0 # n 초기화\n",
    "        tmp =[] # 각 개수마다 초기화\n",
    "        while n <= len(s): # n씩 s 잘라 넣기 위해 \n",
    "            tmp.append(s[n:n+l])\n",
    "            n+=l\n",
    "        if tmp[-1] == '':\n",
    "            tmp= tmp[:-1]\n",
    "        #  lengths = Counter(tmp).most_common()# -> 붙어 있지 않은 것도 합쳐 버림 \n",
    "        \n",
    "        length=i=0\n",
    "        while i < len(tmp)-1: # 같은 것끼리 묶음 \n",
    "            if tmp[i][:l]== tmp[i+1]:\n",
    "                tmp[i] += tmp.pop(i+1)\n",
    "            else:\n",
    "                i+=1\n",
    "       \n",
    "        for i,_ in enumerate(tmp):\n",
    "            if len(tmp[i]) > l:\n",
    "                length += l + len(str(len(tmp[i])//l)) # 질문하기 참조\n",
    "            else: \n",
    "                length += len(tmp[i]) \n",
    "        if length <= answer:\n",
    "            answer = length\n",
    "    return answer"
   ]
  },
  {
   "cell_type": "code",
   "execution_count": 3,
   "id": "36b568de",
   "metadata": {
    "ExecuteTime": {
     "end_time": "2022-04-08T16:27:29.637118Z",
     "start_time": "2022-04-08T16:27:29.624115Z"
    }
   },
   "outputs": [
    {
     "data": {
      "text/plain": [
       "1"
      ]
     },
     "execution_count": 3,
     "metadata": {},
     "output_type": "execute_result"
    }
   ],
   "source": [
    "solution('a')"
   ]
  },
  {
   "cell_type": "code",
   "execution_count": null,
   "id": "581e286d",
   "metadata": {},
   "outputs": [],
   "source": []
  }
 ],
 "metadata": {
  "kernelspec": {
   "display_name": "Python 3 (ipykernel)",
   "language": "python",
   "name": "python3"
  },
  "language_info": {
   "codemirror_mode": {
    "name": "ipython",
    "version": 3
   },
   "file_extension": ".py",
   "mimetype": "text/x-python",
   "name": "python",
   "nbconvert_exporter": "python",
   "pygments_lexer": "ipython3",
   "version": "3.8.12"
  },
  "toc": {
   "base_numbering": 1,
   "nav_menu": {},
   "number_sections": true,
   "sideBar": true,
   "skip_h1_title": true,
   "title_cell": "Table of Contents",
   "title_sidebar": "Contents",
   "toc_cell": false,
   "toc_position": {},
   "toc_section_display": true,
   "toc_window_display": false
  },
  "varInspector": {
   "cols": {
    "lenName": 16,
    "lenType": 16,
    "lenVar": 40
   },
   "kernels_config": {
    "python": {
     "delete_cmd_postfix": "",
     "delete_cmd_prefix": "del ",
     "library": "var_list.py",
     "varRefreshCmd": "print(var_dic_list())"
    },
    "r": {
     "delete_cmd_postfix": ") ",
     "delete_cmd_prefix": "rm(",
     "library": "var_list.r",
     "varRefreshCmd": "cat(var_dic_list()) "
    }
   },
   "types_to_exclude": [
    "module",
    "function",
    "builtin_function_or_method",
    "instance",
    "_Feature"
   ],
   "window_display": false
  }
 },
 "nbformat": 4,
 "nbformat_minor": 5
}
