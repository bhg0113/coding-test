{
 "cells": [
  {
   "cell_type": "code",
   "execution_count": 15,
   "id": "a8b05575",
   "metadata": {
    "ExecuteTime": {
     "end_time": "2022-04-13T10:52:39.871671Z",
     "start_time": "2022-04-13T10:52:39.859678Z"
    }
   },
   "outputs": [],
   "source": [
    "# 시간 초과 \n",
    "# 반복문은 while하나지만 i가 초기화되면서 O(n2)이 되나봄\n",
    "def solution(s):\n",
    "    s=list(s)\n",
    "    i=0  \n",
    "    while i<len(s)-1:\n",
    "        print(s,i)\n",
    "        if len(s)%2==0 and s[i]==s[i+1]:\n",
    "            del s[i:i+2]\n",
    "            i=0\n",
    "        else:\n",
    "            i+=1\n",
    "    return 1 if len(s)==0 else 0"
   ]
  },
  {
   "cell_type": "code",
   "execution_count": 32,
   "id": "3b722a30",
   "metadata": {
    "ExecuteTime": {
     "end_time": "2022-04-13T11:44:23.538538Z",
     "start_time": "2022-04-13T11:44:23.523976Z"
    }
   },
   "outputs": [
    {
     "data": {
      "text/plain": [
       "1"
      ]
     },
     "execution_count": 32,
     "metadata": {},
     "output_type": "execute_result"
    }
   ],
   "source": [
    "solution('baabaa')"
   ]
  },
  {
   "cell_type": "code",
   "execution_count": 31,
   "id": "b028d46f",
   "metadata": {
    "ExecuteTime": {
     "end_time": "2022-04-13T11:44:22.314651Z",
     "start_time": "2022-04-13T11:44:22.308650Z"
    }
   },
   "outputs": [],
   "source": [
    "# 질문하기 참조 -> 배열을 따로 만들어 push, pop 진행\n",
    "# 효율성 테스트까지 바로 통과 -> 하나로 잘 안될땐 추가 구조 만들어보는 것 생각해보기\n",
    "def solution(s):\n",
    "    res = [0]\n",
    "    for i in s:\n",
    "        if i != res[-1]:\n",
    "            res.append(i)\n",
    "        else:\n",
    "            res.pop(-1)\n",
    "    return 1 if len(res)==1 else 0"
   ]
  },
  {
   "cell_type": "code",
   "execution_count": null,
   "id": "db1baf1b",
   "metadata": {},
   "outputs": [],
   "source": []
  },
  {
   "cell_type": "code",
   "execution_count": null,
   "id": "a7b939a7",
   "metadata": {},
   "outputs": [],
   "source": []
  }
 ],
 "metadata": {
  "kernelspec": {
   "display_name": "Python 3 (ipykernel)",
   "language": "python",
   "name": "python3"
  },
  "language_info": {
   "codemirror_mode": {
    "name": "ipython",
    "version": 3
   },
   "file_extension": ".py",
   "mimetype": "text/x-python",
   "name": "python",
   "nbconvert_exporter": "python",
   "pygments_lexer": "ipython3",
   "version": "3.8.12"
  },
  "toc": {
   "base_numbering": 1,
   "nav_menu": {},
   "number_sections": true,
   "sideBar": true,
   "skip_h1_title": true,
   "title_cell": "Table of Contents",
   "title_sidebar": "Contents",
   "toc_cell": false,
   "toc_position": {},
   "toc_section_display": true,
   "toc_window_display": false
  },
  "varInspector": {
   "cols": {
    "lenName": 16,
    "lenType": 16,
    "lenVar": 40
   },
   "kernels_config": {
    "python": {
     "delete_cmd_postfix": "",
     "delete_cmd_prefix": "del ",
     "library": "var_list.py",
     "varRefreshCmd": "print(var_dic_list())"
    },
    "r": {
     "delete_cmd_postfix": ") ",
     "delete_cmd_prefix": "rm(",
     "library": "var_list.r",
     "varRefreshCmd": "cat(var_dic_list()) "
    }
   },
   "types_to_exclude": [
    "module",
    "function",
    "builtin_function_or_method",
    "instance",
    "_Feature"
   ],
   "window_display": false
  }
 },
 "nbformat": 4,
 "nbformat_minor": 5
}
