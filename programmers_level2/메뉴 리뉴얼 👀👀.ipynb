{
 "cells": [
  {
   "cell_type": "code",
   "execution_count": 17,
   "id": "f1d987d1",
   "metadata": {
    "ExecuteTime": {
     "end_time": "2022-04-04T13:59:41.092725Z",
     "start_time": "2022-04-04T13:59:41.079723Z"
    }
   },
   "outputs": [],
   "source": [
    "from itertools import combinations\n",
    "from collections import Counter\n",
    "\n",
    "def solution(orders, course):\n",
    "    answer =[]\n",
    "    for c in course: # 코스 개수마다\n",
    "        comb = []\n",
    "        for order in orders: # 주문확인\n",
    "            l = list(combinations(''.join(sorted(order)),c)) # 주문들로 코스 개수마다 조합 생성,각 문자열들도 정렬해줘야 함(조합이 달라지므로) \n",
    "            for i in l:\n",
    "                comb.append(''.join(i)) # 각 조합들을 'AB'와 같은 문자열 형태로 이력\n",
    "\n",
    "        count = Counter(comb) # 조합들 counter에 넣어 몇번 나왔는지 확인\n",
    "        try:\n",
    "            a = max(count.values()) # 값이 없는 경우도 있으므로 \n",
    "            for c in count.items(): \n",
    "                if c[1]==a and c[1]>=2: # max가 1인 경우 코스 메뉴로 선정되지 않도록 \n",
    "                    answer.append(c[0]) # 가장 많이 나온 메뉴 확인\n",
    "        except:\n",
    "            pass\n",
    "\n",
    "    return sorted(answer) # 전체 결과를 정렬\n"
   ]
  },
  {
   "cell_type": "code",
   "execution_count": 8,
   "id": "f992e3ac",
   "metadata": {
    "ExecuteTime": {
     "end_time": "2022-04-04T13:53:18.273466Z",
     "start_time": "2022-04-04T13:53:18.253448Z"
    }
   },
   "outputs": [
    {
     "data": {
      "text/plain": [
       "['AC', 'CDE', 'BCFG', 'ACDE']"
      ]
     },
     "execution_count": 8,
     "metadata": {},
     "output_type": "execute_result"
    }
   ],
   "source": [
    "solution([\"ABCFG\", \"AC\", \"CDE\", \"ACDE\", \"BCFG\", \"ACDEH\"],[2,3,4])"
   ]
  },
  {
   "cell_type": "code",
   "execution_count": 9,
   "id": "ef82409f",
   "metadata": {
    "ExecuteTime": {
     "end_time": "2022-04-04T13:54:17.972476Z",
     "start_time": "2022-04-04T13:54:17.967486Z"
    }
   },
   "outputs": [
    {
     "data": {
      "text/plain": [
       "['AD', 'CD', 'ACD', 'ADE', 'XYZ', 'ABCDE']"
      ]
     },
     "execution_count": 9,
     "metadata": {},
     "output_type": "execute_result"
    }
   ],
   "source": [
    "solution([\"ABCDE\", \"AB\", \"CD\", \"ADE\", \"XYZ\", \"XYZ\", \"ACD\"],[2,3,5])"
   ]
  },
  {
   "cell_type": "code",
   "execution_count": 18,
   "id": "499f83af",
   "metadata": {
    "ExecuteTime": {
     "end_time": "2022-04-04T13:59:51.546242Z",
     "start_time": "2022-04-04T13:59:51.525310Z"
    }
   },
   "outputs": [
    {
     "name": "stdout",
     "output_type": "stream",
     "text": [
      "['XY', 'XZ', 'YZ']\n",
      "['XY', 'XZ', 'YZ', 'XW', 'XY', 'WY']\n",
      "['XY', 'XZ', 'YZ', 'XW', 'XY', 'WY', 'WX', 'WA', 'XA']\n",
      "Counter({'XY': 2, 'XZ': 1, 'YZ': 1, 'XW': 1, 'WY': 1, 'WX': 1, 'WA': 1, 'XA': 1})\n",
      "['XYZ']\n",
      "['XYZ', 'XWY']\n",
      "['XYZ', 'XWY', 'WXA']\n",
      "Counter({'XYZ': 1, 'XWY': 1, 'WXA': 1})\n",
      "[]\n",
      "[]\n",
      "[]\n",
      "Counter()\n"
     ]
    },
    {
     "data": {
      "text/plain": [
       "['XY']"
      ]
     },
     "execution_count": 18,
     "metadata": {},
     "output_type": "execute_result"
    }
   ],
   "source": [
    "solution([\"XYZ\", \"XWY\", \"WXA\"],[2,3,4])"
   ]
  },
  {
   "cell_type": "code",
   "execution_count": null,
   "id": "c8379b2a",
   "metadata": {},
   "outputs": [],
   "source": []
  }
 ],
 "metadata": {
  "kernelspec": {
   "display_name": "Python 3 (ipykernel)",
   "language": "python",
   "name": "python3"
  },
  "language_info": {
   "codemirror_mode": {
    "name": "ipython",
    "version": 3
   },
   "file_extension": ".py",
   "mimetype": "text/x-python",
   "name": "python",
   "nbconvert_exporter": "python",
   "pygments_lexer": "ipython3",
   "version": "3.8.12"
  },
  "toc": {
   "base_numbering": 1,
   "nav_menu": {},
   "number_sections": true,
   "sideBar": true,
   "skip_h1_title": true,
   "title_cell": "Table of Contents",
   "title_sidebar": "Contents",
   "toc_cell": false,
   "toc_position": {},
   "toc_section_display": true,
   "toc_window_display": false
  },
  "varInspector": {
   "cols": {
    "lenName": 16,
    "lenType": 16,
    "lenVar": 40
   },
   "kernels_config": {
    "python": {
     "delete_cmd_postfix": "",
     "delete_cmd_prefix": "del ",
     "library": "var_list.py",
     "varRefreshCmd": "print(var_dic_list())"
    },
    "r": {
     "delete_cmd_postfix": ") ",
     "delete_cmd_prefix": "rm(",
     "library": "var_list.r",
     "varRefreshCmd": "cat(var_dic_list()) "
    }
   },
   "types_to_exclude": [
    "module",
    "function",
    "builtin_function_or_method",
    "instance",
    "_Feature"
   ],
   "window_display": false
  }
 },
 "nbformat": 4,
 "nbformat_minor": 5
}
