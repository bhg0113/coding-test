{
 "cells": [
  {
   "cell_type": "code",
   "execution_count": 2,
   "id": "15c1321e",
   "metadata": {
    "ExecuteTime": {
     "end_time": "2022-04-05T17:20:59.212337Z",
     "start_time": "2022-04-05T17:20:59.186828Z"
    }
   },
   "outputs": [],
   "source": [
    "# 다리 길이가 각 트럭마다 적용이 되어야 함 -> 앞차는 얼마나 지났고, 뒷차는 얼마나 지났는지 각각의 값 필요\n",
    "# 각 차의 무게와 시간을 딕셔너리 형태로 만들어도 좋을 듯 \n",
    "def solution(bridge_length, weight, truck_weights):\n",
    "    bridge_time = []\n",
    "    on_bridge=[]\n",
    "    time = 0\n",
    "    while (len(truck_weights) !=0) or (len(on_bridge) != 0): \n",
    "        time +=1 \n",
    "        if len(on_bridge) !=0 and bridge_time[0] >=bridge_length:\n",
    "            bridge_time.pop(0)\n",
    "            on_bridge.pop(0)\n",
    "            \n",
    "        if len(truck_weights) !=0 and sum(on_bridge) + truck_weights[0] <= weight:\n",
    "            on_bridge.append(truck_weights.pop(0))\n",
    "            bridge_time.append(0)\n",
    "            \n",
    "        bridge_time = [b+1 for b in bridge_time]\n",
    "\n",
    "    return time"
   ]
  },
  {
   "cell_type": "code",
   "execution_count": null,
   "id": "955f1dae",
   "metadata": {},
   "outputs": [],
   "source": []
  }
 ],
 "metadata": {
  "kernelspec": {
   "display_name": "Python 3 (ipykernel)",
   "language": "python",
   "name": "python3"
  },
  "language_info": {
   "codemirror_mode": {
    "name": "ipython",
    "version": 3
   },
   "file_extension": ".py",
   "mimetype": "text/x-python",
   "name": "python",
   "nbconvert_exporter": "python",
   "pygments_lexer": "ipython3",
   "version": "3.8.12"
  },
  "toc": {
   "base_numbering": 1,
   "nav_menu": {},
   "number_sections": true,
   "sideBar": true,
   "skip_h1_title": true,
   "title_cell": "Table of Contents",
   "title_sidebar": "Contents",
   "toc_cell": false,
   "toc_position": {},
   "toc_section_display": true,
   "toc_window_display": false
  },
  "varInspector": {
   "cols": {
    "lenName": 16,
    "lenType": 16,
    "lenVar": 40
   },
   "kernels_config": {
    "python": {
     "delete_cmd_postfix": "",
     "delete_cmd_prefix": "del ",
     "library": "var_list.py",
     "varRefreshCmd": "print(var_dic_list())"
    },
    "r": {
     "delete_cmd_postfix": ") ",
     "delete_cmd_prefix": "rm(",
     "library": "var_list.r",
     "varRefreshCmd": "cat(var_dic_list()) "
    }
   },
   "types_to_exclude": [
    "module",
    "function",
    "builtin_function_or_method",
    "instance",
    "_Feature"
   ],
   "window_display": false
  }
 },
 "nbformat": 4,
 "nbformat_minor": 5
}
