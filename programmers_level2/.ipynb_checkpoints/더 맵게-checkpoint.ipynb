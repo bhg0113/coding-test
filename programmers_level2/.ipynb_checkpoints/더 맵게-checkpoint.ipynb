{
 "cells": [
  {
   "cell_type": "code",
   "execution_count": 53,
   "id": "77ad014e",
   "metadata": {
    "ExecuteTime": {
     "end_time": "2022-03-04T01:42:22.929394Z",
     "start_time": "2022-03-04T01:42:22.911648Z"
    }
   },
   "outputs": [],
   "source": [
    "# 테스트케이스만 성공, 정확도 33점 정도... \n",
    "def solution(scoville, K):\n",
    "    scoville.sort()\n",
    "    count=0\n",
    "    while scoville[0] < K:\n",
    "        if count > len(scoville): # 스코빌 길이가 줄어들기때문에 수정필요\n",
    "            count = -1 # 그냥 return으로 가능\n",
    "            break\n",
    "        count+=1\n",
    "        scoville[1] = scoville[0] + scoville[1]*2\n",
    "        scoville.pop(0)\n",
    "        scoville.sort()\n",
    "\n",
    "\n",
    "    return count"
   ]
  },
  {
   "cell_type": "code",
   "execution_count": 68,
   "id": "f0baf8d2",
   "metadata": {
    "ExecuteTime": {
     "end_time": "2022-03-04T02:13:32.751698Z",
     "start_time": "2022-03-04T02:13:32.738696Z"
    }
   },
   "outputs": [],
   "source": [
    "# 개선안 참조 풀이\n",
    "def solution(scoville, K): \n",
    "    cnt=0  \n",
    "    while True:\n",
    "        scoville.sort()\n",
    "        if scoville[0]>=K:\n",
    "            break\n",
    "        elif len(scoville)==1:\n",
    "            return -1\n",
    "        else:\n",
    "            mix=scoville.pop(0)+scoville.pop(0)*2\n",
    "            scoville.append(mix)\n",
    "            cnt+=1\n",
    "\n",
    "    return cnt"
   ]
  },
  {
   "cell_type": "code",
   "execution_count": 73,
   "id": "5c1ad914",
   "metadata": {
    "ExecuteTime": {
     "end_time": "2022-03-04T02:21:44.795983Z",
     "start_time": "2022-03-04T02:21:44.779951Z"
    }
   },
   "outputs": [],
   "source": [
    "# 내풀이 개선안, 그러나 효율성 문제로 heapq 적용 필요 \n",
    "def solution(scoville, K):\n",
    "    scoville.sort()\n",
    "    count=0\n",
    "    while scoville[0] < K:\n",
    "        if len(scoville)==1: # while에 따라 하나있는 값이 K보다 작기에\n",
    "            return -1 \n",
    "        else:\n",
    "            scoville[1] = scoville[0] + scoville[1]*2\n",
    "            scoville.pop(0)\n",
    "            count+=1\n",
    "        scoville.sort()\n",
    "    return count\n"
   ]
  },
  {
   "cell_type": "code",
   "execution_count": 85,
   "id": "53ab0dc0",
   "metadata": {
    "ExecuteTime": {
     "end_time": "2022-03-04T07:49:34.379995Z",
     "start_time": "2022-03-04T07:49:34.364990Z"
    }
   },
   "outputs": [],
   "source": [
    "# heap 참고\n",
    "import heapq\n",
    "\n",
    "def solution(scoville, K):\n",
    "    scoville.sort()\n",
    "    heapq.heapify(scoville)\n",
    "    answer = 0\n",
    "    while scoville[0] <= K:\n",
    "        if len(scoville) ==1:\n",
    "            return -1\n",
    "        a = heapq.heappop(scoville)\n",
    "        b = heapq.heappop(scoville)\n",
    "        heapq.heappush(scoville,a+b*2)\n",
    "        answer +=1\n",
    "    return answer"
   ]
  },
  {
   "cell_type": "code",
   "execution_count": 97,
   "id": "78000f36",
   "metadata": {
    "ExecuteTime": {
     "end_time": "2022-03-04T08:19:39.419994Z",
     "start_time": "2022-03-04T08:19:39.395955Z"
    }
   },
   "outputs": [
    {
     "ename": "IndexError",
     "evalue": "deque index out of range",
     "output_type": "error",
     "traceback": [
      "\u001b[1;31m---------------------------------------------------------------------------\u001b[0m",
      "\u001b[1;31mIndexError\u001b[0m                                Traceback (most recent call last)",
      "\u001b[1;32m~\\AppData\\Local\\Temp/ipykernel_6684/1503324076.py\u001b[0m in \u001b[0;36m<module>\u001b[1;34m\u001b[0m\n\u001b[1;32m----> 1\u001b[1;33m \u001b[0msolution\u001b[0m\u001b[1;33m(\u001b[0m\u001b[1;33m[\u001b[0m\u001b[1;36m1\u001b[0m\u001b[1;33m,\u001b[0m \u001b[1;36m2\u001b[0m\u001b[1;33m,\u001b[0m \u001b[1;36m3\u001b[0m\u001b[1;33m,\u001b[0m \u001b[1;36m9\u001b[0m\u001b[1;33m,\u001b[0m \u001b[1;36m10\u001b[0m\u001b[1;33m,\u001b[0m \u001b[1;36m12\u001b[0m\u001b[1;33m]\u001b[0m\u001b[1;33m,\u001b[0m\u001b[1;36m7\u001b[0m\u001b[1;33m)\u001b[0m\u001b[1;33m\u001b[0m\u001b[1;33m\u001b[0m\u001b[0m\n\u001b[0m",
      "\u001b[1;32m~\\AppData\\Local\\Temp/ipykernel_6684/1713572197.py\u001b[0m in \u001b[0;36msolution\u001b[1;34m(scoville, K)\u001b[0m\n\u001b[0;32m      6\u001b[0m     \u001b[0mmixed_que\u001b[0m \u001b[1;33m=\u001b[0m \u001b[0mdeque\u001b[0m\u001b[1;33m(\u001b[0m\u001b[1;33m)\u001b[0m\u001b[1;33m\u001b[0m\u001b[1;33m\u001b[0m\u001b[0m\n\u001b[0;32m      7\u001b[0m     \u001b[0manswer\u001b[0m \u001b[1;33m=\u001b[0m \u001b[1;36m0\u001b[0m\u001b[1;33m\u001b[0m\u001b[1;33m\u001b[0m\u001b[0m\n\u001b[1;32m----> 8\u001b[1;33m     \u001b[1;32mwhile\u001b[0m \u001b[0mmixed_que\u001b[0m\u001b[1;33m[\u001b[0m\u001b[1;36m0\u001b[0m\u001b[1;33m]\u001b[0m \u001b[1;33m<=\u001b[0m \u001b[0mK\u001b[0m\u001b[1;33m:\u001b[0m\u001b[1;33m\u001b[0m\u001b[1;33m\u001b[0m\u001b[0m\n\u001b[0m\u001b[0;32m      9\u001b[0m         \u001b[1;32mif\u001b[0m \u001b[0mlen\u001b[0m\u001b[1;33m(\u001b[0m\u001b[0mque\u001b[0m\u001b[1;33m)\u001b[0m\u001b[1;33m==\u001b[0m\u001b[1;36m1\u001b[0m\u001b[1;33m:\u001b[0m\u001b[1;33m\u001b[0m\u001b[1;33m\u001b[0m\u001b[0m\n\u001b[0;32m     10\u001b[0m             \u001b[1;32mreturn\u001b[0m \u001b[1;33m-\u001b[0m\u001b[1;36m1\u001b[0m\u001b[1;33m\u001b[0m\u001b[1;33m\u001b[0m\u001b[0m\n",
      "\u001b[1;31mIndexError\u001b[0m: deque index out of range"
     ]
    }
   ],
   "source": [
    "solution([1, 2, 3, 9, 10, 12],7)"
   ]
  },
  {
   "cell_type": "markdown",
   "id": "4a93ab54",
   "metadata": {},
   "source": [
    "풀이 댓글 중 참고할 만한 내용 - queue만 써서 풀었는데도 시간이 heap을 쓴 풀이의 절반, 섞어서 나온 새로운 값, mix들을 별도의 queue에 넣었는데 이게 가장 큰 요인. \n",
    "나중에 나온 mix값이 먼저 나온 것보다 클 수밖에 없어서 섞는 순서대로 queue에 넣어주면 크기 고려X. 그냥 popleft로 꺼내면 무조건 mix값의 최소\n",
    "-> 이를 구현해 보기\n",
    "\n",
    "\n",
    "리스트도 queue지만 pop()연산의 시간 복잡도가 O(N)이기에 효율성에 적합 X, 무작위 자료접근에 최적화\n",
    "from collections import deque : double-ended queue의 약자로 양방향에서 데이터 처리가능, 입력 및 삭제에 O(1)의 속도, 자료 접근에는 성능좋지 않음 \n",
    "from queue import Queue : 방향성 없는 deque로 일반적인 queue, 성능은 deque와 같으나 FIFO만 처리가능 ~ 일반적으로 deque를 사용하는 듯"
   ]
  },
  {
   "cell_type": "code",
   "execution_count": null,
   "id": "4f87c7e0",
   "metadata": {},
   "outputs": [],
   "source": [
    "# 구현 참조 풀이\n",
    "from collections import deque\n",
    "\n",
    "def solution(scoville, K):\n",
    "    answer = 0 \n",
    "    mix = deque()\n",
    "    scoville.sort()\n",
    "    sco = deque(scoville) # 원 풀이는 deque(i for i in scoville) -> 시간 단축시킴 \n",
    "    \n",
    "    while (sco and sco[0] < K) or (mix and mix[0] < K): # 왜 sco , mix가 필요한지? -> 처음엔 초기화, arr[0]을 확인하려면 값이 있어야 하므로 \n",
    "        answer += 1\n",
    "        if len(sco) + len(mix) <= 1: # sco, mix 모두에서 값이 빠져나가므로\n",
    "            return -1\n",
    "        \n",
    "        food = [0]*2\n",
    "        for a in range(2):\n",
    "            if sco and mix: # 이렇게 조건을 각각 나눔 \n",
    "                if sco[0] < mix[0]:\n",
    "                    food[a] = sco.popleft()\n",
    "                else:\n",
    "                    food[a] = mix.popleft()\n",
    "            elif sco:\n",
    "                food[a] = sco.popleft()\n",
    "            else:\n",
    "                food[a] = mix.popleft()\n",
    "            \n",
    "        mix.append(food[0]+food[1]*2)\n",
    "        \n",
    "    return answer"
   ]
  },
  {
   "cell_type": "code",
   "execution_count": 100,
   "id": "e8d4f0be",
   "metadata": {
    "ExecuteTime": {
     "end_time": "2022-03-04T08:53:07.227660Z",
     "start_time": "2022-03-04T08:53:07.219659Z"
    }
   },
   "outputs": [],
   "source": [
    "# 따라치며 이해\n",
    "from collections import deque\n",
    "\n",
    "def solution(scoville, K):\n",
    "    answer =0\n",
    "    mixed_que = deque()\n",
    "    scoville.sort()\n",
    "    que = deque(scoville)\n",
    "    \n",
    "    while (que and que[0] < K) or (mixed_que and mixed_que[0] <K):\n",
    "        answer +=1\n",
    "        if len(que) + len(mixed_que) <=1:\n",
    "            return -1\n",
    "        \n",
    "        tmp = [0]*2\n",
    "        for i in range(2):\n",
    "            if que and mixed_que:\n",
    "                if que[0] < mixed_que[0]:\n",
    "                    tmp[i] = que.popleft()\n",
    "                else:\n",
    "                    tmp[i] = mixed_que.popleft()\n",
    "            elif que:\n",
    "                tmp[i] = que.popleft()\n",
    "            else:\n",
    "                tmp[i] = mixed_que.popleft()\n",
    "        mixed_que.append(tmp[0]+ 2*tmp[1])\n",
    "    return answer \n"
   ]
  },
  {
   "cell_type": "code",
   "execution_count": null,
   "id": "1cc10b5c",
   "metadata": {},
   "outputs": [],
   "source": []
  }
 ],
 "metadata": {
  "kernelspec": {
   "display_name": "Python 3 (ipykernel)",
   "language": "python",
   "name": "python3"
  },
  "language_info": {
   "codemirror_mode": {
    "name": "ipython",
    "version": 3
   },
   "file_extension": ".py",
   "mimetype": "text/x-python",
   "name": "python",
   "nbconvert_exporter": "python",
   "pygments_lexer": "ipython3",
   "version": "3.8.12"
  },
  "toc": {
   "base_numbering": 1,
   "nav_menu": {},
   "number_sections": true,
   "sideBar": true,
   "skip_h1_title": true,
   "title_cell": "Table of Contents",
   "title_sidebar": "Contents",
   "toc_cell": false,
   "toc_position": {},
   "toc_section_display": true,
   "toc_window_display": false
  },
  "varInspector": {
   "cols": {
    "lenName": 16,
    "lenType": 16,
    "lenVar": 40
   },
   "kernels_config": {
    "python": {
     "delete_cmd_postfix": "",
     "delete_cmd_prefix": "del ",
     "library": "var_list.py",
     "varRefreshCmd": "print(var_dic_list())"
    },
    "r": {
     "delete_cmd_postfix": ") ",
     "delete_cmd_prefix": "rm(",
     "library": "var_list.r",
     "varRefreshCmd": "cat(var_dic_list()) "
    }
   },
   "types_to_exclude": [
    "module",
    "function",
    "builtin_function_or_method",
    "instance",
    "_Feature"
   ],
   "window_display": false
  }
 },
 "nbformat": 4,
 "nbformat_minor": 5
}
