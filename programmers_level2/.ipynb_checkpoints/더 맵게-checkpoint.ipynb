{
 "cells": [
  {
   "cell_type": "code",
   "execution_count": 53,
   "id": "0028e86e",
   "metadata": {
    "ExecuteTime": {
     "end_time": "2022-03-04T01:42:22.929394Z",
     "start_time": "2022-03-04T01:42:22.911648Z"
    }
   },
   "outputs": [],
   "source": [
    "# 테스트케이스만 성공, 정확도 33점 정도... \n",
    "def solution(scoville, K):\n",
    "    scoville.sort()\n",
    "    count=0\n",
    "    while scoville[0] < K:\n",
    "        count+=1\n",
    "        scoville[1] = scoville[0] + scoville[1]*2\n",
    "        scoville.pop(0)\n",
    "        scoville.sort()\n",
    "        if count > len(scoville):\n",
    "            count = -1\n",
    "            break\n",
    "\n",
    "    return count"
   ]
  },
  {
   "cell_type": "code",
   "execution_count": 60,
   "id": "090effd0",
   "metadata": {
    "ExecuteTime": {
     "end_time": "2022-03-04T01:51:06.673062Z",
     "start_time": "2022-03-04T01:51:06.663066Z"
    }
   },
   "outputs": [],
   "source": [
    "# 내 풀이 개선안\n",
    "def solution(scoville, K): \n",
    "    cnt=0\n",
    "    scoville.sort()\n",
    "    while scoville[0] >= K:\n",
    "        if len(scoville)==1:\n",
    "            return -1\n",
    "        else:\n",
    "            mix=scoville.pop(0)+scoville.pop(0)*2\n",
    "            scoville.append(mix)\n",
    "            cnt+=1\n",
    "        scoville.sort()\n",
    "    return cnt"
   ]
  },
  {
   "cell_type": "code",
   "execution_count": 59,
   "id": "f75adea7",
   "metadata": {
    "ExecuteTime": {
     "end_time": "2022-03-04T01:51:00.507515Z",
     "start_time": "2022-03-04T01:51:00.490207Z"
    }
   },
   "outputs": [],
   "source": [
    "# 개선안 참조 풀이\n",
    "def solution(scoville, K): \n",
    "    cnt=0  \n",
    "    while True:\n",
    "        scoville.sort()\n",
    "        if scoville[0]>=K:\n",
    "            break\n",
    "        elif len(scoville)==1:\n",
    "            return -1\n",
    "        else:\n",
    "            mix=scoville.pop(0)+scoville.pop(0)*2\n",
    "            scoville.append(mix)\n",
    "            cnt+=1\n",
    "\n",
    "    return cnt"
   ]
  },
  {
   "cell_type": "code",
   "execution_count": 54,
   "id": "d621dd18",
   "metadata": {
    "ExecuteTime": {
     "end_time": "2022-03-04T01:42:23.601159Z",
     "start_time": "2022-03-04T01:42:23.588163Z"
    }
   },
   "outputs": [
    {
     "data": {
      "text/plain": [
       "-1"
      ]
     },
     "execution_count": 54,
     "metadata": {},
     "output_type": "execute_result"
    }
   ],
   "source": [
    "solution([1, 2, 3, 9, 10, 12], 300)"
   ]
  },
  {
   "cell_type": "code",
   "execution_count": 55,
   "id": "0f3189c4",
   "metadata": {
    "ExecuteTime": {
     "end_time": "2022-03-04T01:46:03.514666Z",
     "start_time": "2022-03-04T01:46:03.503644Z"
    }
   },
   "outputs": [],
   "source": [
    "import heapq\n",
    "\n",
    "def solution(scoville, K):\n",
    "    scoville.sort()\n",
    "    heapq.heapify(scoville)\n",
    "    answer = 0\n",
    "\n",
    "    while scoville[0] <= K:\n",
    "        if len(scoville) == 1:\n",
    "            return -1\n",
    "        a=heapq.heappop(scoville)\n",
    "        b=heapq.heappop(scoville)\n",
    "        heapq.heappush(scoville,a+b*2)\n",
    "\n",
    "        answer += 1\n",
    "\n",
    "    return answer"
   ]
  },
  {
   "cell_type": "code",
   "execution_count": 62,
   "id": "1cf01541",
   "metadata": {
    "ExecuteTime": {
     "end_time": "2022-03-04T02:12:57.970868Z",
     "start_time": "2022-03-04T02:12:57.960870Z"
    }
   },
   "outputs": [],
   "source": [
    "a = [1, 2, 3, 9, 10, 12]"
   ]
  },
  {
   "cell_type": "code",
   "execution_count": null,
   "id": "63957f3c",
   "metadata": {},
   "outputs": [],
   "source": []
  },
  {
   "cell_type": "code",
   "execution_count": null,
   "id": "3fca195c",
   "metadata": {},
   "outputs": [],
   "source": []
  }
 ],
 "metadata": {
  "kernelspec": {
   "display_name": "Python 3 (ipykernel)",
   "language": "python",
   "name": "python3"
  },
  "language_info": {
   "codemirror_mode": {
    "name": "ipython",
    "version": 3
   },
   "file_extension": ".py",
   "mimetype": "text/x-python",
   "name": "python",
   "nbconvert_exporter": "python",
   "pygments_lexer": "ipython3",
   "version": "3.8.12"
  },
  "toc": {
   "base_numbering": 1,
   "nav_menu": {},
   "number_sections": true,
   "sideBar": true,
   "skip_h1_title": true,
   "title_cell": "Table of Contents",
   "title_sidebar": "Contents",
   "toc_cell": false,
   "toc_position": {},
   "toc_section_display": true,
   "toc_window_display": false
  },
  "varInspector": {
   "cols": {
    "lenName": 16,
    "lenType": 16,
    "lenVar": 40
   },
   "kernels_config": {
    "python": {
     "delete_cmd_postfix": "",
     "delete_cmd_prefix": "del ",
     "library": "var_list.py",
     "varRefreshCmd": "print(var_dic_list())"
    },
    "r": {
     "delete_cmd_postfix": ") ",
     "delete_cmd_prefix": "rm(",
     "library": "var_list.r",
     "varRefreshCmd": "cat(var_dic_list()) "
    }
   },
   "types_to_exclude": [
    "module",
    "function",
    "builtin_function_or_method",
    "instance",
    "_Feature"
   ],
   "window_display": false
  }
 },
 "nbformat": 4,
 "nbformat_minor": 5
}
