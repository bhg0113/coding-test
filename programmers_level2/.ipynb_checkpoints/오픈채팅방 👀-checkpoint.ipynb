{
 "cells": [
  {
   "cell_type": "code",
   "execution_count": 9,
   "id": "f67600b5",
   "metadata": {
    "ExecuteTime": {
     "end_time": "2022-03-03T00:25:05.324365Z",
     "start_time": "2022-03-03T00:25:05.314364Z"
    }
   },
   "outputs": [],
   "source": [
    "def solution(record):\n",
    "    answer=[]\n",
    "    logs = [r.split(' ') for r in record]\n",
    "    id_dict = {log[1]:log[2] for log in logs if len(log)==3} # 딕셔너리가 알아서 최신로그에 맞게 수정됨(추가되는 것 X)\n",
    "    # Leave가 있기 때문에 len으로 조건줌 \n",
    "    print(logs)\n",
    "    print(id_dict)\n",
    "    for log in logs:\n",
    "        print(answer)\n",
    "        if log[0] == 'Enter':\n",
    "            answer.append(id_dict[log[1]]+\"님이 들어왔습니다.\")\n",
    "        elif log[0] == 'Leave':\n",
    "            answer.append(id_dict[log[1]]+\"님이 나갔습니다.\")\n",
    "        else: # change\n",
    "            pass\n",
    "    \n",
    "    return answer"
   ]
  },
  {
   "cell_type": "code",
   "execution_count": 10,
   "id": "416d8416",
   "metadata": {
    "ExecuteTime": {
     "end_time": "2022-03-03T00:25:05.536059Z",
     "start_time": "2022-03-03T00:25:05.524050Z"
    }
   },
   "outputs": [
    {
     "name": "stdout",
     "output_type": "stream",
     "text": [
      "[['Enter', 'uid1234', 'Muzi'], ['Enter', 'uid4567', 'Prodo'], ['Leave', 'uid1234'], ['Enter', 'uid1234', 'Prodo'], ['Change', 'uid4567', 'Ryan']]\n",
      "{'uid1234': 'Prodo', 'uid4567': 'Ryan'}\n",
      "[]\n",
      "['Prodo님이 들어왔습니다.']\n",
      "['Prodo님이 들어왔습니다.', 'Ryan님이 들어왔습니다.']\n",
      "['Prodo님이 들어왔습니다.', 'Ryan님이 들어왔습니다.', 'Prodo님이 나갔습니다.']\n",
      "['Prodo님이 들어왔습니다.', 'Ryan님이 들어왔습니다.', 'Prodo님이 나갔습니다.', 'Prodo님이 들어왔습니다.']\n"
     ]
    },
    {
     "data": {
      "text/plain": [
       "['Prodo님이 들어왔습니다.', 'Ryan님이 들어왔습니다.', 'Prodo님이 나갔습니다.', 'Prodo님이 들어왔습니다.']"
      ]
     },
     "execution_count": 10,
     "metadata": {},
     "output_type": "execute_result"
    }
   ],
   "source": [
    "solution([\"Enter uid1234 Muzi\", \"Enter uid4567 Prodo\",\"Leave uid1234\",\"Enter uid1234 Prodo\",\"Change uid4567 Ryan\"])"
   ]
  },
  {
   "cell_type": "code",
   "execution_count": null,
   "id": "e8942d61",
   "metadata": {},
   "outputs": [],
   "source": [
    "# 참고풀이\n",
    "def solution(record):\n",
    "    logs = [r.split(' ') for r in record]\n",
    "    udb = {log[1]:log[2] for log in logs if len(log)==3}\n",
    "\n",
    "    return [udb[log[1]]+'님이 들어왔습니다.' if log[0] == 'Enter' else  udb[log[1]]+'님이 나갔습니다.' for log in logs if log[0] !='Change']"
   ]
  }
 ],
 "metadata": {
  "kernelspec": {
   "display_name": "Python 3 (ipykernel)",
   "language": "python",
   "name": "python3"
  },
  "language_info": {
   "codemirror_mode": {
    "name": "ipython",
    "version": 3
   },
   "file_extension": ".py",
   "mimetype": "text/x-python",
   "name": "python",
   "nbconvert_exporter": "python",
   "pygments_lexer": "ipython3",
   "version": "3.8.12"
  },
  "toc": {
   "base_numbering": 1,
   "nav_menu": {},
   "number_sections": true,
   "sideBar": true,
   "skip_h1_title": true,
   "title_cell": "Table of Contents",
   "title_sidebar": "Contents",
   "toc_cell": false,
   "toc_position": {},
   "toc_section_display": true,
   "toc_window_display": false
  },
  "varInspector": {
   "cols": {
    "lenName": 16,
    "lenType": 16,
    "lenVar": 40
   },
   "kernels_config": {
    "python": {
     "delete_cmd_postfix": "",
     "delete_cmd_prefix": "del ",
     "library": "var_list.py",
     "varRefreshCmd": "print(var_dic_list())"
    },
    "r": {
     "delete_cmd_postfix": ") ",
     "delete_cmd_prefix": "rm(",
     "library": "var_list.r",
     "varRefreshCmd": "cat(var_dic_list()) "
    }
   },
   "types_to_exclude": [
    "module",
    "function",
    "builtin_function_or_method",
    "instance",
    "_Feature"
   ],
   "window_display": false
  }
 },
 "nbformat": 4,
 "nbformat_minor": 5
}
