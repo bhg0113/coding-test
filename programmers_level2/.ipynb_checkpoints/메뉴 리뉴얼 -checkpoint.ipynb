{
 "cells": [
  {
   "cell_type": "code",
   "execution_count": 42,
   "id": "f1d987d1",
   "metadata": {
    "ExecuteTime": {
     "end_time": "2022-04-04T14:38:52.426983Z",
     "start_time": "2022-04-04T14:38:52.412982Z"
    }
   },
   "outputs": [],
   "source": [
    "from itertools import combinations\n",
    "from collections import Counter\n",
    "\n",
    "def solution(orders, course):\n",
    "    answer =[]\n",
    "    for c in course: # 코스 개수마다\n",
    "        comb = []\n",
    "        for order in orders: # 주문확인\n",
    "            l = list(combinations(''.join(sorted(order)),c)) # 주문들로 코스 개수마다 조합 생성,각 문자열들도 정렬해줘야 함(조합이 달라지므로) \n",
    "            for i in l:\n",
    "                comb.append(''.join(i)) # 각 조합들을 'AB'와 같은 문자열 형태로 -> Counter에 넣기위해 / 튜플도 들어감 \n",
    "\n",
    "        count = Counter(comb) # 조합들 counter에 넣어 몇번 나왔는지 확인\n",
    "        try:\n",
    "            a = max(count.values()) # 값이 없는 경우도 있으므로 \n",
    "            for c in count.items(): \n",
    "                if c[1]==a and c[1]>=2: # max가 1인 경우 코스 메뉴로 선정되지 않도록 \n",
    "                    answer.append(c[0]) # 가장 많이 나온 메뉴 확인\n",
    "            # answer += [k for k,v in count.items() if v>=2 and v==a] #위와 동일한 처리\n",
    "        except:\n",
    "            pass\n",
    "\n",
    "    return sorted(answer) # 전체 결과를 정렬\n"
   ]
  },
  {
   "cell_type": "code",
   "execution_count": 43,
   "id": "499f83af",
   "metadata": {
    "ExecuteTime": {
     "end_time": "2022-04-04T14:38:52.623238Z",
     "start_time": "2022-04-04T14:38:52.605235Z"
    }
   },
   "outputs": [
    {
     "name": "stdout",
     "output_type": "stream",
     "text": [
      "dict_items([('XY', 2), ('XZ', 1), ('YZ', 1), ('WX', 2), ('WY', 1), ('AW', 1), ('AX', 1)])\n",
      "dict_items([('XYZ', 1), ('WXY', 1), ('AWX', 1)])\n",
      "dict_items([])\n"
     ]
    },
    {
     "data": {
      "text/plain": [
       "['WX', 'XY']"
      ]
     },
     "execution_count": 43,
     "metadata": {},
     "output_type": "execute_result"
    }
   ],
   "source": [
    "solution([\"XYZ\", \"XWY\", \"WXA\"],[2,3,4])"
   ]
  },
  {
   "cell_type": "code",
   "execution_count": 11,
   "id": "c8379b2a",
   "metadata": {
    "ExecuteTime": {
     "end_time": "2022-04-04T14:12:03.497087Z",
     "start_time": "2022-04-04T14:12:03.485102Z"
    }
   },
   "outputs": [],
   "source": [
    "# 내 풀이 깔끔하게 정리 됨\n",
    "import collections\n",
    "import itertools\n",
    "\n",
    "def solution(orders, course):\n",
    "    result = []\n",
    "\n",
    "    for course_size in course:\n",
    "        order_combinations = []\n",
    "        for order in orders:\n",
    "            order_combinations += itertools.combinations(sorted(order), course_size) # 훨씬 간략한 코드\n",
    "            # 프로그래머스 상에서 튜플은 Counter에 들어가지 않는다고 했는데...?\n",
    "\n",
    "        most_ordered = collections.Counter(order_combinations).most_common() # value 큰 순으로 정렬 \n",
    "        result += [ k for k, v in most_ordered if v > 1 and v == most_ordered[0][1] ] # list comprehension으로 처리 \n",
    "\n",
    "    return [ ''.join(v) for v in sorted(result) ] # 여기서 문자열로 만들고 정렬"
   ]
  },
  {
   "cell_type": "code",
   "execution_count": null,
   "id": "4c99c11c",
   "metadata": {},
   "outputs": [],
   "source": []
  }
 ],
 "metadata": {
  "kernelspec": {
   "display_name": "Python 3 (ipykernel)",
   "language": "python",
   "name": "python3"
  },
  "language_info": {
   "codemirror_mode": {
    "name": "ipython",
    "version": 3
   },
   "file_extension": ".py",
   "mimetype": "text/x-python",
   "name": "python",
   "nbconvert_exporter": "python",
   "pygments_lexer": "ipython3",
   "version": "3.8.12"
  },
  "toc": {
   "base_numbering": 1,
   "nav_menu": {},
   "number_sections": true,
   "sideBar": true,
   "skip_h1_title": true,
   "title_cell": "Table of Contents",
   "title_sidebar": "Contents",
   "toc_cell": false,
   "toc_position": {},
   "toc_section_display": true,
   "toc_window_display": false
  },
  "varInspector": {
   "cols": {
    "lenName": 16,
    "lenType": 16,
    "lenVar": 40
   },
   "kernels_config": {
    "python": {
     "delete_cmd_postfix": "",
     "delete_cmd_prefix": "del ",
     "library": "var_list.py",
     "varRefreshCmd": "print(var_dic_list())"
    },
    "r": {
     "delete_cmd_postfix": ") ",
     "delete_cmd_prefix": "rm(",
     "library": "var_list.r",
     "varRefreshCmd": "cat(var_dic_list()) "
    }
   },
   "types_to_exclude": [
    "module",
    "function",
    "builtin_function_or_method",
    "instance",
    "_Feature"
   ],
   "window_display": false
  }
 },
 "nbformat": 4,
 "nbformat_minor": 5
}
