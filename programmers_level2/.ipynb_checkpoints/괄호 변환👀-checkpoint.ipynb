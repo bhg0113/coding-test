{
 "cells": [
  {
   "cell_type": "code",
   "execution_count": 131,
   "id": "48f91dd1",
   "metadata": {
    "ExecuteTime": {
     "end_time": "2022-04-24T10:13:24.318148Z",
     "start_time": "2022-04-24T10:13:24.296150Z"
    }
   },
   "outputs": [],
   "source": [
    "# v에 대해 재귀적으로 돌리는 부분이 문제\n",
    "# 재귀 이해 필요\n",
    "def flip(string):\n",
    "    for i,v in string:\n",
    "        if string[i]=='(':\n",
    "            string[i] = ')'\n",
    "        else:\n",
    "            string[i] = '('\n",
    "    return string\n",
    "def correct(string): \n",
    "    for i, v in enumerate(string):\n",
    "        if string[:i].count('(') < string[:i].count(')'): \n",
    "            return False\n",
    "        else:\n",
    "            return True \n",
    "def divide_uv(p): # 균형잡힌 문자열을 구분으로 u,v로 나눔\n",
    "    for i in range(1,len(p)):\n",
    "        if p[:i].count('(') == p[:i].count(')'): \n",
    "            u,v = p[:i], p[i:]\n",
    "#             print(p[:i].count('('),p[:i].count(')'))\n",
    "#             print(len(p))\n",
    "#             print(i)\n",
    "#             print(\"k:\",u,v)\n",
    "    return u,v \n",
    "\n",
    "def rec(p):\n",
    "    u,v = divide_uv(p)\n",
    "    if correct(u):\n",
    "        u,v = rec(v)\n",
    "        return u+v\n",
    "    else: \n",
    "        return '(' + rec(v)[1] + ')' + flip(u[1:-1]) # 4-1~5 \n",
    "    \n",
    "def solution(p):\n",
    "    f_u,f_v = divide_uv(p) # 2\n",
    "    if correct(f_u): # 3 (올바른 문자열인지 확인) \n",
    "        u,v=rec(f_v)\n",
    "        return f_u+v\n",
    "    else:\n",
    "        return '(' + f_v + ')' + flip(f_u[1:-1]) # 4-1~5 "
   ]
  },
  {
   "cell_type": "code",
   "execution_count": 86,
   "id": "b7414fa8",
   "metadata": {
    "ExecuteTime": {
     "end_time": "2022-04-24T09:40:35.898470Z",
     "start_time": "2022-04-24T09:40:35.884466Z"
    }
   },
   "outputs": [],
   "source": [
    "# 참조 풀이\n",
    "def solution(p):\n",
    "    answer = ''\n",
    "    if isCorrect(p): \n",
    "        return p\n",
    "    \n",
    "    answer = rec(p)\n",
    "    return answer\n",
    "\n",
    "def sepUV(p):\n",
    "    # step 2\n",
    "    # 왼쪽에서 최소 단위의 균형잡힌 문자열 분리\n",
    "    left, right = 0, 0\n",
    "    for i in range(len(p)):\n",
    "        if p[i] == '(':\n",
    "            left += 1\n",
    "        else:\n",
    "            right += 1\n",
    "        if left == right:\n",
    "            u = p[:i+1]\n",
    "            v = p[i+1:] if i+1 < len(p) else \"\"\n",
    "            break\n",
    "    return u, v\n",
    "    \n",
    "def isCorrect(p):\n",
    "    stack = []\n",
    "    for c in p:\n",
    "        if c == '(':\n",
    "            stack.append(c)\n",
    "        else:\n",
    "            if not len(stack):\n",
    "                return False\n",
    "            elif stack[-1] == '(':\n",
    "                stack.pop()\n",
    "    return False if len(stack) else True\n",
    "\n",
    "def rec(p): # 해결하지 못하던 v 재귀 부분\n",
    "    # 전체 함수인 solution 함수와 구분함 -> 구분하지 않고도 구현은 가능할 듯\n",
    "    result = \"\"\n",
    "    if not len(p): return \"\"\n",
    "    u,v = sepUV(p)\n",
    "    if isCorrect(u):\n",
    "        result = u + rec(v)\n",
    "    else:\n",
    "        tmp = \"(\"\n",
    "        tmp += rec(v)\n",
    "        tmp += \")\"\n",
    "        u = u[1:-1]\n",
    "        for c in u:\n",
    "            if c == '(':\n",
    "                tmp+=')'\n",
    "            else:\n",
    "                tmp+='('\n",
    "        result += tmp\n",
    "    return result"
   ]
  },
  {
   "cell_type": "code",
   "execution_count": 140,
   "id": "3689571b",
   "metadata": {
    "ExecuteTime": {
     "end_time": "2022-04-24T10:15:30.679738Z",
     "start_time": "2022-04-24T10:15:30.657741Z"
    }
   },
   "outputs": [],
   "source": [
    "# 정답 참조하여 입맛대로 풀이 \n",
    "def flip(string):\n",
    "    tmp =''\n",
    "    for v in string:\n",
    "        if v=='(':\n",
    "            tmp += ')'\n",
    "        else:\n",
    "            tmp += '('\n",
    "    return tmp\n",
    "\n",
    "def correct(string): \n",
    "    for i in range(1,len(string)):\n",
    "        if string[:i].count('(') < string[:i].count(')'): \n",
    "            return False\n",
    "    return True \n",
    "        \n",
    "def divide_uv(p): # 균형잡힌 문자열을 구분으로 u,v로 나눔\n",
    "    for i in range(1,len(p)+1):\n",
    "        if p[:i].count('(') == p[:i].count(')'): \n",
    "            u,v = p[:i], p[i:]\n",
    "            break\n",
    "    return u,v \n",
    "\n",
    "def rec(p):\n",
    "    if not len(p): \n",
    "        return \"\"\n",
    "    u,v = divide_uv(p)\n",
    "    if correct(u):\n",
    "        return u+rec(v) # v에 대한 재귀 -> 기존 u + 마지막 v가 4단계 거친 것 \n",
    "    else:\n",
    "        return '(' + rec(v) + ')' + flip(u[1:-1]) # 4-1~5 \n",
    "    \n",
    "def solution(p):\n",
    "    if correct(p): \n",
    "        return p\n",
    "    else:\n",
    "        return rec(p)"
   ]
  },
  {
   "cell_type": "code",
   "execution_count": 149,
   "id": "c58ee2e8",
   "metadata": {
    "ExecuteTime": {
     "end_time": "2022-04-24T10:44:58.061097Z",
     "start_time": "2022-04-24T10:44:58.045084Z"
    },
    "scrolled": true
   },
   "outputs": [
    {
     "name": "stdout",
     "output_type": "stream",
     "text": [
      "\n",
      "(\n",
      "\n",
      ")\n",
      "))\n",
      "))(\n",
      "last : ()\n",
      "\n",
      "(\n"
     ]
    },
    {
     "data": {
      "text/plain": [
       "'()(())()'"
      ]
     },
     "execution_count": 149,
     "metadata": {},
     "output_type": "execute_result"
    }
   ],
   "source": [
    "solution(\"()))((()\")\n",
    "#solution(\")(\")"
   ]
  },
  {
   "cell_type": "code",
   "execution_count": 148,
   "id": "3ff170f8",
   "metadata": {
    "ExecuteTime": {
     "end_time": "2022-04-24T10:44:55.946293Z",
     "start_time": "2022-04-24T10:44:55.931289Z"
    }
   },
   "outputs": [],
   "source": [
    "# 간결한 풀이\n",
    "def solution(p):\n",
    "    if p=='': return p # 1단계\n",
    "    r=True; c=0 # r은 재귀할지 여부\n",
    "    for i in range(len(p)): \n",
    "        print(p[:i])\n",
    "        # i가 진행하며 올바르지 않은 올바르지 않은 문자열인 경우 재귀 False로 지정해두고\n",
    "        # i\n",
    "        if p[i]=='(': c-=1\n",
    "        else: c+=1\n",
    "        if c>0: r=False # 올바르지 않은 문자열\n",
    "        if c==0: # 균형잡힌 문자열\n",
    "            if r: # if correct와 같음 \n",
    "                return p[:i+1]+solution(p[i+1:]) # u + rec(v)와 같음\n",
    "            else:\n",
    "                print(\"last :\",''.join(list(map(lambda x:'(' if x==')' else ')',p[1:i]) )))\n",
    "                return '('+solution(p[i+1:])+')'+''.join(list(map(lambda x:'(' if x==')' else ')',p[1:i]) ))\n"
   ]
  },
  {
   "cell_type": "code",
   "execution_count": null,
   "id": "ccf27ca9",
   "metadata": {},
   "outputs": [],
   "source": [
    "# 친절한 풀이 \n",
    "\n",
    "# if \"균형잡힌 괄호 문자열\", then return True\n",
    "def isBanlancedString(str):\n",
    "    return str.count('(') == str.count(')')\n",
    "\n",
    "# if \"올바른 괄호 문자열\", then return True\n",
    "def isCorrectString(str):\n",
    "    count = 0\n",
    "    for s in str:\n",
    "        if s == '(':\n",
    "            count += 1\n",
    "        else: # ')'\n",
    "            count -= 1\n",
    "        if count < 0:\n",
    "            return False\n",
    "    return count == 0\n",
    "\n",
    "def process(str):\n",
    "    # 1. 입력이 빈 문자열인 경우, 빈 문자열을 반환합니다.\n",
    "    if str == \"\":\n",
    "        return \"\"\n",
    "    # 2. 문자열 w를 두 \"균형잡힌 괄호 문자열\" u, v로 분리합니다. 단, u는 \"균형잡힌 괄호 문자열\"로 더 이상 분리할 수 없어야 하며, v는 빈 문자열이 될 수 있습니다.\n",
    "    u, v = splitUV(str)\n",
    "    print(u, v)\n",
    "    # 3. 문자열 u가 \"올바른 괄호 문자열\" 이라면 문자열 v에 대해 1단계부터 다시 수행합니다.\n",
    "    #   3-1. 수행한 결과 문자열을 u에 이어 붙인 후 반환합니다.\n",
    "    if isCorrectString(u):\n",
    "        u += process(v)\n",
    "        return u\n",
    "    else: # 4. 문자열 u가 \"올바른 괄호 문자열\"이 아니라면 아래 과정을 수행합니다.\n",
    "    #   4-1. 빈 문자열에 첫 번째 문자로 '('를 붙입니다.\n",
    "        newStr = \"(\"\n",
    "    #   4-2. 문자열 v에 대해 1단계부터 재귀적으로 수행한 결과 문자열을 이어 붙입니다.\n",
    "        newStr += process(v)\n",
    "    #   4-3. ')'를 다시 붙입니다.\n",
    "        newStr += \")\"\n",
    "    #   4-4. u의 첫 번째와 마지막 문자를 제거하고, 나머지 문자열의 괄호 방향을 뒤집어서 뒤에 붙입니다.\n",
    "        if len(u) > 0:\n",
    "            newStr += reverseStr(u[1:-1])\n",
    "    #   4-5. 생성된 문자열을 반환합니다.\n",
    "        return newStr\n",
    "\n",
    "def reverseStr(str):\n",
    "    ans = \"\"\n",
    "    for s in str:\n",
    "        if s == \"(\":\n",
    "            ans += \")\"\n",
    "        else:\n",
    "            ans += \"(\"\n",
    "    return ans\n",
    "\n",
    "# 2. 문자열 w를 두 \"균형잡힌 괄호 문자열\" u, v로 분리합니다. 단, u는 \"균형잡힌 괄호 문자열\"로 더 이상 분리할 수 없어야 하며, v는 빈 문자열이 될 수 있습니다.\n",
    "def splitUV(str):\n",
    "    u, v = str, \"\"\n",
    "    for i in range(2, len(str), 2):\n",
    "        if isBanlancedString(str[:i]): # 함수 안에 함수 재사용 \n",
    "            u = str[:i]\n",
    "            v = str[i:]\n",
    "            break\n",
    "    return u, v\n",
    "\n",
    "def solution(p):\n",
    "    p = p.strip()\n",
    "\n",
    "    if isCorrectString(p): # 이미 올바른 괄호 문자열이라면 그대로 return\n",
    "        return p\n",
    "\n",
    "    return process(p)"
   ]
  }
 ],
 "metadata": {
  "kernelspec": {
   "display_name": "Python 3 (ipykernel)",
   "language": "python",
   "name": "python3"
  },
  "language_info": {
   "codemirror_mode": {
    "name": "ipython",
    "version": 3
   },
   "file_extension": ".py",
   "mimetype": "text/x-python",
   "name": "python",
   "nbconvert_exporter": "python",
   "pygments_lexer": "ipython3",
   "version": "3.8.12"
  },
  "toc": {
   "base_numbering": 1,
   "nav_menu": {},
   "number_sections": true,
   "sideBar": true,
   "skip_h1_title": true,
   "title_cell": "Table of Contents",
   "title_sidebar": "Contents",
   "toc_cell": false,
   "toc_position": {},
   "toc_section_display": true,
   "toc_window_display": false
  },
  "varInspector": {
   "cols": {
    "lenName": 16,
    "lenType": 16,
    "lenVar": 40
   },
   "kernels_config": {
    "python": {
     "delete_cmd_postfix": "",
     "delete_cmd_prefix": "del ",
     "library": "var_list.py",
     "varRefreshCmd": "print(var_dic_list())"
    },
    "r": {
     "delete_cmd_postfix": ") ",
     "delete_cmd_prefix": "rm(",
     "library": "var_list.r",
     "varRefreshCmd": "cat(var_dic_list()) "
    }
   },
   "types_to_exclude": [
    "module",
    "function",
    "builtin_function_or_method",
    "instance",
    "_Feature"
   ],
   "window_display": false
  }
 },
 "nbformat": 4,
 "nbformat_minor": 5
}
