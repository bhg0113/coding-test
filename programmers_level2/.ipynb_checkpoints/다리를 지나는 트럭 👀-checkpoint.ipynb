{
 "cells": [
  {
   "cell_type": "code",
   "execution_count": 17,
   "id": "15c1321e",
   "metadata": {
    "ExecuteTime": {
     "end_time": "2022-04-06T11:50:47.548666Z",
     "start_time": "2022-04-06T11:50:47.526670Z"
    }
   },
   "outputs": [],
   "source": [
    "# 다리 길이가 각 트럭마다 적용이 되어야 함 -> 앞차는 얼마나 지났고, 뒷차는 얼마나 지났는지 각각의 값 필요\n",
    "# 각 차의 무게와 시간을 딕셔너리 형태로 만들어도 좋을 듯-> 사용하지 않는 아이디어, 굳이 안쓰는듯\n",
    "def solution(bridge_length, weight, truck_weights):\n",
    "    bridge_time = []\n",
    "    on_bridge=[]\n",
    "    time = 0\n",
    "    while (len(truck_weights) !=0) or (len(on_bridge) != 0): \n",
    "        time +=1 \n",
    "        if len(on_bridge) !=0 and bridge_time[0] >=bridge_length:\n",
    "            bridge_time.pop(0)\n",
    "            on_bridge.pop(0)\n",
    "            \n",
    "        if len(truck_weights) !=0 and sum(on_bridge) + truck_weights[0] <= weight:\n",
    "            on_bridge.append(truck_weights.pop(0))\n",
    "            bridge_time.append(0)\n",
    "            \n",
    "        bridge_time = [b+1 for b in bridge_time]\n",
    "\n",
    "    return time"
   ]
  },
  {
   "cell_type": "code",
   "execution_count": 28,
   "id": "955f1dae",
   "metadata": {
    "ExecuteTime": {
     "end_time": "2022-04-06T11:53:43.111872Z",
     "start_time": "2022-04-06T11:53:43.078863Z"
    }
   },
   "outputs": [
    {
     "name": "stdout",
     "output_type": "stream",
     "text": [
      "8\n",
      "101 101\n",
      "110 110\n"
     ]
    }
   ],
   "source": [
    "# 클래스 사용, 아래와 같이 다리를 한칸씩 움직이는 형태 사용,속도가 매우 빠름\n",
    "import collections\n",
    "\n",
    "DUMMY_TRUCK = 0\n",
    "\n",
    "\n",
    "class Bridge(object):\n",
    "\n",
    "    def __init__(self, length, weight):\n",
    "        self._max_length = length\n",
    "        self._max_weight = weight\n",
    "        self._queue = collections.deque()\n",
    "        self._current_weight = 0\n",
    "\n",
    "    def push(self, truck):\n",
    "        next_weight = self._current_weight + truck\n",
    "        if next_weight <= self._max_weight and len(self._queue) < self._max_length:\n",
    "            self._queue.append(truck)\n",
    "            self._current_weight = next_weight\n",
    "            return True\n",
    "        else:\n",
    "            return False\n",
    "\n",
    "    def pop(self):\n",
    "        item = self._queue.popleft()\n",
    "        self._current_weight -= item\n",
    "        return item\n",
    "\n",
    "    def __len__(self):\n",
    "        return len(self._queue)\n",
    "\n",
    "    def __repr__(self):\n",
    "        return 'Bridge({}/{} : [{}])'.format(self._current_weight, self._max_weight, list(self._queue))\n",
    "\n",
    "\n",
    "def solution(bridge_length, weight, truck_weights):\n",
    "    bridge = Bridge(bridge_length, weight)\n",
    "    trucks = collections.deque(w for w in truck_weights)\n",
    "\n",
    "    for _ in range(bridge_length): # bridge._queue 초기화\n",
    "        bridge.push(DUMMY_TRUCK)\n",
    "\n",
    "    count = 0\n",
    "    while trucks: # 대기 트럭을 다리로 다 보낼 때까지\n",
    "        bridge.pop()\n",
    "        #print(bridge)\n",
    "        if bridge.push(trucks[0]): # push의 결과가 bool 형태로 나오므로\n",
    "            trucks.popleft()\n",
    "        else:\n",
    "            bridge.push(DUMMY_TRUCK)\n",
    "\n",
    "        count += 1\n",
    "\n",
    "    while bridge: # 대기 트럭은 없고 다리에만 남아있을 경우, 하나만 다리에 있음 보통 이럴 경우 그냥 다리 length 더하는 식도 괜찮아 보임\n",
    "        #print(bridge)\n",
    "        bridge.pop()\n",
    "        count += 1\n",
    "#     if bridge: # 위와 같은 결과\n",
    "#         count+= bridge_length\n",
    "\n",
    "    return count\n",
    "\n",
    "\n",
    "def main():\n",
    "    print(solution(2, 10, [7, 4, 5, 6]))\n",
    "    print(solution(100, 100, [10]), 101)\n",
    "    print(solution(100, 100, [10, 10, 10, 10, 10, 10, 10, 10, 10, 10]), 110)\n",
    "\n",
    "\n",
    "if __name__ == '__main__':\n",
    "    main()"
   ]
  },
  {
   "cell_type": "code",
   "execution_count": 22,
   "id": "24ecbcca",
   "metadata": {
    "ExecuteTime": {
     "end_time": "2022-04-06T11:52:55.079682Z",
     "start_time": "2022-04-06T11:52:55.070697Z"
    }
   },
   "outputs": [],
   "source": [
    "def solution(bridge_length, weight, truck_weights):\n",
    "    q=[0]*bridge_length # 한 시간 당 트럭이 한칸 씩 움직이는 형식\n",
    "    sec=0\n",
    "    while q:\n",
    "        print(q)\n",
    "        sec+=1\n",
    "        q.pop(0) # 초지났으므로 한칸 이동 해줌 \n",
    "        if truck_weights: \n",
    "            if sum(q)+truck_weights[0]<=weight:# sum함수로 시간초과 난다고 함 -> 추가변수활용 필요\n",
    "                q.append(truck_weights.pop(0))\n",
    "            else:\n",
    "                q.append(0)\n",
    "    return sec"
   ]
  },
  {
   "cell_type": "code",
   "execution_count": 10,
   "id": "70a4630d",
   "metadata": {
    "ExecuteTime": {
     "end_time": "2022-04-06T11:37:00.294372Z",
     "start_time": "2022-04-06T11:37:00.270368Z"
    }
   },
   "outputs": [
    {
     "name": "stdout",
     "output_type": "stream",
     "text": [
      "[0, 0, 0]\n",
      "[0, 0, 7]\n",
      "[0, 7, 0]\n",
      "[7, 0, 0]\n",
      "[0, 0, 4]\n",
      "[0, 4, 5]\n",
      "[4, 5, 0]\n",
      "[5, 0, 0]\n",
      "[0, 0, 6]\n",
      "[0, 6]\n",
      "[6]\n"
     ]
    },
    {
     "data": {
      "text/plain": [
       "11"
      ]
     },
     "execution_count": 10,
     "metadata": {},
     "output_type": "execute_result"
    }
   ],
   "source": [
    "solution(, 10, [7, 4, 5, 6])"
   ]
  },
  {
   "cell_type": "code",
   "execution_count": null,
   "id": "30e105e7",
   "metadata": {},
   "outputs": [],
   "source": [
    "from collections import deque\n",
    "\n",
    "def solution(bridge_length, weight, truck_weights):\n",
    "    bridge = deque(0 for _ in range(bridge_length))\n",
    "    total_weight = 0\n",
    "    step = 0\n",
    "    truck_weights.reverse() # popleft때문으로 보임 -> popright 사용하면 되지 않나..?\n",
    "\n",
    "    while truck_weights:\n",
    "        total_weight -= bridge.popleft()\n",
    "        if total_weight + truck_weights[-1] > weight:\n",
    "            bridge.append(0)\n",
    "        else:\n",
    "            truck = truck_weights.pop()\n",
    "            bridge.append(truck)\n",
    "            total_weight += truck\n",
    "        step += 1\n",
    "\n",
    "    step += bridge_length # 마지막 트럭이 건너야 하므로 후처리 -> 이런 후처리를 따로 해주는 방식도 고려하면 좋을듯\n",
    "\n",
    "    return step\n"
   ]
  }
 ],
 "metadata": {
  "kernelspec": {
   "display_name": "Python 3 (ipykernel)",
   "language": "python",
   "name": "python3"
  },
  "language_info": {
   "codemirror_mode": {
    "name": "ipython",
    "version": 3
   },
   "file_extension": ".py",
   "mimetype": "text/x-python",
   "name": "python",
   "nbconvert_exporter": "python",
   "pygments_lexer": "ipython3",
   "version": "3.8.12"
  },
  "toc": {
   "base_numbering": 1,
   "nav_menu": {},
   "number_sections": true,
   "sideBar": true,
   "skip_h1_title": true,
   "title_cell": "Table of Contents",
   "title_sidebar": "Contents",
   "toc_cell": false,
   "toc_position": {},
   "toc_section_display": true,
   "toc_window_display": false
  },
  "varInspector": {
   "cols": {
    "lenName": 16,
    "lenType": 16,
    "lenVar": 40
   },
   "kernels_config": {
    "python": {
     "delete_cmd_postfix": "",
     "delete_cmd_prefix": "del ",
     "library": "var_list.py",
     "varRefreshCmd": "print(var_dic_list())"
    },
    "r": {
     "delete_cmd_postfix": ") ",
     "delete_cmd_prefix": "rm(",
     "library": "var_list.r",
     "varRefreshCmd": "cat(var_dic_list()) "
    }
   },
   "types_to_exclude": [
    "module",
    "function",
    "builtin_function_or_method",
    "instance",
    "_Feature"
   ],
   "window_display": false
  }
 },
 "nbformat": 4,
 "nbformat_minor": 5
}
