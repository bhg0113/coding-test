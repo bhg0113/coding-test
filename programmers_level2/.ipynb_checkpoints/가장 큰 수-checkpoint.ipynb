{
 "cells": [
  {
   "cell_type": "code",
   "execution_count": null,
   "id": "e734f0de",
   "metadata": {},
   "outputs": [],
   "source": [
    "# 내풀이 -> 이상\n",
    "# 맨앞의 절대값이 큰 순서대로 - 같다면 뒤까지 고려\n",
    "def solution(numbers):\n",
    "    answer =''\n",
    "    while len(numbers) !=0:\n",
    "        tmp = 0\n",
    "        for num in numbers: # numbers 돌면서 절대값 큰 값 찾음 \n",
    "            if int(str(num)[0]) > tmp:\n",
    "                tmp = num\n",
    "                print(tmp)\n",
    "        numbers.remove(tmp) # 다돌면 해당 값 지우고\n",
    "        answer += str(tmp) # answer에 추가 \n",
    "            \n",
    "    return answer"
   ]
  }
 ],
 "metadata": {
  "kernelspec": {
   "display_name": "Python 3 (ipykernel)",
   "language": "python",
   "name": "python3"
  },
  "language_info": {
   "codemirror_mode": {
    "name": "ipython",
    "version": 3
   },
   "file_extension": ".py",
   "mimetype": "text/x-python",
   "name": "python",
   "nbconvert_exporter": "python",
   "pygments_lexer": "ipython3",
   "version": "3.8.12"
  },
  "toc": {
   "base_numbering": 1,
   "nav_menu": {},
   "number_sections": true,
   "sideBar": true,
   "skip_h1_title": true,
   "title_cell": "Table of Contents",
   "title_sidebar": "Contents",
   "toc_cell": false,
   "toc_position": {},
   "toc_section_display": true,
   "toc_window_display": false
  },
  "varInspector": {
   "cols": {
    "lenName": 16,
    "lenType": 16,
    "lenVar": 40
   },
   "kernels_config": {
    "python": {
     "delete_cmd_postfix": "",
     "delete_cmd_prefix": "del ",
     "library": "var_list.py",
     "varRefreshCmd": "print(var_dic_list())"
    },
    "r": {
     "delete_cmd_postfix": ") ",
     "delete_cmd_prefix": "rm(",
     "library": "var_list.r",
     "varRefreshCmd": "cat(var_dic_list()) "
    }
   },
   "types_to_exclude": [
    "module",
    "function",
    "builtin_function_or_method",
    "instance",
    "_Feature"
   ],
   "window_display": false
  }
 },
 "nbformat": 4,
 "nbformat_minor": 5
}
