{
 "cells": [
  {
   "cell_type": "code",
   "execution_count": null,
   "id": "7aec87d5",
   "metadata": {},
   "outputs": [],
   "source": [
    "# 문자열의 순서는 상관x\n",
    "# 중복x\n",
    "# 하나짜리가 첫번째 , 두개짜리의 첫번째 제외한 값이 두번째....\n",
    "# 제일 긴 것에서 순서를 어떻게 배치하느냐의 식으로도 생각 가능\n",
    "# 전체 문자열을 어떻게 각 요소로 받을지? -> 정규식으로 {}끼리 받기 ~~ 안되어 정답참조\n",
    "# 방법 있을 것으로 보임\n",
    "\n",
    "def solution(s):\n",
    "    s = re.findall('([{\\*}])', s) # 안의 값이 안들어 감\n",
    "    return s"
   ]
  },
  {
   "cell_type": "code",
   "execution_count": null,
   "id": "634674ff",
   "metadata": {},
   "outputs": [],
   "source": [
    "# 정규식 사용했으나 다른 풀이\n",
    "# 나처럼 길이에 따른 순차적 접근이 아니라 그냥 개수가 많은(먼저 나온) 순으로 정렬하는 방식\n",
    "def solution(s):\n",
    "\n",
    "    s = Counter(re.findall('\\d+', s)) # 정규식으로 숫자만 추출 -> 카운터로 개수 세기\n",
    "    return list(map(int, [k for k, v in sorted(s.items(), key=lambda x: x[1], reverse=True)])) # 개수로 정렬하여 key 리턴\n",
    "\n",
    "import re\n",
    "from collections import Counter"
   ]
  },
  {
   "cell_type": "code",
   "execution_count": null,
   "id": "17c5d422",
   "metadata": {},
   "outputs": [],
   "source": [
    "# 문자열을 },{으로 split하여 사용\n",
    "def solution(s):\n",
    "    answer = []\n",
    "\n",
    "    s1 = s.lstrip('{').rstrip('}').split('},{')\n",
    "\n",
    "    new_s = []\n",
    "    for i in s1: # },{으로 나눠진 값들에 대해서\n",
    "        new_s.append(i.split(','))\n",
    "\n",
    "    new_s.sort(key = len) # 어차피 key로 함수를 받으므로 그냥 len도 가능 \n",
    "\n",
    "    for i in new_s: # 처음 생각했던 아이디어대로 \n",
    "        for j in range(len(i)):\n",
    "            if int(i[j]) not in answer:\n",
    "                answer.append(int(i[j]))\n",
    "\n",
    "    return answer"
   ]
  },
  {
   "cell_type": "code",
   "execution_count": null,
   "id": "3b2b5809",
   "metadata": {},
   "outputs": [],
   "source": [
    "import re\n",
    "def solution(s):\n",
    "    answer = []\n",
    "    arr = sorted(list(map(eval, re.findall(\"{[\\d,]+}\", s)))) # 원하던 정규식 -> ,은 몇번 이상 매치\n",
    "    answer.append(list(arr[0])[0])\n",
    "    for i in range(len(arr) - 1):  \n",
    "        answer.append(list(arr[i + 1] - arr[i])[0]) # 없는 것만 가져오기\n",
    "    answer = list(map(int,answer))\n",
    "    return answer"
   ]
  }
 ],
 "metadata": {
  "kernelspec": {
   "display_name": "Python 3 (ipykernel)",
   "language": "python",
   "name": "python3"
  },
  "language_info": {
   "codemirror_mode": {
    "name": "ipython",
    "version": 3
   },
   "file_extension": ".py",
   "mimetype": "text/x-python",
   "name": "python",
   "nbconvert_exporter": "python",
   "pygments_lexer": "ipython3",
   "version": "3.8.12"
  },
  "toc": {
   "base_numbering": 1,
   "nav_menu": {},
   "number_sections": true,
   "sideBar": true,
   "skip_h1_title": true,
   "title_cell": "Table of Contents",
   "title_sidebar": "Contents",
   "toc_cell": false,
   "toc_position": {},
   "toc_section_display": true,
   "toc_window_display": false
  },
  "varInspector": {
   "cols": {
    "lenName": 16,
    "lenType": 16,
    "lenVar": 40
   },
   "kernels_config": {
    "python": {
     "delete_cmd_postfix": "",
     "delete_cmd_prefix": "del ",
     "library": "var_list.py",
     "varRefreshCmd": "print(var_dic_list())"
    },
    "r": {
     "delete_cmd_postfix": ") ",
     "delete_cmd_prefix": "rm(",
     "library": "var_list.r",
     "varRefreshCmd": "cat(var_dic_list()) "
    }
   },
   "types_to_exclude": [
    "module",
    "function",
    "builtin_function_or_method",
    "instance",
    "_Feature"
   ],
   "window_display": false
  }
 },
 "nbformat": 4,
 "nbformat_minor": 5
}
