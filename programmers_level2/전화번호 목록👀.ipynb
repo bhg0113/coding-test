{
 "cells": [
  {
   "cell_type": "code",
   "execution_count": null,
   "id": "cb306646",
   "metadata": {},
   "outputs": [],
   "source": [
    "# 각 번호들이 다른 번호안에 속하는지 아닌지 확인 -> 단순히 in으로 처리하면 시간복잡도 너무 높음\n",
    "# 접두어에 따라 길이순으로 정렬하여 본인보다 길이가 긴 경우만 비교\n",
    "# 경우의 수를 줄여야 함\n",
    "def solution(phone_book):\n",
    "    phone_book.sort(key= lambda x : len(x))\n",
    "    for i,num in enumerate(phone_book):\n",
    "        for j in range(i+1,len(phone_book)):\n",
    "            if num == phone_book[j][:len(num)]: # in이 아니라 접두어이므로 인덱싱으로 접근\n",
    "                return False\n",
    "    return True"
   ]
  },
  {
   "cell_type": "code",
   "execution_count": 3,
   "id": "e760958a",
   "metadata": {
    "ExecuteTime": {
     "end_time": "2022-05-07T05:44:10.654497Z",
     "start_time": "2022-05-07T05:44:10.641503Z"
    }
   },
   "outputs": [],
   "source": [
    "# 질문하기 참조 -> 정렬을 값과 길이 두가지로 하여 바로 앞 문자와만 접두어 확인\n",
    "def solution(phone_book):\n",
    "    phone_book.sort(key= lambda x : (x,len(x)))\n",
    "    for i in range(len(phone_book)-1):\n",
    "        num = phone_book[i]\n",
    "        if num == phone_book[i+1][:len(num)]: # in이 아니라 접두어이므로 인덱싱으로 접근\n",
    "            return False\n",
    "    return True"
   ]
  },
  {
   "cell_type": "code",
   "execution_count": null,
   "id": "33a0f8ac",
   "metadata": {},
   "outputs": [],
   "source": [
    "def solution(phoneBook):\n",
    "    phoneBook = sorted(phoneBook) # 그냥 문자열 정렬 ()\n",
    "\n",
    "    for p1, p2 in zip(phoneBook, phoneBook[1:]): # 붙어 있는 것끼리 비교시 zip이 좋아보임\n",
    "        if p2.startswith(p1): # 접두어 확인, 인덱싱말고 startwith도 생각해보기 \n",
    "            return False\n",
    "    return True"
   ]
  },
  {
   "cell_type": "code",
   "execution_count": 4,
   "id": "15e17252",
   "metadata": {
    "ExecuteTime": {
     "end_time": "2022-05-07T06:10:47.055793Z",
     "start_time": "2022-05-07T06:10:47.032776Z"
    }
   },
   "outputs": [],
   "source": [
    "# 출제 카테고리와 맞는 해시(딕셔너리) 사용 풀이 -> 속도 빠름 \n",
    "def solution(phone_book):\n",
    "    hash_map = {}\n",
    "    for phone_number in phone_book: # 해시\n",
    "        hash_map[phone_number] = 1\n",
    "    for phone_number in phone_book: \n",
    "        temp = \"\"\n",
    "        for number in phone_number:\n",
    "            temp += number \n",
    "            if temp in hash_map and temp != phone_number: #전체에서 한번에 조회\n",
    "                retrun False\n",
    "    return True"
   ]
  },
  {
   "cell_type": "code",
   "execution_count": null,
   "id": "712c71e1",
   "metadata": {},
   "outputs": [],
   "source": []
  }
 ],
 "metadata": {
  "kernelspec": {
   "display_name": "Python 3 (ipykernel)",
   "language": "python",
   "name": "python3"
  },
  "language_info": {
   "codemirror_mode": {
    "name": "ipython",
    "version": 3
   },
   "file_extension": ".py",
   "mimetype": "text/x-python",
   "name": "python",
   "nbconvert_exporter": "python",
   "pygments_lexer": "ipython3",
   "version": "3.8.12"
  },
  "toc": {
   "base_numbering": 1,
   "nav_menu": {},
   "number_sections": true,
   "sideBar": true,
   "skip_h1_title": true,
   "title_cell": "Table of Contents",
   "title_sidebar": "Contents",
   "toc_cell": false,
   "toc_position": {},
   "toc_section_display": true,
   "toc_window_display": false
  },
  "varInspector": {
   "cols": {
    "lenName": 16,
    "lenType": 16,
    "lenVar": 40
   },
   "kernels_config": {
    "python": {
     "delete_cmd_postfix": "",
     "delete_cmd_prefix": "del ",
     "library": "var_list.py",
     "varRefreshCmd": "print(var_dic_list())"
    },
    "r": {
     "delete_cmd_postfix": ") ",
     "delete_cmd_prefix": "rm(",
     "library": "var_list.r",
     "varRefreshCmd": "cat(var_dic_list()) "
    }
   },
   "types_to_exclude": [
    "module",
    "function",
    "builtin_function_or_method",
    "instance",
    "_Feature"
   ],
   "window_display": false
  }
 },
 "nbformat": 4,
 "nbformat_minor": 5
}
