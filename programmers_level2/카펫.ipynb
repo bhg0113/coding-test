{
 "cells": [
  {
   "cell_type": "code",
   "execution_count": 28,
   "id": "01914ab3",
   "metadata": {
    "ExecuteTime": {
     "end_time": "2022-03-09T12:23:43.250989Z",
     "start_time": "2022-03-09T12:23:43.240976Z"
    }
   },
   "outputs": [],
   "source": [
    "# 완전탐색 카테고리에 영감 받아 구현\n",
    "# 이중 for문이나 범위가 좁아 성공한 것으로 보임 \n",
    "# 그럼에도 속도는 느린 편(너무 naive하게 짬) -> 다른 풀이 참조 필요\n",
    "def solution(brown, yellow):\n",
    "    x=y=0\n",
    "    for i in range(1,brown//2): # x의 범위는 1~brown의 절반(더 줄일수도 있을 것)\n",
    "        x+=1\n",
    "        for j in range(1,i+1): # y범위는 1~ x까지(가로가 세로 이상이라 했으므로)\n",
    "            y=j\n",
    "            print(x,y)\n",
    "            if 2*x + 2*(y-2) == brown and (x-2)*(y-2) == yellow: # 만족 조건\n",
    "                return [x,y]"
   ]
  },
  {
   "cell_type": "code",
   "execution_count": null,
   "id": "03e855ce",
   "metadata": {},
   "outputs": [],
   "source": [
    "# 완전제곱법 이용 -> 그냥 이런 풀이도 가능하다, 수학적 개념을 잘 이용해보자 정도\n",
    "import math\n",
    "def solution(brown, yellow):\n",
    "    w = ((brown+4)/2 + math.sqrt(((brown+4)/2)**2-4*(brown+yellow)))/2\n",
    "    h = ((brown+4)/2 - math.sqrt(((brown+4)/2)**2-4*(brown+yellow)))/2\n",
    "    return [w,h]"
   ]
  },
  {
   "cell_type": "code",
   "execution_count": null,
   "id": "fd978eae",
   "metadata": {},
   "outputs": [],
   "source": [
    "# w는 큰 값에서 감소, h는 작은 값에서 증가 하여 최대 진행되어야 같은 값이도록\n",
    "# 둘 다 증가하는 나보다 훨씬 적은 연산\n",
    "def solution(brown, yellow):\n",
    "    w = (brown / 2) + 1\n",
    "    h = 1\n",
    "    while w >= h:\n",
    "        if (w - 2) * (h - 2) == yellow:\n",
    "            return [w, h]\n",
    "        w -= 1\n",
    "        h += 1"
   ]
  },
  {
   "cell_type": "code",
   "execution_count": null,
   "id": "962eefa3",
   "metadata": {},
   "outputs": [],
   "source": [
    "# (x-2)(y-2)= yellow이므로 x-2, y-2를 yellow의 약수로서 찾음\n",
    "# 이를 다시 yellow//i, i로 두어 i를 구하는 방식 \n",
    "# 조건이 맞으면 구한 i에 따라 x,y 구함\n",
    "def solution(brown, yellow):\n",
    "    for i in range(1, int(yellow**(1/2))+1): # yellow의 약수범위 \n",
    "        if yellow % i == 0:\n",
    "            if 2*(i + yellow//i) == brown-4: #i와 yellow//i는 x-2, y-2상태이므로 \n",
    "                return [yellow//i+2, i+2]"
   ]
  }
 ],
 "metadata": {
  "kernelspec": {
   "display_name": "Python 3 (ipykernel)",
   "language": "python",
   "name": "python3"
  },
  "language_info": {
   "codemirror_mode": {
    "name": "ipython",
    "version": 3
   },
   "file_extension": ".py",
   "mimetype": "text/x-python",
   "name": "python",
   "nbconvert_exporter": "python",
   "pygments_lexer": "ipython3",
   "version": "3.8.12"
  },
  "toc": {
   "base_numbering": 1,
   "nav_menu": {},
   "number_sections": true,
   "sideBar": true,
   "skip_h1_title": true,
   "title_cell": "Table of Contents",
   "title_sidebar": "Contents",
   "toc_cell": false,
   "toc_position": {},
   "toc_section_display": true,
   "toc_window_display": false
  },
  "varInspector": {
   "cols": {
    "lenName": 16,
    "lenType": 16,
    "lenVar": 40
   },
   "kernels_config": {
    "python": {
     "delete_cmd_postfix": "",
     "delete_cmd_prefix": "del ",
     "library": "var_list.py",
     "varRefreshCmd": "print(var_dic_list())"
    },
    "r": {
     "delete_cmd_postfix": ") ",
     "delete_cmd_prefix": "rm(",
     "library": "var_list.r",
     "varRefreshCmd": "cat(var_dic_list()) "
    }
   },
   "types_to_exclude": [
    "module",
    "function",
    "builtin_function_or_method",
    "instance",
    "_Feature"
   ],
   "window_display": false
  }
 },
 "nbformat": 4,
 "nbformat_minor": 5
}
