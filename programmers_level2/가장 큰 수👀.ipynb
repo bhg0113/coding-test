{
 "cells": [
  {
   "cell_type": "code",
   "execution_count": null,
   "id": "252933bc",
   "metadata": {},
   "outputs": [],
   "source": [
    "# 내풀이 -> 이상\n",
    "# 맨앞의 절대값이 큰 순서대로 - 같다면 뒤까지 고려..? 값이 커서 어려움 \n",
    "def solution(numbers):\n",
    "    answer =''\n",
    "    while len(numbers) !=0:\n",
    "        tmp = 0\n",
    "        for num in numbers: # numbers 돌면서 절대값 큰 값 찾음\n",
    "            if int(str(num)[0]) >int(str(tmp)[0]): # 6210의 경우 10이 2보다 큰 것으로 됨;\n",
    "                tmp = num\n",
    "                print(tmp)\n",
    "        numbers.remove(tmp) # 다돌면 해당 값 지우고\n",
    "        answer += str(tmp) # answer에 추가 \n",
    "            \n",
    "    return answer"
   ]
  },
  {
   "cell_type": "code",
   "execution_count": null,
   "id": "ac18458d",
   "metadata": {},
   "outputs": [],
   "source": [
    "def solution(numbers):\n",
    "    answer = ''\n",
    "    sum_ = 0\n",
    "    tmp = []\n",
    "    for number in numbers:\n",
    "        c = (str(number) * 4)[:4]\n",
    "        length = len(str(number))\n",
    "        tmp.append((c, length))\n",
    "    tmp.sort(reverse=True)\n",
    "    for (c, length) in tmp:\n",
    "        sum_ += int(c)\n",
    "        if sum_ == 0:\n",
    "            return '0'\n",
    "        answer += c[:length]\n",
    "    return answer"
   ]
  },
  {
   "cell_type": "code",
   "execution_count": 1,
   "id": "1b9b5269",
   "metadata": {
    "ExecuteTime": {
     "end_time": "2022-05-02T06:48:44.379137Z",
     "start_time": "2022-05-02T06:48:44.359127Z"
    }
   },
   "outputs": [],
   "source": [
    "# 뒤까지 고려하지 못하는 점 -> 문자열 정렬로 해겨\n",
    "def solution(numbers):\n",
    "    numbers = list(map(str, numbers)) \n",
    "    numbers.sort(key=lambda x: x*3, reverse=True) # x*3으로 정렬, 실제 값이 아닌 임의의 값(x*3)을 기준으로도 정렬 가능함\n",
    "    return str(int(''.join(numbers)))"
   ]
  },
  {
   "cell_type": "code",
   "execution_count": 2,
   "id": "2a828278",
   "metadata": {
    "ExecuteTime": {
     "end_time": "2022-05-02T07:02:45.695330Z",
     "start_time": "2022-05-02T07:02:45.672309Z"
    }
   },
   "outputs": [
    {
     "data": {
      "text/plain": [
       "'9534330'"
      ]
     },
     "execution_count": 2,
     "metadata": {},
     "output_type": "execute_result"
    }
   ],
   "source": [
    "solution([3, 30, 34, 5, 9])"
   ]
  },
  {
   "cell_type": "code",
   "execution_count": 5,
   "id": "89c0c4fb",
   "metadata": {
    "ExecuteTime": {
     "end_time": "2022-05-02T07:18:00.543009Z",
     "start_time": "2022-05-02T07:18:00.532119Z"
    }
   },
   "outputs": [],
   "source": [
    "import functools\n",
    "\n",
    "def comparator(a,b):\n",
    "    t1 = a+b\n",
    "    t2 = b+a\n",
    "    return (int(t1) > int(t2)) - (int(t1) < int(t2)) #  t1이 크다면 1  // t2가 크다면 -1  //  같으면 0\n",
    "\n",
    "def solution(numbers):\n",
    "    n = [str(x) for x in numbers]\n",
    "    # functools 살펴보기\n",
    "    n = sorted(n, key=functools.cmp_to_key(comparator),reverse=True) # functools.cmp_to_key로 key에 함수 전달\n",
    "    answer = str(int(''.join(n)))\n",
    "    return answer"
   ]
  },
  {
   "cell_type": "code",
   "execution_count": null,
   "id": "1439e31e",
   "metadata": {},
   "outputs": [],
   "source": []
  }
 ],
 "metadata": {
  "kernelspec": {
   "display_name": "Python 3 (ipykernel)",
   "language": "python",
   "name": "python3"
  },
  "language_info": {
   "codemirror_mode": {
    "name": "ipython",
    "version": 3
   },
   "file_extension": ".py",
   "mimetype": "text/x-python",
   "name": "python",
   "nbconvert_exporter": "python",
   "pygments_lexer": "ipython3",
   "version": "3.8.12"
  },
  "toc": {
   "base_numbering": 1,
   "nav_menu": {},
   "number_sections": true,
   "sideBar": true,
   "skip_h1_title": true,
   "title_cell": "Table of Contents",
   "title_sidebar": "Contents",
   "toc_cell": false,
   "toc_position": {},
   "toc_section_display": true,
   "toc_window_display": false
  },
  "varInspector": {
   "cols": {
    "lenName": 16,
    "lenType": 16,
    "lenVar": 40
   },
   "kernels_config": {
    "python": {
     "delete_cmd_postfix": "",
     "delete_cmd_prefix": "del ",
     "library": "var_list.py",
     "varRefreshCmd": "print(var_dic_list())"
    },
    "r": {
     "delete_cmd_postfix": ") ",
     "delete_cmd_prefix": "rm(",
     "library": "var_list.r",
     "varRefreshCmd": "cat(var_dic_list()) "
    }
   },
   "types_to_exclude": [
    "module",
    "function",
    "builtin_function_or_method",
    "instance",
    "_Feature"
   ],
   "window_display": false
  }
 },
 "nbformat": 4,
 "nbformat_minor": 5
}
