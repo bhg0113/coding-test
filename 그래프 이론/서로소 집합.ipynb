{
 "cells": [
  {
   "cell_type": "markdown",
   "id": "aea75265",
   "metadata": {},
   "source": [
    "#### 서로소 자료 집합 : 서로소 부분 집합들로 나누어진 원소들의 데이터를 처리하기 위한 자료구조\n",
    "\n",
    "union : 두 집합 하나의 집합으로 합침 / \n",
    "find : 특정 원소가 속한 집합 알려줌\n",
    "\n",
    "위 두 가지 연산으로 구성\n",
    "\n",
    "#### 서로소 집합 자료구조\n",
    "트리로 표현\n",
    "1. union 연산 확인해 서로 연결된 두 노드 A,B를 확인\n",
    "\n",
    "    i. A와 B의 루트 노드 A', B'를 찾음\n",
    "    \n",
    "    ii. A'를 B'의 부모 노드로 설정(B'가 A'를 가리키도록) -> 루트 노드를 찾을 때까지 재귀적으로 올라감\n",
    "    \n",
    "2. 모든 union 연산 처리할 때까지 1번 반복"
   ]
  },
  {
   "cell_type": "code",
   "execution_count": 20,
   "id": "9eb07f9d",
   "metadata": {
    "ExecuteTime": {
     "end_time": "2022-08-13T09:30:45.835321Z",
     "start_time": "2022-08-13T09:30:45.816338Z"
    }
   },
   "outputs": [],
   "source": [
    "# 기본적인 코드\n",
    "def find_parent(parent,x):\n",
    "    if parent[x] != x:\n",
    "        return find_parent(parent,parent[x])\n",
    "    return x\n",
    "\n",
    "def union_parent(parent,a,b):\n",
    "    a = find_parent(parent,a)\n",
    "    b = find_parent(parent,b)\n",
    "    if a<b:\n",
    "        parent[b]=a\n",
    "    else:\n",
    "        parent[a]=b"
   ]
  },
  {
   "cell_type": "code",
   "execution_count": 26,
   "id": "0202e318",
   "metadata": {
    "ExecuteTime": {
     "end_time": "2022-08-13T09:31:27.754278Z",
     "start_time": "2022-08-13T09:31:19.693049Z"
    }
   },
   "outputs": [
    {
     "name": "stdout",
     "output_type": "stream",
     "text": [
      "6 4\n",
      "1 4\n",
      "[0, 1, 2, 3, 1, 5, 6]\n",
      "2 3\n",
      "[0, 1, 2, 2, 1, 5, 6]\n",
      "2 4\n",
      "[0, 1, 1, 2, 1, 5, 6]\n",
      "5 6\n",
      "[0, 1, 1, 2, 1, 5, 5]\n",
      "각 원소가 속한 집합 : 1 1 1 1 5 5 \n",
      "부모 테이블 : 1 1 1 1 5 5 "
     ]
    }
   ],
   "source": [
    "#노드와 간선 개수 입력\n",
    "v,e = map(int,input().split())\n",
    "parent = [0]*(v+1) # 부모 테이블 초기화\n",
    "\n",
    "for i in range(1,v+1): # 부모 테이블 자기 자신으로 초기화\n",
    "    parent[i]=i\n",
    "for i in range(e):\n",
    "    a,b = map(int,input().split())\n",
    "    union_parent(parent,a,b)\n",
    "#     print(parent)\n",
    "    \n",
    "print('각 원소가 속한 집합 : ',end='')\n",
    "for i in range(1,v+1):\n",
    "    print(find_parent(parent,i),end=' ')\n",
    "print()\n",
    "\n",
    "print('부모 테이블 : ',end='')\n",
    "for i in range(1,v+1):\n",
    "    print(parent[i],end=' ')"
   ]
  },
  {
   "cell_type": "markdown",
   "id": "c40b6d77",
   "metadata": {},
   "source": [
    "위 방식은 find가 비효율적, 최악의 경우 모든 노드 다 확인해 시간 복잡도가 O(V)\n",
    "\n",
    "union 연산이 M개인 경우 전체 시간 복잡도는 O(VM)\n",
    "\n",
    "-> 경로 압축\n"
   ]
  },
  {
   "cell_type": "code",
   "execution_count": 25,
   "id": "68a8adb1",
   "metadata": {
    "ExecuteTime": {
     "end_time": "2022-08-13T09:31:17.675610Z",
     "start_time": "2022-08-13T09:31:17.653608Z"
    }
   },
   "outputs": [],
   "source": [
    "def find_parent(parent,x):\n",
    "    if parent[x] != x:\n",
    "        parent[x] = find_parent(parent,parent[x]) # 부모 노드를 루트 노드로 갱신\n",
    "    return parent[x]"
   ]
  },
  {
   "cell_type": "markdown",
   "id": "dd6bd375",
   "metadata": {},
   "source": [
    "경로 압축 적용 시간 복잡도 : 약 O(V+M(1+logV))\n",
    "\n",
    "~~ 대략 V + Mlog2V로 계산"
   ]
  },
  {
   "cell_type": "markdown",
   "id": "e6a17528",
   "metadata": {},
   "source": [
    "#### 서로소 집합을 활용한 사이클 판별\n",
    "무방향 그래프 내에서의 사이클 판별시 사용 가능\n",
    "\n",
    "union 연산 확인 = 간선 확인으로 노드 포함된 집합 합치는 것 반복하는 것으로도 사이클 판별 가능\n",
    "1. 각 간선을 확인하며 두 노드의 루트 노드 확인\n",
    "\n",
    "    i. 루트가 다르면 두 노드에 대해 union 수행\n",
    "\n",
    "    ii. 같다면 사이클 발생한 것\n",
    "\n",
    "2. 모든 간선에 대해 1번 반복"
   ]
  },
  {
   "cell_type": "code",
   "execution_count": 30,
   "id": "ddb22456",
   "metadata": {
    "ExecuteTime": {
     "end_time": "2022-08-13T09:38:49.439673Z",
     "start_time": "2022-08-13T09:38:44.244560Z"
    }
   },
   "outputs": [
    {
     "name": "stdout",
     "output_type": "stream",
     "text": [
      "3 3\n",
      "1 3\n",
      "1 2\n",
      "2 3\n",
      "사이클 o\n"
     ]
    }
   ],
   "source": [
    "#노드와 간선 개수 입력\n",
    "v,e = map(int,input().split())\n",
    "parent = [0]*(v+1) # 부모 테이블 초기화\n",
    "\n",
    "for i in range(1,v+1): # 부모 테이블 자기 자신으로 초기화\n",
    "    parent[i]=i\n",
    "    \n",
    "cycle=False\n",
    "\n",
    "for i in range(e):\n",
    "    a,b = map(int,input().split())\n",
    "    if find_parent(parent,a) == find_parent(parent,b):\n",
    "        cycle=True\n",
    "        break\n",
    "    else:\n",
    "        union_parent(parent,a,b)\n",
    "    \n",
    "if cycle==False:\n",
    "    print('사이클 x')\n",
    "else:\n",
    "    print('사이클 o')"
   ]
  }
 ],
 "metadata": {
  "kernelspec": {
   "display_name": "Python 3 (ipykernel)",
   "language": "python",
   "name": "python3"
  },
  "language_info": {
   "codemirror_mode": {
    "name": "ipython",
    "version": 3
   },
   "file_extension": ".py",
   "mimetype": "text/x-python",
   "name": "python",
   "nbconvert_exporter": "python",
   "pygments_lexer": "ipython3",
   "version": "3.8.13"
  },
  "toc": {
   "base_numbering": 1,
   "nav_menu": {},
   "number_sections": true,
   "sideBar": true,
   "skip_h1_title": true,
   "title_cell": "Table of Contents",
   "title_sidebar": "Contents",
   "toc_cell": false,
   "toc_position": {},
   "toc_section_display": true,
   "toc_window_display": false
  },
  "varInspector": {
   "cols": {
    "lenName": 16,
    "lenType": 16,
    "lenVar": 40
   },
   "kernels_config": {
    "python": {
     "delete_cmd_postfix": "",
     "delete_cmd_prefix": "del ",
     "library": "var_list.py",
     "varRefreshCmd": "print(var_dic_list())"
    },
    "r": {
     "delete_cmd_postfix": ") ",
     "delete_cmd_prefix": "rm(",
     "library": "var_list.r",
     "varRefreshCmd": "cat(var_dic_list()) "
    }
   },
   "types_to_exclude": [
    "module",
    "function",
    "builtin_function_or_method",
    "instance",
    "_Feature"
   ],
   "window_display": false
  }
 },
 "nbformat": 4,
 "nbformat_minor": 5
}
