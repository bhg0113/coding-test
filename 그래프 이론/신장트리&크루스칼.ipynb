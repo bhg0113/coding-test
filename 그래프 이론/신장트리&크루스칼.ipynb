{
 "cells": [
  {
   "cell_type": "markdown",
   "id": "618fc2bb",
   "metadata": {},
   "source": [
    "신장 트리 : 모든 노드를 포함하면서 사이클이 존재하지 않는 부분 그래프 \n",
    "\n",
    "크루스칼 알고리즘 : 최소 비용으로 신장트리 찾는 대표적인 알고리즘, 기본적으로 그리디\n",
    "   \n",
    "    1. 간선 데이터를 비용에 따라 오름차순 정렬\n",
    "    2. 간선 확인하며 현재의 간선이 사이클 발생시키는지 확인\n",
    "        i. 사이클이 발생하지 않는 경우 최소 신장 트리 포함\n",
    "        ii. 사이클이 발생하는 경우 포함 X\n",
    "    3. 모든 간선에 대해 2번 과정 반복\n",
    "\n",
    "사이클 판별을 해야하기에 서로소 집합 알고리즘을 이용"
   ]
  },
  {
   "cell_type": "code",
   "execution_count": 1,
   "id": "a0eeca53",
   "metadata": {
    "ExecuteTime": {
     "end_time": "2022-08-13T15:29:09.340756Z",
     "start_time": "2022-08-13T15:29:09.327734Z"
    }
   },
   "outputs": [],
   "source": [
    "def find_parent(parent,x):\n",
    "    if parent[x] !=x:\n",
    "        parent[x] = find_parent(parent,parent[x])\n",
    "    return parent[x]\n",
    "\n",
    "def union_parent(parent,a,b):\n",
    "    a= find_parent(parent,a)\n",
    "    b= find_parent(parent,b)\n",
    "    if a<b:\n",
    "        parent[b]=a\n",
    "    else:\n",
    "        parent[a]=b"
   ]
  },
  {
   "cell_type": "code",
   "execution_count": 4,
   "id": "d60636ff",
   "metadata": {
    "ExecuteTime": {
     "end_time": "2022-08-13T15:37:39.438646Z",
     "start_time": "2022-08-13T15:37:04.701577Z"
    }
   },
   "outputs": [
    {
     "name": "stdout",
     "output_type": "stream",
     "text": [
      "7 9\n",
      "1 2 29\n",
      "1 5 75\n",
      "2 3 35\n",
      "2 6 34\n",
      "3 4 7\n",
      "4 6 23\n",
      "4 7 13\n",
      "5 6 53\n",
      "6 7 25\n",
      "159\n"
     ]
    }
   ],
   "source": [
    "v,e= map(int,input().split())\n",
    "parent = [0]*(v+1)\n",
    "\n",
    "edges =[]\n",
    "result = 0\n",
    "\n",
    "for i in range(1,v+1):\n",
    "    parent[i] = i\n",
    "\n",
    "for _ in range(e):\n",
    "    a,b,cost =  map(int,input().split())\n",
    "    edges.append((cost,a,b)) # 비용 순으로 정렬하기 위해 \n",
    "edges.sort() # 맨 앞 값으로 정렬\n",
    "\n",
    "for edge in edges:\n",
    "    cost,a,b = edge\n",
    "    if find_parent(parent,a) != find_parent(parent,b):\n",
    "        union_parent(parent,a,b)\n",
    "        result += cost\n",
    "\n",
    "\n",
    "print(result)"
   ]
  },
  {
   "cell_type": "markdown",
   "id": "8ba8d5a9",
   "metadata": {},
   "source": [
    "간선이 E개일 때 O(ElogE)의 시간복잡도 -> 정렬이 가장 오래걸리는 연산이므로"
   ]
  }
 ],
 "metadata": {
  "kernelspec": {
   "display_name": "Python 3 (ipykernel)",
   "language": "python",
   "name": "python3"
  },
  "language_info": {
   "codemirror_mode": {
    "name": "ipython",
    "version": 3
   },
   "file_extension": ".py",
   "mimetype": "text/x-python",
   "name": "python",
   "nbconvert_exporter": "python",
   "pygments_lexer": "ipython3",
   "version": "3.8.13"
  },
  "toc": {
   "base_numbering": 1,
   "nav_menu": {},
   "number_sections": true,
   "sideBar": true,
   "skip_h1_title": true,
   "title_cell": "Table of Contents",
   "title_sidebar": "Contents",
   "toc_cell": false,
   "toc_position": {},
   "toc_section_display": true,
   "toc_window_display": false
  },
  "varInspector": {
   "cols": {
    "lenName": 16,
    "lenType": 16,
    "lenVar": 40
   },
   "kernels_config": {
    "python": {
     "delete_cmd_postfix": "",
     "delete_cmd_prefix": "del ",
     "library": "var_list.py",
     "varRefreshCmd": "print(var_dic_list())"
    },
    "r": {
     "delete_cmd_postfix": ") ",
     "delete_cmd_prefix": "rm(",
     "library": "var_list.r",
     "varRefreshCmd": "cat(var_dic_list()) "
    }
   },
   "types_to_exclude": [
    "module",
    "function",
    "builtin_function_or_method",
    "instance",
    "_Feature"
   ],
   "window_display": false
  }
 },
 "nbformat": 4,
 "nbformat_minor": 5
}
