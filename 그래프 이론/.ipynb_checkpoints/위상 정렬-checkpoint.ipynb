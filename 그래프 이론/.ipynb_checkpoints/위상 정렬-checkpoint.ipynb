{
 "cells": [
  {
   "cell_type": "markdown",
   "id": "a47b0d50",
   "metadata": {},
   "source": [
    "위상 정렬 : 방향 그래프의 모든 노드를 '방향성에 거스르지 않도록 순서대로 나열하는 것'\n",
    "\n",
    "ex) 선수과목을 고려한 학습 순서 설정\n",
    "\n",
    "- 진입차수 : 특정 노드로 '들어오는' 간선의 개수 (위의 예로는 선수과목이 몇개인지)\n",
    "\n",
    "1. 진입차수가 0인 노드를 큐에 넣는다\n",
    "\n",
    "2. 큐가 빌 때까지 다음의 과정을 반복한다.\n",
    "\n",
    "    i. 큐에서 원소를 꺼내 해당 노드에서 출발하는 간선을 그래프에서 제거한다.\n",
    "    \n",
    "    ii. 새롭게 진입차수가 0이 된 노드를 큐에 넣는다.\n",
    "\n",
    "* 모든 원소를 방문하기 전 큐가 빈다면 사이클로 판단 / 다만 기본적으로 사이클이 발생하지 않는다고 명시하는 경우 많음 \n",
    "    "
   ]
  },
  {
   "cell_type": "code",
   "execution_count": 2,
   "id": "c1491b50",
   "metadata": {
    "ExecuteTime": {
     "end_time": "2022-08-14T08:34:50.675268Z",
     "start_time": "2022-08-14T08:34:34.223627Z"
    }
   },
   "outputs": [
    {
     "name": "stdout",
     "output_type": "stream",
     "text": [
      "7 8\n",
      "1 2\n",
      "1 5\n",
      "2 3\n",
      "2 6\n",
      "3 4\n",
      "4 7\n",
      "5 6\n",
      "6 4\n",
      "1 2 5 3 6 4 7 "
     ]
    }
   ],
   "source": [
    "# 위상 정렬 소스코드\n",
    "from collections import deque\n",
    "\n",
    "v,e = map(int,input().split())\n",
    "indegree = [0]*(v+1) # 진입차수 초기화\n",
    "graph = [[] for i in range(v+1)]\n",
    "\n",
    "for _ in range(e):\n",
    "    a,b =  map(int,input().split())\n",
    "    graph[a].append(b) # a -> b\n",
    "    indegree[b] +=1 # b 진입차수 증가\n",
    "    \n",
    "def topology_sort():\n",
    "    result =[]\n",
    "    q= deque()\n",
    "    for i in range(1,v+1):\n",
    "        if indegree[i]==0:\n",
    "            q.append(i)\n",
    "    while q:\n",
    "        now = q.popleft()\n",
    "        result.append(now)\n",
    "        for i in graph[now]: # 해당 노드와 연결된 노드 진입차수 -1\n",
    "            indegree[i] -=1\n",
    "            if indegree[i]==0:\n",
    "                q.append(i)\n",
    "    for i in result:\n",
    "        print(i,end=' ')\n",
    "topology_sort()\n",
    "            "
   ]
  },
  {
   "cell_type": "markdown",
   "id": "67ad6900",
   "metadata": {},
   "source": [
    "시간 복잡도는 O(V+E) 모든 노드, 간선 확인하므로 "
   ]
  }
 ],
 "metadata": {
  "kernelspec": {
   "display_name": "Python 3 (ipykernel)",
   "language": "python",
   "name": "python3"
  },
  "language_info": {
   "codemirror_mode": {
    "name": "ipython",
    "version": 3
   },
   "file_extension": ".py",
   "mimetype": "text/x-python",
   "name": "python",
   "nbconvert_exporter": "python",
   "pygments_lexer": "ipython3",
   "version": "3.8.13"
  },
  "toc": {
   "base_numbering": 1,
   "nav_menu": {},
   "number_sections": true,
   "sideBar": true,
   "skip_h1_title": true,
   "title_cell": "Table of Contents",
   "title_sidebar": "Contents",
   "toc_cell": false,
   "toc_position": {},
   "toc_section_display": true,
   "toc_window_display": false
  },
  "varInspector": {
   "cols": {
    "lenName": 16,
    "lenType": 16,
    "lenVar": 40
   },
   "kernels_config": {
    "python": {
     "delete_cmd_postfix": "",
     "delete_cmd_prefix": "del ",
     "library": "var_list.py",
     "varRefreshCmd": "print(var_dic_list())"
    },
    "r": {
     "delete_cmd_postfix": ") ",
     "delete_cmd_prefix": "rm(",
     "library": "var_list.r",
     "varRefreshCmd": "cat(var_dic_list()) "
    }
   },
   "types_to_exclude": [
    "module",
    "function",
    "builtin_function_or_method",
    "instance",
    "_Feature"
   ],
   "window_display": false
  }
 },
 "nbformat": 4,
 "nbformat_minor": 5
}
