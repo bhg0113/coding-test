{
 "cells": [
  {
   "cell_type": "markdown",
   "id": "6e48c98b",
   "metadata": {},
   "source": [
    "https://velog.io/@juyeonma9/%EC%9D%B4%EC%BD%94%ED%85%8C-%EA%B7%B8%EB%9E%98%ED%94%84%EC%9D%B4%EB%A1%A0-%EC%BB%A4%EB%A6%AC%ED%81%98%EB%9F%BC-for-python"
   ]
  },
  {
   "cell_type": "code",
   "execution_count": 4,
   "id": "a86096c7",
   "metadata": {
    "ExecuteTime": {
     "end_time": "2022-08-19T13:37:28.708603Z",
     "start_time": "2022-08-19T13:37:12.999750Z"
    }
   },
   "outputs": [
    {
     "name": "stdout",
     "output_type": "stream",
     "text": [
      "5\n",
      "10 -1\n",
      "10 1 -1\n",
      "4 1 -1\n",
      "4 3 1 -1\n",
      "3 3 -1\n",
      "[[], [1, 2, 3], [], [3, 4], []]\n"
     ]
    }
   ],
   "source": [
    "# 위상 정렬 알고리즘으로 n개의 강의 수강할 때까지\n",
    "# 진입차수가 0이 되어야만 수강할 수 있으므로 위상정렬이 최소 비용\n",
    "# 위상정렬 시간복잡도 O(V+E)에 비해 널널한 제한 조건 (n<=500)\n",
    "from collections import deque\n",
    "import copy \n",
    "\n",
    "n = int(input())\n",
    "indegree = [0] *(n+1)\n",
    "graph = [[]for i in range(n)] \n",
    "\n",
    "times = [0] * (n+1) # 시간 초기화\n",
    "\n",
    "for i in range(n): \n",
    "    # 간선 정보 받기\n",
    "    clas = list(map(int,input().split()))\n",
    "    times[i] = clas[0] # 각 강의 시간 넣기\n",
    "    for j in clas[1:-1]: # 연결된 강의 정보 넣기 \n",
    "        graph[j].append(i)\n",
    "        indegree[i] += 1\n",
    "\n",
    "print(graph)\n",
    "def topology_sort():\n",
    "    q= deque()\n",
    "    reslt = copy.deepcoy(time) # 풀이 참조\n",
    "    \n",
    "    for i in range(1,n+1):\n",
    "        if indegree[i]==0:\n",
    "            q.append(i)\n",
    "            \n",
    "    while q:\n",
    "        now = q.popleft()\n",
    "        for i in graph[now]: # 현재 노드 값\n",
    "            \n",
    "            '''\n",
    "            그 다음 강의를 수강하기까지의 최소 시간\n",
    "            = 지금까지 계산된 시간과\n",
    "            현재 강의를 수강하기까지의 최소 시간 + 이번 강의의 수강 시간 중 max 값\n",
    "            가장 큰 값을 고르는 이유는, 그래야 더 적은 시간이 걸리는 선수 강의도 포괄하기 때문\n",
    "            '''\n",
    "            result[i] = max(result[i],result[now]+time[i]) # 풀이참조\n",
    "            indegree[i] -=1\n",
    "            if indegree[i]==0:\n",
    "                q.append(i)\n",
    "    for i in range(1,v+1):\n",
    "        print(result[i])\n",
    "        "
   ]
  },
  {
   "cell_type": "code",
   "execution_count": null,
   "id": "0e151a42",
   "metadata": {},
   "outputs": [],
   "source": [
    "()"
   ]
  }
 ],
 "metadata": {
  "kernelspec": {
   "display_name": "Python 3 (ipykernel)",
   "language": "python",
   "name": "python3"
  },
  "language_info": {
   "codemirror_mode": {
    "name": "ipython",
    "version": 3
   },
   "file_extension": ".py",
   "mimetype": "text/x-python",
   "name": "python",
   "nbconvert_exporter": "python",
   "pygments_lexer": "ipython3",
   "version": "3.8.13"
  },
  "toc": {
   "base_numbering": 1,
   "nav_menu": {},
   "number_sections": true,
   "sideBar": true,
   "skip_h1_title": true,
   "title_cell": "Table of Contents",
   "title_sidebar": "Contents",
   "toc_cell": false,
   "toc_position": {},
   "toc_section_display": true,
   "toc_window_display": false
  },
  "varInspector": {
   "cols": {
    "lenName": 16,
    "lenType": 16,
    "lenVar": 40
   },
   "kernels_config": {
    "python": {
     "delete_cmd_postfix": "",
     "delete_cmd_prefix": "del ",
     "library": "var_list.py",
     "varRefreshCmd": "print(var_dic_list())"
    },
    "r": {
     "delete_cmd_postfix": ") ",
     "delete_cmd_prefix": "rm(",
     "library": "var_list.r",
     "varRefreshCmd": "cat(var_dic_list()) "
    }
   },
   "types_to_exclude": [
    "module",
    "function",
    "builtin_function_or_method",
    "instance",
    "_Feature"
   ],
   "window_display": false
  }
 },
 "nbformat": 4,
 "nbformat_minor": 5
}
