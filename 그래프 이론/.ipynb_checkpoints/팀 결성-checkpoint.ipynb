{
 "cells": [
  {
   "cell_type": "markdown",
   "id": "8fc7b736",
   "metadata": {},
   "source": [
    "https://velog.io/@xxwb__/%EC%9D%B4%EA%B2%83%EC%9D%B4-%EC%BD%94%EB%94%A9%ED%85%8C%EC%8A%A4%ED%8A%B8%EB%8B%A4-%EA%B7%B8%EB%9E%98%ED%94%84-%EC%9D%B4%EB%A1%A0-%ED%8C%80-%EA%B2%B0%EC%84%B1"
   ]
  },
  {
   "cell_type": "markdown",
   "id": "9206746f",
   "metadata": {},
   "source": [
    "n, m은 10만 이하, 시간제한 2초로 경로압축 기법 써야함 (안쓰면 O(VM))\n",
    "서로소 집합 알고리즘 그대로 적용하면 될 듯 -> 대략 O(V+MlogV)이므로 "
   ]
  },
  {
   "cell_type": "code",
   "execution_count": null,
   "id": "7163f062",
   "metadata": {},
   "outputs": [],
   "source": [
    "def find_parent(parent,x):\n",
    "    if parent[x] != x:\n",
    "        parent[x] = find_parent(parent,parent[x])\n",
    "    return parent[x]\n",
    "\n",
    "def union_parent(parent,a,b):\n",
    "    a= find_parent(parent,a)\n",
    "    b= find_parent(parent,b)\n",
    "    if a > b: # a가 b에 속함\n",
    "        parent[a] =b\n",
    "    else:\n",
    "        parent[b] =a\n",
    "\n",
    "n, m = map(int,input().split())\n",
    "parent = [0] * (n+1)\n",
    "for i in range(1,n+1):\n",
    "    parent[i]=i\n",
    "\n",
    "for i in range(m):\n",
    "    cal, a,b = map(int,input().split())\n",
    "    if cal ==0:\n",
    "        union_parent(parent,a,b)\n",
    "    else:\n",
    "        a_team = find_parent(parent,a)\n",
    "        b_team = find_parent(parent,b)\n",
    "        if a_team == b_team:\n",
    "            print('YES')\n",
    "        else: print('NO')"
   ]
  },
  {
   "cell_type": "code",
   "execution_count": null,
   "id": "b9f5a74e",
   "metadata": {},
   "outputs": [],
   "source": []
  }
 ],
 "metadata": {
  "kernelspec": {
   "display_name": "Python 3 (ipykernel)",
   "language": "python",
   "name": "python3"
  },
  "language_info": {
   "codemirror_mode": {
    "name": "ipython",
    "version": 3
   },
   "file_extension": ".py",
   "mimetype": "text/x-python",
   "name": "python",
   "nbconvert_exporter": "python",
   "pygments_lexer": "ipython3",
   "version": "3.8.13"
  },
  "toc": {
   "base_numbering": 1,
   "nav_menu": {},
   "number_sections": true,
   "sideBar": true,
   "skip_h1_title": true,
   "title_cell": "Table of Contents",
   "title_sidebar": "Contents",
   "toc_cell": false,
   "toc_position": {},
   "toc_section_display": true,
   "toc_window_display": false
  },
  "varInspector": {
   "cols": {
    "lenName": 16,
    "lenType": 16,
    "lenVar": 40
   },
   "kernels_config": {
    "python": {
     "delete_cmd_postfix": "",
     "delete_cmd_prefix": "del ",
     "library": "var_list.py",
     "varRefreshCmd": "print(var_dic_list())"
    },
    "r": {
     "delete_cmd_postfix": ") ",
     "delete_cmd_prefix": "rm(",
     "library": "var_list.r",
     "varRefreshCmd": "cat(var_dic_list()) "
    }
   },
   "types_to_exclude": [
    "module",
    "function",
    "builtin_function_or_method",
    "instance",
    "_Feature"
   ],
   "window_display": false
  }
 },
 "nbformat": 4,
 "nbformat_minor": 5
}
