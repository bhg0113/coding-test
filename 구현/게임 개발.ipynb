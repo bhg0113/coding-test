{
 "cells": [
  {
   "cell_type": "code",
   "execution_count": 43,
   "id": "6e0d2bf9",
   "metadata": {
    "ExecuteTime": {
     "end_time": "2022-07-10T13:36:09.819371Z",
     "start_time": "2022-07-10T13:35:58.635115Z"
    }
   },
   "outputs": [
    {
     "name": "stdout",
     "output_type": "stream",
     "text": [
      "4 4 \n",
      "1 1 0\n",
      "1 1 1 1\n",
      "1 0 0 1\n",
      "1 1 0 1\n",
      "1 1 1 1\n"
     ]
    }
   ],
   "source": [
    "n, m = map(int, input().split())\n",
    "char =list(map(int, input().split()))\n",
    "board = []\n",
    "for i in range(n):\n",
    "    board.append(list(map(int, input().split())))\n",
    "    \n",
    "move = [[-1,0],[0,-1],[1,0],[0,1]]"
   ]
  },
  {
   "cell_type": "code",
   "execution_count": 44,
   "id": "0712f51d",
   "metadata": {
    "ExecuteTime": {
     "end_time": "2022-07-10T13:36:10.333123Z",
     "start_time": "2022-07-10T13:36:10.314133Z"
    }
   },
   "outputs": [
    {
     "data": {
      "text/plain": [
       "([[1, 1, 1, 1], [1, 0, 0, 1], [1, 1, 0, 1], [1, 1, 1, 1]], [1, 1, 0])"
      ]
     },
     "execution_count": 44,
     "metadata": {},
     "output_type": "execute_result"
    }
   ],
   "source": [
    "board, char"
   ]
  },
  {
   "cell_type": "code",
   "execution_count": 46,
   "id": "f5690c3a",
   "metadata": {
    "ExecuteTime": {
     "end_time": "2022-07-10T13:36:23.089353Z",
     "start_time": "2022-07-10T13:36:23.067358Z"
    }
   },
   "outputs": [
    {
     "name": "stdout",
     "output_type": "stream",
     "text": [
      "4\n"
     ]
    }
   ],
   "source": [
    "# 1. 현재 방향에서 방향+1 (move 인덱스 +1)\n",
    "# 2. if '육지'인 '가보지 않은' 칸: 전진 else: 방향 +1\n",
    "# 3. elif 네 방향 모두 가본 칸 or 바다인 경우 뒤로 한칸 (move 반대로)\n",
    "# 4. if 뒤가 바다: stop하고 방문한 칸 출력\n",
    "\n",
    "# 캐릭터의 위치가 board에서 육지인지 가보지 않은 곳인지 확인하는 식으로 이동\n",
    "# 가본 곳이라는 확인 필요\n",
    "\n",
    "explored = [] # 예시답안 에서는 이렇게 안하고 그냥 도착한 곳을 초기화한 곳(d)에서 1로 바꿔버리는 식으로 처리\n",
    "\n",
    "while True: # 4번 전까지 \n",
    "    if char[:2] not in explored: # 뒤로 갈 때 한번 더 더해져서, 그냥 출력에서 -1 할 수도 있어보임\n",
    "        explored.append(char[:2]) # 가본 곳 확인\n",
    "#     print(explored)\n",
    "    go = False # 이번 턴에 칸 이동하는지 확인\n",
    "    for i in range(4): # 동서남북 확인\n",
    "        if char[2] != 3: char[2] +=1 # 방향 전환\n",
    "        else: char[2] = 0\n",
    "\n",
    "        if board[char[0]+move[char[2]][0]][char[1]+move[char[2]][1]] == 0 and [char[0]+move[char[2]][0],char[1]+move[char[2]][1]] not in explored: # 갈 곳이 육지인지 확인\n",
    "            char[0],char[1] = char[0]+move[char[2]][0],char[1]+move[char[2]][1] # 이동\n",
    "            go =True \n",
    "            break\n",
    "                             \n",
    "    if go ==False: # 4방향 모두 확인했는데도 육지없거나 가본 곳이면 \n",
    "        char[0],char[1] = char[0]-move[char[2]][0],char[1]-move[char[2]][1] # 뒤로 한 칸\n",
    "        if board[char[0]][char[1]] == 1:  # 뒤가 바다\n",
    "            print(len(explored)) \n",
    "            break\n",
    "        \n",
    "    "
   ]
  },
  {
   "cell_type": "code",
   "execution_count": null,
   "id": "0a89db53",
   "metadata": {},
   "outputs": [],
   "source": []
  }
 ],
 "metadata": {
  "kernelspec": {
   "display_name": "Python 3 (ipykernel)",
   "language": "python",
   "name": "python3"
  },
  "language_info": {
   "codemirror_mode": {
    "name": "ipython",
    "version": 3
   },
   "file_extension": ".py",
   "mimetype": "text/x-python",
   "name": "python",
   "nbconvert_exporter": "python",
   "pygments_lexer": "ipython3",
   "version": "3.8.12"
  },
  "toc": {
   "base_numbering": 1,
   "nav_menu": {},
   "number_sections": true,
   "sideBar": true,
   "skip_h1_title": true,
   "title_cell": "Table of Contents",
   "title_sidebar": "Contents",
   "toc_cell": false,
   "toc_position": {},
   "toc_section_display": true,
   "toc_window_display": false
  },
  "varInspector": {
   "cols": {
    "lenName": 16,
    "lenType": 16,
    "lenVar": 40
   },
   "kernels_config": {
    "python": {
     "delete_cmd_postfix": "",
     "delete_cmd_prefix": "del ",
     "library": "var_list.py",
     "varRefreshCmd": "print(var_dic_list())"
    },
    "r": {
     "delete_cmd_postfix": ") ",
     "delete_cmd_prefix": "rm(",
     "library": "var_list.r",
     "varRefreshCmd": "cat(var_dic_list()) "
    }
   },
   "types_to_exclude": [
    "module",
    "function",
    "builtin_function_or_method",
    "instance",
    "_Feature"
   ],
   "window_display": false
  }
 },
 "nbformat": 4,
 "nbformat_minor": 5
}
