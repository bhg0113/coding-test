{
 "cells": [
  {
   "cell_type": "markdown",
   "id": "2b1d386c",
   "metadata": {},
   "source": [
    "https://www.acmicpc.net/problem/3190"
   ]
  },
  {
   "cell_type": "code",
   "execution_count": 87,
   "id": "abfd9af2",
   "metadata": {
    "ExecuteTime": {
     "end_time": "2022-08-29T10:20:04.052247Z",
     "start_time": "2022-08-29T10:19:51.470264Z"
    },
    "scrolled": false
   },
   "outputs": [
    {
     "name": "stdout",
     "output_type": "stream",
     "text": [
      "10\n",
      "4\n",
      "1 2\n",
      "1 3\n",
      "1 4\n",
      "1 5\n",
      "4\n",
      "8 D\n",
      "10 D\n",
      "11 D\n",
      "13 L\n"
     ]
    }
   ],
   "source": [
    "# 데이터 받기\n",
    "n = int(input())\n",
    "k = int(input())\n",
    "apples = []\n",
    "for _ in range(k):\n",
    "    a, b = map(int, input().split())\n",
    "    apples.append((a, b))\n",
    "l = int(input())\n",
    "change_direction = []\n",
    "for i in range(l):\n",
    "    t, d = input().split()\n",
    "    change_direction.append((int(t), d))"
   ]
  },
  {
   "cell_type": "code",
   "execution_count": 88,
   "id": "409b047b",
   "metadata": {
    "ExecuteTime": {
     "end_time": "2022-08-29T10:20:05.249611Z",
     "start_time": "2022-08-29T10:20:05.236616Z"
    }
   },
   "outputs": [
    {
     "name": "stdout",
     "output_type": "stream",
     "text": [
      "21\n"
     ]
    }
   ],
   "source": [
    "snake = [(1, 1)]\n",
    "time = 0\n",
    "direction = [(0, 1), (-1, 0), (0, -1), (1, 0)]  # 우, 상, 좌, 하\n",
    "dd = 0\n",
    "while 0 not in snake[-1] and n+1 not in snake[-1]:  # 뱀 머리가 벽(0,n+1)에 닿을 경우 \n",
    "    snake.append((snake[-1][0] + direction[dd][0],\n",
    "                  snake[-1][1] + direction[dd][1]))  # 머리 넣기\n",
    "    time += 1\n",
    "    if snake[-1]  in snake[:-1]: # 여기서 꼬리제거하지 않고 머리를 확인해야 함 \n",
    "        break\n",
    "    if snake[-1] not in apples: # 사과 확인 \n",
    "        snake.pop(0)  # 꼬리제거\n",
    "    else:\n",
    "        apples.remove(snake[-1])  # 머리 위치의 사과 제거\n",
    "    if len(change_direction) > 0 and time == change_direction[0][0]:\n",
    "        i, d = change_direction.pop(0)\n",
    "        if d == 'L': # 왼쪽 \n",
    "            dd += 1\n",
    "        else: # 오른쪽 \n",
    "            dd -= 1\n",
    "        if dd >= 4: # 이걸로 방향 순환 \n",
    "            dd -=4\n",
    "        elif dd <= -5:\n",
    "            dd +=4\n",
    "#     print(snake,time)\n",
    "print(time)"
   ]
  },
  {
   "cell_type": "code",
   "execution_count": null,
   "id": "8d99bb98",
   "metadata": {},
   "outputs": [],
   "source": [
    "# 이코테 풀이 \n",
    "n = int(input())\n",
    "k = int(input())\n",
    "data = [[0] * (n + 1) for _ in range(n + 1)] # 맵 정보 / 나는 맵 따로 만들지 않음 \n",
    "info = [] # 방향 회전 정보\n",
    "\n",
    "# 맵 정보(사과 있는 곳은 1로 표시)\n",
    "for _ in range(k):\n",
    "    a, b = map(int, input().split())\n",
    "    data[a][b] = 1\n",
    "\n",
    "# 방향 회전 정보 입력\n",
    "l = int(input())\n",
    "for _ in range(l):\n",
    "    x, c = input().split()\n",
    "    info.append((int(x), c))\n",
    "\n",
    "# 처음에는 오른쪽을 보고 있으므로(동, 남, 서, 북)\n",
    "dx = [0, 1, 0, -1] # dx dy로 처리 기억해두기 \n",
    "dy = [1, 0, -1, 0]\n",
    "\n",
    "def turn(direction, c):\n",
    "    if c == \"L\":\n",
    "        direction = (direction - 1) % 4 # 순환하기 위해, 내 코드 간략히 가능 \n",
    "    else:\n",
    "        direction = (direction + 1) % 4\n",
    "    return direction\n",
    "\n",
    "def simulate():\n",
    "    x, y = 1, 1 # 뱀의 머리 위치\n",
    "    data[x][y] = 2 # 뱀이 존재하는 위치는 2로 표시\n",
    "    direction = 0 # 처음에는 동쪽을 보고 있음\n",
    "    time = 0 # 시작한 뒤에 지난 '초' 시간\n",
    "    index = 0 # 다음에 회전할 정보\n",
    "    q = [(x, y)] # 뱀이 차지하고 있는 위치 정보(꼬리가 앞쪽)\n",
    "\n",
    "    while True:\n",
    "        nx = x + dx[direction]\n",
    "        ny = y + dy[direction]\n",
    "        # 맵 범위 안에 있고, 뱀의 몸통이 없는 위치라면\n",
    "        if 1 <= nx and nx <= n and 1 <= ny and ny <= n and data[nx][ny] != 2:\n",
    "            # 사과가 없다면 이동 후에 꼬리 제거\n",
    "            if data[nx][ny] == 0:\n",
    "                data[nx][ny] = 2\n",
    "                q.append((nx, ny))\n",
    "                px, py = q.pop(0)\n",
    "                data[px][py] = 0\n",
    "            # 사과가 있다면 이동 후에 꼬리 그대로 두기\n",
    "            if data[nx][ny] == 1:\n",
    "                data[nx][ny] = 2\n",
    "                q.append((nx, ny))\n",
    "        # 벽이나 뱀의 몸통과 부딪혔다면\n",
    "        else:\n",
    "            time += 1\n",
    "            break\n",
    "        x, y = nx, ny # 다음 위치로 머리를 이동\n",
    "        time += 1\n",
    "        if index < l and time == info[index][0]: # 회전할 시간인 경우 회전\n",
    "            direction = turn(direction, info[index][1])\n",
    "            index += 1\n",
    "    return time\n",
    "\n",
    "print(simulate())"
   ]
  }
 ],
 "metadata": {
  "kernelspec": {
   "display_name": "Python 3 (ipykernel)",
   "language": "python",
   "name": "python3"
  },
  "language_info": {
   "codemirror_mode": {
    "name": "ipython",
    "version": 3
   },
   "file_extension": ".py",
   "mimetype": "text/x-python",
   "name": "python",
   "nbconvert_exporter": "python",
   "pygments_lexer": "ipython3",
   "version": "3.8.13"
  },
  "toc": {
   "base_numbering": 1,
   "nav_menu": {},
   "number_sections": true,
   "sideBar": true,
   "skip_h1_title": true,
   "title_cell": "Table of Contents",
   "title_sidebar": "Contents",
   "toc_cell": false,
   "toc_position": {},
   "toc_section_display": true,
   "toc_window_display": false
  },
  "varInspector": {
   "cols": {
    "lenName": 16,
    "lenType": 16,
    "lenVar": 40
   },
   "kernels_config": {
    "python": {
     "delete_cmd_postfix": "",
     "delete_cmd_prefix": "del ",
     "library": "var_list.py",
     "varRefreshCmd": "print(var_dic_list())"
    },
    "r": {
     "delete_cmd_postfix": ") ",
     "delete_cmd_prefix": "rm(",
     "library": "var_list.r",
     "varRefreshCmd": "cat(var_dic_list()) "
    }
   },
   "types_to_exclude": [
    "module",
    "function",
    "builtin_function_or_method",
    "instance",
    "_Feature"
   ],
   "window_display": false
  }
 },
 "nbformat": 4,
 "nbformat_minor": 5
}
