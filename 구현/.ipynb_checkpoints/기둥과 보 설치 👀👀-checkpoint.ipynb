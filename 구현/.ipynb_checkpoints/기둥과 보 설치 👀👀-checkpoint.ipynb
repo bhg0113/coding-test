{
 "cells": [
  {
   "cell_type": "markdown",
   "id": "04b0a830",
   "metadata": {},
   "source": [
    "https://school.programmers.co.kr/learn/courses/30/lessons/60061"
   ]
  },
  {
   "cell_type": "code",
   "execution_count": null,
   "id": "b75c571d",
   "metadata": {},
   "outputs": [],
   "source": [
    "# 첫 접근, 기본 테케 만족 / 제출 테케는 다 틀림 \n",
    "def solution(n, build_frame):\n",
    "    wall = []\n",
    "    wall2 =[] # 설치 다음 부분\n",
    "    \n",
    "    for x,y,a,b in build_frame:\n",
    "        if b == 0: # 삭제\n",
    "            if a == 0: # 기둥\n",
    "                if ([x,y+1,1] in wall or ([x+1,y+1,1] in wall or [x-1,y,+1,1]) in wall): \n",
    "                #위에 보 혼자 있지 않으면 \n",
    "                    wall.remove([x,y,a]) \n",
    "                    wall2.remove([x,y+1,a])\n",
    "            else: # 보\n",
    "                if ([x+1,y,1] not in wall or [x-1,y,1] not in wall): \n",
    "                # 좌우에 누가 없다면 \n",
    "                    wall.remove([x,y,a]) \n",
    "                    wall2.remove([x+1,y,a])\n",
    "        \n",
    "        else: # 설치\n",
    "            if a == 0: # 기둥\n",
    "                if y==0 or [x,y] in [a[:2] for a in wall2] : #  바닥 위 or 다른 구조물 끝\n",
    "                    wall.append([x,y,a])\n",
    "                    wall2.append([x,y+1,a])\n",
    "            else: # 보\n",
    "                if [x,y] in [a[:2] for a in wall2] or [x+1,y] in [a[:2] for a in wall2]: # 기둥 위 or 좌우 보 있음\n",
    "                    wall.append([x,y,a])\n",
    "                    wall2.append([x+1,y,a])\n",
    "        # print(x,y,a,b, wall)\n",
    "        # print([a[:2] for a in wall2])\n",
    "        \n",
    "    wall.sort()\n",
    "\n",
    "    return wall"
   ]
  }
 ],
 "metadata": {
  "kernelspec": {
   "display_name": "Python 3 (ipykernel)",
   "language": "python",
   "name": "python3"
  },
  "language_info": {
   "codemirror_mode": {
    "name": "ipython",
    "version": 3
   },
   "file_extension": ".py",
   "mimetype": "text/x-python",
   "name": "python",
   "nbconvert_exporter": "python",
   "pygments_lexer": "ipython3",
   "version": "3.8.13"
  },
  "toc": {
   "base_numbering": 1,
   "nav_menu": {},
   "number_sections": true,
   "sideBar": true,
   "skip_h1_title": true,
   "title_cell": "Table of Contents",
   "title_sidebar": "Contents",
   "toc_cell": false,
   "toc_position": {},
   "toc_section_display": true,
   "toc_window_display": false
  },
  "varInspector": {
   "cols": {
    "lenName": 16,
    "lenType": 16,
    "lenVar": 40
   },
   "kernels_config": {
    "python": {
     "delete_cmd_postfix": "",
     "delete_cmd_prefix": "del ",
     "library": "var_list.py",
     "varRefreshCmd": "print(var_dic_list())"
    },
    "r": {
     "delete_cmd_postfix": ") ",
     "delete_cmd_prefix": "rm(",
     "library": "var_list.r",
     "varRefreshCmd": "cat(var_dic_list()) "
    }
   },
   "types_to_exclude": [
    "module",
    "function",
    "builtin_function_or_method",
    "instance",
    "_Feature"
   ],
   "window_display": false
  }
 },
 "nbformat": 4,
 "nbformat_minor": 5
}
