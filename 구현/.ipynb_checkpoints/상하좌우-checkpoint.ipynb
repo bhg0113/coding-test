{
 "cells": [
  {
   "cell_type": "markdown",
   "id": "06092709",
   "metadata": {},
   "source": [
    "10,000,000 길이의 리스트 메모리 사용량 : 약 40MB\n",
    "https://ongbike.tistory.com/633"
   ]
  },
  {
   "cell_type": "code",
   "execution_count": 3,
   "id": "a4751857",
   "metadata": {
    "ExecuteTime": {
     "end_time": "2022-07-09T14:47:33.698755Z",
     "start_time": "2022-07-09T14:47:24.891548Z"
    }
   },
   "outputs": [
    {
     "name": "stdout",
     "output_type": "stream",
     "text": [
      "5\n",
      "R R R U D D\n"
     ]
    }
   ],
   "source": [
    "n = int(input())\n",
    "plans = input().split()"
   ]
  },
  {
   "cell_type": "code",
   "execution_count": 9,
   "id": "9407599c",
   "metadata": {
    "ExecuteTime": {
     "end_time": "2022-07-09T14:48:57.071671Z",
     "start_time": "2022-07-09T14:48:57.050988Z"
    }
   },
   "outputs": [
    {
     "name": "stdout",
     "output_type": "stream",
     "text": [
      "3 4\n"
     ]
    }
   ],
   "source": [
    "point= [1,1]\n",
    "for plan in plans:\n",
    "    if plan =='L' and point[1] !=1:\n",
    "        point[1] -=1\n",
    "    elif plan =='R' and point[1] !=n:\n",
    "        point[1] +=1\n",
    "    elif plan =='U' and point[0] !=1:\n",
    "        point[0] -=1\n",
    "    elif plan =='D' and point[1] !=n:\n",
    "        point[0] +=1\n",
    "                              \n",
    "print(' '.join(map(str,point)))\n",
    "            "
   ]
  },
  {
   "cell_type": "code",
   "execution_count": null,
   "id": "70f38663",
   "metadata": {},
   "outputs": [],
   "source": [
    "# dx = [0,0,-1,1], dy = [-1,1,0,0], move = [L,R,U,D] 와 같이\n",
    "# 미리 dx, dy와 LRDU를 dict 처럼 맞춰 두면\n",
    "# 후에 타입 확인 후 인덱싱하여 더하는 식으로 처리 가능\n"
   ]
  }
 ],
 "metadata": {
  "kernelspec": {
   "display_name": "Python 3 (ipykernel)",
   "language": "python",
   "name": "python3"
  },
  "language_info": {
   "codemirror_mode": {
    "name": "ipython",
    "version": 3
   },
   "file_extension": ".py",
   "mimetype": "text/x-python",
   "name": "python",
   "nbconvert_exporter": "python",
   "pygments_lexer": "ipython3",
   "version": "3.8.12"
  },
  "toc": {
   "base_numbering": 1,
   "nav_menu": {},
   "number_sections": true,
   "sideBar": true,
   "skip_h1_title": true,
   "title_cell": "Table of Contents",
   "title_sidebar": "Contents",
   "toc_cell": false,
   "toc_position": {},
   "toc_section_display": true,
   "toc_window_display": false
  },
  "varInspector": {
   "cols": {
    "lenName": 16,
    "lenType": 16,
    "lenVar": 40
   },
   "kernels_config": {
    "python": {
     "delete_cmd_postfix": "",
     "delete_cmd_prefix": "del ",
     "library": "var_list.py",
     "varRefreshCmd": "print(var_dic_list())"
    },
    "r": {
     "delete_cmd_postfix": ") ",
     "delete_cmd_prefix": "rm(",
     "library": "var_list.r",
     "varRefreshCmd": "cat(var_dic_list()) "
    }
   },
   "types_to_exclude": [
    "module",
    "function",
    "builtin_function_or_method",
    "instance",
    "_Feature"
   ],
   "window_display": false
  }
 },
 "nbformat": 4,
 "nbformat_minor": 5
}
