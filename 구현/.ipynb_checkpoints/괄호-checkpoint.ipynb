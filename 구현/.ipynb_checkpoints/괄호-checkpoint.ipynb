{
 "cells": [
  {
   "cell_type": "markdown",
   "id": "d4539732",
   "metadata": {},
   "source": [
    "https://www.acmicpc.net/problem/9012"
   ]
  },
  {
   "cell_type": "code",
   "execution_count": 16,
   "id": "d0d1c1ae",
   "metadata": {
    "collapsed": true
   },
   "outputs": [
    {
     "name": "stdout",
     "output_type": "stream",
     "text": [
      "3\n",
      "((\n",
      "NO\n",
      "))\n",
      "NO\n",
      "())(()\n",
      "NO\n"
     ]
    }
   ],
   "source": [
    "# 1초이고 한 줄마다 처리인 것으로 보아 시간제한은 크게 문제되지 않음 \n",
    "n = int(input())\n",
    "for i in range(n):\n",
    "    ps = input()\n",
    "    if ps.count('(')!=ps.count(')'): # 일단 괄호 좌우 개수가 같은지 확인\n",
    "        print('NO')\n",
    "        continue\n",
    "        \n",
    "    b= False\n",
    "    for i,v in enumerate(ps): # 중간에 )가 더 많으면 break\n",
    "        if ps[:i+1].count('(') < ps[:i+1].count(')'):\n",
    "            print('NO')\n",
    "            b=True\n",
    "            break\n",
    "    if b==False:\n",
    "        print('YES')"
   ]
  },
  {
   "cell_type": "code",
   "execution_count": 6,
   "id": "c840954d",
   "metadata": {
    "scrolled": true
   },
   "outputs": [
    {
     "name": "stdout",
     "output_type": "stream",
     "text": [
      "NO\n",
      "YES\n"
     ]
    }
   ],
   "source": [
    "# 참조 풀이\n",
    "# 이런 식으로 하나씩 확인해가며(count확인이 아니라 누적식) 체크하는 방법이 더 효율적인 계산으로 보임 \n",
    "from sys import stdin\n",
    "\n",
    "n = int(input())\n",
    "for _ in range(n):\n",
    "    str_ = stdin.readline().strip()\n",
    "    stack = 0\n",
    "    for chr_ in str_:\n",
    "        if chr_ == '(':\n",
    "            stack += 1\n",
    "        else:\n",
    "            stack -= 1\n",
    "            if stack < 0:\n",
    "                break\n",
    "    if stack == 0:\n",
    "        print('YES')\n",
    "    else:\n",
    "        print('NO')"
   ]
  }
 ],
 "metadata": {
  "kernelspec": {
   "display_name": "Python 3 (ipykernel)",
   "language": "python",
   "name": "python3"
  },
  "language_info": {
   "codemirror_mode": {
    "name": "ipython",
    "version": 3
   },
   "file_extension": ".py",
   "mimetype": "text/x-python",
   "name": "python",
   "nbconvert_exporter": "python",
   "pygments_lexer": "ipython3",
   "version": "3.8.13"
  }
 },
 "nbformat": 4,
 "nbformat_minor": 5
}
