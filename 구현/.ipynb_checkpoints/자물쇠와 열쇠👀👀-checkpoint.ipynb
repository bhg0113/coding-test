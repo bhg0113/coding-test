{
 "cells": [
  {
   "cell_type": "markdown",
   "id": "6a66f87c",
   "metadata": {},
   "source": [
    "https://school.programmers.co.kr/learn/courses/30/lessons/60059"
   ]
  },
  {
   "cell_type": "code",
   "execution_count": null,
   "id": "99ab460c",
   "metadata": {},
   "outputs": [],
   "source": [
    "# 다음과 같이 인덱스만 가지고 풀이 접근\n",
    "# 상하좌우 모두 하면서 회전까지 하는것의 복잡성을 어떻게 할지 몰라 답안참조\n",
    "def rotate_90(m):\n",
    "    N = len(m)\n",
    "    ret = [(0,0) * N for _ in range(N)] # 인덱스 초기화\n",
    "    for i in range(len(ret)): # 1개수 만큼\n",
    "        ret[i] = [m[i][1],N-1-m[i][0]] # 회전 후 행 = 회전 절 열 / 회전 후 열 = N-회전 전 행\n",
    "    return ret\n",
    "\n",
    "# def up(m):def rotate(m): # 90도 회전\n",
    "    a = m.copy()\n",
    "    n = len(m)\n",
    "    for i in range(len(m)): \n",
    "        a[i] =(m[i][1],n-1-m[i][0])# 회전 후 행 = 회전 절 열 / 회전 후 열 = N-회전 전 행\n",
    "    return a\n",
    "                \n",
    "def check(m,holes,lock_proj): \n",
    "    # 자물쇠 내 영역홈을 못 채운다 or 돌기와 돌기 만난다\n",
    "    if list(set(m) & set(holes)) != holes or len(set(m) & set(lock_proj)) >0:\n",
    "        return False \n",
    "    return True \n",
    "\n",
    "def solution(key, lock):\n",
    "    holes = []\n",
    "    proj=[]\n",
    "    lock_proj = []\n",
    "    for i in range(len(lock)): \n",
    "        for j in range(len(lock[i])):\n",
    "            if lock[i][j]==0:\n",
    "                holes.append((i,j)) # 홈 인덱스 \n",
    "            else:\n",
    "                lock_proj.append((i,j))# 자물쇠 돌기 인덱스\n",
    "    for i in range(len(key)): \n",
    "        for j in range(len(key[i])):\n",
    "            if key[i][j]==1:\n",
    "                proj.append((i,j)) # 키 돌기 인덱스\n",
    "\n",
    "    n = len(lock)\n",
    "    keys = proj.copy()\n",
    "    for i in range(-3*n,5*n,1): # 상하\n",
    "        for j in range(-3*n,5*n,1): # 좌우\n",
    "            trans = [(a+i,b+j) for a,b in keys]\n",
    "            for k in range(4):\n",
    "                if check(trans,holes,lock_proj):\n",
    "                    print(list(set(trans) & set(holes)),holes)\n",
    "                    return True\n",
    "                r = rotate(trans) \n",
    "                trans = r\n",
    "    return False\n",
    "#     return ret\n",
    "# def down(m):\n",
    "#     return ret\n",
    "\n",
    "def solution(key, lock):\n",
    "    holes = []\n",
    "    proj=[]\n",
    "    for i in range(len(lock)): # 홈 인덱스 \n",
    "        for j in range(len(lock[i])):\n",
    "            if lock[i][j]==0:\n",
    "                holes.append((i,j))\n",
    "    for i in range(len(key)): # 돌기 인덱스\n",
    "        for j in range(len(key[i])):\n",
    "            if key[i][j]==1:\n",
    "                proj.append([i,j])\n",
    "                \n",
    "    for i in range(4): # 회전 \n",
    "        rotate_proj = rotate_90(proj)\n",
    "        print(rotate_proj)\n",
    "        proj = rotate_proj\n",
    "\n",
    "    return 1"
   ]
  }
 ],
 "metadata": {
  "kernelspec": {
   "display_name": "Python 3 (ipykernel)",
   "language": "python",
   "name": "python3"
  },
  "language_info": {
   "codemirror_mode": {
    "name": "ipython",
    "version": 3
   },
   "file_extension": ".py",
   "mimetype": "text/x-python",
   "name": "python",
   "nbconvert_exporter": "python",
   "pygments_lexer": "ipython3",
   "version": "3.8.13"
  },
  "toc": {
   "base_numbering": 1,
   "nav_menu": {},
   "number_sections": true,
   "sideBar": true,
   "skip_h1_title": true,
   "title_cell": "Table of Contents",
   "title_sidebar": "Contents",
   "toc_cell": false,
   "toc_position": {},
   "toc_section_display": true,
   "toc_window_display": false
  },
  "varInspector": {
   "cols": {
    "lenName": 16,
    "lenType": 16,
    "lenVar": 40
   },
   "kernels_config": {
    "python": {
     "delete_cmd_postfix": "",
     "delete_cmd_prefix": "del ",
     "library": "var_list.py",
     "varRefreshCmd": "print(var_dic_list())"
    },
    "r": {
     "delete_cmd_postfix": ") ",
     "delete_cmd_prefix": "rm(",
     "library": "var_list.r",
     "varRefreshCmd": "cat(var_dic_list()) "
    }
   },
   "types_to_exclude": [
    "module",
    "function",
    "builtin_function_or_method",
    "instance",
    "_Feature"
   ],
   "window_display": false
  }
 },
 "nbformat": 4,
 "nbformat_minor": 5
}
