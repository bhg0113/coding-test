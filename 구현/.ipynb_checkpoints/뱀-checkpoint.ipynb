{
 "cells": [
  {
   "cell_type": "markdown",
   "id": "65052b4f",
   "metadata": {},
   "source": [
    "https://www.acmicpc.net/problem/3190"
   ]
  },
  {
   "cell_type": "code",
   "execution_count": 87,
   "id": "037c1f21",
   "metadata": {
    "ExecuteTime": {
     "end_time": "2022-08-29T10:20:04.052247Z",
     "start_time": "2022-08-29T10:19:51.470264Z"
    },
    "scrolled": false
   },
   "outputs": [
    {
     "name": "stdout",
     "output_type": "stream",
     "text": [
      "10\n",
      "4\n",
      "1 2\n",
      "1 3\n",
      "1 4\n",
      "1 5\n",
      "4\n",
      "8 D\n",
      "10 D\n",
      "11 D\n",
      "13 L\n"
     ]
    }
   ],
   "source": [
    "# 데이터 받기\n",
    "n = int(input())\n",
    "k = int(input())\n",
    "apples = []\n",
    "for _ in range(k):\n",
    "    a, b = map(int, input().split())\n",
    "    apples.append((a, b))\n",
    "l = int(input())\n",
    "change_direction = []\n",
    "for i in range(l):\n",
    "    t, d = input().split()\n",
    "    change_direction.append((int(t), d))"
   ]
  },
  {
   "cell_type": "code",
   "execution_count": 88,
   "id": "46e42f26",
   "metadata": {
    "ExecuteTime": {
     "end_time": "2022-08-29T10:20:05.249611Z",
     "start_time": "2022-08-29T10:20:05.236616Z"
    }
   },
   "outputs": [
    {
     "name": "stdout",
     "output_type": "stream",
     "text": [
      "21\n"
     ]
    }
   ],
   "source": [
    "snake = [(1, 1)]\n",
    "time = 0\n",
    "direction = [(0, 1), (-1, 0), (0, -1), (1, 0)]  # 우, 상, 좌, 하\n",
    "dd = 0\n",
    "while 0 not in snake[-1] and n+1 not in snake[-1]:  # 뱀 머리가 벽(0,n+1)에 닿을 경우 \n",
    "    snake.append((snake[-1][0] + direction[dd][0],\n",
    "                  snake[-1][1] + direction[dd][1]))  # 머리 넣기\n",
    "    time += 1\n",
    "    if snake[-1]  in snake[:-1]: # 여기서 꼬리제거하지 않고 머리를 확인해야 함 \n",
    "        break\n",
    "    if snake[-1] not in apples: # 사과 확인 \n",
    "        snake.pop(0)  # 꼬리제거\n",
    "    else:\n",
    "        apples.remove(snake[-1])  # 머리 위치의 사과 제거\n",
    "    if len(change_direction) > 0 and time == change_direction[0][0]:\n",
    "        i, d = change_direction.pop(0)\n",
    "        if d == 'L': # 왼쪽 \n",
    "            dd += 1\n",
    "        else: # 오른쪽 \n",
    "            dd -= 1\n",
    "        if dd >= 4: # 이걸로 방향 순환 \n",
    "            dd -=4\n",
    "        elif dd <= -5:\n",
    "            dd +=4\n",
    "#     print(snake,time)\n",
    "print(time)"
   ]
  },
  {
   "cell_type": "code",
   "execution_count": null,
   "id": "dae83814",
   "metadata": {},
   "outputs": [],
   "source": []
  }
 ],
 "metadata": {
  "kernelspec": {
   "display_name": "Python 3 (ipykernel)",
   "language": "python",
   "name": "python3"
  },
  "language_info": {
   "codemirror_mode": {
    "name": "ipython",
    "version": 3
   },
   "file_extension": ".py",
   "mimetype": "text/x-python",
   "name": "python",
   "nbconvert_exporter": "python",
   "pygments_lexer": "ipython3",
   "version": "3.8.13"
  },
  "toc": {
   "base_numbering": 1,
   "nav_menu": {},
   "number_sections": true,
   "sideBar": true,
   "skip_h1_title": true,
   "title_cell": "Table of Contents",
   "title_sidebar": "Contents",
   "toc_cell": false,
   "toc_position": {},
   "toc_section_display": true,
   "toc_window_display": false
  },
  "varInspector": {
   "cols": {
    "lenName": 16,
    "lenType": 16,
    "lenVar": 40
   },
   "kernels_config": {
    "python": {
     "delete_cmd_postfix": "",
     "delete_cmd_prefix": "del ",
     "library": "var_list.py",
     "varRefreshCmd": "print(var_dic_list())"
    },
    "r": {
     "delete_cmd_postfix": ") ",
     "delete_cmd_prefix": "rm(",
     "library": "var_list.r",
     "varRefreshCmd": "cat(var_dic_list()) "
    }
   },
   "types_to_exclude": [
    "module",
    "function",
    "builtin_function_or_method",
    "instance",
    "_Feature"
   ],
   "window_display": false
  }
 },
 "nbformat": 4,
 "nbformat_minor": 5
}
