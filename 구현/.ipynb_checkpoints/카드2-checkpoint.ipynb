{
 "cells": [
  {
   "cell_type": "code",
   "execution_count": 27,
   "id": "7139804a",
   "metadata": {},
   "outputs": [
    {
     "name": "stdout",
     "output_type": "stream",
     "text": [
      "6\n"
     ]
    }
   ],
   "source": [
    "# n이 50만, 2초면 대략 2억번, 그냥 리스트 연산으로는 O(N^2)이 되므로 deque 필요\n",
    "n= int(input())\n",
    "cards = [i+1 for i in range(n)] # n"
   ]
  },
  {
   "cell_type": "code",
   "execution_count": 31,
   "id": "7737528a",
   "metadata": {},
   "outputs": [
    {
     "name": "stdout",
     "output_type": "stream",
     "text": [
      "deque([3, 4, 5, 6, 2])\n",
      "deque([5, 6, 2, 4])\n",
      "deque([2, 4, 6])\n",
      "deque([6, 4])\n",
      "deque([4])\n",
      "4\n"
     ]
    }
   ],
   "source": [
    "from collections import deque\n",
    "q=deque(cards)\n",
    "\n",
    "while len(q)!=1: # n \n",
    "    q.popleft() # 1\n",
    "    q.append(q.popleft()) # 2\n",
    "\n",
    "print(q[0])"
   ]
  },
  {
   "cell_type": "code",
   "execution_count": null,
   "id": "4a8494b3",
   "metadata": {},
   "outputs": [],
   "source": []
  }
 ],
 "metadata": {
  "kernelspec": {
   "display_name": "Python 3 (ipykernel)",
   "language": "python",
   "name": "python3"
  },
  "language_info": {
   "codemirror_mode": {
    "name": "ipython",
    "version": 3
   },
   "file_extension": ".py",
   "mimetype": "text/x-python",
   "name": "python",
   "nbconvert_exporter": "python",
   "pygments_lexer": "ipython3",
   "version": "3.8.13"
  }
 },
 "nbformat": 4,
 "nbformat_minor": 5
}
