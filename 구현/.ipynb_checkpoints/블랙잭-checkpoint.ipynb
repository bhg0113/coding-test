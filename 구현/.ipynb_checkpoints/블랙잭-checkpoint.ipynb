{
 "cells": [
  {
   "cell_type": "code",
   "execution_count": 15,
   "id": "61b78d9c",
   "metadata": {},
   "outputs": [
    {
     "name": "stdout",
     "output_type": "stream",
     "text": [
      "10 500\n",
      "93 181 245 214 315 36 185 138 216 295\n"
     ]
    }
   ],
   "source": [
    "n,m = map(int,input().split())\n",
    "cards = list(map(int,input().split()))"
   ]
  },
  {
   "cell_type": "code",
   "execution_count": 20,
   "id": "506b3e37",
   "metadata": {
    "scrolled": false
   },
   "outputs": [
    {
     "name": "stdout",
     "output_type": "stream",
     "text": [
      "497\n"
     ]
    }
   ],
   "source": [
    "from itertools import combinations\n",
    "comb = combinations(cards,3)\n",
    "\n",
    "res = 0\n",
    "for c in list(comb):\n",
    "    if sum(c) <= m and m-sum(c)<m-res:\n",
    "        res = sum(c)\n",
    "print(res)\n",
    "\n",
    "# 삼중 반복문으로 풀이할 수 있음"
   ]
  },
  {
   "cell_type": "code",
   "execution_count": null,
   "id": "af0fa640",
   "metadata": {},
   "outputs": [],
   "source": []
  }
 ],
 "metadata": {
  "kernelspec": {
   "display_name": "Python 3 (ipykernel)",
   "language": "python",
   "name": "python3"
  },
  "language_info": {
   "codemirror_mode": {
    "name": "ipython",
    "version": 3
   },
   "file_extension": ".py",
   "mimetype": "text/x-python",
   "name": "python",
   "nbconvert_exporter": "python",
   "pygments_lexer": "ipython3",
   "version": "3.8.13"
  }
 },
 "nbformat": 4,
 "nbformat_minor": 5
}
