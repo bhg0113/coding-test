{
 "cells": [
  {
   "cell_type": "code",
   "execution_count": 9,
   "id": "defd5650",
   "metadata": {
    "ExecuteTime": {
     "end_time": "2022-07-10T10:38:44.783960Z",
     "start_time": "2022-07-10T10:38:43.330284Z"
    }
   },
   "outputs": [
    {
     "name": "stdout",
     "output_type": "stream",
     "text": [
      "a1\n"
     ]
    }
   ],
   "source": [
    "x = ['a','b','c','d','e','f','g','h']\n",
    "point = list(input())"
   ]
  },
  {
   "cell_type": "code",
   "execution_count": 12,
   "id": "6f62b4bd",
   "metadata": {
    "ExecuteTime": {
     "end_time": "2022-07-10T10:39:34.544837Z",
     "start_time": "2022-07-10T10:39:34.535835Z"
    }
   },
   "outputs": [
    {
     "name": "stdout",
     "output_type": "stream",
     "text": [
      "2 1\n",
      "1 2\n",
      "2\n"
     ]
    }
   ],
   "source": [
    "# 시간 제한은 1초, 경우의 수는 6개(최대 이동횟수)이고 dx,dy의 변수만 고려하면 되므로 O(N^2)\n",
    "dx = [2,2,1,1,-1,-1,-2,-2]\n",
    "dy = [1,-1,2,-2,2,-2,1,-1]\n",
    "cnt =0\n",
    "for i,j in zip(dx,dy):\n",
    "    if 1 <=x.index(point[0])+ i<= len(x) and  1<=int(point[1])+ j <=8:\n",
    "#         print(i,j)\n",
    "        cnt +=1\n",
    "print(cnt)\n",
    "    "
   ]
  },
  {
   "cell_type": "code",
   "execution_count": null,
   "id": "018bc75e",
   "metadata": {},
   "outputs": [],
   "source": [
    "# 예시답안 에서는 steps로 zip(dx,dy)를 직접 만듦\n",
    "# point[0]도 인덱스가 아닌 아스키코드로 변경하여 사용 "
   ]
  }
 ],
 "metadata": {
  "kernelspec": {
   "display_name": "Python 3 (ipykernel)",
   "language": "python",
   "name": "python3"
  },
  "language_info": {
   "codemirror_mode": {
    "name": "ipython",
    "version": 3
   },
   "file_extension": ".py",
   "mimetype": "text/x-python",
   "name": "python",
   "nbconvert_exporter": "python",
   "pygments_lexer": "ipython3",
   "version": "3.8.12"
  },
  "toc": {
   "base_numbering": 1,
   "nav_menu": {},
   "number_sections": true,
   "sideBar": true,
   "skip_h1_title": true,
   "title_cell": "Table of Contents",
   "title_sidebar": "Contents",
   "toc_cell": false,
   "toc_position": {},
   "toc_section_display": true,
   "toc_window_display": false
  },
  "varInspector": {
   "cols": {
    "lenName": 16,
    "lenType": 16,
    "lenVar": 40
   },
   "kernels_config": {
    "python": {
     "delete_cmd_postfix": "",
     "delete_cmd_prefix": "del ",
     "library": "var_list.py",
     "varRefreshCmd": "print(var_dic_list())"
    },
    "r": {
     "delete_cmd_postfix": ") ",
     "delete_cmd_prefix": "rm(",
     "library": "var_list.r",
     "varRefreshCmd": "cat(var_dic_list()) "
    }
   },
   "types_to_exclude": [
    "module",
    "function",
    "builtin_function_or_method",
    "instance",
    "_Feature"
   ],
   "window_display": false
  }
 },
 "nbformat": 4,
 "nbformat_minor": 5
}
