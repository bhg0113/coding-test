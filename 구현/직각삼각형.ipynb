{
 "cells": [
  {
   "cell_type": "markdown",
   "id": "f4fc6d5f",
   "metadata": {},
   "source": [
    "https://www.acmicpc.net/problem/4153"
   ]
  },
  {
   "cell_type": "code",
   "execution_count": 1,
   "id": "6e07d077",
   "metadata": {},
   "outputs": [
    {
     "name": "stdout",
     "output_type": "stream",
     "text": [
      "6 8 10\n",
      "right\n",
      "25 52 60\n",
      "wrong\n",
      "5 12 13\n",
      "right\n",
      "0 0 0\n"
     ]
    }
   ],
   "source": [
    "while 1:\n",
    "    tri = list(map(int,input().split()))\n",
    "    tri.sort()\n",
    "    if sum(tri)==0:\n",
    "        break\n",
    "    elif tri[0]**2 + tri[1]**2 ==tri[2]**2:\n",
    "        print('right')\n",
    "    else:\n",
    "        print('wrong')"
   ]
  }
 ],
 "metadata": {
  "kernelspec": {
   "display_name": "Python 3 (ipykernel)",
   "language": "python",
   "name": "python3"
  },
  "language_info": {
   "codemirror_mode": {
    "name": "ipython",
    "version": 3
   },
   "file_extension": ".py",
   "mimetype": "text/x-python",
   "name": "python",
   "nbconvert_exporter": "python",
   "pygments_lexer": "ipython3",
   "version": "3.8.13"
  }
 },
 "nbformat": 4,
 "nbformat_minor": 5
}
