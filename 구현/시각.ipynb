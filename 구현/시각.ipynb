{
 "cells": [
  {
   "cell_type": "markdown",
   "id": "35fc404a",
   "metadata": {},
   "source": [
    "https://www.acmicpc.net/problem/18312"
   ]
  },
  {
   "cell_type": "code",
   "execution_count": null,
   "id": "99c9a0dc",
   "metadata": {},
   "outputs": [],
   "source": [
    "# 반복으로 풀면 초, 분, 시간의 O(N^3)이나 하루가 86400으로 * n으로 최대 2천만 수준\n",
    "# 풀이시간은 2초로 아슬아슬 함\n"
   ]
  },
  {
   "cell_type": "code",
   "execution_count": 9,
   "id": "edb3d38a",
   "metadata": {
    "ExecuteTime": {
     "end_time": "2022-07-09T15:25:19.167872Z",
     "start_time": "2022-07-09T15:25:18.711592Z"
    }
   },
   "outputs": [
    {
     "name": "stdout",
     "output_type": "stream",
     "text": [
      "5\n",
      "11475\n"
     ]
    }
   ],
   "source": [
    "# 시간 마다 계산하는 방법 or 반복으로 다 계산\n",
    "# 이코테에서는 K가 3으로 지정됨\n",
    "cnt =0\n",
    "n = int(input())\n",
    "for h in range(n+1):\n",
    "    for m in range(60):\n",
    "        for s in range(60):\n",
    "            time = str(h)+str(m)+str(s)\n",
    "            if \"3\" in time:\n",
    "                cnt +=1\n",
    "\n",
    "print(cnt)\n",
    "# 해당 코드가 이코테의 예시 답안과 정확히 일치"
   ]
  },
  {
   "cell_type": "code",
   "execution_count": 26,
   "id": "3241f50d",
   "metadata": {
    "ExecuteTime": {
     "end_time": "2022-07-09T15:46:55.566167Z",
     "start_time": "2022-07-09T15:46:53.503797Z"
    },
    "scrolled": false
   },
   "outputs": [
    {
     "name": "stdout",
     "output_type": "stream",
     "text": [
      "5 1\n",
      "11475\n"
     ]
    }
   ],
   "source": [
    "cnt =0\n",
    "# 0의 경우 때문에 00~23 등으로 고려해야함\n",
    "n,k = input().split()\n",
    "for h in range(int(n)+1):\n",
    "    for m in range(60):\n",
    "        for s in range(60):\n",
    "            print(f\"{str(h):0>2}{str(m):0>2}{str(s):0>2}\")\n",
    "            if k in f\"{str(h):0>2}{str(m):0>2}{str(s):0>2}\":\n",
    "                cnt +=1\n",
    "\n",
    "print(cnt)"
   ]
  },
  {
   "cell_type": "code",
   "execution_count": null,
   "id": "bea0fe99",
   "metadata": {},
   "outputs": [],
   "source": []
  }
 ],
 "metadata": {
  "kernelspec": {
   "display_name": "Python 3 (ipykernel)",
   "language": "python",
   "name": "python3"
  },
  "language_info": {
   "codemirror_mode": {
    "name": "ipython",
    "version": 3
   },
   "file_extension": ".py",
   "mimetype": "text/x-python",
   "name": "python",
   "nbconvert_exporter": "python",
   "pygments_lexer": "ipython3",
   "version": "3.8.12"
  },
  "toc": {
   "base_numbering": 1,
   "nav_menu": {},
   "number_sections": true,
   "sideBar": true,
   "skip_h1_title": true,
   "title_cell": "Table of Contents",
   "title_sidebar": "Contents",
   "toc_cell": false,
   "toc_position": {},
   "toc_section_display": true,
   "toc_window_display": false
  },
  "varInspector": {
   "cols": {
    "lenName": 16,
    "lenType": 16,
    "lenVar": 40
   },
   "kernels_config": {
    "python": {
     "delete_cmd_postfix": "",
     "delete_cmd_prefix": "del ",
     "library": "var_list.py",
     "varRefreshCmd": "print(var_dic_list())"
    },
    "r": {
     "delete_cmd_postfix": ") ",
     "delete_cmd_prefix": "rm(",
     "library": "var_list.r",
     "varRefreshCmd": "cat(var_dic_list()) "
    }
   },
   "types_to_exclude": [
    "module",
    "function",
    "builtin_function_or_method",
    "instance",
    "_Feature"
   ],
   "window_display": false
  }
 },
 "nbformat": 4,
 "nbformat_minor": 5
}
