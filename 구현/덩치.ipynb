{
 "cells": [
  {
   "cell_type": "markdown",
   "id": "297533f9",
   "metadata": {},
   "source": [
    "https://www.acmicpc.net/problem/7568"
   ]
  },
  {
   "cell_type": "code",
   "execution_count": 13,
   "id": "5df12f53",
   "metadata": {
    "ExecuteTime": {
     "end_time": "2022-09-07T23:51:23.965766Z",
     "start_time": "2022-09-07T23:51:08.081784Z"
    }
   },
   "outputs": [
    {
     "name": "stdout",
     "output_type": "stream",
     "text": [
      "5\n",
      "55 185\n",
      "58 183\n",
      "88 186\n",
      "60 175\n",
      "46 155\n",
      "[2, 2, 1, 2, 5]\n"
     ]
    }
   ],
   "source": [
    "# 1초, n이 50이하로 완전탐색해도 충분\n",
    "n = int(input())\n",
    "people = []\n",
    "for i in range(n):\n",
    "    people.append(list(map(int,input().split())))\n",
    "\n",
    "rank = [1]*n # 1등으로 초기화\n",
    "\n",
    "for i in range(n):\n",
    "    for j in range(n):\n",
    "        # 현재 사람(i)의 몸무게와 키 모두 비교 대상(j)보다 작음  \n",
    "        if people[i][0] < people[j][0] and people[i][1] < people[j][1]:\n",
    "            rank[i] +=1\n",
    "            \n",
    "for i in rank:\n",
    "    print(i,end =' ')\n",
    "        "
   ]
  },
  {
   "cell_type": "code",
   "execution_count": 16,
   "id": "4f0a142a",
   "metadata": {
    "ExecuteTime": {
     "end_time": "2022-09-07T23:52:36.694589Z",
     "start_time": "2022-09-07T23:52:36.685586Z"
    }
   },
   "outputs": [
    {
     "name": "stdout",
     "output_type": "stream",
     "text": [
      "2 2 1 2 5 "
     ]
    }
   ],
   "source": [
    "for i in rank:\n",
    "    print(i,end =' ')"
   ]
  },
  {
   "cell_type": "code",
   "execution_count": null,
   "id": "a3781c3c",
   "metadata": {},
   "outputs": [],
   "source": []
  }
 ],
 "metadata": {
  "kernelspec": {
   "display_name": "Python 3 (ipykernel)",
   "language": "python",
   "name": "python3"
  },
  "language_info": {
   "codemirror_mode": {
    "name": "ipython",
    "version": 3
   },
   "file_extension": ".py",
   "mimetype": "text/x-python",
   "name": "python",
   "nbconvert_exporter": "python",
   "pygments_lexer": "ipython3",
   "version": "3.8.13"
  },
  "toc": {
   "base_numbering": 1,
   "nav_menu": {},
   "number_sections": true,
   "sideBar": true,
   "skip_h1_title": true,
   "title_cell": "Table of Contents",
   "title_sidebar": "Contents",
   "toc_cell": false,
   "toc_position": {},
   "toc_section_display": true,
   "toc_window_display": false
  },
  "varInspector": {
   "cols": {
    "lenName": 16,
    "lenType": 16,
    "lenVar": 40
   },
   "kernels_config": {
    "python": {
     "delete_cmd_postfix": "",
     "delete_cmd_prefix": "del ",
     "library": "var_list.py",
     "varRefreshCmd": "print(var_dic_list())"
    },
    "r": {
     "delete_cmd_postfix": ") ",
     "delete_cmd_prefix": "rm(",
     "library": "var_list.r",
     "varRefreshCmd": "cat(var_dic_list()) "
    }
   },
   "types_to_exclude": [
    "module",
    "function",
    "builtin_function_or_method",
    "instance",
    "_Feature"
   ],
   "window_display": false
  }
 },
 "nbformat": 4,
 "nbformat_minor": 5
}
