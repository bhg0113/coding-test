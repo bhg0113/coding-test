{
 "cells": [
  {
   "cell_type": "markdown",
   "id": "6dcfab69",
   "metadata": {},
   "source": [
    "각 음식마다 최대 먹을 수 있는만큼 먹고 food_times, k 갱신\n",
    "\n",
    "k가 0이하이면 그때 남아 뒤에서 남아 있는 음식 찾으려 함\n",
    "\n",
    "제대로 맞지도 않고, 이중 for문도 사용하는 안좋은 방식"
   ]
  },
  {
   "cell_type": "code",
   "execution_count": null,
   "id": "4d34755e",
   "metadata": {
    "ExecuteTime": {
     "end_time": "2022-08-22T06:01:55.061344Z",
     "start_time": "2022-08-22T06:01:54.458980Z"
    }
   },
   "outputs": [],
   "source": [
    "#  food_time는 20만 이하, 1억의 범위 가짐\n",
    "#  k는 거의 최대수\n",
    "# 1초마다 각 원소에서 -1, 다먹으면 스킵, k초의 원소는 무엇?\n",
    "\n",
    "def solution(food_times, k):\n",
    "    n = len(food_times)\n",
    "    for i in range(n): # i == 다 먹은 음식 수\n",
    "        f = len(food_times) - i \n",
    "        c_food = min([f for f in food_times if f>0])\n",
    "        k -= f* c_food # 다음 0 되기전 최대로 먹기\n",
    "        food_times = [f-c_food for f in food_times]\n",
    "        if k <= 0:\n",
    "            cnt = -1 # 몇 번째 0 아닌 음식?\n",
    "            tmp_f = food_times[::-1] # 빨리 찾기 위해 뒤집음\n",
    "            for i,v in enumerate(tmp_f):\n",
    "                if v > 0:\n",
    "                     cnt+=1ㅋ\n",
    "                if cnt == abs(k):\n",
    "                    return len(food_times)-i# 뒤집어야 하므로  "
   ]
  },
  {
   "cell_type": "code",
   "execution_count": 43,
   "id": "a89e7ef1",
   "metadata": {
    "ExecuteTime": {
     "end_time": "2022-08-24T06:41:34.495492Z",
     "start_time": "2022-08-24T06:41:34.481491Z"
    }
   },
   "outputs": [],
   "source": [
    "# 이코테는 우선순위 큐(힙) 사용해 음식 번호 및 음식 초 함께 사용\n",
    "import heapq\n",
    "\n",
    "def solution(food_times,k):\n",
    "    if sum(food_times) <= k:\n",
    "        return -1\n",
    "    q = []\n",
    "    for i in range(len(food_times)):\n",
    "        heapq.heappush(q,(food_times[i],i+1)) # 음식 초와 음식 번호 넣기\n",
    "    \n",
    "    sum_value = 0 # 총 먹은 값 \n",
    "    previous = 0 # 이전에 먹은 최소 값\n",
    "    length = len(food_times)\n",
    "    \n",
    "    while sum_value + ((q[0][0]-previous)*length) <= k: # 총 먹은 값  +  다음에 먹을 값\n",
    "        print(sum_value)\n",
    "        print((q[0][0]-previous)) # 동 수 인 경우 여기서 0처리됨\n",
    "        now = heapq.heappop(q)[0] # 이번 음식 \n",
    "        sum_value += (now -previous) * length # 이번 음식 - 이전 음식 (나처럼 food_times를 갱신하지 않으므로) * 남은 음식 수, \n",
    "        length -=1\n",
    "        previous = now\n",
    "    \n",
    "    result = sorted(q,key=lambda x: x[1]) # 번호대로 정렬\n",
    "    return result[(k-sum_value)%length][1] # 남은 초(k-sum_value)를 남은 음식(length)의 나머지로 둔다음 그 번호(큐의 [1])"
   ]
  },
  {
   "cell_type": "code",
   "execution_count": 44,
   "id": "3eb4e238",
   "metadata": {
    "ExecuteTime": {
     "end_time": "2022-08-24T06:41:35.052953Z",
     "start_time": "2022-08-24T06:41:35.039945Z"
    }
   },
   "outputs": [
    {
     "name": "stdout",
     "output_type": "stream",
     "text": [
      "[(1, 2), (2, 4), (1, 3), (4, 1)]\n",
      "0\n",
      "1\n",
      "1\n",
      "4\n",
      "0\n",
      "1\n",
      "4\n",
      "1\n",
      "2\n"
     ]
    },
    {
     "data": {
      "text/plain": [
       "1"
      ]
     },
     "execution_count": 44,
     "metadata": {},
     "output_type": "execute_result"
    }
   ],
   "source": [
    "solution([4,1,1,2],7)"
   ]
  },
  {
   "cell_type": "code",
   "execution_count": 35,
   "id": "544414c0",
   "metadata": {
    "ExecuteTime": {
     "end_time": "2022-08-24T06:33:05.791911Z",
     "start_time": "2022-08-24T06:33:05.778898Z"
    }
   },
   "outputs": [],
   "source": [
    "# 풀이 수정, 정확성은 맞으나 효율성 다 틀림 \n",
    "# 이코테 풀이에 비해 함수, 반복문 많음 -> 힙 사용해 반복문 하나 선에서 마무리해야 하는 듯 \n",
    "\n",
    "\n",
    "def find_over0(n):      # 짝수만 반환하는 함수 생성\n",
    "    if n > 0:\n",
    "        return n\n",
    "        \n",
    "import numpy as np \n",
    "\n",
    "def solution(food_times, k):\n",
    "    if sum(food_times) <= k: \n",
    "        return -1\n",
    "    while True:\n",
    "        # print(food_times,k)\n",
    "        after_food = list(filter(find_over0,food_times)) # 0 이상 음식들, 필터 사용해 중복 연산 줄임\n",
    "        cnt_food = len(after_food)# 음식 수 \n",
    "        m_food = min(after_food) # 가장 적은 음식\n",
    "        if k - cnt_food* m_food < 0: # k가 0이 되기전 최대로 먹기, 굳이 -에서 뒤집여 하지 않음\n",
    "            break # 음식 먹는 연산이랑 정전 후 음식 번호 찾는 연산 분리\n",
    "        k -= cnt_food* m_food\n",
    "        food_times = [f-m_food for f in food_times] # \n",
    "        \n",
    "    while True:\n",
    "        for i,v in enumerate(food_times): # 이때 여러번 돌아야 할 수 있음, 위에서 놓친 부분\n",
    "            if v >0:\n",
    "                k -= 1\n",
    "                if k ==-1:\n",
    "                    return i +1 # 음식 번호 \n"
   ]
  }
 ],
 "metadata": {
  "kernelspec": {
   "display_name": "Python 3 (ipykernel)",
   "language": "python",
   "name": "python3"
  },
  "language_info": {
   "codemirror_mode": {
    "name": "ipython",
    "version": 3
   },
   "file_extension": ".py",
   "mimetype": "text/x-python",
   "name": "python",
   "nbconvert_exporter": "python",
   "pygments_lexer": "ipython3",
   "version": "3.8.13"
  },
  "toc": {
   "base_numbering": 1,
   "nav_menu": {},
   "number_sections": true,
   "sideBar": true,
   "skip_h1_title": true,
   "title_cell": "Table of Contents",
   "title_sidebar": "Contents",
   "toc_cell": false,
   "toc_position": {},
   "toc_section_display": true,
   "toc_window_display": false
  },
  "varInspector": {
   "cols": {
    "lenName": 16,
    "lenType": 16,
    "lenVar": 40
   },
   "kernels_config": {
    "python": {
     "delete_cmd_postfix": "",
     "delete_cmd_prefix": "del ",
     "library": "var_list.py",
     "varRefreshCmd": "print(var_dic_list())"
    },
    "r": {
     "delete_cmd_postfix": ") ",
     "delete_cmd_prefix": "rm(",
     "library": "var_list.r",
     "varRefreshCmd": "cat(var_dic_list()) "
    }
   },
   "types_to_exclude": [
    "module",
    "function",
    "builtin_function_or_method",
    "instance",
    "_Feature"
   ],
   "window_display": false
  }
 },
 "nbformat": 4,
 "nbformat_minor": 5
}
