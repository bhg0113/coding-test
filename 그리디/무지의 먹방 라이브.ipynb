{
 "cells": [
  {
   "cell_type": "markdown",
   "id": "6dcfab69",
   "metadata": {},
   "source": [
    "각 음식마다 최대 먹을 수 있는만큼 먹고 food_times, k 갱신\n",
    "\n",
    "k가 0이하이면 그때 남아 뒤에서 남아 있는 음식 찾으려 함\n",
    "\n",
    "제대로 맞지도 않고, 이중 for문도 사용하는 안좋은 방식"
   ]
  },
  {
   "cell_type": "code",
   "execution_count": null,
   "id": "4d34755e",
   "metadata": {
    "ExecuteTime": {
     "end_time": "2022-08-22T06:01:55.061344Z",
     "start_time": "2022-08-22T06:01:54.458980Z"
    }
   },
   "outputs": [],
   "source": [
    "#  food_time는 20만 이하, 1억의 범위 가짐\n",
    "#  k는 거의 최대수\n",
    "# 1초마다 각 원소에서 -1, 다먹으면 스킵, k초의 원소는 무엇?\n",
    "\n",
    "def solution(food_times, k):\n",
    "    n = len(food_times)\n",
    "    for i in range(n): # i == 다 먹은 음식 수\n",
    "        f = len(food_times) - i \n",
    "        c_food = min([f for f in food_times if f>0])\n",
    "        k -= f* c_food # 다음 0 되기전 최대로 먹기\n",
    "        food_times = [f-c_food for f in food_times]\n",
    "        if k <= 0:\n",
    "            cnt = -1 # 몇 번째 0 아닌 음식?\n",
    "            tmp_f = food_times[::-1] # 빨리 찾기 위해 뒤집음\n",
    "            for i,v in enumerate(tmp_f):\n",
    "                if v > 0:\n",
    "                     cnt+=1\n",
    "                if cnt == abs(k):\n",
    "                    return len(food_times)-i# 뒤집어야 하므로  "
   ]
  },
  {
   "cell_type": "code",
   "execution_count": 3,
   "id": "a89e7ef1",
   "metadata": {
    "ExecuteTime": {
     "end_time": "2022-08-22T07:29:57.334555Z",
     "start_time": "2022-08-22T07:29:57.313999Z"
    }
   },
   "outputs": [],
   "source": [
    "# 이코테는 우선순위 큐(힙) 사용해 음식 번호 및 음식 초 함께 사용\n",
    "\n",
    "import heapq\n",
    "\n",
    "def solution(food_times,k):\n",
    "    if sum(food_times) <= k:\n",
    "        return -1\n",
    "    q = []\n",
    "    for i in range(len(food_times)):\n",
    "        heapq.heappush(q,(food_times[i],i+1)) # 음식 초와 음식 번호 넣기\n",
    "    \n",
    "    sum_value = 0\n",
    "    previous = 0\n",
    "    length = len(food_times)\n",
    "    \n",
    "    while sum_value + ((q[0][0]-previous)*length) <= k:\n",
    "        now = heapq.heappop(q)[0]\n",
    "        sum_value += (now -previous) * length\n",
    "        length -=1\n",
    "        previous = now\n",
    "    \n",
    "    result = sorted(q,key=lambda x: x[1])\n",
    "    return result[(k-sum_value)%length][1]"
   ]
  },
  {
   "cell_type": "code",
   "execution_count": 4,
   "id": "3eb4e238",
   "metadata": {
    "ExecuteTime": {
     "end_time": "2022-08-22T07:30:09.256122Z",
     "start_time": "2022-08-22T07:30:09.240113Z"
    }
   },
   "outputs": [
    {
     "data": {
      "text/plain": [
       "1"
      ]
     },
     "execution_count": 4,
     "metadata": {},
     "output_type": "execute_result"
    }
   ],
   "source": [
    "solution([3,1,2],5)"
   ]
  },
  {
   "cell_type": "code",
   "execution_count": null,
   "id": "544414c0",
   "metadata": {},
   "outputs": [],
   "source": [
    "# 이코테 풀이에 따라 내 풀이 수정 \n",
    "def solution(food_times, k):\n",
    "    n = len(food_times)\n",
    "    for i in range(n): # i == 다 먹은 음식 수\n",
    "        f = len(food_times) - i \n",
    "        c_food = min([f for f in food_times if f>0])\n",
    "        if k - f* c_food:\n",
    "            \n",
    "            \n",
    "        k -= f* c_food # 다음 0 되기전 최대로 먹기\n",
    "        \n",
    "        food_times = [f-c_food for f in food_times]\n",
    "        if k\n",
    "            cnt = -1 # 몇 번째 0 아닌 음식?\n",
    "            tmp_f = food_times[::-1] # 빨리 찾기 위해 뒤집음\n",
    "            for i,v in enumerate(tmp_f):\n",
    "                if v > 0:\n",
    "                     cnt+=1\n",
    "                if cnt == abs(k):\n",
    "                    return len(food_times)-i# 뒤집어야 하므로  "
   ]
  }
 ],
 "metadata": {
  "kernelspec": {
   "display_name": "Python 3 (ipykernel)",
   "language": "python",
   "name": "python3"
  },
  "language_info": {
   "codemirror_mode": {
    "name": "ipython",
    "version": 3
   },
   "file_extension": ".py",
   "mimetype": "text/x-python",
   "name": "python",
   "nbconvert_exporter": "python",
   "pygments_lexer": "ipython3",
   "version": "3.8.13"
  },
  "toc": {
   "base_numbering": 1,
   "nav_menu": {},
   "number_sections": true,
   "sideBar": true,
   "skip_h1_title": true,
   "title_cell": "Table of Contents",
   "title_sidebar": "Contents",
   "toc_cell": false,
   "toc_position": {},
   "toc_section_display": true,
   "toc_window_display": false
  },
  "varInspector": {
   "cols": {
    "lenName": 16,
    "lenType": 16,
    "lenVar": 40
   },
   "kernels_config": {
    "python": {
     "delete_cmd_postfix": "",
     "delete_cmd_prefix": "del ",
     "library": "var_list.py",
     "varRefreshCmd": "print(var_dic_list())"
    },
    "r": {
     "delete_cmd_postfix": ") ",
     "delete_cmd_prefix": "rm(",
     "library": "var_list.r",
     "varRefreshCmd": "cat(var_dic_list()) "
    }
   },
   "types_to_exclude": [
    "module",
    "function",
    "builtin_function_or_method",
    "instance",
    "_Feature"
   ],
   "window_display": false
  }
 },
 "nbformat": 4,
 "nbformat_minor": 5
}
