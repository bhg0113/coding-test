{
 "cells": [
  {
   "cell_type": "code",
   "execution_count": 10,
   "id": "e244ffab",
   "metadata": {
    "ExecuteTime": {
     "end_time": "2022-07-09T12:46:59.155931Z",
     "start_time": "2022-07-09T12:46:50.006272Z"
    }
   },
   "outputs": [
    {
     "name": "stdout",
     "output_type": "stream",
     "text": [
      "982372731 72\n"
     ]
    }
   ],
   "source": [
    "n, k = map(int,input().split())"
   ]
  },
  {
   "cell_type": "code",
   "execution_count": 11,
   "id": "e3cf0114",
   "metadata": {
    "ExecuteTime": {
     "end_time": "2022-07-09T12:47:00.096134Z",
     "start_time": "2022-07-09T12:47:00.087144Z"
    }
   },
   "outputs": [
    {
     "name": "stdout",
     "output_type": "stream",
     "text": [
      "262\n"
     ]
    }
   ],
   "source": [
    "cnt=0\n",
    "while n !=1:\n",
    "    cnt+=1\n",
    "    if n%k ==0:\n",
    "        n /=k\n",
    "    else:\n",
    "        n-=1\n",
    "print(cnt)"
   ]
  },
  {
   "cell_type": "code",
   "execution_count": null,
   "id": "09661e6a",
   "metadata": {},
   "outputs": [],
   "source": [
    "# 한번에 나머지만큼 cnt더하고 나눈 몫을 더하는 방법이 더 효과적"
   ]
  }
 ],
 "metadata": {
  "kernelspec": {
   "display_name": "Python 3 (ipykernel)",
   "language": "python",
   "name": "python3"
  },
  "language_info": {
   "codemirror_mode": {
    "name": "ipython",
    "version": 3
   },
   "file_extension": ".py",
   "mimetype": "text/x-python",
   "name": "python",
   "nbconvert_exporter": "python",
   "pygments_lexer": "ipython3",
   "version": "3.8.12"
  },
  "toc": {
   "base_numbering": 1,
   "nav_menu": {},
   "number_sections": true,
   "sideBar": true,
   "skip_h1_title": true,
   "title_cell": "Table of Contents",
   "title_sidebar": "Contents",
   "toc_cell": false,
   "toc_position": {},
   "toc_section_display": true,
   "toc_window_display": false
  },
  "varInspector": {
   "cols": {
    "lenName": 16,
    "lenType": 16,
    "lenVar": 40
   },
   "kernels_config": {
    "python": {
     "delete_cmd_postfix": "",
     "delete_cmd_prefix": "del ",
     "library": "var_list.py",
     "varRefreshCmd": "print(var_dic_list())"
    },
    "r": {
     "delete_cmd_postfix": ") ",
     "delete_cmd_prefix": "rm(",
     "library": "var_list.r",
     "varRefreshCmd": "cat(var_dic_list()) "
    }
   },
   "types_to_exclude": [
    "module",
    "function",
    "builtin_function_or_method",
    "instance",
    "_Feature"
   ],
   "window_display": false
  }
 },
 "nbformat": 4,
 "nbformat_minor": 5
}
