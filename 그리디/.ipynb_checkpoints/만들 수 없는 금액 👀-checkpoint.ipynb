{
 "cells": [
  {
   "cell_type": "markdown",
   "id": "d8fa2d92",
   "metadata": {},
   "source": [
    "https://velog.io/@jxlhe46/%EC%95%8C%EA%B3%A0%EB%A6%AC%EC%A6%98-%EC%9D%B4%EC%BD%94%ED%85%8C-11-4.-%EB%A7%8C%EB%93%A4-%EC%88%98-%EC%97%86%EB%8A%94-%EA%B8%88%EC%95%A1"
   ]
  },
  {
   "cell_type": "markdown",
   "id": "cfe679ec",
   "metadata": {},
   "source": [
    "n이 1000이하이고 1초이므로 O(N^2)까지도 가능\n",
    "\n",
    "금액을 최소값부터 합+1까지 살펴보기 -> 100만 * 1000이 되므로 넘침 \n",
    "\n",
    "각 요소들의 조합(2개부터 n개까지)의 수 만들어 놓고 살펴보는 값이 들어가는지"
   ]
  },
  {
   "cell_type": "code",
   "execution_count": 22,
   "id": "a8008dd0",
   "metadata": {
    "ExecuteTime": {
     "end_time": "2022-08-21T04:05:08.975955Z",
     "start_time": "2022-08-21T04:05:04.693246Z"
    }
   },
   "outputs": [
    {
     "name": "stdout",
     "output_type": "stream",
     "text": [
      "5\n",
      "3 2 1 1 9\n",
      "8\n"
     ]
    }
   ],
   "source": [
    "# 풀기는 했지만 과연 시간제한을 넘을 수 있는지 확인 어려움 (조합 만드는게 여러 개기 때문)\n",
    "\n",
    "from itertools import combinations # 조합 만들기 위해 \n",
    "\n",
    "n = int(input())\n",
    "coins = list(map(int,input().split()))\n",
    "tmp = []\n",
    "\n",
    "# 조합 만들어 두기 \n",
    "for j in range(n): # 최대 1000\n",
    "    l = list(combinations(coins, j)) # 조합의 수\n",
    "    for i in l: # 각 조합 수 만큼 \n",
    "        tmp.append(sum(i)) \n",
    "# print(tmp)\n",
    "        \n",
    "for i in range(1,sum(coins)+2): # 범위는 크지만 최대 1000개 가지고만 조합이 되므로 실제 탐색량은 적음\n",
    "    if i not in tmp:\n",
    "        print(i)\n",
    "        break"
   ]
  },
  {
   "cell_type": "markdown",
   "id": "e5a12404",
   "metadata": {},
   "source": [
    "이코테 풀이 : 정렬해 그리디\n",
    "\n",
    "이 문제에서의 그리디 : 현재 상태를 '1부터 target-1까지 만들 수 있는 상태'로 정의 -> target을 만들 수 있는지 체크\n",
    "\n",
    "만들 수 있다면 target 업데이트, 만들 수 없다면 화폐 추가 or 출력\n",
    "\n",
    "여러번 보며 생각할 필요있을 듯"
   ]
  },
  {
   "cell_type": "code",
   "execution_count": 28,
   "id": "b48dccb4",
   "metadata": {
    "ExecuteTime": {
     "end_time": "2022-08-21T04:37:45.303847Z",
     "start_time": "2022-08-21T04:37:40.637097Z"
    },
    "scrolled": true
   },
   "outputs": [
    {
     "name": "stdout",
     "output_type": "stream",
     "text": [
      "5\n",
      "3 2 1 1 9\n",
      "8\n"
     ]
    }
   ],
   "source": [
    "n = int(input())\n",
    "coins = list(map(int,input().split()))\n",
    "coins.sort()\n",
    "\n",
    "target =1 \n",
    "for x in coins:\n",
    "    if target < x: # 만들 수 있냐 없냐가 x이하이냐로 결정됨\n",
    "        break\n",
    "    target +=x # 이전까지는 모두 만들 수 있게 됨 \n",
    "print(target)"
   ]
  },
  {
   "cell_type": "code",
   "execution_count": null,
   "id": "7dab075f",
   "metadata": {},
   "outputs": [],
   "source": [
    "12359"
   ]
  }
 ],
 "metadata": {
  "kernelspec": {
   "display_name": "Python 3 (ipykernel)",
   "language": "python",
   "name": "python3"
  },
  "language_info": {
   "codemirror_mode": {
    "name": "ipython",
    "version": 3
   },
   "file_extension": ".py",
   "mimetype": "text/x-python",
   "name": "python",
   "nbconvert_exporter": "python",
   "pygments_lexer": "ipython3",
   "version": "3.8.13"
  },
  "toc": {
   "base_numbering": 1,
   "nav_menu": {},
   "number_sections": true,
   "sideBar": true,
   "skip_h1_title": true,
   "title_cell": "Table of Contents",
   "title_sidebar": "Contents",
   "toc_cell": false,
   "toc_position": {},
   "toc_section_display": true,
   "toc_window_display": false
  },
  "varInspector": {
   "cols": {
    "lenName": 16,
    "lenType": 16,
    "lenVar": 40
   },
   "kernels_config": {
    "python": {
     "delete_cmd_postfix": "",
     "delete_cmd_prefix": "del ",
     "library": "var_list.py",
     "varRefreshCmd": "print(var_dic_list())"
    },
    "r": {
     "delete_cmd_postfix": ") ",
     "delete_cmd_prefix": "rm(",
     "library": "var_list.r",
     "varRefreshCmd": "cat(var_dic_list()) "
    }
   },
   "types_to_exclude": [
    "module",
    "function",
    "builtin_function_or_method",
    "instance",
    "_Feature"
   ],
   "window_display": false
  }
 },
 "nbformat": 4,
 "nbformat_minor": 5
}
