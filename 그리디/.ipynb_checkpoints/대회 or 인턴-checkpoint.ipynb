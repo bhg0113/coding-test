{
 "cells": [
  {
   "cell_type": "markdown",
   "id": "51e4896e",
   "metadata": {},
   "source": [
    "https://www.acmicpc.net/problem/2875"
   ]
  },
  {
   "cell_type": "code",
   "execution_count": 8,
   "id": "7529bf0e",
   "metadata": {
    "ExecuteTime": {
     "end_time": "2022-05-26T16:17:53.957261Z",
     "start_time": "2022-05-26T16:17:52.072640Z"
    }
   },
   "outputs": [
    {
     "name": "stdout",
     "output_type": "stream",
     "text": [
      "6 10 8\n",
      "2\n"
     ]
    }
   ],
   "source": [
    "# 일반적인 그리디 접근이 오히려 더 빠름 (수가 작아서 그런것으로 보임 )\n",
    "# 여학생 및 남학생의 초과분에 대해서 인턴인원에서 제외하기 -> 짝맞춰두는 것\n",
    "# 인턴인원 안남으면 그대로 팀 구성\n",
    "# 인턴인원 남으면 여학생, 남학생 2:1 비율로 인턴인원에서 제외하여 팀 구성\n",
    "\n",
    "n,m,k = map(int,input().split())\n",
    "\n",
    "if n > 2*m:\n",
    "    o =min((n-2*m),k)\n",
    "    n -= o\n",
    "    k -= o \n",
    "elif m > n//2:\n",
    "    o = min((m-n//2),k)\n",
    "    m -= o\n",
    "    k -= o\n",
    "    \n",
    "print(n,m,k)\n",
    "\n",
    "while k >0:\n",
    "    n -=2\n",
    "    m -=1\n",
    "    k -=3\n",
    "    \n",
    "n = max(n,0)\n",
    "m = max(m,0)\n",
    "print(min(n//2,m))"
   ]
  },
  {
   "cell_type": "code",
   "execution_count": null,
   "id": "49213076",
   "metadata": {},
   "outputs": [],
   "source": [
    "# 내풀이를 조금 짧게 정리한 풀이(속도는 근소하게 내가 빠름)\n",
    "N, M, K = list(map(int, input().split()))\n",
    "\n",
    "while K>0:\n",
    "    if N>=2*M:\n",
    "        N -= 2\n",
    "        K -=2\n",
    "    else:\n",
    "        M-=1\n",
    "        K-=1\n",
    "print(min(N//2, M))\n"
   ]
  },
  {
   "cell_type": "code",
   "execution_count": null,
   "id": "e1579e4b",
   "metadata": {},
   "outputs": [],
   "source": []
  }
 ],
 "metadata": {
  "kernelspec": {
   "display_name": "Python 3 (ipykernel)",
   "language": "python",
   "name": "python3"
  },
  "language_info": {
   "codemirror_mode": {
    "name": "ipython",
    "version": 3
   },
   "file_extension": ".py",
   "mimetype": "text/x-python",
   "name": "python",
   "nbconvert_exporter": "python",
   "pygments_lexer": "ipython3",
   "version": "3.8.12"
  },
  "toc": {
   "base_numbering": 1,
   "nav_menu": {},
   "number_sections": true,
   "sideBar": true,
   "skip_h1_title": true,
   "title_cell": "Table of Contents",
   "title_sidebar": "Contents",
   "toc_cell": false,
   "toc_position": {},
   "toc_section_display": true,
   "toc_window_display": false
  },
  "varInspector": {
   "cols": {
    "lenName": 16,
    "lenType": 16,
    "lenVar": 40
   },
   "kernels_config": {
    "python": {
     "delete_cmd_postfix": "",
     "delete_cmd_prefix": "del ",
     "library": "var_list.py",
     "varRefreshCmd": "print(var_dic_list())"
    },
    "r": {
     "delete_cmd_postfix": ") ",
     "delete_cmd_prefix": "rm(",
     "library": "var_list.r",
     "varRefreshCmd": "cat(var_dic_list()) "
    }
   },
   "types_to_exclude": [
    "module",
    "function",
    "builtin_function_or_method",
    "instance",
    "_Feature"
   ],
   "window_display": false
  }
 },
 "nbformat": 4,
 "nbformat_minor": 5
}
