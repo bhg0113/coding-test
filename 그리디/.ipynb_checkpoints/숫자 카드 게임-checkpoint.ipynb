{
 "cells": [
  {
   "cell_type": "code",
   "execution_count": 4,
   "id": "3aa4e919",
   "metadata": {
    "ExecuteTime": {
     "end_time": "2022-07-09T12:38:39.075904Z",
     "start_time": "2022-07-09T12:38:30.032195Z"
    }
   },
   "outputs": [
    {
     "name": "stdout",
     "output_type": "stream",
     "text": [
      "2 4\n",
      "7 3 1 8\n",
      "3 3 3 4\n"
     ]
    }
   ],
   "source": [
    "n, m = map(int,input().split())\n",
    "cards = []\n",
    "for i in range(n):\n",
    "    cards.append(list(map(int,input().split())))"
   ]
  },
  {
   "cell_type": "code",
   "execution_count": 5,
   "id": "3b37e6db",
   "metadata": {
    "ExecuteTime": {
     "end_time": "2022-07-09T12:38:40.428737Z",
     "start_time": "2022-07-09T12:38:40.420731Z"
    }
   },
   "outputs": [
    {
     "data": {
      "text/plain": [
       "[[7, 3, 1, 8], [3, 3, 3, 4]]"
      ]
     },
     "execution_count": 5,
     "metadata": {},
     "output_type": "execute_result"
    }
   ],
   "source": [
    "# n,m이 최대 100이므로 n^2이어도 괜찮음\n",
    "cards"
   ]
  },
  {
   "cell_type": "code",
   "execution_count": 6,
   "id": "4c7dec0c",
   "metadata": {
    "ExecuteTime": {
     "end_time": "2022-07-09T12:38:41.306035Z",
     "start_time": "2022-07-09T12:38:41.290014Z"
    }
   },
   "outputs": [
    {
     "name": "stdout",
     "output_type": "stream",
     "text": [
      "3\n"
     ]
    }
   ],
   "source": [
    "min_list = []\n",
    "for card in cards:\n",
    "    min_list.append(min(card))\n",
    "print(max(min_list))"
   ]
  },
  {
   "cell_type": "code",
   "execution_count": null,
   "id": "6ff606d2",
   "metadata": {},
   "outputs": [],
   "source": [
    "# min 값을 받아서 행마다 max값으로 갱신할 수도 있음 "
   ]
  }
 ],
 "metadata": {
  "kernelspec": {
   "display_name": "Python 3 (ipykernel)",
   "language": "python",
   "name": "python3"
  },
  "language_info": {
   "codemirror_mode": {
    "name": "ipython",
    "version": 3
   },
   "file_extension": ".py",
   "mimetype": "text/x-python",
   "name": "python",
   "nbconvert_exporter": "python",
   "pygments_lexer": "ipython3",
   "version": "3.8.12"
  },
  "toc": {
   "base_numbering": 1,
   "nav_menu": {},
   "number_sections": true,
   "sideBar": true,
   "skip_h1_title": true,
   "title_cell": "Table of Contents",
   "title_sidebar": "Contents",
   "toc_cell": false,
   "toc_position": {},
   "toc_section_display": true,
   "toc_window_display": false
  },
  "varInspector": {
   "cols": {
    "lenName": 16,
    "lenType": 16,
    "lenVar": 40
   },
   "kernels_config": {
    "python": {
     "delete_cmd_postfix": "",
     "delete_cmd_prefix": "del ",
     "library": "var_list.py",
     "varRefreshCmd": "print(var_dic_list())"
    },
    "r": {
     "delete_cmd_postfix": ") ",
     "delete_cmd_prefix": "rm(",
     "library": "var_list.r",
     "varRefreshCmd": "cat(var_dic_list()) "
    }
   },
   "types_to_exclude": [
    "module",
    "function",
    "builtin_function_or_method",
    "instance",
    "_Feature"
   ],
   "window_display": false
  }
 },
 "nbformat": 4,
 "nbformat_minor": 5
}
