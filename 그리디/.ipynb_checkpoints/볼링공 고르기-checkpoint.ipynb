{
 "cells": [
  {
   "cell_type": "markdown",
   "id": "843cc3ea",
   "metadata": {},
   "source": [
    "https://velog.io/@subinmun1997/%EC%9D%B4%EC%BD%94%ED%85%8C-%EA%B7%B8%EB%A6%AC%EB%94%94-%EB%B3%BC%EB%A7%81%EA%B3%B5-%EA%B3%A0%EB%A5%B4%EA%B8%B0"
   ]
  },
  {
   "cell_type": "code",
   "execution_count": 5,
   "id": "3a77488d",
   "metadata": {
    "ExecuteTime": {
     "end_time": "2022-08-21T04:44:40.023568Z",
     "start_time": "2022-08-21T04:44:36.504767Z"
    },
    "scrolled": true
   },
   "outputs": [
    {
     "name": "stdout",
     "output_type": "stream",
     "text": [
      "5 3 \n",
      "1 3 2 3 2\n",
      "8\n"
     ]
    }
   ],
   "source": [
    "# n은 1000이하, m은 10이하\n",
    "# n개 중 2개의 조합 찾는 것\n",
    "from itertools import combinations\n",
    "n,m = map(int,input().split())\n",
    "balls = list(map(int,input().split()))\n",
    "\n",
    "comb = list(combinations(balls, 2)) # 두 개로 조합 모두 구하기 \n",
    "tmp = []\n",
    "for a,b in comb: \n",
    "    if a != b: # 둘이 무게 다르면 \n",
    "        tmp.append((a,b))\n",
    "print(len(tmp)) "
   ]
  },
  {
   "cell_type": "code",
   "execution_count": null,
   "id": "e07b6a61",
   "metadata": {},
   "outputs": [],
   "source": [
    "# 이코테 풀이\n",
    "# A가 특정 무게 선택했을 때 B가 선택하는 경우 차례대로 고려\n",
    "n,m = map(int,input().split())\n",
    "balls = list(map(int,input().split()))\n",
    "\n",
    "array=[0]*11 # 볼링공 무게가 10 이하이므로 \n",
    "for ball in balls:\n",
    "    array[ball] +=1 # 해당 무게 공 수 카운트\n",
    "result = 0\n",
    "for i in range(1,m+1):\n",
    "    n -= array[i] # 무게가 i인 공 처리\n",
    "    result += array[i] * n # n가 선택하는 경우와 곱하기 ( i무게~ array[i]개, 나머지중 하나~ n개)"
   ]
  }
 ],
 "metadata": {
  "kernelspec": {
   "display_name": "Python 3 (ipykernel)",
   "language": "python",
   "name": "python3"
  },
  "language_info": {
   "codemirror_mode": {
    "name": "ipython",
    "version": 3
   },
   "file_extension": ".py",
   "mimetype": "text/x-python",
   "name": "python",
   "nbconvert_exporter": "python",
   "pygments_lexer": "ipython3",
   "version": "3.8.13"
  },
  "toc": {
   "base_numbering": 1,
   "nav_menu": {},
   "number_sections": true,
   "sideBar": true,
   "skip_h1_title": true,
   "title_cell": "Table of Contents",
   "title_sidebar": "Contents",
   "toc_cell": false,
   "toc_position": {},
   "toc_section_display": true,
   "toc_window_display": false
  },
  "varInspector": {
   "cols": {
    "lenName": 16,
    "lenType": 16,
    "lenVar": 40
   },
   "kernels_config": {
    "python": {
     "delete_cmd_postfix": "",
     "delete_cmd_prefix": "del ",
     "library": "var_list.py",
     "varRefreshCmd": "print(var_dic_list())"
    },
    "r": {
     "delete_cmd_postfix": ") ",
     "delete_cmd_prefix": "rm(",
     "library": "var_list.r",
     "varRefreshCmd": "cat(var_dic_list()) "
    }
   },
   "types_to_exclude": [
    "module",
    "function",
    "builtin_function_or_method",
    "instance",
    "_Feature"
   ],
   "window_display": false
  }
 },
 "nbformat": 4,
 "nbformat_minor": 5
}
