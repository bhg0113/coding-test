{
 "cells": [
  {
   "cell_type": "markdown",
   "id": "acd53029",
   "metadata": {},
   "source": [
    "https://velog.io/@jiyeah3108/Python-%EC%9D%B4%EC%BD%94%ED%85%8C%ED%81%B0-%EC%88%98%EC%9D%98-%EB%B2%95%EC%B9%99"
   ]
  },
  {
   "cell_type": "code",
   "execution_count": 23,
   "id": "8f75847d",
   "metadata": {
    "ExecuteTime": {
     "end_time": "2022-07-09T12:03:44.812874Z",
     "start_time": "2022-07-09T12:03:32.774984Z"
    }
   },
   "outputs": [
    {
     "name": "stdout",
     "output_type": "stream",
     "text": [
      "5 7 2\n",
      "3 4 3 4 3\n"
     ]
    }
   ],
   "source": [
    "n,m,k = map(int, input().split())\n",
    "arr = list(map(int, input().split()))"
   ]
  },
  {
   "cell_type": "code",
   "execution_count": 24,
   "id": "c553c1fc",
   "metadata": {
    "ExecuteTime": {
     "end_time": "2022-07-09T12:03:46.317922Z",
     "start_time": "2022-07-09T12:03:46.307936Z"
    }
   },
   "outputs": [
    {
     "name": "stdout",
     "output_type": "stream",
     "text": [
      "28\n"
     ]
    }
   ],
   "source": [
    "# arr의 최대 크기가 1000, m(더하는 횟수)가 최대 10000으로 O(n)에서 처리해야 함\n",
    "\n",
    "# 번갈아 가면서 최대 수를 더하면 되므로 사실상 가장 큰 두 개의 수만 필요\n",
    "m1 = max(arr) # 가장 큰 수 \n",
    "arr.remove(m1)\n",
    "m2 = max(arr) # 다음으로 큰 수 \n",
    "# ---------------------------\n",
    "# 책에서는 정렬하여 가져옴 -> 이게 간결한 풀이로 보임\n",
    "\n",
    "# m1을 최대 곱 + m2 최대 곱\n",
    "# 최대 곱은 \n",
    "print(m1*(m//k)*k + m2*(m%k) )\n",
    "\n",
    "# 그리디로 하면 k까지 큰 숫자 더하고 그 다음 수 한번 더하고 다시 큰숫자 k 더하고 반복"
   ]
  },
  {
   "cell_type": "code",
   "execution_count": null,
   "id": "0ee266de",
   "metadata": {},
   "outputs": [],
   "source": []
  }
 ],
 "metadata": {
  "kernelspec": {
   "display_name": "Python 3 (ipykernel)",
   "language": "python",
   "name": "python3"
  },
  "language_info": {
   "codemirror_mode": {
    "name": "ipython",
    "version": 3
   },
   "file_extension": ".py",
   "mimetype": "text/x-python",
   "name": "python",
   "nbconvert_exporter": "python",
   "pygments_lexer": "ipython3",
   "version": "3.8.12"
  },
  "toc": {
   "base_numbering": 1,
   "nav_menu": {},
   "number_sections": true,
   "sideBar": true,
   "skip_h1_title": true,
   "title_cell": "Table of Contents",
   "title_sidebar": "Contents",
   "toc_cell": false,
   "toc_position": {},
   "toc_section_display": true,
   "toc_window_display": false
  },
  "varInspector": {
   "cols": {
    "lenName": 16,
    "lenType": 16,
    "lenVar": 40
   },
   "kernels_config": {
    "python": {
     "delete_cmd_postfix": "",
     "delete_cmd_prefix": "del ",
     "library": "var_list.py",
     "varRefreshCmd": "print(var_dic_list())"
    },
    "r": {
     "delete_cmd_postfix": ") ",
     "delete_cmd_prefix": "rm(",
     "library": "var_list.r",
     "varRefreshCmd": "cat(var_dic_list()) "
    }
   },
   "types_to_exclude": [
    "module",
    "function",
    "builtin_function_or_method",
    "instance",
    "_Feature"
   ],
   "window_display": false
  }
 },
 "nbformat": 4,
 "nbformat_minor": 5
}
