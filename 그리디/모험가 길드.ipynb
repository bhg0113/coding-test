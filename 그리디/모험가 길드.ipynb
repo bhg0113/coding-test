{
 "cells": [
  {
   "cell_type": "markdown",
   "id": "2625314a",
   "metadata": {},
   "source": [
    "https://velog.io/@pyh8618/%EC%9D%B4%EC%BD%94%ED%85%8C-%EA%B7%B8%EB%A6%AC%EB%94%94-%EB%AA%A8%ED%97%98%EA%B0%80-%EA%B8%B8%EB%93%9C"
   ]
  },
  {
   "cell_type": "code",
   "execution_count": 8,
   "id": "f41ded90",
   "metadata": {
    "ExecuteTime": {
     "end_time": "2022-07-29T16:02:29.715882Z",
     "start_time": "2022-07-29T16:02:18.467373Z"
    }
   },
   "outputs": [
    {
     "name": "stdout",
     "output_type": "stream",
     "text": [
      "7\n",
      "3 2 2 1 4 5 1\n"
     ]
    }
   ],
   "source": [
    "# n이 10만 이하로 O(N^2)이하여야 함\n",
    "# 아이디어 : 높은 공포도 가진 모험가끼리 묶는 다 ~ 정렬로, 최대 공포도의 멤버 수 모이면 다음 그룹 생성하는 방식\n",
    "\n",
    "n = int(input())\n",
    "arr = list(map(int, input().split()))"
   ]
  },
  {
   "cell_type": "code",
   "execution_count": 9,
   "id": "d732c0fd",
   "metadata": {
    "ExecuteTime": {
     "end_time": "2022-07-29T16:02:30.370007Z",
     "start_time": "2022-07-29T16:02:30.355984Z"
    }
   },
   "outputs": [],
   "source": [
    "arr.sort(reverse=True)\n",
    "cnt =0\n",
    "while len(arr) !=0:\n",
    "    arr = arr[arr[0]:] # 리스트 슬라이싱으로 그루핑\n",
    "    cnt +=1\n"
   ]
  },
  {
   "cell_type": "code",
   "execution_count": null,
   "id": "2e31a754",
   "metadata": {},
   "outputs": [],
   "source": [
    "# 다른 풀이들은 반복하며 그룹 내 인원 체크 \n",
    "# 다음은 예시 답안\n",
    "\n",
    "n = int(input())\n",
    "data = list(map(int, input().split()))\n",
    "data.sort()\n",
    "\n",
    "result = 0 # 총 그룹의 수\n",
    "count = 0 # 현재 그룹에 포함된 모험가의 수\n",
    "\n",
    "for i in data: # 공포도를 낮은 것부터 하나씩 확인하며\n",
    "    count += 1 # 현재 그룹에 해당 모험가를 포함시키기\n",
    "    if count >= i: # 현재 그룹에 포함된 모험가의 수가 현재의 공포도 이상이라면, 그룹 결성\n",
    "        result += 1 # 총 그룹의 수 증가시키기\n",
    "        count = 0 # 현재 그룹에 포함된 모험가의 수 초기화\n",
    "\n",
    "print(result) # 총 그룹의 수 출력"
   ]
  }
 ],
 "metadata": {
  "kernelspec": {
   "display_name": "Python 3 (ipykernel)",
   "language": "python",
   "name": "python3"
  },
  "language_info": {
   "codemirror_mode": {
    "name": "ipython",
    "version": 3
   },
   "file_extension": ".py",
   "mimetype": "text/x-python",
   "name": "python",
   "nbconvert_exporter": "python",
   "pygments_lexer": "ipython3",
   "version": "3.8.12"
  },
  "toc": {
   "base_numbering": 1,
   "nav_menu": {},
   "number_sections": true,
   "sideBar": true,
   "skip_h1_title": true,
   "title_cell": "Table of Contents",
   "title_sidebar": "Contents",
   "toc_cell": false,
   "toc_position": {},
   "toc_section_display": true,
   "toc_window_display": false
  },
  "varInspector": {
   "cols": {
    "lenName": 16,
    "lenType": 16,
    "lenVar": 40
   },
   "kernels_config": {
    "python": {
     "delete_cmd_postfix": "",
     "delete_cmd_prefix": "del ",
     "library": "var_list.py",
     "varRefreshCmd": "print(var_dic_list())"
    },
    "r": {
     "delete_cmd_postfix": ") ",
     "delete_cmd_prefix": "rm(",
     "library": "var_list.r",
     "varRefreshCmd": "cat(var_dic_list()) "
    }
   },
   "types_to_exclude": [
    "module",
    "function",
    "builtin_function_or_method",
    "instance",
    "_Feature"
   ],
   "window_display": false
  }
 },
 "nbformat": 4,
 "nbformat_minor": 5
}
