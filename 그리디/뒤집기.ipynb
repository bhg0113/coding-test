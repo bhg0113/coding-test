{
 "cells": [
  {
   "cell_type": "markdown",
   "id": "2eac2f90",
   "metadata": {},
   "source": [
    "https://www.acmicpc.net/problem/1439"
   ]
  },
  {
   "cell_type": "code",
   "execution_count": 13,
   "id": "2f215c53",
   "metadata": {
    "ExecuteTime": {
     "end_time": "2022-08-20T12:25:34.540045Z",
     "start_time": "2022-08-20T12:25:34.057934Z"
    },
    "scrolled": false
   },
   "outputs": [
    {
     "name": "stdout",
     "output_type": "stream",
     "text": [
      "11001100110011000001\n",
      "1\n"
     ]
    }
   ],
   "source": [
    "s = input()\n",
    "s_0 = s.split('0') # 1로 뒤집어야 할 떄 \n",
    "s_1 = s.split('1') # 0로 뒤집어야 할 떄 \n",
    "cnt_0= len([i for i in s_0 if len(i) >0] ) \n",
    "cnt_1 = len([i for i in s_1 if len(i) >0])\n",
    "\n",
    "print(min(cnt_0,cnt_1))"
   ]
  },
  {
   "cell_type": "code",
   "execution_count": 2,
   "id": "ad6594ab",
   "metadata": {
    "ExecuteTime": {
     "end_time": "2022-08-21T03:31:24.708959Z",
     "start_time": "2022-08-21T03:31:23.273524Z"
    }
   },
   "outputs": [
    {
     "name": "stdout",
     "output_type": "stream",
     "text": [
      "11001100110011000001\n",
      "4\n"
     ]
    }
   ],
   "source": [
    "# 교재 풀이\n",
    "# 원소 앞에서부터 하나씩 확인하며 변경\n",
    "\n",
    "data = input()\n",
    "count0 = 0\n",
    "count1 = 0\n",
    "\n",
    "if data[0]=='1':\n",
    "    count0 +=1\n",
    "else:\n",
    "    count1 +=1\n",
    "\n",
    "for i in range(len(data)-1): # 0일때 1이 나와서 뒤집어야할 때는 언제인가? -> 내 풀이의 strip과 같은 방식으로 볼 수 있음\n",
    "    if data[i] != data[i+1]:\n",
    "        if data[i] == '1':\n",
    "            count1 +=1\n",
    "        else:\n",
    "            count0 +=1\n",
    "print(min(count0,count1))\n",
    "        "
   ]
  },
  {
   "cell_type": "code",
   "execution_count": null,
   "id": "094a620a",
   "metadata": {},
   "outputs": [],
   "source": []
  }
 ],
 "metadata": {
  "kernelspec": {
   "display_name": "Python 3 (ipykernel)",
   "language": "python",
   "name": "python3"
  },
  "language_info": {
   "codemirror_mode": {
    "name": "ipython",
    "version": 3
   },
   "file_extension": ".py",
   "mimetype": "text/x-python",
   "name": "python",
   "nbconvert_exporter": "python",
   "pygments_lexer": "ipython3",
   "version": "3.8.13"
  },
  "toc": {
   "base_numbering": 1,
   "nav_menu": {},
   "number_sections": true,
   "sideBar": true,
   "skip_h1_title": true,
   "title_cell": "Table of Contents",
   "title_sidebar": "Contents",
   "toc_cell": false,
   "toc_position": {},
   "toc_section_display": true,
   "toc_window_display": false
  },
  "varInspector": {
   "cols": {
    "lenName": 16,
    "lenType": 16,
    "lenVar": 40
   },
   "kernels_config": {
    "python": {
     "delete_cmd_postfix": "",
     "delete_cmd_prefix": "del ",
     "library": "var_list.py",
     "varRefreshCmd": "print(var_dic_list())"
    },
    "r": {
     "delete_cmd_postfix": ") ",
     "delete_cmd_prefix": "rm(",
     "library": "var_list.r",
     "varRefreshCmd": "cat(var_dic_list()) "
    }
   },
   "types_to_exclude": [
    "module",
    "function",
    "builtin_function_or_method",
    "instance",
    "_Feature"
   ],
   "window_display": false
  }
 },
 "nbformat": 4,
 "nbformat_minor": 5
}
