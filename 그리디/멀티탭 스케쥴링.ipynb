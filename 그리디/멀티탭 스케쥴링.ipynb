{
 "cells": [
  {
   "cell_type": "markdown",
   "id": "ceee111f",
   "metadata": {},
   "source": [
    "https://www.acmicpc.net/problem/1700"
   ]
  },
  {
   "cell_type": "code",
   "execution_count": 193,
   "id": "625744a5",
   "metadata": {
    "ExecuteTime": {
     "end_time": "2022-06-10T12:15:00.254095Z",
     "start_time": "2022-06-10T12:14:56.822312Z"
    }
   },
   "outputs": [
    {
     "name": "stdout",
     "output_type": "stream",
     "text": [
      "2 10\n",
      "1 1 2 1 1 2 1 1 2 1\n"
     ]
    }
   ],
   "source": [
    "# 구멍 수,사용횟수(둘다 100이하)로 연산량은 크게 신경x\n",
    "holes = list(map(int, input().split()))[0]\n",
    "tasks = list(map(int,input().split()))\n",
    "# 1 2 3 4 5 1 2 3 4 5 2 3 4 5 1 2 3 4 5 \n",
    "# 2 15\n",
    "# 3 2 1 2 1 2 1 2 1 3 3 3 3 3 3"
   ]
  },
  {
   "cell_type": "code",
   "execution_count": 151,
   "id": "c2a27713",
   "metadata": {
    "ExecuteTime": {
     "end_time": "2022-06-10T11:08:14.764297Z",
     "start_time": "2022-06-10T11:08:14.741286Z"
    }
   },
   "outputs": [
    {
     "ename": "IndexError",
     "evalue": "pop from empty list",
     "output_type": "error",
     "traceback": [
      "\u001b[1;31m---------------------------------------------------------------------------\u001b[0m",
      "\u001b[1;31mIndexError\u001b[0m                                Traceback (most recent call last)",
      "\u001b[1;32m~\\AppData\\Local\\Temp/ipykernel_16356/2731611267.py\u001b[0m in \u001b[0;36m<module>\u001b[1;34m\u001b[0m\n\u001b[0;32m      8\u001b[0m \u001b[1;33m\u001b[0m\u001b[0m\n\u001b[0;32m      9\u001b[0m \u001b[1;32mfor\u001b[0m \u001b[0mi\u001b[0m \u001b[1;32min\u001b[0m \u001b[0mrange\u001b[0m\u001b[1;33m(\u001b[0m\u001b[0mholes\u001b[0m\u001b[1;33m)\u001b[0m\u001b[1;33m:\u001b[0m \u001b[1;31m# 일단 코드 할당\u001b[0m\u001b[1;33m\u001b[0m\u001b[1;33m\u001b[0m\u001b[0m\n\u001b[1;32m---> 10\u001b[1;33m     \u001b[0mcurrent\u001b[0m\u001b[1;33m.\u001b[0m\u001b[0mappend\u001b[0m\u001b[1;33m(\u001b[0m\u001b[0mtasks\u001b[0m\u001b[1;33m.\u001b[0m\u001b[0mpop\u001b[0m\u001b[1;33m(\u001b[0m\u001b[1;36m0\u001b[0m\u001b[1;33m)\u001b[0m\u001b[1;33m)\u001b[0m\u001b[1;33m\u001b[0m\u001b[1;33m\u001b[0m\u001b[0m\n\u001b[0m\u001b[0;32m     11\u001b[0m \u001b[1;33m\u001b[0m\u001b[0m\n\u001b[0;32m     12\u001b[0m \u001b[1;32mwhile\u001b[0m \u001b[0mlen\u001b[0m\u001b[1;33m(\u001b[0m\u001b[0mtasks\u001b[0m\u001b[1;33m)\u001b[0m \u001b[1;33m>\u001b[0m\u001b[1;36m0\u001b[0m\u001b[1;33m:\u001b[0m\u001b[1;33m\u001b[0m\u001b[1;33m\u001b[0m\u001b[0m\n",
      "\u001b[1;31mIndexError\u001b[0m: pop from empty list"
     ]
    }
   ],
   "source": [
    "# 일단 코드 작업 순서대로 꽂음\n",
    "# 우선순위(Counter로 적은 것부터) 코드 뽑기 -> 안되는 것으로 보임 \n",
    "current = []\n",
    "cnt =0\n",
    "\n",
    "from collections import Counter\n",
    "counter = dict(Counter(tasks)) # 그떄 그때 우선 순위 정해야 함 -> 마지막즈음에 아예 없는 경우 집계자체가 안됨\n",
    "\n",
    "for i in range(holes): # 일단 코드 할당\n",
    "    current.append(tasks.pop(0))\n",
    "\n",
    "while len(tasks) >0:\n",
    "    #print(sorted(counter.items(),key=lambda x :x[1]))\n",
    "    if tasks[0] in current: # 꽂혀있으면 task에서만 지움\n",
    "        counter[tasks.pop(0)] -=1\n",
    "    else: # 코드 바꿔야 함 -> 꽂혀있는 것 중(current) 우선순위가 낮은 것(counter가 적은))부터 뽑음\n",
    "        print(current, tasks)\n",
    "        #print(k)\n",
    "        for k,v in sorted(counter.items(), key=lambda x: (x[1],x[0])):\n",
    "            if k in current: # 바꿔야하는 코드\n",
    "                t = tasks.pop(0)\n",
    "                current[current.index(k)] = t # k는 꽂혀있는 코드 코드 교환\n",
    "                counter[t] -= 1\n",
    "                break\n",
    "        cnt +=1\n",
    "        \n",
    "        \n",
    "print(cnt)"
   ]
  },
  {
   "cell_type": "code",
   "execution_count": 194,
   "id": "f05dd8cf",
   "metadata": {
    "ExecuteTime": {
     "end_time": "2022-06-10T12:15:01.006633Z",
     "start_time": "2022-06-10T12:15:00.991630Z"
    }
   },
   "outputs": [
    {
     "name": "stdout",
     "output_type": "stream",
     "text": [
      "0\n"
     ]
    }
   ],
   "source": [
    "##### 가장 늦게 나올 코드르 교체? 바꿔야할 때 current값 중 가장 멀리 있는 코드를 바꿈\n",
    "\n",
    "# 일단 코드 작업 순서대로 꽂음\n",
    "# 우선순위(Counter로 적은 것부터) 코드 뽑기 -> 안되는 것으로 보임 \n",
    "current = []\n",
    "cnt =0\n",
    "\n",
    "while len(tasks) >0:\n",
    "    if tasks[0] in current: # 꽂혀있으면 task에서만 지움\n",
    "        tasks.pop(0)\n",
    "    else: # 코드 바꿔야 함 -> 뒤에 안 나오거나 가장 멀리있는 것(인덱스 먼 것)이면서 현재에 없어야 함 \n",
    "        if len(current) != holes:\n",
    "            current.append(tasks.pop(0))\n",
    "        else:\n",
    "            #print(current, tasks)\n",
    "            priority = dict()\n",
    "            for c in current: # current 값 각각이 tasks에서의 거리\n",
    "                if c not in tasks:\n",
    "                    priority[c] = 101\n",
    "                else:\n",
    "                    priority[c] = tasks.index(c)\n",
    "            #print(priority)\n",
    "            \n",
    "            for k,v in sorted(priority.items(),key=lambda x : x[1],reverse=True): # 거리 먼순으로 정렬\n",
    "                current[current.index(k)] = tasks.pop(0)\n",
    "                break\n",
    "            cnt +=1\n",
    "        \n",
    "print(cnt)\n"
   ]
  },
  {
   "cell_type": "code",
   "execution_count": null,
   "id": "4575c154",
   "metadata": {},
   "outputs": [],
   "source": [
    "# 내 풀이 정리된 느낌\n",
    "import sys\n",
    "input = sys.stdin.readline\n",
    "N, K = map(int, input().split())\n",
    "use = list(map(int, input().split()))\n",
    "\n",
    "plugs = []\n",
    "result = 0\n",
    "for i in range(K):\n",
    "    # 이미 있다면\n",
    "    if use[i] in plugs:\n",
    "        continue\n",
    "\n",
    "    # 빈공간이 있다면\n",
    "    if len(plugs) != N:\n",
    "        plugs.append(use[i])\n",
    "        continue\n",
    "\n",
    "    # 가장 멀리 있는 플러그의 인덱스\n",
    "    far_one = 0\n",
    "    temp = 0\n",
    "    # 현재 꽂혀있는 플러그들 확인\n",
    "    for plug in plugs:\n",
    "        # 앞으로 사용할 플러그에 없으면\n",
    "        if plug not in use[i:]:\n",
    "            temp = plug\n",
    "            break\n",
    "        # 현재까지 가장 멀리 있는 플러그보다 멀리 있으면\n",
    "        elif use[i:].index(plug) > far_one:\n",
    "            far_one = use[i:].index(plug)\n",
    "            temp = plug\n",
    "    plugs[plugs.index(temp)] = use[i]\n",
    "    result += 1\n",
    "\n",
    "print(result)"
   ]
  }
 ],
 "metadata": {
  "kernelspec": {
   "display_name": "Python 3 (ipykernel)",
   "language": "python",
   "name": "python3"
  },
  "language_info": {
   "codemirror_mode": {
    "name": "ipython",
    "version": 3
   },
   "file_extension": ".py",
   "mimetype": "text/x-python",
   "name": "python",
   "nbconvert_exporter": "python",
   "pygments_lexer": "ipython3",
   "version": "3.8.12"
  },
  "toc": {
   "base_numbering": 1,
   "nav_menu": {},
   "number_sections": true,
   "sideBar": true,
   "skip_h1_title": true,
   "title_cell": "Table of Contents",
   "title_sidebar": "Contents",
   "toc_cell": false,
   "toc_position": {},
   "toc_section_display": true,
   "toc_window_display": false
  },
  "varInspector": {
   "cols": {
    "lenName": 16,
    "lenType": 16,
    "lenVar": 40
   },
   "kernels_config": {
    "python": {
     "delete_cmd_postfix": "",
     "delete_cmd_prefix": "del ",
     "library": "var_list.py",
     "varRefreshCmd": "print(var_dic_list())"
    },
    "r": {
     "delete_cmd_postfix": ") ",
     "delete_cmd_prefix": "rm(",
     "library": "var_list.r",
     "varRefreshCmd": "cat(var_dic_list()) "
    }
   },
   "types_to_exclude": [
    "module",
    "function",
    "builtin_function_or_method",
    "instance",
    "_Feature"
   ],
   "window_display": false
  }
 },
 "nbformat": 4,
 "nbformat_minor": 5
}
