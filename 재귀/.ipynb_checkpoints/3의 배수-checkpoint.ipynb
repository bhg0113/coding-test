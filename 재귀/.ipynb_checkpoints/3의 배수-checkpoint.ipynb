{
 "cells": [
  {
   "cell_type": "markdown",
   "id": "dfbad135",
   "metadata": {},
   "source": [
    "https://www.acmicpc.net/submit/1769/45184962"
   ]
  },
  {
   "cell_type": "code",
   "execution_count": 10,
   "id": "9e1e5d58",
   "metadata": {
    "ExecuteTime": {
     "end_time": "2022-06-29T01:10:10.570881Z",
     "start_time": "2022-06-29T01:10:08.760758Z"
    }
   },
   "outputs": [
    {
     "name": "stdout",
     "output_type": "stream",
     "text": [
      "1234567\n",
      "3\n",
      "NO\n"
     ]
    }
   ],
   "source": [
    "n = input()\n",
    "cnt =0\n",
    "while len(n) !=1:\n",
    "    cnt+=1\n",
    "    a = sum([int(i) for i in n])\n",
    "    n = str(a)\n",
    "\n",
    "print(cnt)\n",
    "if int(n)%3 ==0:\n",
    "    print('YES')\n",
    "else:\n",
    "    print('NO')"
   ]
  },
  {
   "cell_type": "code",
   "execution_count": null,
   "id": "71acc600",
   "metadata": {},
   "outputs": [],
   "source": []
  }
 ],
 "metadata": {
  "kernelspec": {
   "display_name": "Python 3 (ipykernel)",
   "language": "python",
   "name": "python3"
  },
  "language_info": {
   "codemirror_mode": {
    "name": "ipython",
    "version": 3
   },
   "file_extension": ".py",
   "mimetype": "text/x-python",
   "name": "python",
   "nbconvert_exporter": "python",
   "pygments_lexer": "ipython3",
   "version": "3.8.12"
  },
  "toc": {
   "base_numbering": 1,
   "nav_menu": {},
   "number_sections": true,
   "sideBar": true,
   "skip_h1_title": true,
   "title_cell": "Table of Contents",
   "title_sidebar": "Contents",
   "toc_cell": false,
   "toc_position": {},
   "toc_section_display": true,
   "toc_window_display": false
  },
  "varInspector": {
   "cols": {
    "lenName": 16,
    "lenType": 16,
    "lenVar": 40
   },
   "kernels_config": {
    "python": {
     "delete_cmd_postfix": "",
     "delete_cmd_prefix": "del ",
     "library": "var_list.py",
     "varRefreshCmd": "print(var_dic_list())"
    },
    "r": {
     "delete_cmd_postfix": ") ",
     "delete_cmd_prefix": "rm(",
     "library": "var_list.r",
     "varRefreshCmd": "cat(var_dic_list()) "
    }
   },
   "types_to_exclude": [
    "module",
    "function",
    "builtin_function_or_method",
    "instance",
    "_Feature"
   ],
   "window_display": false
  }
 },
 "nbformat": 4,
 "nbformat_minor": 5
}
