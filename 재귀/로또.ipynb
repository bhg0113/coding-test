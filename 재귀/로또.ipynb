{
 "cells": [
  {
   "cell_type": "markdown",
   "id": "3735b77d",
   "metadata": {},
   "source": [
    "https://www.acmicpc.net/problem/6603"
   ]
  },
  {
   "cell_type": "code",
   "execution_count": 43,
   "id": "ff4a927f",
   "metadata": {
    "ExecuteTime": {
     "end_time": "2022-06-20T13:22:38.107053Z",
     "start_time": "2022-06-20T13:22:35.592915Z"
    },
    "collapsed": true
   },
   "outputs": [
    {
     "name": "stdout",
     "output_type": "stream",
     "text": [
      "8 1 2 3 5 8 13 21 34\n",
      "0\n",
      "1 2 3 5 8 13\n",
      "1 2 3 5 8 21\n",
      "1 2 3 5 8 34\n",
      "1 2 3 5 13 21\n",
      "1 2 3 5 13 34\n",
      "1 2 3 5 21 34\n",
      "1 2 3 8 13 21\n",
      "1 2 3 8 13 34\n",
      "1 2 3 8 21 34\n",
      "1 2 3 13 21 34\n",
      "1 2 5 8 13 21\n",
      "1 2 5 8 13 34\n",
      "1 2 5 8 21 34\n",
      "1 2 5 13 21 34\n",
      "1 2 8 13 21 34\n",
      "1 3 5 8 13 21\n",
      "1 3 5 8 13 34\n",
      "1 3 5 8 21 34\n",
      "1 3 5 13 21 34\n",
      "1 3 8 13 21 34\n",
      "1 5 8 13 21 34\n",
      "2 3 5 8 13 21\n",
      "2 3 5 8 13 34\n",
      "2 3 5 8 21 34\n",
      "2 3 5 13 21 34\n",
      "2 3 8 13 21 34\n",
      "2 5 8 13 21 34\n",
      "3 5 8 13 21 34\n",
      " \n"
     ]
    }
   ],
   "source": [
    "from itertools import combinations\n",
    "result = []\n",
    "def drawing(row):\n",
    "    n,l = row.split()[0] , row.split()[1:]\n",
    "    for c in combinations(l,6): # 여기서 문제에서 요구하는 정렬 수행됨 (사전순)\n",
    "        result.append(' '.join(c))\n",
    "    \n",
    "    \n",
    "def lotto(): # 재귀 7사용 (input 계속 받기 위해)\n",
    "    row = input()\n",
    "    if row != '0':\n",
    "        drawing(row)\n",
    "        result.append(' ')\n",
    "        lotto()\n",
    "    else:\n",
    "        for r in result:\n",
    "            print(r)\n",
    "\n",
    "lotto()"
   ]
  },
  {
   "cell_type": "code",
   "execution_count": null,
   "id": "1e1a13e7",
   "metadata": {},
   "outputs": [],
   "source": [
    "#참조\n",
    "from itertools import combinations\n",
    "import sys\n",
    "input=sys.stdin.readline # 일단 이게 빠름 \n",
    "\n",
    "while 1: # while로 계속 input 받기 (나는 재귀로 처리)\n",
    "    arr = input().split()\n",
    "\n",
    "    if arr.pop(0) == '0': # split되어있으므로\n",
    "        break\n",
    "\n",
    "    for i in combinations(arr, 6):\n",
    "        print(\" \".join(i))\n",
    "\n",
    "    print() # 빈줄 넣기"
   ]
  },
  {
   "cell_type": "code",
   "execution_count": null,
   "id": "4a0a20a1",
   "metadata": {},
   "outputs": [],
   "source": [
    "#참조\n",
    "import sys\n",
    "from itertools import combinations\n",
    "\n",
    "IN = sys.stdin.readline().split()\n",
    "while IN[0] != '0':\n",
    "    cm = combinations(IN[1:], 6)\n",
    "    for c in cm:\n",
    "        print(' '.join(c))\n",
    "    print()\n",
    "    IN = sys.stdin.readline().split() # 이런식으로 재귀처리 "
   ]
  }
 ],
 "metadata": {
  "kernelspec": {
   "display_name": "Python 3 (ipykernel)",
   "language": "python",
   "name": "python3"
  },
  "language_info": {
   "codemirror_mode": {
    "name": "ipython",
    "version": 3
   },
   "file_extension": ".py",
   "mimetype": "text/x-python",
   "name": "python",
   "nbconvert_exporter": "python",
   "pygments_lexer": "ipython3",
   "version": "3.8.12"
  },
  "toc": {
   "base_numbering": 1,
   "nav_menu": {},
   "number_sections": true,
   "sideBar": true,
   "skip_h1_title": true,
   "title_cell": "Table of Contents",
   "title_sidebar": "Contents",
   "toc_cell": false,
   "toc_position": {},
   "toc_section_display": true,
   "toc_window_display": false
  },
  "varInspector": {
   "cols": {
    "lenName": 16,
    "lenType": 16,
    "lenVar": 40
   },
   "kernels_config": {
    "python": {
     "delete_cmd_postfix": "",
     "delete_cmd_prefix": "del ",
     "library": "var_list.py",
     "varRefreshCmd": "print(var_dic_list())"
    },
    "r": {
     "delete_cmd_postfix": ") ",
     "delete_cmd_prefix": "rm(",
     "library": "var_list.r",
     "varRefreshCmd": "cat(var_dic_list()) "
    }
   },
   "types_to_exclude": [
    "module",
    "function",
    "builtin_function_or_method",
    "instance",
    "_Feature"
   ],
   "window_display": false
  }
 },
 "nbformat": 4,
 "nbformat_minor": 5
}
