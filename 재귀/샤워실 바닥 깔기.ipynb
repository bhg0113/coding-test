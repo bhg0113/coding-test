{
 "cells": [
  {
   "cell_type": "markdown",
   "id": "bbd17e31",
   "metadata": {},
   "source": [
    "https://www.acmicpc.net/problem/14601"
   ]
  },
  {
   "cell_type": "code",
   "execution_count": 21,
   "id": "1fd3d8d6",
   "metadata": {
    "ExecuteTime": {
     "end_time": "2022-07-03T14:32:14.777228Z",
     "start_time": "2022-07-03T14:32:11.099675Z"
    }
   },
   "outputs": [
    {
     "name": "stdout",
     "output_type": "stream",
     "text": [
      "2\n",
      "1 2\n"
     ]
    }
   ],
   "source": [
    "#처음 풀이 생각 : 배수구를 중심으로 점점 넓혀 나가기 -> 불가\n",
    "# 풀이 참조(L-트로미노 타일링) : 1. 전체 타일 4등분하고 배수구 위치 찾기 2. 배수구 위치가 있지 않은 사분면 가장 가운데 부분 비워두기\n",
    "# 3.이를 재귀적으로 반복하며 색칠 \n",
    "\n",
    "k = int(input())\n",
    "x,y = map(int,input().split())\n",
    "\n",
    "room = [[0]*2**k for i in range(2**k)] # 초기화\n",
    "room[x][y] = -1 # 배수구 위치 지정\n",
    "\n",
    "def tiling():\n",
    "    \n",
    "\n",
    "# room 분할 후 배수구가 속한 사분면 찾고 \n",
    "# 그 사분면에서 배수구 둘러서 색칠\n",
    "# 그 안의 사분면 안에서 안쪽 색칠 \n",
    "# 나머지 하나씩 색칠"
   ]
  },
  {
   "cell_type": "code",
   "execution_count": 23,
   "id": "6cdd760f",
   "metadata": {
    "ExecuteTime": {
     "end_time": "2022-07-03T14:32:33.114396Z",
     "start_time": "2022-07-03T14:32:33.104413Z"
    }
   },
   "outputs": [
    {
     "data": {
      "text/plain": [
       "[[0, 0, 0, 0], [0, 1, -1, 0], [0, 0, 0, 0], [0, 0, 0, 0]]"
      ]
     },
     "execution_count": 23,
     "metadata": {},
     "output_type": "execute_result"
    }
   ],
   "source": [
    "room"
   ]
  },
  {
   "cell_type": "code",
   "execution_count": 14,
   "id": "dc9b802b",
   "metadata": {
    "ExecuteTime": {
     "end_time": "2022-07-03T14:27:40.490298Z",
     "start_time": "2022-07-03T14:27:35.427954Z"
    }
   },
   "outputs": [
    {
     "name": "stdout",
     "output_type": "stream",
     "text": [
      "2\n",
      "1 2\n",
      "2 2 4 4\n",
      "2 1 1 4\n",
      "-1 3 1 5\n",
      "3 3 5 5\n"
     ]
    }
   ],
   "source": [
    "def check(x,y,size):\n",
    "    for nx in range(x,x+size):\n",
    "        for ny in range(y,y+size):\n",
    "            if result[nx][ny] != 0:\n",
    "                return False\n",
    "    return True\n",
    " \n",
    " \n",
    "def divide_and_fill(x,y,size):\n",
    "    global numbers\n",
    "    numbers += 1\n",
    "    next_size = size//2\n",
    "    input_position = [[x+next_size-1,y+next_size-1],[x+next_size,y+next_size-1],[x+next_size-1,y+next_size],[x+next_size,y+next_size]]\n",
    "    for ind,val in enumerate([[x,y],[x+next_size,y],[x,y+next_size],[x+next_size,y+next_size]]):\n",
    "        sx,sy = val\n",
    "        input_x,input_y = input_position[ind]\n",
    "        if check(sx,sy,next_size):\n",
    "            result[input_x][input_y] = numbers\n",
    " \n",
    "    if size == 2:\n",
    "        return\n",
    "    divide_and_fill(x,y,next_size)\n",
    "    divide_and_fill(x+next_size,y,next_size)\n",
    "    divide_and_fill(x,y+next_size,next_size)\n",
    "    divide_and_fill(x+next_size,y+next_size,next_size)\n",
    " \n",
    " \n",
    " \n",
    " \n",
    "k= int(input())\n",
    "N = 2**k\n",
    "input_x,input_y = map(int,input().split())\n",
    "x = N-input_y\n",
    "y = input_x-1\n",
    "result = [[0 for _ in range(N)] for _ in range(N)]\n",
    "result[x][y] = -1\n",
    " \n",
    "numbers = 0\n",
    "divide_and_fill(0,0,N)\n",
    "for row in result:\n",
    "    print(*row)"
   ]
  },
  {
   "cell_type": "code",
   "execution_count": 15,
   "id": "d27943b9",
   "metadata": {
    "ExecuteTime": {
     "end_time": "2022-07-03T14:28:30.458023Z",
     "start_time": "2022-07-03T14:28:30.441020Z"
    }
   },
   "outputs": [
    {
     "data": {
      "text/plain": [
       "[[2, 2, 4, 4], [2, 1, 1, 4], [-1, 3, 1, 5], [3, 3, 5, 5]]"
      ]
     },
     "execution_count": 15,
     "metadata": {},
     "output_type": "execute_result"
    }
   ],
   "source": [
    "result"
   ]
  },
  {
   "cell_type": "code",
   "execution_count": null,
   "id": "6adc2e10",
   "metadata": {},
   "outputs": [],
   "source": []
  }
 ],
 "metadata": {
  "kernelspec": {
   "display_name": "Python 3 (ipykernel)",
   "language": "python",
   "name": "python3"
  },
  "language_info": {
   "codemirror_mode": {
    "name": "ipython",
    "version": 3
   },
   "file_extension": ".py",
   "mimetype": "text/x-python",
   "name": "python",
   "nbconvert_exporter": "python",
   "pygments_lexer": "ipython3",
   "version": "3.8.12"
  },
  "toc": {
   "base_numbering": 1,
   "nav_menu": {},
   "number_sections": true,
   "sideBar": true,
   "skip_h1_title": true,
   "title_cell": "Table of Contents",
   "title_sidebar": "Contents",
   "toc_cell": false,
   "toc_position": {},
   "toc_section_display": true,
   "toc_window_display": false
  },
  "varInspector": {
   "cols": {
    "lenName": 16,
    "lenType": 16,
    "lenVar": 40
   },
   "kernels_config": {
    "python": {
     "delete_cmd_postfix": "",
     "delete_cmd_prefix": "del ",
     "library": "var_list.py",
     "varRefreshCmd": "print(var_dic_list())"
    },
    "r": {
     "delete_cmd_postfix": ") ",
     "delete_cmd_prefix": "rm(",
     "library": "var_list.r",
     "varRefreshCmd": "cat(var_dic_list()) "
    }
   },
   "types_to_exclude": [
    "module",
    "function",
    "builtin_function_or_method",
    "instance",
    "_Feature"
   ],
   "window_display": false
  }
 },
 "nbformat": 4,
 "nbformat_minor": 5
}
