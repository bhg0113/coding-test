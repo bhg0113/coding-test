{
 "cells": [
  {
   "cell_type": "markdown",
   "id": "3e335ab5",
   "metadata": {},
   "source": [
    "https://www.acmicpc.net/problem/1055"
   ]
  },
  {
   "cell_type": "code",
   "execution_count": 14,
   "id": "931be2db",
   "metadata": {
    "ExecuteTime": {
     "end_time": "2022-07-04T13:57:19.641207Z",
     "start_time": "2022-07-04T13:57:14.995605Z"
    }
   },
   "outputs": [
    {
     "name": "stdout",
     "output_type": "stream",
     "text": [
      "xy\n",
      "$a$bb\n",
      "5\n",
      "1 12\n",
      "xyaxybbaxyax\n",
      "157 xyaxybbaxyaxybbbbaxyaxybbaxyaxybbbbbbaxyaxybbaxyaxybbbbaxyaxybbaxyaxybbbbbbbbaxyaxybbaxyaxybbbbaxyaxybbaxyaxybbbbbbaxyaxybbaxyaxybbbbaxyaxybbaxyaxybbbbbbbbbb\n"
     ]
    }
   ],
   "source": [
    "# 메모리 초과\n",
    "string = input()\n",
    "obj = input()\n",
    "n = int(input())\n",
    "index_min, index_max = map(int, input().split())\n",
    "\n",
    "for i in range(n):\n",
    "    if len(string) >= index_max:\n",
    "        break\n",
    "    string = obj.replace('$',str(string)) # 10억 자리까지 만들어지는 것 자체가 메모리 에러 -> 공식으로 자리수를 만들어야 함 \n",
    "\n",
    "if len(string) < index_max:\n",
    "    print(string[index_min-1:]+'-'*(index_max-1-len(string[index_min-1:])))\n",
    "else: \n",
    "    print(string[index_min-1:index_max])\n",
    "print(len(string),string)"
   ]
  },
  {
   "cell_type": "code",
   "execution_count": 37,
   "id": "be326099",
   "metadata": {
    "ExecuteTime": {
     "end_time": "2022-07-04T15:01:19.444822Z",
     "start_time": "2022-07-04T15:01:06.565524Z"
    }
   },
   "outputs": [
    {
     "name": "stdout",
     "output_type": "stream",
     "text": [
      "xy\n",
      "$a$bb\n",
      "12\n",
      "1 12\n",
      "8192 12285\n",
      "20477\n",
      "xyaxybbaxyax\n",
      "20477\n"
     ]
    }
   ],
   "source": [
    "# 1.길이에 대해 점화식 만들기 \n",
    "# 2. 규칙에 따라 인덱스에 맞는 값 출력\n",
    "string = input()\n",
    "obj = input()\n",
    "n = int(input())\n",
    "index_min, index_max = map(int, input().split())\n",
    "\n",
    "cnt_dollar = obj.count('$')\n",
    "n_string_length = (len(obj)-cnt_dollar)*sum([cnt_dollar**i for i in range(n)]) + len(string)* cnt_dollar**n # 점화식 완성\n",
    "\n",
    "# 이에 대해 어떻게 인덱싱?\n",
    "\n",
    "# for i in range(n):\n",
    "# #     if len(string) >= index_max:\n",
    "# #         break\n",
    "#     string = obj.replace('$',str(string)) # 10억 자리까지 만들어지는 것 자체가 메모리 에러 -> 공식으로 자리수를 만들어야 함 \n",
    "\n",
    "# if len(string) < index_max:\n",
    "#     print(string[index_min-1:]+'-'*(index_max-1-len(string[index_min-1:])))\n",
    "# else: \n",
    "#     print(string[index_min-1:index_max])\n",
    "# print(len(string))"
   ]
  },
  {
   "cell_type": "code",
   "execution_count": null,
   "id": "6c42941d",
   "metadata": {
    "ExecuteTime": {
     "end_time": "2022-07-03T16:11:12.243866Z",
     "start_time": "2022-07-03T16:11:12.243866Z"
    },
    "scrolled": true
   },
   "outputs": [],
   "source": [
    "bcyabcxabcyabczabczab\n",
    "len('abcxabcyabczabcxabcxabcyabczabcyabcxabcyabczabczabcxabcyabczabc')"
   ]
  },
  {
   "cell_type": "code",
   "execution_count": null,
   "id": "88815777",
   "metadata": {
    "ExecuteTime": {
     "end_time": "2022-07-03T16:11:12.247847Z",
     "start_time": "2022-07-03T16:11:12.247847Z"
    }
   },
   "outputs": [],
   "source": [
    "top\n",
    "$coder\n",
    "1\n",
    "1 20"
   ]
  },
  {
   "cell_type": "code",
   "execution_count": null,
   "id": "9af55ffe",
   "metadata": {
    "ExecuteTime": {
     "end_time": "2022-07-03T16:11:12.250850Z",
     "start_time": "2022-07-03T16:11:12.250850Z"
    }
   },
   "outputs": [],
   "source": [
    "xy\n",
    "$a$bb\n",
    "12\n",
    "5000 5099"
   ]
  },
  {
   "cell_type": "code",
   "execution_count": null,
   "id": "61874047",
   "metadata": {
    "ExecuteTime": {
     "end_time": "2022-07-03T16:11:12.254859Z",
     "start_time": "2022-07-03T16:11:12.253850Z"
    }
   },
   "outputs": [],
   "source": [
    "abc\n",
    "$x$y$z$\n",
    "10\n",
    "30 50"
   ]
  }
 ],
 "metadata": {
  "kernelspec": {
   "display_name": "Python 3 (ipykernel)",
   "language": "python",
   "name": "python3"
  },
  "language_info": {
   "codemirror_mode": {
    "name": "ipython",
    "version": 3
   },
   "file_extension": ".py",
   "mimetype": "text/x-python",
   "name": "python",
   "nbconvert_exporter": "python",
   "pygments_lexer": "ipython3",
   "version": "3.8.12"
  },
  "toc": {
   "base_numbering": 1,
   "nav_menu": {},
   "number_sections": true,
   "sideBar": true,
   "skip_h1_title": true,
   "title_cell": "Table of Contents",
   "title_sidebar": "Contents",
   "toc_cell": false,
   "toc_position": {},
   "toc_section_display": true,
   "toc_window_display": false
  },
  "varInspector": {
   "cols": {
    "lenName": 16,
    "lenType": 16,
    "lenVar": 40
   },
   "kernels_config": {
    "python": {
     "delete_cmd_postfix": "",
     "delete_cmd_prefix": "del ",
     "library": "var_list.py",
     "varRefreshCmd": "print(var_dic_list())"
    },
    "r": {
     "delete_cmd_postfix": ") ",
     "delete_cmd_prefix": "rm(",
     "library": "var_list.r",
     "varRefreshCmd": "cat(var_dic_list()) "
    }
   },
   "types_to_exclude": [
    "module",
    "function",
    "builtin_function_or_method",
    "instance",
    "_Feature"
   ],
   "window_display": false
  }
 },
 "nbformat": 4,
 "nbformat_minor": 5
}
