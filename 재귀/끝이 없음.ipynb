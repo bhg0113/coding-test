{
 "cells": [
  {
   "cell_type": "markdown",
   "id": "3e335ab5",
   "metadata": {},
   "source": [
    "https://www.acmicpc.net/problem/1055"
   ]
  },
  {
   "cell_type": "code",
   "execution_count": 10,
   "id": "931be2db",
   "metadata": {
    "ExecuteTime": {
     "end_time": "2022-07-03T16:42:33.679752Z",
     "start_time": "2022-07-03T16:41:55.410391Z"
    }
   },
   "outputs": [
    {
     "name": "stdout",
     "output_type": "stream",
     "text": [
      "xy\n",
      "$a$bb\n",
      "30\n",
      "5000 5099\n",
      "xybbbbaxyaxybbaxyaxybbbbbbbbaxyaxybbaxyaxybbbbaxyaxybbaxyaxybbbbbbaxyaxybbaxyaxybbbbaxyaxybbaxyaxybb\n"
     ]
    }
   ],
   "source": [
    "# 메모리 초과\n",
    "string = input()\n",
    "obj = input()\n",
    "n = int(input())\n",
    "index_min, index_max = map(int, input().split())\n",
    "\n",
    "\n",
    "for i in range(n):\n",
    "    if len(string) >= index_max:\n",
    "        break\n",
    "    string = obj.replace('$',str(string)) # 값이 쌓여서 그런가..? 레퍼런스 포인트 없으면 사라진다고 했는데 \n",
    "\n",
    "    \n",
    "if len(string) >= index_max:\n",
    "    print(string[index_min-1:index_max])\n",
    "else:\n",
    "    print(string[index_min-1:]+'-'*(index_max-1-len(string[index_min-1:])))"
   ]
  },
  {
   "cell_type": "code",
   "execution_count": 17,
   "id": "334f906d",
   "metadata": {
    "ExecuteTime": {
     "end_time": "2022-07-03T16:52:16.276979Z",
     "start_time": "2022-07-03T16:52:09.269819Z"
    }
   },
   "outputs": [
    {
     "name": "stdout",
     "output_type": "stream",
     "text": [
      "xy\n",
      "$a$bb\n",
      "12\n",
      "12 100\n",
      "xybbbbaxyaxybbaxyaxybbbbbbaxyaxybbaxyaxybbbbaxyaxybbaxyaxybbbbbbbbaxyaxybbaxyaxybbbbaxyax\n"
     ]
    }
   ],
   "source": [
    "# 메모리 초과\n",
    "string = input()\n",
    "obj = input()\n",
    "n = int(input())\n",
    "index_min, index_max = map(int, input().split())\n",
    "tmp = [string,obj]\n",
    "\n",
    "for i in range(n):\n",
    "    if len(tmp[0]) >= index_max: # 조금이라도 빨리 완성되도록 완성값으로 비교해도 메모리 초과\n",
    "        break\n",
    "    tmp[0] = tmp[1].replace('$',tmp[0]) # 리스트의 값으로 두어도 메모리 초과 \n",
    "\n",
    "if len(tmp[0]) >= index_max:\n",
    "    print(tmp[0][index_min-1:index_max])\n",
    "else:\n",
    "    print(tmp[0][index_min-1:]+'-'*(index_max-1-len(tmp[0][index_min-1:])))"
   ]
  },
  {
   "cell_type": "code",
   "execution_count": null,
   "id": "6c42941d",
   "metadata": {
    "ExecuteTime": {
     "end_time": "2022-07-03T16:11:12.243866Z",
     "start_time": "2022-07-03T16:11:12.243866Z"
    },
    "scrolled": true
   },
   "outputs": [],
   "source": [
    "bcyabcxabcyabczabczab\n",
    "len('abcxabcyabczabcxabcxabcyabczabcyabcxabcyabczabczabcxabcyabczabc')"
   ]
  },
  {
   "cell_type": "code",
   "execution_count": null,
   "id": "88815777",
   "metadata": {
    "ExecuteTime": {
     "end_time": "2022-07-03T16:11:12.247847Z",
     "start_time": "2022-07-03T16:11:12.247847Z"
    }
   },
   "outputs": [],
   "source": [
    "top\n",
    "$coder\n",
    "1\n",
    "1 20"
   ]
  },
  {
   "cell_type": "code",
   "execution_count": null,
   "id": "9af55ffe",
   "metadata": {
    "ExecuteTime": {
     "end_time": "2022-07-03T16:11:12.250850Z",
     "start_time": "2022-07-03T16:11:12.250850Z"
    }
   },
   "outputs": [],
   "source": [
    "xy\n",
    "$a$bb\n",
    "12\n",
    "5000 5099"
   ]
  },
  {
   "cell_type": "code",
   "execution_count": null,
   "id": "61874047",
   "metadata": {
    "ExecuteTime": {
     "end_time": "2022-07-03T16:11:12.254859Z",
     "start_time": "2022-07-03T16:11:12.253850Z"
    }
   },
   "outputs": [],
   "source": [
    "abc\n",
    "$x$y$z$\n",
    "10\n",
    "30 50"
   ]
  }
 ],
 "metadata": {
  "kernelspec": {
   "display_name": "Python 3 (ipykernel)",
   "language": "python",
   "name": "python3"
  },
  "language_info": {
   "codemirror_mode": {
    "name": "ipython",
    "version": 3
   },
   "file_extension": ".py",
   "mimetype": "text/x-python",
   "name": "python",
   "nbconvert_exporter": "python",
   "pygments_lexer": "ipython3",
   "version": "3.8.12"
  },
  "toc": {
   "base_numbering": 1,
   "nav_menu": {},
   "number_sections": true,
   "sideBar": true,
   "skip_h1_title": true,
   "title_cell": "Table of Contents",
   "title_sidebar": "Contents",
   "toc_cell": false,
   "toc_position": {},
   "toc_section_display": true,
   "toc_window_display": false
  },
  "varInspector": {
   "cols": {
    "lenName": 16,
    "lenType": 16,
    "lenVar": 40
   },
   "kernels_config": {
    "python": {
     "delete_cmd_postfix": "",
     "delete_cmd_prefix": "del ",
     "library": "var_list.py",
     "varRefreshCmd": "print(var_dic_list())"
    },
    "r": {
     "delete_cmd_postfix": ") ",
     "delete_cmd_prefix": "rm(",
     "library": "var_list.r",
     "varRefreshCmd": "cat(var_dic_list()) "
    }
   },
   "types_to_exclude": [
    "module",
    "function",
    "builtin_function_or_method",
    "instance",
    "_Feature"
   ],
   "window_display": false
  }
 },
 "nbformat": 4,
 "nbformat_minor": 5
}
