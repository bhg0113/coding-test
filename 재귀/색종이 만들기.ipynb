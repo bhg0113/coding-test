{
 "cells": [
  {
   "cell_type": "code",
   "execution_count": 3,
   "id": "9bb970cb",
   "metadata": {
    "ExecuteTime": {
     "end_time": "2022-06-23T15:34:34.102047Z",
     "start_time": "2022-06-23T15:34:31.711265Z"
    },
    "scrolled": false
   },
   "outputs": [
    {
     "ename": "KeyboardInterrupt",
     "evalue": "Interrupted by user",
     "output_type": "error",
     "traceback": [
      "\u001b[1;31m---------------------------------------------------------------------------\u001b[0m",
      "\u001b[1;31mKeyboardInterrupt\u001b[0m                         Traceback (most recent call last)",
      "\u001b[1;32m~\\AppData\\Local\\Temp/ipykernel_15720/3997797264.py\u001b[0m in \u001b[0;36m<module>\u001b[1;34m\u001b[0m\n\u001b[0;32m     26\u001b[0m             \u001b[0mcount_recurs\u001b[0m\u001b[1;33m(\u001b[0m\u001b[0mp\u001b[0m\u001b[1;33m)\u001b[0m\u001b[1;33m\u001b[0m\u001b[1;33m\u001b[0m\u001b[0m\n\u001b[0;32m     27\u001b[0m \u001b[1;33m\u001b[0m\u001b[0m\n\u001b[1;32m---> 28\u001b[1;33m \u001b[0mn\u001b[0m \u001b[1;33m=\u001b[0m \u001b[0mint\u001b[0m\u001b[1;33m(\u001b[0m\u001b[0minput\u001b[0m\u001b[1;33m(\u001b[0m\u001b[1;33m)\u001b[0m\u001b[1;33m)\u001b[0m\u001b[1;33m\u001b[0m\u001b[1;33m\u001b[0m\u001b[0m\n\u001b[0m\u001b[0;32m     29\u001b[0m \u001b[0mpaper\u001b[0m \u001b[1;33m=\u001b[0m \u001b[1;33m[\u001b[0m\u001b[1;33m]\u001b[0m\u001b[1;33m\u001b[0m\u001b[1;33m\u001b[0m\u001b[0m\n\u001b[0;32m     30\u001b[0m \u001b[1;32mfor\u001b[0m \u001b[0mi\u001b[0m \u001b[1;32min\u001b[0m \u001b[0mrange\u001b[0m\u001b[1;33m(\u001b[0m\u001b[0mn\u001b[0m\u001b[1;33m)\u001b[0m\u001b[1;33m:\u001b[0m\u001b[1;33m\u001b[0m\u001b[1;33m\u001b[0m\u001b[0m\n",
      "\u001b[1;32m~\\anaconda3\\lib\\site-packages\\ipykernel\\kernelbase.py\u001b[0m in \u001b[0;36mraw_input\u001b[1;34m(self, prompt)\u001b[0m\n\u001b[0;32m   1004\u001b[0m                 \u001b[1;34m\"raw_input was called, but this frontend does not support input requests.\"\u001b[0m\u001b[1;33m\u001b[0m\u001b[1;33m\u001b[0m\u001b[0m\n\u001b[0;32m   1005\u001b[0m             )\n\u001b[1;32m-> 1006\u001b[1;33m         return self._input_request(\n\u001b[0m\u001b[0;32m   1007\u001b[0m             \u001b[0mstr\u001b[0m\u001b[1;33m(\u001b[0m\u001b[0mprompt\u001b[0m\u001b[1;33m)\u001b[0m\u001b[1;33m,\u001b[0m\u001b[1;33m\u001b[0m\u001b[1;33m\u001b[0m\u001b[0m\n\u001b[0;32m   1008\u001b[0m             \u001b[0mself\u001b[0m\u001b[1;33m.\u001b[0m\u001b[0m_parent_ident\u001b[0m\u001b[1;33m[\u001b[0m\u001b[1;34m\"shell\"\u001b[0m\u001b[1;33m]\u001b[0m\u001b[1;33m,\u001b[0m\u001b[1;33m\u001b[0m\u001b[1;33m\u001b[0m\u001b[0m\n",
      "\u001b[1;32m~\\anaconda3\\lib\\site-packages\\ipykernel\\kernelbase.py\u001b[0m in \u001b[0;36m_input_request\u001b[1;34m(self, prompt, ident, parent, password)\u001b[0m\n\u001b[0;32m   1049\u001b[0m             \u001b[1;32mexcept\u001b[0m \u001b[0mKeyboardInterrupt\u001b[0m\u001b[1;33m:\u001b[0m\u001b[1;33m\u001b[0m\u001b[1;33m\u001b[0m\u001b[0m\n\u001b[0;32m   1050\u001b[0m                 \u001b[1;31m# re-raise KeyboardInterrupt, to truncate traceback\u001b[0m\u001b[1;33m\u001b[0m\u001b[1;33m\u001b[0m\u001b[1;33m\u001b[0m\u001b[0m\n\u001b[1;32m-> 1051\u001b[1;33m                 \u001b[1;32mraise\u001b[0m \u001b[0mKeyboardInterrupt\u001b[0m\u001b[1;33m(\u001b[0m\u001b[1;34m\"Interrupted by user\"\u001b[0m\u001b[1;33m)\u001b[0m \u001b[1;32mfrom\u001b[0m \u001b[1;32mNone\u001b[0m\u001b[1;33m\u001b[0m\u001b[1;33m\u001b[0m\u001b[0m\n\u001b[0m\u001b[0;32m   1052\u001b[0m             \u001b[1;32mexcept\u001b[0m \u001b[0mException\u001b[0m\u001b[1;33m:\u001b[0m\u001b[1;33m\u001b[0m\u001b[1;33m\u001b[0m\u001b[0m\n\u001b[0;32m   1053\u001b[0m                 \u001b[0mself\u001b[0m\u001b[1;33m.\u001b[0m\u001b[0mlog\u001b[0m\u001b[1;33m.\u001b[0m\u001b[0mwarning\u001b[0m\u001b[1;33m(\u001b[0m\u001b[1;34m\"Invalid Message:\"\u001b[0m\u001b[1;33m,\u001b[0m \u001b[0mexc_info\u001b[0m\u001b[1;33m=\u001b[0m\u001b[1;32mTrue\u001b[0m\u001b[1;33m)\u001b[0m\u001b[1;33m\u001b[0m\u001b[1;33m\u001b[0m\u001b[0m\n",
      "\u001b[1;31mKeyboardInterrupt\u001b[0m: Interrupted by user"
     ]
    }
   ],
   "source": [
    "def divide_paper(paper):\n",
    "    half = len(paper)//2\n",
    "    paper_1,paper_2,paper_3,paper_4 =[],[],[],[]\n",
    "    for row in range(half):\n",
    "        paper_1.append(paper[row][:half])\n",
    "        paper_2.append(paper[row][half:])\n",
    "        paper_3.append(paper[row+half][:half])\n",
    "        paper_4.append(paper[row+half][half:])\n",
    "    return paper_1,paper_2,paper_3,paper_4\n",
    "\n",
    "def count_recurs(paper): # 종이 개수 새고 재귀 \n",
    "    global white\n",
    "    global blue\n",
    "    for p in divide_paper(paper):\n",
    "        tmp_white, tmp_blue =0,0\n",
    "        for i in range(len(p)): # 각 행마다 살펴봐야 함   \n",
    "            if '1' not in p[i]:\n",
    "                tmp_white+=1\n",
    "            elif '0' not in p[i]:\n",
    "                tmp_blue +=1\n",
    "        if tmp_white ==len(p): # 전체에서 한번 확인\n",
    "            white +=1\n",
    "        elif tmp_blue == len(p):\n",
    "            blue +=1\n",
    "        else: # 통일되지 않은 종이는 분할\n",
    "            count_recurs(p)\n",
    "\n",
    "n = int(input())\n",
    "paper = []\n",
    "for i in range(n):\n",
    "    paper.append(input().split())\n",
    "white = 0\n",
    "blue = 0\n",
    "tmp_white, tmp_blue =0,0  \n",
    "\n",
    "for row in paper: # 처음에 전체로 한번 확인 \n",
    "    if '1' not in row:\n",
    "        tmp_white +=1\n",
    "    elif '0' not in row:\n",
    "        tmp_blue +=1\n",
    "    else:\n",
    "        break\n",
    "        \n",
    "if tmp_white == len(paper):\n",
    "    print(1)\n",
    "    print(0)\n",
    "elif tmp_blue == len(paper):\n",
    "    print(0)\n",
    "    print(1)      \n",
    "else: \n",
    "    count_recurs(paper)       \n",
    "    print(white)\n",
    "    print(blue)"
   ]
  },
  {
   "cell_type": "code",
   "execution_count": 2,
   "id": "28565ba3",
   "metadata": {
    "ExecuteTime": {
     "end_time": "2022-06-23T15:34:22.774581Z",
     "start_time": "2022-06-23T15:34:22.751576Z"
    }
   },
   "outputs": [
    {
     "ename": "ValueError",
     "evalue": "invalid literal for int() with base 10: ''",
     "output_type": "error",
     "traceback": [
      "\u001b[1;31m---------------------------------------------------------------------------\u001b[0m",
      "\u001b[1;31mValueError\u001b[0m                                Traceback (most recent call last)",
      "\u001b[1;32m~\\AppData\\Local\\Temp/ipykernel_15720/703384924.py\u001b[0m in \u001b[0;36m<module>\u001b[1;34m\u001b[0m\n\u001b[0;32m      1\u001b[0m \u001b[1;32mimport\u001b[0m \u001b[0msys\u001b[0m\u001b[1;33m\u001b[0m\u001b[1;33m\u001b[0m\u001b[0m\n\u001b[0;32m      2\u001b[0m \u001b[1;33m\u001b[0m\u001b[0m\n\u001b[1;32m----> 3\u001b[1;33m \u001b[0mN\u001b[0m \u001b[1;33m=\u001b[0m \u001b[0mint\u001b[0m\u001b[1;33m(\u001b[0m\u001b[0msys\u001b[0m\u001b[1;33m.\u001b[0m\u001b[0mstdin\u001b[0m\u001b[1;33m.\u001b[0m\u001b[0mreadline\u001b[0m\u001b[1;33m(\u001b[0m\u001b[1;33m)\u001b[0m\u001b[1;33m)\u001b[0m\u001b[1;33m\u001b[0m\u001b[1;33m\u001b[0m\u001b[0m\n\u001b[0m\u001b[0;32m      4\u001b[0m \u001b[0mpaper\u001b[0m \u001b[1;33m=\u001b[0m \u001b[1;33m[\u001b[0m\u001b[0mlist\u001b[0m\u001b[1;33m(\u001b[0m\u001b[0mmap\u001b[0m\u001b[1;33m(\u001b[0m\u001b[0mint\u001b[0m\u001b[1;33m,\u001b[0m \u001b[0msys\u001b[0m\u001b[1;33m.\u001b[0m\u001b[0mstdin\u001b[0m\u001b[1;33m.\u001b[0m\u001b[0mreadline\u001b[0m\u001b[1;33m(\u001b[0m\u001b[1;33m)\u001b[0m\u001b[1;33m.\u001b[0m\u001b[0msplit\u001b[0m\u001b[1;33m(\u001b[0m\u001b[1;33m)\u001b[0m\u001b[1;33m)\u001b[0m\u001b[1;33m)\u001b[0m \u001b[1;32mfor\u001b[0m \u001b[0m_\u001b[0m \u001b[1;32min\u001b[0m \u001b[0mrange\u001b[0m\u001b[1;33m(\u001b[0m\u001b[0mN\u001b[0m\u001b[1;33m)\u001b[0m\u001b[1;33m]\u001b[0m\u001b[1;33m\u001b[0m\u001b[1;33m\u001b[0m\u001b[0m\n\u001b[0;32m      5\u001b[0m \u001b[1;33m\u001b[0m\u001b[0m\n",
      "\u001b[1;31mValueError\u001b[0m: invalid literal for int() with base 10: ''"
     ]
    }
   ],
   "source": [
    "# 분할정복 풀이\n",
    "import sys\n",
    "\n",
    "N = int(sys.stdin.readline())\n",
    "paper = [list(map(int, sys.stdin.readline().split())) for _ in range(N)] # 나와 같은 형식\n",
    "\n",
    "result = []\n",
    "\n",
    "def solution(x, y, N) :\n",
    "  color = paper[x][y] # 한 칸의 색을 잡고 정해진 범위만큼 확인 \n",
    "  for i in range(x, x+N) :\n",
    "    for j in range(y, y+N) :\n",
    "      if color != paper[i][j] : # 색이 다르면 분할해서 다시 확인 \n",
    "        solution(x, y, N//2)\n",
    "        solution(x, y+N//2, N//2)\n",
    "        solution(x+N//2, y, N//2)\n",
    "        solution(x+N//2, y+N//2, N//2)\n",
    "        return # 없어도 될 듯 \n",
    "  if color == 0 : # 쭉 다돌았는데 if가 걸리지 않는다(색이 모두 같음)\n",
    "    result.append(0)\n",
    "  else :\n",
    "    result.append(1)\n",
    "\n",
    "\n",
    "solution(0,0,N)\n",
    "print(result.count(0))\n",
    "print(result.count(1))"
   ]
  },
  {
   "cell_type": "code",
   "execution_count": null,
   "id": "9cc6fbc3",
   "metadata": {},
   "outputs": [],
   "source": [
    "def division(start_row, start_col, size):\n",
    "    global white_cnt, blue_cnt\n",
    "\n",
    "    flag = 1 # 처음에 확인할때 이용 내방식에서 처음에 반복을 한 후에 재귀하는 방식을 flag로 한 함수에 넣음\n",
    "    color = arr[start_row][start_col]\n",
    "\n",
    "    for row in range(start_row, start_row + size):\n",
    "        for col in range(start_col, start_col + size):\n",
    "            if color != arr[row][col]:\n",
    "                flag = 0 \n",
    "                break\n",
    "\n",
    "        if not flag:\n",
    "            break\n",
    "\n",
    "    if flag:\n",
    "        if color == 0:\n",
    "            white_cnt += 1\n",
    "\n",
    "        else:\n",
    "            blue_cnt += 1\n",
    "    else:\n",
    "        size //= 2\n",
    "        division(start_row, start_col, size)\n",
    "        division(start_row + size, start_col, size)\n",
    "        division(start_row, start_col + size, size)\n",
    "        division(start_row + size, start_col + size, size)\n",
    "\n",
    "\n",
    "n = int(input())\n",
    "arr = [list(map(int, input().split())) for _ in range(n)]\n",
    "\n",
    "white_cnt = 0\n",
    "blue_cnt = 0\n",
    "\n",
    "division(0, 0, n)\n",
    "\n",
    "print(white_cnt)\n",
    "print(blue_cnt)"
   ]
  }
 ],
 "metadata": {
  "kernelspec": {
   "display_name": "Python 3 (ipykernel)",
   "language": "python",
   "name": "python3"
  },
  "language_info": {
   "codemirror_mode": {
    "name": "ipython",
    "version": 3
   },
   "file_extension": ".py",
   "mimetype": "text/x-python",
   "name": "python",
   "nbconvert_exporter": "python",
   "pygments_lexer": "ipython3",
   "version": "3.8.12"
  },
  "toc": {
   "base_numbering": 1,
   "nav_menu": {},
   "number_sections": true,
   "sideBar": true,
   "skip_h1_title": true,
   "title_cell": "Table of Contents",
   "title_sidebar": "Contents",
   "toc_cell": false,
   "toc_position": {},
   "toc_section_display": true,
   "toc_window_display": false
  },
  "varInspector": {
   "cols": {
    "lenName": 16,
    "lenType": 16,
    "lenVar": 40
   },
   "kernels_config": {
    "python": {
     "delete_cmd_postfix": "",
     "delete_cmd_prefix": "del ",
     "library": "var_list.py",
     "varRefreshCmd": "print(var_dic_list())"
    },
    "r": {
     "delete_cmd_postfix": ") ",
     "delete_cmd_prefix": "rm(",
     "library": "var_list.r",
     "varRefreshCmd": "cat(var_dic_list()) "
    }
   },
   "types_to_exclude": [
    "module",
    "function",
    "builtin_function_or_method",
    "instance",
    "_Feature"
   ],
   "window_display": false
  }
 },
 "nbformat": 4,
 "nbformat_minor": 5
}
