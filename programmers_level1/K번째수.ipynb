{
 "cells": [
  {
   "cell_type": "markdown",
   "id": "9f12888c",
   "metadata": {},
   "source": [
    "https://programmers.co.kr/learn/courses/30/lessons/42748#:~:text=%EB%AC%B8%EC%A0%9C%20%EC%84%A4%EB%AA%85,%EC%9E%88%EB%8A%94%20%EC%88%98%EB%A5%BC%20%EA%B5%AC%ED%95%98%EB%A0%A4%20%ED%95%A9%EB%8B%88%EB%8B%A4.&text=array%EC%9D%98%202%EB%B2%88%EC%A7%B8%EB%B6%80%ED%84%B0,%2C%205%2C%206%5D%EC%9E%85%EB%8B%88%EB%8B%A4."
   ]
  },
  {
   "cell_type": "code",
   "execution_count": 23,
   "id": "b7f912c0",
   "metadata": {
    "ExecuteTime": {
     "end_time": "2022-03-01T00:29:23.000799Z",
     "start_time": "2022-03-01T00:29:22.997790Z"
    }
   },
   "outputs": [],
   "source": [
    "def solution(array, commands):\n",
    "    answers = []\n",
    "    for i, command in enumerate(commands):\n",
    "        sub_list = sorted(array[command[0]-1:command[1]])\n",
    "        answers.append(sub_list[command[2]-1])\n",
    "    return answers"
   ]
  },
  {
   "cell_type": "code",
   "execution_count": 24,
   "id": "ce06ef82",
   "metadata": {
    "ExecuteTime": {
     "end_time": "2022-03-01T00:29:23.212595Z",
     "start_time": "2022-03-01T00:29:23.197592Z"
    }
   },
   "outputs": [
    {
     "name": "stdout",
     "output_type": "stream",
     "text": [
      "[2, 3, 5, 6]\n",
      "[6]\n",
      "[1, 2, 3, 4, 5, 6, 7]\n"
     ]
    },
    {
     "data": {
      "text/plain": [
       "[5, 6, 3]"
      ]
     },
     "execution_count": 24,
     "metadata": {},
     "output_type": "execute_result"
    }
   ],
   "source": [
    "solution([1, 5, 2, 6, 3, 7, 4],[[2, 5, 3], [4, 4, 1], [1, 7, 3]])"
   ]
  },
  {
   "cell_type": "code",
   "execution_count": null,
   "id": "934481af",
   "metadata": {},
   "outputs": [],
   "source": [
    "# 가장 좋은 풀이로 보임 \n",
    "def solution(array, commands):\n",
    "   return list(map(lambda x:sorted(array[x[0]-1:x[1]])[x[2]-1], commands))\n",
    "  #return [sorted(array[a-1:b])[c-1] for a,b,c in commands] 혹은 이렇게도 가능, 위와 사실상 가능 -> 더욱 pythonic하고 속도 빠름"
   ]
  },
  {
   "cell_type": "code",
   "execution_count": null,
   "id": "b456173b",
   "metadata": {},
   "outputs": [],
   "source": [
    "# 내 코드를 좀 더 깔끔히 정리한 버전\n",
    "def solution(array, commands):\n",
    "    answer = []\n",
    "    for command in commands:\n",
    "        i,j,k = command\n",
    "        answer.append(list(sorted(array[i-1:j]))[k-1])\n",
    "    return answer"
   ]
  }
 ],
 "metadata": {
  "kernelspec": {
   "display_name": "Python 3 (ipykernel)",
   "language": "python",
   "name": "python3"
  },
  "language_info": {
   "codemirror_mode": {
    "name": "ipython",
    "version": 3
   },
   "file_extension": ".py",
   "mimetype": "text/x-python",
   "name": "python",
   "nbconvert_exporter": "python",
   "pygments_lexer": "ipython3",
   "version": "3.8.12"
  },
  "toc": {
   "base_numbering": 1,
   "nav_menu": {},
   "number_sections": true,
   "sideBar": true,
   "skip_h1_title": true,
   "title_cell": "Table of Contents",
   "title_sidebar": "Contents",
   "toc_cell": false,
   "toc_position": {},
   "toc_section_display": true,
   "toc_window_display": false
  },
  "varInspector": {
   "cols": {
    "lenName": 16,
    "lenType": 16,
    "lenVar": 40
   },
   "kernels_config": {
    "python": {
     "delete_cmd_postfix": "",
     "delete_cmd_prefix": "del ",
     "library": "var_list.py",
     "varRefreshCmd": "print(var_dic_list())"
    },
    "r": {
     "delete_cmd_postfix": ") ",
     "delete_cmd_prefix": "rm(",
     "library": "var_list.r",
     "varRefreshCmd": "cat(var_dic_list()) "
    }
   },
   "types_to_exclude": [
    "module",
    "function",
    "builtin_function_or_method",
    "instance",
    "_Feature"
   ],
   "window_display": false
  }
 },
 "nbformat": 4,
 "nbformat_minor": 5
}
