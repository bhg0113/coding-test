{
 "cells": [
  {
   "cell_type": "code",
   "execution_count": null,
   "id": "ac7fd66c",
   "metadata": {},
   "outputs": [],
   "source": [
    "from itertools import combinations\n",
    "\n",
    "def solution(nums):\n",
    "    a = list(combinations(nums,3)) # 3개로 조합\n",
    "    for i,v in enumerate(a):\n",
    "        a[i] = sum(v) # 각 조합의 합으로 대체\n",
    "    cnt = len(a)\n",
    "    for v in a:\n",
    "        for i in range(2,v): # 범위를 줄인다고 int(max(a)**0.5)+1로 한 것이 시간도 오래걸리고 답도 틀림\n",
    "            if v % i ==0: # 약수이면 소수 개수에서 -1, break\n",
    "                cnt -=1\n",
    "                break\n",
    "        \n",
    "    return cnt"
   ]
  },
  {
   "cell_type": "code",
   "execution_count": null,
   "id": "c7853db1",
   "metadata": {},
   "outputs": [],
   "source": [
    "# 특이한 풀이\n",
    "import math\n",
    "from itertools import combinations\n",
    "def solution(nums):\n",
    "    return list(map(lambda x : all((x%i for i in range(2, x))), (map(sum,combinations(nums, 3))))).count(True)"
   ]
  }
 ],
 "metadata": {
  "kernelspec": {
   "display_name": "Python 3 (ipykernel)",
   "language": "python",
   "name": "python3"
  },
  "language_info": {
   "codemirror_mode": {
    "name": "ipython",
    "version": 3
   },
   "file_extension": ".py",
   "mimetype": "text/x-python",
   "name": "python",
   "nbconvert_exporter": "python",
   "pygments_lexer": "ipython3",
   "version": "3.8.12"
  },
  "toc": {
   "base_numbering": 1,
   "nav_menu": {},
   "number_sections": true,
   "sideBar": true,
   "skip_h1_title": true,
   "title_cell": "Table of Contents",
   "title_sidebar": "Contents",
   "toc_cell": false,
   "toc_position": {},
   "toc_section_display": true,
   "toc_window_display": false
  },
  "varInspector": {
   "cols": {
    "lenName": 16,
    "lenType": 16,
    "lenVar": 40
   },
   "kernels_config": {
    "python": {
     "delete_cmd_postfix": "",
     "delete_cmd_prefix": "del ",
     "library": "var_list.py",
     "varRefreshCmd": "print(var_dic_list())"
    },
    "r": {
     "delete_cmd_postfix": ") ",
     "delete_cmd_prefix": "rm(",
     "library": "var_list.r",
     "varRefreshCmd": "cat(var_dic_list()) "
    }
   },
   "types_to_exclude": [
    "module",
    "function",
    "builtin_function_or_method",
    "instance",
    "_Feature"
   ],
   "window_display": false
  }
 },
 "nbformat": 4,
 "nbformat_minor": 5
}
