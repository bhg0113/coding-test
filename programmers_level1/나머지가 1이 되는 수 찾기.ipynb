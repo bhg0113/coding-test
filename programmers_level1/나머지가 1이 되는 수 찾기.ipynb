{
 "cells": [
  {
   "cell_type": "markdown",
   "id": "d498ee04",
   "metadata": {},
   "source": [
    "https://programmers.co.kr/learn/courses/30/lessons/87389"
   ]
  },
  {
   "cell_type": "code",
   "execution_count": null,
   "id": "7d8fca44",
   "metadata": {},
   "outputs": [],
   "source": [
    "def solution(n):\n",
    "    if n%2 ==1: #홀수면 \n",
    "        return 2\n",
    "    else:\n",
    "        for i in range(2,int(n**0.5)+1):\n",
    "            if n % i ==1:\n",
    "                return i\n",
    "        return n-1\n",
    "    \n",
    "    # elif n == 3*(n//3) +1: # 짝수일 때도 규칙이 있지 않을까 했는데 타 풀이에도 발견 x \n",
    "    #     return n//3\n",
    "    # else:\n",
    "    #     return n-1"
   ]
  }
 ],
 "metadata": {
  "kernelspec": {
   "display_name": "Python 3 (ipykernel)",
   "language": "python",
   "name": "python3"
  },
  "language_info": {
   "codemirror_mode": {
    "name": "ipython",
    "version": 3
   },
   "file_extension": ".py",
   "mimetype": "text/x-python",
   "name": "python",
   "nbconvert_exporter": "python",
   "pygments_lexer": "ipython3",
   "version": "3.8.12"
  },
  "toc": {
   "base_numbering": 1,
   "nav_menu": {},
   "number_sections": true,
   "sideBar": true,
   "skip_h1_title": true,
   "title_cell": "Table of Contents",
   "title_sidebar": "Contents",
   "toc_cell": false,
   "toc_position": {},
   "toc_section_display": true,
   "toc_window_display": false
  },
  "varInspector": {
   "cols": {
    "lenName": 16,
    "lenType": 16,
    "lenVar": 40
   },
   "kernels_config": {
    "python": {
     "delete_cmd_postfix": "",
     "delete_cmd_prefix": "del ",
     "library": "var_list.py",
     "varRefreshCmd": "print(var_dic_list())"
    },
    "r": {
     "delete_cmd_postfix": ") ",
     "delete_cmd_prefix": "rm(",
     "library": "var_list.r",
     "varRefreshCmd": "cat(var_dic_list()) "
    }
   },
   "types_to_exclude": [
    "module",
    "function",
    "builtin_function_or_method",
    "instance",
    "_Feature"
   ],
   "window_display": false
  }
 },
 "nbformat": 4,
 "nbformat_minor": 5
}
