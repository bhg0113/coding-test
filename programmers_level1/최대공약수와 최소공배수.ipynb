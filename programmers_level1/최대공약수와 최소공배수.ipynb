{
 "cells": [
  {
   "cell_type": "code",
   "execution_count": 1,
   "id": "139e81c4",
   "metadata": {
    "ExecuteTime": {
     "end_time": "2022-03-07T00:16:18.891377Z",
     "start_time": "2022-03-07T00:16:18.873364Z"
    }
   },
   "outputs": [],
   "source": [
    "from math import gcd\n",
    "# 공식만 그대로 넣은 것으로 수학적 접근도 생각해보기\n",
    "def solution(n, m):\n",
    "    answer = [gcd(n,m),n*m/gcd(n,m)]\n",
    "    return answer"
   ]
  },
  {
   "cell_type": "code",
   "execution_count": null,
   "id": "a63a01ac",
   "metadata": {},
   "outputs": [],
   "source": [
    "# 라이브러리 사용하지 않고 유클리드 호제법 사용한 풀이\n",
    "# -> 유클리드 호제법이 최대공약수 외에 도움이 큰 쓸모가 없어보여 \n",
    "def solution(a, b):\n",
    "    c, d = max(a, b), min(a, b)\n",
    "    while d: \n",
    "        c,d = d, c%d\n",
    "    answer = [c, int(a*b/c)]\n",
    "\n",
    "    return answer"
   ]
  }
 ],
 "metadata": {
  "kernelspec": {
   "display_name": "Python 3 (ipykernel)",
   "language": "python",
   "name": "python3"
  },
  "language_info": {
   "codemirror_mode": {
    "name": "ipython",
    "version": 3
   },
   "file_extension": ".py",
   "mimetype": "text/x-python",
   "name": "python",
   "nbconvert_exporter": "python",
   "pygments_lexer": "ipython3",
   "version": "3.8.12"
  },
  "toc": {
   "base_numbering": 1,
   "nav_menu": {},
   "number_sections": true,
   "sideBar": true,
   "skip_h1_title": true,
   "title_cell": "Table of Contents",
   "title_sidebar": "Contents",
   "toc_cell": false,
   "toc_position": {},
   "toc_section_display": true,
   "toc_window_display": false
  },
  "varInspector": {
   "cols": {
    "lenName": 16,
    "lenType": 16,
    "lenVar": 40
   },
   "kernels_config": {
    "python": {
     "delete_cmd_postfix": "",
     "delete_cmd_prefix": "del ",
     "library": "var_list.py",
     "varRefreshCmd": "print(var_dic_list())"
    },
    "r": {
     "delete_cmd_postfix": ") ",
     "delete_cmd_prefix": "rm(",
     "library": "var_list.r",
     "varRefreshCmd": "cat(var_dic_list()) "
    }
   },
   "types_to_exclude": [
    "module",
    "function",
    "builtin_function_or_method",
    "instance",
    "_Feature"
   ],
   "window_display": false
  }
 },
 "nbformat": 4,
 "nbformat_minor": 5
}
