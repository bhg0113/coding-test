{
 "cells": [
  {
   "cell_type": "markdown",
   "id": "05d5c1b2",
   "metadata": {},
   "source": [
    "https://programmers.co.kr/learn/courses/30/lessons/86491\n",
    "명함이 만 장 정도로 크게 부담되는 데이터 크기는 아님"
   ]
  },
  {
   "cell_type": "code",
   "execution_count": null,
   "id": "afafcd5f",
   "metadata": {},
   "outputs": [],
   "source": [
    "def solution(sizes):\n",
    "    width,height = 0,0\n",
    "    for size in sizes:\n",
    "        if min(size)>=width: # 가로로는 작은것들로 정렬, min max는 복잡도가 큰편이라 크게 좋지는 않음\n",
    "            width = min(size)\n",
    "        if max(size) >= height: # 세로로는 큰것들로 정렬\n",
    "            height = max(size)\n",
    "        \n",
    "    return width*height"
   ]
  },
  {
   "cell_type": "code",
   "execution_count": null,
   "id": "d7f6675c",
   "metadata": {},
   "outputs": [],
   "source": [
    "def solution(sizes):\n",
    "    return max(max(x) for x in sizes) * max(min(x) for x in sizes)"
   ]
  },
  {
   "cell_type": "code",
   "execution_count": 6,
   "id": "ad2ce11d",
   "metadata": {
    "ExecuteTime": {
     "end_time": "2022-06-28T00:58:30.442109Z",
     "start_time": "2022-06-28T00:58:30.433107Z"
    }
   },
   "outputs": [
    {
     "data": {
      "text/plain": [
       "[1, 2, 3, 3, 4, 5]"
      ]
     },
     "execution_count": 6,
     "metadata": {},
     "output_type": "execute_result"
    }
   ],
   "source": [
    "sum([[1,2,3],[3,4,5]],[]) "
   ]
  },
  {
   "cell_type": "code",
   "execution_count": 8,
   "id": "82e26871",
   "metadata": {
    "ExecuteTime": {
     "end_time": "2022-06-28T01:00:07.643163Z",
     "start_time": "2022-06-28T01:00:07.634148Z"
    }
   },
   "outputs": [],
   "source": [
    "solution = lambda sizes: max(sum(sizes, [])) * max(min(size) for size in sizes) # sum(sizes, [])이렇게 하면 그냥 하나의 리스트로 값들 쭉연결"
   ]
  },
  {
   "cell_type": "code",
   "execution_count": null,
   "id": "e958c1c7",
   "metadata": {},
   "outputs": [],
   "source": []
  }
 ],
 "metadata": {
  "kernelspec": {
   "display_name": "Python 3 (ipykernel)",
   "language": "python",
   "name": "python3"
  },
  "language_info": {
   "codemirror_mode": {
    "name": "ipython",
    "version": 3
   },
   "file_extension": ".py",
   "mimetype": "text/x-python",
   "name": "python",
   "nbconvert_exporter": "python",
   "pygments_lexer": "ipython3",
   "version": "3.8.12"
  },
  "toc": {
   "base_numbering": 1,
   "nav_menu": {},
   "number_sections": true,
   "sideBar": true,
   "skip_h1_title": true,
   "title_cell": "Table of Contents",
   "title_sidebar": "Contents",
   "toc_cell": false,
   "toc_position": {},
   "toc_section_display": true,
   "toc_window_display": false
  },
  "varInspector": {
   "cols": {
    "lenName": 16,
    "lenType": 16,
    "lenVar": 40
   },
   "kernels_config": {
    "python": {
     "delete_cmd_postfix": "",
     "delete_cmd_prefix": "del ",
     "library": "var_list.py",
     "varRefreshCmd": "print(var_dic_list())"
    },
    "r": {
     "delete_cmd_postfix": ") ",
     "delete_cmd_prefix": "rm(",
     "library": "var_list.r",
     "varRefreshCmd": "cat(var_dic_list()) "
    }
   },
   "types_to_exclude": [
    "module",
    "function",
    "builtin_function_or_method",
    "instance",
    "_Feature"
   ],
   "window_display": false
  }
 },
 "nbformat": 4,
 "nbformat_minor": 5
}
