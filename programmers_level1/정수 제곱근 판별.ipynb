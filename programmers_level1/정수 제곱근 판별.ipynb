{
 "cells": [
  {
   "cell_type": "code",
   "execution_count": null,
   "id": "ee521e76",
   "metadata": {},
   "outputs": [],
   "source": [
    "import math\n",
    "def solution(n):    \n",
    "    if int(math.sqrt(n)) == math.sqrt(n):\n",
    "    # if math.sqrt(n) %1 == 0 이 방법이 더 좋아 보임\n",
    "    # math.sqrt(n).is_integer()로 정수인지 확인 가능\n",
    "        answer = (math.sqrt(n)+1) * (math.sqrt(n)+1) # **2이 더 깔끔 \n",
    "    else:\n",
    "        answer  = -1\n",
    "    return answer\n",
    "# 신기한 풀이\n",
    "# def solution(n):\n",
    "#     return n == int(n**.5)**2 and int(n**.5+1)**2 or -1"
   ]
  }
 ],
 "metadata": {
  "kernelspec": {
   "display_name": "Python 3",
   "language": "python",
   "name": "python3"
  },
  "language_info": {
   "codemirror_mode": {
    "name": "ipython",
    "version": 3
   },
   "file_extension": ".py",
   "mimetype": "text/x-python",
   "name": "python",
   "nbconvert_exporter": "python",
   "pygments_lexer": "ipython3",
   "version": "3.8.11"
  },
  "toc": {
   "base_numbering": 1,
   "nav_menu": {},
   "number_sections": true,
   "sideBar": true,
   "skip_h1_title": true,
   "title_cell": "Table of Contents",
   "title_sidebar": "Contents",
   "toc_cell": false,
   "toc_position": {},
   "toc_section_display": true,
   "toc_window_display": false
  },
  "varInspector": {
   "cols": {
    "lenName": 16,
    "lenType": 16,
    "lenVar": 40
   },
   "kernels_config": {
    "python": {
     "delete_cmd_postfix": "",
     "delete_cmd_prefix": "del ",
     "library": "var_list.py",
     "varRefreshCmd": "print(var_dic_list())"
    },
    "r": {
     "delete_cmd_postfix": ") ",
     "delete_cmd_prefix": "rm(",
     "library": "var_list.r",
     "varRefreshCmd": "cat(var_dic_list()) "
    }
   },
   "types_to_exclude": [
    "module",
    "function",
    "builtin_function_or_method",
    "instance",
    "_Feature"
   ],
   "window_display": false
  }
 },
 "nbformat": 4,
 "nbformat_minor": 5
}
