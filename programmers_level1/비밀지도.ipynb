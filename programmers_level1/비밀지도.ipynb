{
 "cells": [
  {
   "cell_type": "code",
   "execution_count": null,
   "id": "7629a848",
   "metadata": {},
   "outputs": [],
   "source": [
    "# 각각을 이진수로 변환하고 변환한 것끼리 비교하여 최종 이진수 만들고 다시 #,' '으로 변환\n",
    "def solution(n, arr1, arr2):\n",
    "    answer= []\n",
    "    s_map = []\n",
    "    dic ={'0':' ','1':'#'}\n",
    "    for a,b in zip(arr1,arr2):\n",
    "        s_map.append(bin(a|b)[2:].zfill(n)) # zfill 대신 rjust도 있음\n",
    "        # 이진수 변환, formatting 등 다양한 방법 가능 -> 따로 정리하며 공부 필요\n",
    "        # https://wikidocs.net/121166\n",
    "        \n",
    "    for i,m in enumerate(s_map): # 문자열 치환\n",
    "        for j,v in enumerate(m):\n",
    "            m += dic[v] # 문자열은 immutable하기에 그냥 쭉 연결\n",
    "        s_map[i] = m[n:] # 후 슬라이싱\n",
    "        \n",
    "    #a12=a12.replace('1','#')  replace쓰면 순회하며 모두 바꿈(한글자만 바꾸는것으로 알고있어서 사용안했음)\n",
    "    #a12=a12.replace('0',' ')  그러나 이렇게 두 줄 사용하면 두번순회하여 비효율적이라는 의견도 있음 / 일반적인 상황에선 크게 문제되지 않을듯\n",
    "    \n",
    "    return s_map"
   ]
  },
  {
   "cell_type": "code",
   "execution_count": null,
   "id": "87edca09",
   "metadata": {},
   "outputs": [],
   "source": [
    "def solution(n, *maps): # 객체지향적 풀이, 이런 식으로 코드 구성하는 것 생각해보기\n",
    "    return [line(n, a | b) for a, b in zip(*maps)]\n",
    "\n",
    "\n",
    "def line(n, x):\n",
    "    return ''.join(' #'[int(i)] for i in f'{x:016b}'[-n:])\n",
    "\n",
    "\n",
    "def test_sample():\n",
    "    assert solution(5, [9, 20, 28, 18, 11], [30, 1, 21, 17, 28]) == [\n",
    "        '#####',\n",
    "        '# # #',\n",
    "        '### #',\n",
    "        '#  ##',\n",
    "        '#####',\n",
    "    ]\n",
    "    assert solution(6, [46, 33, 33, 22, 31, 50], [27, 56, 19, 14, 14, 10]) == [\n",
    "        '######',\n",
    "        '###  #',\n",
    "        '##  ##',\n",
    "        ' #### ',\n",
    "        ' #####',\n",
    "        '### # ',\n",
    "    ]\n",
    "\n",
    "\n",
    "def test_line():\n",
    "    assert line(5, 9) == ' #  #'\n",
    "    assert line(5, 30) == '#### '\n",
    "    assert line(5, 9 | 30) == '#####'\n",
    "\n",
    "# assert 참조 - https://wikidocs.net/21050"
   ]
  }
 ],
 "metadata": {
  "kernelspec": {
   "display_name": "Python 3 (ipykernel)",
   "language": "python",
   "name": "python3"
  },
  "language_info": {
   "codemirror_mode": {
    "name": "ipython",
    "version": 3
   },
   "file_extension": ".py",
   "mimetype": "text/x-python",
   "name": "python",
   "nbconvert_exporter": "python",
   "pygments_lexer": "ipython3",
   "version": "3.8.12"
  },
  "toc": {
   "base_numbering": 1,
   "nav_menu": {},
   "number_sections": true,
   "sideBar": true,
   "skip_h1_title": true,
   "title_cell": "Table of Contents",
   "title_sidebar": "Contents",
   "toc_cell": false,
   "toc_position": {},
   "toc_section_display": true,
   "toc_window_display": false
  },
  "varInspector": {
   "cols": {
    "lenName": 16,
    "lenType": 16,
    "lenVar": 40
   },
   "kernels_config": {
    "python": {
     "delete_cmd_postfix": "",
     "delete_cmd_prefix": "del ",
     "library": "var_list.py",
     "varRefreshCmd": "print(var_dic_list())"
    },
    "r": {
     "delete_cmd_postfix": ") ",
     "delete_cmd_prefix": "rm(",
     "library": "var_list.r",
     "varRefreshCmd": "cat(var_dic_list()) "
    }
   },
   "types_to_exclude": [
    "module",
    "function",
    "builtin_function_or_method",
    "instance",
    "_Feature"
   ],
   "window_display": false
  }
 },
 "nbformat": 4,
 "nbformat_minor": 5
}
