{
 "cells": [
  {
   "cell_type": "code",
   "execution_count": null,
   "id": "481b3966",
   "metadata": {},
   "outputs": [],
   "source": [
    "# 이게 왜 안되는지 이해안됨...\n",
    "# 여러 풀이를 보면 reserve와 lost의 중복, 즉 도난당한 사람이 여분을 가졌을 때를 제외하기 위해 서로의 차집합만 남김\n",
    "# 이는 같을 때를 먼저 고려하는 방식이랑 뭐가 다른지...? \n",
    "def solution(n, lost, reserve):\n",
    "    lost.sort() # 앞번호부터 가져와야 하기에 정렬\n",
    "    # 전체 n에서 lost를 채우지 못하면 -되는 식 \n",
    "    \n",
    "    for l in lost: \n",
    "        if l in reserve: # 도난당한 사람이 여분 -> 타인에게 빌려줄 수 없음 -> 먼저 고려\n",
    "            reserve.remove(l)\n",
    "        elif l-1 in reserve: # lost 앞을 먼저 -> 있으면 reserve에서 뺌\n",
    "            reserve.remove(l-1)\n",
    "        elif l+1 in reserve: # 앞이 없으면 뒤 -> 있으면 reserve에서 뺌\n",
    "            reserve.remove(l+1)\n",
    "        else: # 둘다 없으면 -> lost-1\n",
    "            n -=1 \n",
    "    return n "
   ]
  },
  {
   "cell_type": "code",
   "execution_count": null,
   "id": "5d49f91c",
   "metadata": {},
   "outputs": [],
   "source": [
    "# 많은 일반적 풀이\n",
    "def solution(n, lost, reserve):\n",
    "    reser_del = set(reserve)-set(lost) \n",
    "    lost_del = set(lost)-set(reserve) \n",
    "    for i in reser_del: \n",
    "        if i-1 in lost_del: \n",
    "            lost_del.remove(i-1) \n",
    "        elif i+1 in lost_del: \n",
    "            lost_del.remove(i+1) \n",
    "    return n-len(lost_del)\n",
    "\n"
   ]
  }
 ],
 "metadata": {
  "kernelspec": {
   "display_name": "Python 3 (ipykernel)",
   "language": "python",
   "name": "python3"
  },
  "language_info": {
   "codemirror_mode": {
    "name": "ipython",
    "version": 3
   },
   "file_extension": ".py",
   "mimetype": "text/x-python",
   "name": "python",
   "nbconvert_exporter": "python",
   "pygments_lexer": "ipython3",
   "version": "3.8.12"
  },
  "toc": {
   "base_numbering": 1,
   "nav_menu": {},
   "number_sections": true,
   "sideBar": true,
   "skip_h1_title": true,
   "title_cell": "Table of Contents",
   "title_sidebar": "Contents",
   "toc_cell": false,
   "toc_position": {},
   "toc_section_display": true,
   "toc_window_display": false
  },
  "varInspector": {
   "cols": {
    "lenName": 16,
    "lenType": 16,
    "lenVar": 40
   },
   "kernels_config": {
    "python": {
     "delete_cmd_postfix": "",
     "delete_cmd_prefix": "del ",
     "library": "var_list.py",
     "varRefreshCmd": "print(var_dic_list())"
    },
    "r": {
     "delete_cmd_postfix": ") ",
     "delete_cmd_prefix": "rm(",
     "library": "var_list.r",
     "varRefreshCmd": "cat(var_dic_list()) "
    }
   },
   "types_to_exclude": [
    "module",
    "function",
    "builtin_function_or_method",
    "instance",
    "_Feature"
   ],
   "window_display": false
  }
 },
 "nbformat": 4,
 "nbformat_minor": 5
}
