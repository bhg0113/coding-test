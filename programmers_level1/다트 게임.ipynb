{
 "cells": [
  {
   "cell_type": "markdown",
   "id": "3808dd23",
   "metadata": {},
   "source": [
    "https://programmers.co.kr/learn/courses/30/lessons/17682"
   ]
  },
  {
   "cell_type": "code",
   "execution_count": 6,
   "id": "b649bfa0",
   "metadata": {
    "ExecuteTime": {
     "end_time": "2022-06-11T15:02:25.598368Z",
     "start_time": "2022-06-11T15:02:25.581339Z"
    }
   },
   "outputs": [],
   "source": [
    "# 각 횟수별로 슬라이싱하여 계산하는 방식\n",
    "# 0,10점 때문에 더욱 비효율적으로 보임\n",
    "# solution('10S10D*3T') 이런 경우 첫 횟수가 2배가 되어야 하나 score[i+1][2] == '*'로는 처리 안됨\n",
    "# 그럼에도 통과 -> 추가 처리 필요 \n",
    "def solution(dartResult):\n",
    "    score =[]\n",
    "    tmp = ''\n",
    "    bonus = {'S':1,'D':2,'T':3}\n",
    "    option = {'*':2,'#':-1}\n",
    "    answer = 0\n",
    "    for i,d in enumerate(dartResult): # 각 횟수로 슬라이싱\n",
    "        tmp += d \n",
    "        try:\n",
    "            if dartResult[i]+dartResult[i+1] != '10'  and dartResult[i+1].isdigit()==True : \n",
    "                score.append(tmp)\n",
    "                tmp=''\n",
    "        except:\n",
    "            score.append(tmp)\n",
    "    print(score)\n",
    "    for i,s in enumerate(score): # 점수 계산\n",
    "        if s[0]+s[1] =='10': # 1o점일때\n",
    "            a = 10**bonus[s[2]]\n",
    "        else:  \n",
    "            a = int(s[0])**bonus[s[1]]\n",
    "        \n",
    "        try: # if가 하나만 처리됨, 하나의 오류 구문에 대해서만 처리하는 듯 함 -> try 구문 두개 생성 \n",
    "            a *= option[s[2]]\n",
    "        except:\n",
    "            pass\n",
    "        try:\n",
    "            if score[i+1][2] == '*':  #or score[i+1][3] 조건 추가 필요\n",
    "                a *= 2\n",
    "        except:\n",
    "            pass\n",
    "        answer += a\n",
    "        print(answer)\n",
    "    \n",
    "    return answer"
   ]
  },
  {
   "cell_type": "code",
   "execution_count": 11,
   "id": "6550489b",
   "metadata": {
    "ExecuteTime": {
     "end_time": "2022-06-11T15:04:45.856843Z",
     "start_time": "2022-06-11T15:04:45.851844Z"
    },
    "scrolled": true
   },
   "outputs": [
    {
     "data": {
      "text/plain": [
       "247"
      ]
     },
     "execution_count": 11,
     "metadata": {},
     "output_type": "execute_result"
    }
   ],
   "source": [
    "solution('10S10D*3T')"
   ]
  },
  {
   "cell_type": "code",
   "execution_count": 65,
   "id": "eef32759",
   "metadata": {
    "ExecuteTime": {
     "end_time": "2022-04-05T11:50:47.317310Z",
     "start_time": "2022-04-05T11:50:47.307310Z"
    }
   },
   "outputs": [],
   "source": [
    "# 각 파트(숫자,보너스,옵션)들로 리스트 만들어 zip으로 묶어 연산하는 방법이 가장 좋을 듯 -> 아래에서 정규식으로 만든 방법과 유사 "
   ]
  },
  {
   "cell_type": "code",
   "execution_count": 8,
   "id": "af8cb1e5",
   "metadata": {
    "ExecuteTime": {
     "end_time": "2022-06-11T15:02:29.190762Z",
     "start_time": "2022-06-11T15:02:29.182757Z"
    }
   },
   "outputs": [],
   "source": [
    "# 정규식 사용한 풀이\n",
    "# 처리하는 값이 특정 형태를 이룬다면 정규식 생각해보기\n",
    "import re\n",
    "def solution(dartResult):\n",
    "    bonus = {'S' : 1, 'D' : 2, 'T' : 3}\n",
    "    option = {'' : 1, '*' : 2, '#' : -1}\n",
    "    p = re.compile('(\\d+)([SDT])([*#]?)') # (\\d+) - 숫자 1자 이상 / ([SDT]) - S,D,T중 하나 / ([*#]?) - *또는 #가 0자 이상 \n",
    "    #위의 정규식 컴파일해 정규식 객체로 이해\n",
    "    dart = p.findall(dartResult) # dartResult에서 p(정규식 객체) 모두 찾아냄\n",
    "    print(dart)\n",
    "    for i,v in enumerate(dart):\n",
    "        if dart[i][2] == '*' and i>0:\n",
    "            dart[i-1] *= 2\n",
    "        dart[i] = int(dart[i][0]) ** bonus[dart[i][1]] * option[dart[i][2]]\n",
    "    return sum(dart)"
   ]
  },
  {
   "cell_type": "code",
   "execution_count": 4,
   "id": "1c73fa0d",
   "metadata": {
    "ExecuteTime": {
     "end_time": "2022-06-11T15:02:19.769202Z",
     "start_time": "2022-06-11T15:02:19.762201Z"
    }
   },
   "outputs": [],
   "source": [
    "def solution(dartResult):\n",
    "    point = []\n",
    "    answer = []\n",
    "    dartResult = dartResult.replace('10','k') # 10이 따로 담기는 것을 해결하기 위해 잠시 한 글자인 k로 치환해둠\n",
    "    point = ['10' if i == 'k' else i for i in dartResult] # k일때 다시 원 값인 10으로 넣기\n",
    "    # 위 두 줄의 방식 문자열 형태의 숫자일 때 고려해 보기 \n",
    "    print(point)\n",
    "\n",
    "    i = -1\n",
    "    sdt = ['S', 'D', 'T']\n",
    "    for j in point: \n",
    "        if j in sdt : # try, except 접근보다 이런 방식이 좋아보임\n",
    "            answer[i] = answer[i] ** (sdt.index(j)+1) # 처음에 answer 비어있으면 에러나지 않나 -> j가 sdt에 있을때는 앞에 숫자가 들어왔을 것이므로\n",
    "        elif j == '*':\n",
    "            answer[i] = answer[i] * 2\n",
    "            if i != 0 :\n",
    "                answer[i - 1] = answer[i - 1] * 2 # 처음이면 자신만 중첩\n",
    "        elif j == '#':\n",
    "            answer[i] = answer[i] * (-1)\n",
    "        else:\n",
    "            answer.append(int(j))\n",
    "            i += 1 \n",
    "    return sum(answer)"
   ]
  },
  {
   "cell_type": "code",
   "execution_count": 10,
   "id": "d6cf638c",
   "metadata": {
    "ExecuteTime": {
     "end_time": "2022-06-11T15:04:42.899841Z",
     "start_time": "2022-06-11T15:04:42.891835Z"
    }
   },
   "outputs": [],
   "source": [
    "def solution(dartResult):\n",
    "    dart = {'S':1, 'D':2, 'T':3}\n",
    "    scores = []\n",
    "    n = 0\n",
    "\n",
    "    for i, d in enumerate(dartResult): # 리스트 인덱싱을 잘 활용한 풀이\n",
    "        if d in dart:\n",
    "            scores.append(int(dartResult[n:i])**dart[d]) # 오히려 숫자가 아닌 SDT로 구분하여 이전의 값들 불러오는 형식 -> 10, 0 등 자유롭게 처리\n",
    "        if d == \"*\":\n",
    "            scores[-2:] = [x*2 for x in scores[-2:]]\n",
    "        if d == \"#\":\n",
    "            scores[-1] = (-1)*scores[-1]\n",
    "        if not (d.isnumeric()): # 숫자이면 넘어가지 않아야 함 10인 경우 1,0 둘다 고려해야 하므로\n",
    "            n = i+1\n",
    "\n",
    "    return sum(scores)"
   ]
  },
  {
   "cell_type": "code",
   "execution_count": null,
   "id": "f5cbf295",
   "metadata": {},
   "outputs": [],
   "source": []
  }
 ],
 "metadata": {
  "kernelspec": {
   "display_name": "Python 3 (ipykernel)",
   "language": "python",
   "name": "python3"
  },
  "language_info": {
   "codemirror_mode": {
    "name": "ipython",
    "version": 3
   },
   "file_extension": ".py",
   "mimetype": "text/x-python",
   "name": "python",
   "nbconvert_exporter": "python",
   "pygments_lexer": "ipython3",
   "version": "3.8.12"
  },
  "toc": {
   "base_numbering": 1,
   "nav_menu": {},
   "number_sections": true,
   "sideBar": true,
   "skip_h1_title": true,
   "title_cell": "Table of Contents",
   "title_sidebar": "Contents",
   "toc_cell": false,
   "toc_position": {},
   "toc_section_display": true,
   "toc_window_display": false
  },
  "varInspector": {
   "cols": {
    "lenName": 16,
    "lenType": 16,
    "lenVar": 40
   },
   "kernels_config": {
    "python": {
     "delete_cmd_postfix": "",
     "delete_cmd_prefix": "del ",
     "library": "var_list.py",
     "varRefreshCmd": "print(var_dic_list())"
    },
    "r": {
     "delete_cmd_postfix": ") ",
     "delete_cmd_prefix": "rm(",
     "library": "var_list.r",
     "varRefreshCmd": "cat(var_dic_list()) "
    }
   },
   "types_to_exclude": [
    "module",
    "function",
    "builtin_function_or_method",
    "instance",
    "_Feature"
   ],
   "window_display": false
  }
 },
 "nbformat": 4,
 "nbformat_minor": 5
}
