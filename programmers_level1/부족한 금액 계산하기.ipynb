{
 "cells": [
  {
   "cell_type": "code",
   "execution_count": 1,
   "id": "611f86a2",
   "metadata": {
    "ExecuteTime": {
     "end_time": "2022-04-24T11:00:55.016352Z",
     "start_time": "2022-04-24T11:00:54.999354Z"
    }
   },
   "outputs": [],
   "source": [
    "def solution(price, money, count):\n",
    "    s = 0\n",
    "    for c in range(1,count+1):\n",
    "        tmp = price * c\n",
    "        s += tmp\n",
    "    if s-money <=0:\n",
    "        return 0\n",
    "    else:\n",
    "        return s - money"
   ]
  },
  {
   "cell_type": "code",
   "execution_count": null,
   "id": "41d5d45f",
   "metadata": {},
   "outputs": [],
   "source": [
    "# 평균 이용하여 간결한 풀이 \n",
    "def solution(price, money, count):\n",
    "    return max(0,price*(count+1)*count//2-money)"
   ]
  }
 ],
 "metadata": {
  "kernelspec": {
   "display_name": "Python 3 (ipykernel)",
   "language": "python",
   "name": "python3"
  },
  "language_info": {
   "codemirror_mode": {
    "name": "ipython",
    "version": 3
   },
   "file_extension": ".py",
   "mimetype": "text/x-python",
   "name": "python",
   "nbconvert_exporter": "python",
   "pygments_lexer": "ipython3",
   "version": "3.8.12"
  },
  "toc": {
   "base_numbering": 1,
   "nav_menu": {},
   "number_sections": true,
   "sideBar": true,
   "skip_h1_title": true,
   "title_cell": "Table of Contents",
   "title_sidebar": "Contents",
   "toc_cell": false,
   "toc_position": {},
   "toc_section_display": true,
   "toc_window_display": false
  },
  "varInspector": {
   "cols": {
    "lenName": 16,
    "lenType": 16,
    "lenVar": 40
   },
   "kernels_config": {
    "python": {
     "delete_cmd_postfix": "",
     "delete_cmd_prefix": "del ",
     "library": "var_list.py",
     "varRefreshCmd": "print(var_dic_list())"
    },
    "r": {
     "delete_cmd_postfix": ") ",
     "delete_cmd_prefix": "rm(",
     "library": "var_list.r",
     "varRefreshCmd": "cat(var_dic_list()) "
    }
   },
   "types_to_exclude": [
    "module",
    "function",
    "builtin_function_or_method",
    "instance",
    "_Feature"
   ],
   "window_display": false
  }
 },
 "nbformat": 4,
 "nbformat_minor": 5
}
