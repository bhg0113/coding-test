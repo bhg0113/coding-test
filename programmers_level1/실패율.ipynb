{
 "cells": [
  {
   "cell_type": "code",
   "execution_count": 21,
   "id": "51b2480d",
   "metadata": {
    "ExecuteTime": {
     "end_time": "2022-03-31T01:29:48.682508Z",
     "start_time": "2022-03-31T01:29:48.666590Z"
    }
   },
   "outputs": [],
   "source": [
    "from collections import Counter \n",
    "\n",
    "def solution(N, stages):\n",
    "    n = len(stages)\n",
    "    stuck = Counter(stages)\n",
    "    for k,v in sorted(stuck.items()): # k가 스테이지, v가 인원, 스테이지에 따라 정렬 \n",
    "        stuck[k] = v/n # 각 스테이지 실패율로 value 변경\n",
    "        n -= v # n값 반영\n",
    "        if k > N: # 최종 스테이지 클리어는 제거, 실패율에는 의미x\n",
    "            del stuck[k]\n",
    "    for i in range(1,N+1): # 없는 스테이지 추가\n",
    "        if i not in stuck.keys():\n",
    "            stuck[i] = 0\n",
    "            \n",
    "    s = list(zip(stuck.keys(),stuck.values())) # 그냥 리스트-튜플화 밑과 속도는 비슷 \n",
    "    #s = stuck.most_common() # 실패율 순으로 정렬, 리스트화됨\n",
    "    s.sort(key= lambda x:(-x[1],x[0])) # 실패율은 내림차순,스테이지는 오름차순 \n",
    "    answer = [s[0] for s in s]\n",
    "    return answer"
   ]
  },
  {
   "cell_type": "code",
   "execution_count": 22,
   "id": "0a053ce0",
   "metadata": {
    "ExecuteTime": {
     "end_time": "2022-03-31T01:29:48.849952Z",
     "start_time": "2022-03-31T01:29:48.833950Z"
    }
   },
   "outputs": [
    {
     "data": {
      "text/plain": [
       "[4, 3, 2, 1, 5]"
      ]
     },
     "execution_count": 22,
     "metadata": {},
     "output_type": "execute_result"
    }
   ],
   "source": [
    "solution(5, [2, 1, 2, 6, 2, 4, 3, 3])"
   ]
  },
  {
   "cell_type": "code",
   "execution_count": 19,
   "id": "f9238c60",
   "metadata": {
    "ExecuteTime": {
     "end_time": "2022-03-31T01:28:50.568337Z",
     "start_time": "2022-03-31T01:28:50.562338Z"
    }
   },
   "outputs": [],
   "source": [
    "# Counter 사용하지 않고 깔끔한 풀이\n",
    "def solution(N, stages):\n",
    "    result = {}\n",
    "    denominator = len(stages)\n",
    "    for stage in range(1, N+1):\n",
    "        if denominator != 0: # 실패율 기록\n",
    "            count = stages.count(stage)\n",
    "            result[stage] = count / denominator\n",
    "            denominator -= count\n",
    "        else:\n",
    "            result[stage] = 0\n",
    "    return sorted(result, key=lambda x : result[x], reverse=True)\n",
    "#sorted(result, key=lambda x : result[x], reverse=True) # 그냥 result로 넣으면 키만 나옴 이렇게 하면 리스트화, 정렬 한번에 가능 "
   ]
  },
  {
   "cell_type": "code",
   "execution_count": null,
   "id": "7df79a1b",
   "metadata": {},
   "outputs": [],
   "source": []
  }
 ],
 "metadata": {
  "kernelspec": {
   "display_name": "Python 3 (ipykernel)",
   "language": "python",
   "name": "python3"
  },
  "language_info": {
   "codemirror_mode": {
    "name": "ipython",
    "version": 3
   },
   "file_extension": ".py",
   "mimetype": "text/x-python",
   "name": "python",
   "nbconvert_exporter": "python",
   "pygments_lexer": "ipython3",
   "version": "3.8.12"
  },
  "toc": {
   "base_numbering": 1,
   "nav_menu": {},
   "number_sections": true,
   "sideBar": true,
   "skip_h1_title": true,
   "title_cell": "Table of Contents",
   "title_sidebar": "Contents",
   "toc_cell": false,
   "toc_position": {},
   "toc_section_display": true,
   "toc_window_display": false
  },
  "varInspector": {
   "cols": {
    "lenName": 16,
    "lenType": 16,
    "lenVar": 40
   },
   "kernels_config": {
    "python": {
     "delete_cmd_postfix": "",
     "delete_cmd_prefix": "del ",
     "library": "var_list.py",
     "varRefreshCmd": "print(var_dic_list())"
    },
    "r": {
     "delete_cmd_postfix": ") ",
     "delete_cmd_prefix": "rm(",
     "library": "var_list.r",
     "varRefreshCmd": "cat(var_dic_list()) "
    }
   },
   "types_to_exclude": [
    "module",
    "function",
    "builtin_function_or_method",
    "instance",
    "_Feature"
   ],
   "window_display": false
  }
 },
 "nbformat": 4,
 "nbformat_minor": 5
}
