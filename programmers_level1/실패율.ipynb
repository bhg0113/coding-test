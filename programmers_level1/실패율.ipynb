{
 "cells": [
  {
   "cell_type": "code",
   "execution_count": 9,
   "id": "a99e5f11",
   "metadata": {
    "ExecuteTime": {
     "end_time": "2022-03-31T01:06:58.963051Z",
     "start_time": "2022-03-31T01:06:58.953048Z"
    }
   },
   "outputs": [],
   "source": [
    "from collections import Counter \n",
    "\n",
    "def solution(N, stages):\n",
    "    n = len(stages)\n",
    "    stuck = Counter(stages)\n",
    "    for k,v in sorted(stuck.items()): # k가 스테이지, v가 인원, 스테이지에 따라 정렬 \n",
    "        stuck[k] = v/n # 각 스테이지 실패율로 value 변경\n",
    "        stuck[k] = stuck.get(k,0)\n",
    "        n -= v # n값 반영\n",
    "        if k > N: # 최종 스테이지 클리어는 제거, 실패율에는 의미x\n",
    "            del stuck[k]\n",
    "    for i in range(1,N+1): # 없는 스테이지 추가\n",
    "        if i not in stuck.keys():\n",
    "            stuck[i] = 0\n",
    "    \n",
    "    s = stuck.most_common()\n",
    "    s.sort(key= lambda x:(-x[1],x[0]))\n",
    "    answer = [s[0] for s in s]\n",
    "    return answer"
   ]
  },
  {
   "cell_type": "code",
   "execution_count": 10,
   "id": "f7bf65d7",
   "metadata": {
    "ExecuteTime": {
     "end_time": "2022-03-31T01:06:59.160076Z",
     "start_time": "2022-03-31T01:06:59.147053Z"
    }
   },
   "outputs": [
    {
     "data": {
      "text/plain": [
       "[3, 4, 2, 1, 5]"
      ]
     },
     "execution_count": 10,
     "metadata": {},
     "output_type": "execute_result"
    }
   ],
   "source": [
    "solution(5, [2, 1, 2, 6, 2, 4, 3, 3])"
   ]
  },
  {
   "cell_type": "code",
   "execution_count": null,
   "id": "6f956189",
   "metadata": {},
   "outputs": [],
   "source": []
  }
 ],
 "metadata": {
  "kernelspec": {
   "display_name": "Python 3 (ipykernel)",
   "language": "python",
   "name": "python3"
  },
  "language_info": {
   "codemirror_mode": {
    "name": "ipython",
    "version": 3
   },
   "file_extension": ".py",
   "mimetype": "text/x-python",
   "name": "python",
   "nbconvert_exporter": "python",
   "pygments_lexer": "ipython3",
   "version": "3.8.12"
  },
  "toc": {
   "base_numbering": 1,
   "nav_menu": {},
   "number_sections": true,
   "sideBar": true,
   "skip_h1_title": true,
   "title_cell": "Table of Contents",
   "title_sidebar": "Contents",
   "toc_cell": false,
   "toc_position": {},
   "toc_section_display": true,
   "toc_window_display": false
  },
  "varInspector": {
   "cols": {
    "lenName": 16,
    "lenType": 16,
    "lenVar": 40
   },
   "kernels_config": {
    "python": {
     "delete_cmd_postfix": "",
     "delete_cmd_prefix": "del ",
     "library": "var_list.py",
     "varRefreshCmd": "print(var_dic_list())"
    },
    "r": {
     "delete_cmd_postfix": ") ",
     "delete_cmd_prefix": "rm(",
     "library": "var_list.r",
     "varRefreshCmd": "cat(var_dic_list()) "
    }
   },
   "types_to_exclude": [
    "module",
    "function",
    "builtin_function_or_method",
    "instance",
    "_Feature"
   ],
   "window_display": false
  }
 },
 "nbformat": 4,
 "nbformat_minor": 5
}
