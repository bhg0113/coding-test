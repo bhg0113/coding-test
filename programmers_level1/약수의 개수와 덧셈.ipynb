{
 "cells": [
  {
   "cell_type": "code",
   "execution_count": 11,
   "id": "e85a3c76",
   "metadata": {
    "ExecuteTime": {
     "end_time": "2022-03-01T16:20:53.044844Z",
     "start_time": "2022-03-01T16:20:53.027810Z"
    }
   },
   "outputs": [],
   "source": [
    "# 내 풀이 \n",
    "def solution(left, right):\n",
    "    answer = 0\n",
    "    for i in range(left,right+1):\n",
    "        count=0\n",
    "        for j in range(1,i):\n",
    "            if i % j==0: #약수이면\n",
    "                count+=1\n",
    "        if count %2 ==0: # 약수가 짝수이면\n",
    "            answer -= i\n",
    "        else: \n",
    "            answer += i\n",
    "        print(answer)\n",
    "    return answer"
   ]
  },
  {
   "cell_type": "code",
   "execution_count": 12,
   "id": "1d876db1",
   "metadata": {
    "ExecuteTime": {
     "end_time": "2022-03-01T16:20:54.290845Z",
     "start_time": "2022-03-01T16:20:54.282854Z"
    }
   },
   "outputs": [
    {
     "name": "stdout",
     "output_type": "stream",
     "text": [
      "13\n",
      "27\n",
      "42\n",
      "26\n",
      "43\n"
     ]
    },
    {
     "data": {
      "text/plain": [
       "43"
      ]
     },
     "execution_count": 12,
     "metadata": {},
     "output_type": "execute_result"
    }
   ],
   "source": [
    "solution(13,17)"
   ]
  },
  {
   "cell_type": "code",
   "execution_count": null,
   "id": "8ea6ef9d",
   "metadata": {},
   "outputs": [],
   "source": [
    "# 수학적 접근 : 약수가 홀수개인 수는 제곱수\n",
    "def solution(left, right):\n",
    "    answer = 0\n",
    "    for i in range(left,right+1):\n",
    "        if int(i**0.5)==i**0.5:\n",
    "            answer -= i\n",
    "        else:\n",
    "            answer += i\n",
    "    return answer"
   ]
  },
  {
   "cell_type": "code",
   "execution_count": null,
   "id": "092de86d",
   "metadata": {},
   "outputs": [],
   "source": [
    "# 내 접근을 좀 더 파이써닉하게? \n",
    "def find_divisor(num):\n",
    "   count = 0\n",
    "   for i in range(1, num+1):\n",
    "      if num%i==0:\n",
    "         count += 1\n",
    "   # 짝수이면 1\n",
    "   if count%2 == 0:\n",
    "      return 1\n",
    "   # 홀수이면 0\n",
    "   else:\n",
    "      return 0\n",
    "def solution(left, right):\n",
    "   ans = 0\n",
    "   for i in range(left,right+1):\n",
    "      if find_divisor(i) == 0:\n",
    "         ans-=i\n",
    "      else: \n",
    "         ans+=i\n",
    "   return ans"
   ]
  }
 ],
 "metadata": {
  "kernelspec": {
   "display_name": "Python 3 (ipykernel)",
   "language": "python",
   "name": "python3"
  },
  "language_info": {
   "codemirror_mode": {
    "name": "ipython",
    "version": 3
   },
   "file_extension": ".py",
   "mimetype": "text/x-python",
   "name": "python",
   "nbconvert_exporter": "python",
   "pygments_lexer": "ipython3",
   "version": "3.8.12"
  },
  "toc": {
   "base_numbering": 1,
   "nav_menu": {},
   "number_sections": true,
   "sideBar": true,
   "skip_h1_title": true,
   "title_cell": "Table of Contents",
   "title_sidebar": "Contents",
   "toc_cell": false,
   "toc_position": {},
   "toc_section_display": true,
   "toc_window_display": false
  },
  "varInspector": {
   "cols": {
    "lenName": 16,
    "lenType": 16,
    "lenVar": 40
   },
   "kernels_config": {
    "python": {
     "delete_cmd_postfix": "",
     "delete_cmd_prefix": "del ",
     "library": "var_list.py",
     "varRefreshCmd": "print(var_dic_list())"
    },
    "r": {
     "delete_cmd_postfix": ") ",
     "delete_cmd_prefix": "rm(",
     "library": "var_list.r",
     "varRefreshCmd": "cat(var_dic_list()) "
    }
   },
   "types_to_exclude": [
    "module",
    "function",
    "builtin_function_or_method",
    "instance",
    "_Feature"
   ],
   "window_display": false
  }
 },
 "nbformat": 4,
 "nbformat_minor": 5
}
