{
 "cells": [
  {
   "cell_type": "code",
   "execution_count": null,
   "id": "87d2896c",
   "metadata": {},
   "outputs": [],
   "source": [
    "from string import ascii_lowercase,ascii_uppercase\n",
    "\n",
    "lower_alpha = list(ascii_lowercase)\n",
    "upper_alpha = list(ascii_uppercase)\n",
    "\n",
    "def solution(s, n):\n",
    "    answer = []\n",
    "    for i in s:\n",
    "        if i in lower_alpha:\n",
    "            index = lower_alpha.index(i)\n",
    "            if index + n >= len(lower_alpha):\n",
    "                a = index + n - len(lower_alpha)\n",
    "                answer.append(lower_alpha[a])\n",
    "            else:\n",
    "                answer.append(lower_alpha[index+n])\n",
    "    \n",
    "        elif i in upper_alpha:\n",
    "            index = upper_alpha.index(i)\n",
    "            if index + n >= len(upper_alpha):\n",
    "                a = index + n - len(upper_alpha)\n",
    "                answer.append(upper_alpha[a])\n",
    "            else:\n",
    "                answer.append(upper_alpha[index+n])\n",
    "        else: \n",
    "            answer.append(' ')\n",
    "    answer = ''.join(answer)\n",
    "    return answer"
   ]
  },
  {
   "cell_type": "code",
   "execution_count": null,
   "id": "a0ebe2ba",
   "metadata": {},
   "outputs": [],
   "source": [
    "# 좋은 풀이\n",
    "def solution (s, n):\n",
    "    s = list(s) \n",
    "    for i in range(len(s)): # 리스트 따로 할당하지 않기 위해\n",
    "        if s[i].isupper():\n",
    "            s[i]=chr((ord(s[i])-ord('A')+ n)%26+ord('A'))\n",
    "        elif s[i].islower():  # 공백은 그대로 \n",
    "            s[i]=chr((ord(s[i])-ord('a')+ n)%26+ord('a'))\n",
    "\n",
    "    return \"\".join(s)"
   ]
  }
 ],
 "metadata": {
  "kernelspec": {
   "display_name": "Python 3",
   "language": "python",
   "name": "python3"
  },
  "language_info": {
   "codemirror_mode": {
    "name": "ipython",
    "version": 3
   },
   "file_extension": ".py",
   "mimetype": "text/x-python",
   "name": "python",
   "nbconvert_exporter": "python",
   "pygments_lexer": "ipython3",
   "version": "3.8.11"
  },
  "toc": {
   "base_numbering": 1,
   "nav_menu": {},
   "number_sections": true,
   "sideBar": true,
   "skip_h1_title": true,
   "title_cell": "Table of Contents",
   "title_sidebar": "Contents",
   "toc_cell": false,
   "toc_position": {},
   "toc_section_display": true,
   "toc_window_display": false
  },
  "varInspector": {
   "cols": {
    "lenName": 16,
    "lenType": 16,
    "lenVar": 40
   },
   "kernels_config": {
    "python": {
     "delete_cmd_postfix": "",
     "delete_cmd_prefix": "del ",
     "library": "var_list.py",
     "varRefreshCmd": "print(var_dic_list())"
    },
    "r": {
     "delete_cmd_postfix": ") ",
     "delete_cmd_prefix": "rm(",
     "library": "var_list.r",
     "varRefreshCmd": "cat(var_dic_list()) "
    }
   },
   "types_to_exclude": [
    "module",
    "function",
    "builtin_function_or_method",
    "instance",
    "_Feature"
   ],
   "window_display": false
  }
 },
 "nbformat": 4,
 "nbformat_minor": 5
}
