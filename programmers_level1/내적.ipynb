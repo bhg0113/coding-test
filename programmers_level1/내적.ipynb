{
 "cells": [
  {
   "cell_type": "markdown",
   "id": "e8733e40",
   "metadata": {},
   "source": [
    "https://programmers.co.kr/learn/courses/30/lessons/70128"
   ]
  },
  {
   "cell_type": "code",
   "execution_count": null,
   "id": "0abdfc2b",
   "metadata": {},
   "outputs": [],
   "source": [
    "def solution(a, b):\n",
    "    answer =0\n",
    "    for i,j in zip(a,b):\n",
    "        answer += i*j\n",
    "    return answer"
   ]
  },
  {
   "cell_type": "code",
   "execution_count": null,
   "id": "fe03ffe7",
   "metadata": {},
   "outputs": [],
   "source": [
    "def solution(a, b):\n",
    "\n",
    "    return sum([x*y for x, y in zip(a,b)]) # zip연산을 리스트로 만들고 sum"
   ]
  },
  {
   "cell_type": "code",
   "execution_count": null,
   "id": "8724ddf2",
   "metadata": {},
   "outputs": [],
   "source": [
    "solution = lambda x, y: sum(a*b for a, b in zip(x, y)) # 위의 풀이를 lambda 사용 \n",
    "# solution이라는 lambda 함수에 x,y 가 들어감(입력 값), 이 x,y에 대해서 위의 zip활용 연산 "
   ]
  },
  {
   "cell_type": "code",
   "execution_count": null,
   "id": "e9254b7b",
   "metadata": {},
   "outputs": [],
   "source": [
    "def solution(a, b):\n",
    "    return sum(map(lambda i: a[i]*b[i], range(len(a)))) # 리스트 인덱싱, lambda, map 모두 활용 \n",
    "# lambda 함수를 a 범위만큼 mapping후 sum"
   ]
  }
 ],
 "metadata": {
  "kernelspec": {
   "display_name": "Python 3 (ipykernel)",
   "language": "python",
   "name": "python3"
  },
  "language_info": {
   "codemirror_mode": {
    "name": "ipython",
    "version": 3
   },
   "file_extension": ".py",
   "mimetype": "text/x-python",
   "name": "python",
   "nbconvert_exporter": "python",
   "pygments_lexer": "ipython3",
   "version": "3.8.12"
  },
  "toc": {
   "base_numbering": 1,
   "nav_menu": {},
   "number_sections": true,
   "sideBar": true,
   "skip_h1_title": true,
   "title_cell": "Table of Contents",
   "title_sidebar": "Contents",
   "toc_cell": false,
   "toc_position": {},
   "toc_section_display": true,
   "toc_window_display": false
  },
  "varInspector": {
   "cols": {
    "lenName": 16,
    "lenType": 16,
    "lenVar": 40
   },
   "kernels_config": {
    "python": {
     "delete_cmd_postfix": "",
     "delete_cmd_prefix": "del ",
     "library": "var_list.py",
     "varRefreshCmd": "print(var_dic_list())"
    },
    "r": {
     "delete_cmd_postfix": ") ",
     "delete_cmd_prefix": "rm(",
     "library": "var_list.r",
     "varRefreshCmd": "cat(var_dic_list()) "
    }
   },
   "types_to_exclude": [
    "module",
    "function",
    "builtin_function_or_method",
    "instance",
    "_Feature"
   ],
   "window_display": false
  }
 },
 "nbformat": 4,
 "nbformat_minor": 5
}
