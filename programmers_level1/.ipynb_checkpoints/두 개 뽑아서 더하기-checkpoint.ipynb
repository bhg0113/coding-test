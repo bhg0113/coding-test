{
 "cells": [
  {
   "cell_type": "code",
   "execution_count": 3,
   "id": "21e002a1",
   "metadata": {
    "ExecuteTime": {
     "end_time": "2022-03-01T15:49:54.573279Z",
     "start_time": "2022-03-01T15:49:54.561272Z"
    }
   },
   "outputs": [],
   "source": [
    "# 내 풀이\n",
    "def solution(numbers):\n",
    "    result = []\n",
    "    for i in range(len(numbers)):\n",
    "        for j in range(len(numbers)):\n",
    "            if i !=j:\n",
    "                result.append(numbers[i]+numbers[j])\n",
    "    return sorted(list(set(result)))"
   ]
  },
  {
   "cell_type": "code",
   "execution_count": 4,
   "id": "06048838",
   "metadata": {
    "ExecuteTime": {
     "end_time": "2022-03-01T15:49:54.753758Z",
     "start_time": "2022-03-01T15:49:54.737772Z"
    }
   },
   "outputs": [
    {
     "data": {
      "text/plain": [
       "[2, 3, 4, 5, 6, 7, 8]"
      ]
     },
     "execution_count": 4,
     "metadata": {},
     "output_type": "execute_result"
    }
   ],
   "source": [
    "solution([2,1,3,4,1])"
   ]
  },
  {
   "cell_type": "code",
   "execution_count": null,
   "id": "afd64ea2",
   "metadata": {},
   "outputs": [],
   "source": [
    "# 좋은 풀이 \n",
    "def solution(numbers):\n",
    "    answer = []\n",
    "    for i in range(len(numbers)):  \n",
    "        for j in range(i+1, len(numbers)): # 이런식으로 나처럼 경우의 수 전부 더하지 않고 앞으로만 더하게 해 연산 줄일 수 있음 \n",
    "            answer.append(numbers[i] + numbers[j])\n",
    "    return sorted(list(set(answer))) # sorted(set(answer))로 충분, sorted가 list로 만들어 주기 때문 \n"
   ]
  },
  {
   "cell_type": "code",
   "execution_count": null,
   "id": "2016bd64",
   "metadata": {},
   "outputs": [],
   "source": [
    "# 참고할 풀이 \n",
    "from itertools import combinations \n",
    "\n",
    "def solution(numbers):\n",
    "    answer = []\n",
    "    l = list(combinations(numbers, 2)) # 경우의 수 만들어 줌 \n",
    "\n",
    "    for i in l:\n",
    "        answer.append(i[0]+i[1])\n",
    "    answer = list(set(answer))\n",
    "    answer.sort()\n",
    "\n",
    "    return answer"
   ]
  },
  {
   "cell_type": "code",
   "execution_count": null,
   "id": "52210d85",
   "metadata": {},
   "outputs": [],
   "source": [
    "# 숏코딩\n",
    "def solution(numbers): return sorted({numbers[i] + numbers[j] for i in range(len(numbers)) for j in range(len(numbers)) if i>j}) # {}로 set에 넣기"
   ]
  }
 ],
 "metadata": {
  "kernelspec": {
   "display_name": "Python 3 (ipykernel)",
   "language": "python",
   "name": "python3"
  },
  "language_info": {
   "codemirror_mode": {
    "name": "ipython",
    "version": 3
   },
   "file_extension": ".py",
   "mimetype": "text/x-python",
   "name": "python",
   "nbconvert_exporter": "python",
   "pygments_lexer": "ipython3",
   "version": "3.8.12"
  },
  "toc": {
   "base_numbering": 1,
   "nav_menu": {},
   "number_sections": true,
   "sideBar": true,
   "skip_h1_title": true,
   "title_cell": "Table of Contents",
   "title_sidebar": "Contents",
   "toc_cell": false,
   "toc_position": {},
   "toc_section_display": true,
   "toc_window_display": false
  },
  "varInspector": {
   "cols": {
    "lenName": 16,
    "lenType": 16,
    "lenVar": 40
   },
   "kernels_config": {
    "python": {
     "delete_cmd_postfix": "",
     "delete_cmd_prefix": "del ",
     "library": "var_list.py",
     "varRefreshCmd": "print(var_dic_list())"
    },
    "r": {
     "delete_cmd_postfix": ") ",
     "delete_cmd_prefix": "rm(",
     "library": "var_list.r",
     "varRefreshCmd": "cat(var_dic_list()) "
    }
   },
   "types_to_exclude": [
    "module",
    "function",
    "builtin_function_or_method",
    "instance",
    "_Feature"
   ],
   "window_display": false
  }
 },
 "nbformat": 4,
 "nbformat_minor": 5
}
