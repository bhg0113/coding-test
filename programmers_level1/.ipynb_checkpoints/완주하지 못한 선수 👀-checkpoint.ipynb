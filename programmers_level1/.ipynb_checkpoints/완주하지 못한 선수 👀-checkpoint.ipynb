{
 "cells": [
  {
   "cell_type": "code",
   "execution_count": 1,
   "id": "4e13d609",
   "metadata": {
    "ExecuteTime": {
     "end_time": "2022-03-29T01:12:43.410289Z",
     "start_time": "2022-03-29T01:12:43.376280Z"
    }
   },
   "outputs": [],
   "source": [
    "from collections import Counter \n",
    "\n",
    "def solution(participant, completion):\n",
    "    # set는 중복이 사라져서 안됨 -> counter 사용\n",
    "    p = Counter(participant)\n",
    "    c = Counter(completion)\n",
    "    res = p-c\n",
    "    return list(answer)[0]\n",
    "    # res.keys()는 TypeError: Object of type dict_keys is not JSON serializable에러 발생... 프로그래머스 환경 탓으로 보임 주피터 상으론 돌아감\n",
    "    # ''.join(answer.keys())도 가능하다고 함\n",
    "    \n"
   ]
  },
  {
   "cell_type": "code",
   "execution_count": null,
   "id": "fbbcb8ce",
   "metadata": {},
   "outputs": [],
   "source": [
    "# 첫 풀이 - 당연하게도? 효율성 통과x\n",
    "def solution(participant, completion):\n",
    "    for i in completion:\n",
    "        participant.remove(i)\n",
    "    return participant[0]\n"
   ]
  },
  {
   "cell_type": "code",
   "execution_count": 6,
   "id": "6a5b3f86",
   "metadata": {
    "ExecuteTime": {
     "end_time": "2022-03-29T01:19:04.744893Z",
     "start_time": "2022-03-29T01:19:04.732880Z"
    }
   },
   "outputs": [
    {
     "data": {
      "text/plain": [
       "'leo'"
      ]
     },
     "execution_count": 6,
     "metadata": {},
     "output_type": "execute_result"
    }
   ],
   "source": [
    "solution([\"leo\", \"kiki\", \"eden\"],[\"eden\", \"kiki\"])"
   ]
  },
  {
   "cell_type": "code",
   "execution_count": 5,
   "id": "4aaaca6b",
   "metadata": {
    "ExecuteTime": {
     "end_time": "2022-03-29T01:19:01.509212Z",
     "start_time": "2022-03-29T01:19:01.489208Z"
    }
   },
   "outputs": [],
   "source": [
    "# 리스트 값 비교 접근 \n",
    "def solution(participant, completion):\n",
    "    participant.sort()\n",
    "    completion.sort()\n",
    "    \n",
    "    for i, v in enumerate(participant):\n",
    "        if participant[i] != completion[i]:\n",
    "            return participant[i]\n",
    "        return participant[-1]\n",
    "    \n",
    "# 위와 비슷하나 zip으로 더욱 효율적  \n",
    "def solution(participant, completion):  \n",
    "    participant.sort()\n",
    "    completion.sort()\n",
    "    \n",
    "    for p, c in zip(participant, completion) :\n",
    "        if p != c :\n",
    "            return p\n",
    "    return participant[-1]"
   ]
  },
  {
   "cell_type": "code",
   "execution_count": null,
   "id": "1d7ee1e5",
   "metadata": {},
   "outputs": [],
   "source": [
    "# 딕셔너리 이용한 풀이\n",
    "def solution(participant, completion) :\n",
    "    dic={}\n",
    "    for p in participant :    \n",
    "        dic[p]=dic.get(p, 0)+1 # key(p)에 값이 없으면 지정 기본값 0,있으면 값을 가져온다. ~ 중복 시 값 +1\n",
    "    for c in completion :\n",
    "        dic[c]-=1\n",
    "    return [k for k, v in dic.items() if v==1][0]"
   ]
  },
  {
   "cell_type": "code",
   "execution_count": null,
   "id": "b2bf31ab",
   "metadata": {},
   "outputs": [],
   "source": [
    "# 딕셔너리와 해시 함수 사용 \n",
    "# 해시 : 각 값의 고유 정수 만들어 그 값에 따라 값 저장 ~ key-value 구조로 파이썬에서는 딕셔너리에 적용되어 있음\n",
    "# 해시는 값을 아주 빠르게 삽입하거나 가져올 때 사용 - 넓은 공간(각 고유 정수마다 저장)을 사용해 저장 및 검색 시간 줄임\n",
    "def solution(participant, completion): \n",
    "    answer=''\n",
    "    temp=0\n",
    "    dic={}\n",
    "    \n",
    "    for part in participant :\n",
    "        dic[hash(part)]=part # hash() :객체 hash 값 반환 ~ dic의 key는 해시 값, value가 객체 정보\n",
    "        temp+=int(hash(part))\n",
    "    for com in completion :\n",
    "        temp-=hash(com)\n",
    "    answer=dic[temp] # 남은 값이 해시값 -> dic의 해당 해시값 value가 정답\n",
    "    \n",
    "    return answer"
   ]
  }
 ],
 "metadata": {
  "kernelspec": {
   "display_name": "Python 3 (ipykernel)",
   "language": "python",
   "name": "python3"
  },
  "language_info": {
   "codemirror_mode": {
    "name": "ipython",
    "version": 3
   },
   "file_extension": ".py",
   "mimetype": "text/x-python",
   "name": "python",
   "nbconvert_exporter": "python",
   "pygments_lexer": "ipython3",
   "version": "3.8.12"
  },
  "toc": {
   "base_numbering": 1,
   "nav_menu": {},
   "number_sections": true,
   "sideBar": true,
   "skip_h1_title": true,
   "title_cell": "Table of Contents",
   "title_sidebar": "Contents",
   "toc_cell": false,
   "toc_position": {},
   "toc_section_display": true,
   "toc_window_display": false
  },
  "varInspector": {
   "cols": {
    "lenName": 16,
    "lenType": 16,
    "lenVar": 40
   },
   "kernels_config": {
    "python": {
     "delete_cmd_postfix": "",
     "delete_cmd_prefix": "del ",
     "library": "var_list.py",
     "varRefreshCmd": "print(var_dic_list())"
    },
    "r": {
     "delete_cmd_postfix": ") ",
     "delete_cmd_prefix": "rm(",
     "library": "var_list.r",
     "varRefreshCmd": "cat(var_dic_list()) "
    }
   },
   "types_to_exclude": [
    "module",
    "function",
    "builtin_function_or_method",
    "instance",
    "_Feature"
   ],
   "window_display": false
  }
 },
 "nbformat": 4,
 "nbformat_minor": 5
}
