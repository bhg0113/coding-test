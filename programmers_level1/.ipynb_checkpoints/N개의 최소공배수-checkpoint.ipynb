{
 "cells": [
  {
   "cell_type": "code",
   "execution_count": 2,
   "id": "4548f2f8",
   "metadata": {
    "ExecuteTime": {
     "end_time": "2022-03-01T00:39:25.827055Z",
     "start_time": "2022-03-01T00:39:25.817053Z"
    }
   },
   "outputs": [],
   "source": [
    "# # 처음 접근 -> 60점 왜? [3,9,22,8] 이런 예시 때문(8,22가 공약수로 나눠지지않고 각자 들어감 )\n",
    "# def solution(arr):\n",
    "#     answer =1 \n",
    "#     for i in range(len(arr)):\n",
    "#         try:\n",
    "#             arr.remove(1)\n",
    "#         except:\n",
    "#             pass\n",
    "#         try:\n",
    "#             min_value = min(arr)\n",
    "#         except:\n",
    "#             min_value= 1\n",
    "\n",
    "#         answer *= min_value     \n",
    "#         for i,value in enumerate(arr):\n",
    "#             if value % min_value ==0:\n",
    "#                 arr[i] =value / min_value\n",
    "#             else:\n",
    "#                 arr[i] = value\n",
    "#         print(arr, min_value, answer)\n",
    "#     return int(answer)"
   ]
  },
  {
   "cell_type": "code",
   "execution_count": 11,
   "id": "f2d3b152",
   "metadata": {
    "ExecuteTime": {
     "end_time": "2022-03-01T00:40:06.032285Z",
     "start_time": "2022-03-01T00:40:06.025291Z"
    }
   },
   "outputs": [
    {
     "name": "stdout",
     "output_type": "stream",
     "text": [
      "[1.0, 3.0, 22, 8] 3 3\n",
      "[1.0, 22, 8] 3.0 9.0\n",
      "[22, 1.0] 8 72.0\n",
      "[1.0] 22 1584.0\n"
     ]
    },
    {
     "data": {
      "text/plain": [
       "1584"
      ]
     },
     "execution_count": 11,
     "metadata": {},
     "output_type": "execute_result"
    }
   ],
   "source": [
    "solution([3,9,22,8])"
   ]
  },
  {
   "cell_type": "code",
   "execution_count": 44,
   "id": "22d0854d",
   "metadata": {
    "ExecuteTime": {
     "end_time": "2022-02-25T15:43:08.678941Z",
     "start_time": "2022-02-25T15:43:08.668943Z"
    },
    "scrolled": true
   },
   "outputs": [
    {
     "name": "stdout",
     "output_type": "stream",
     "text": [
      "[1.0, 3.0, 4.0, 7.0] 2 2\n",
      "[1.0, 4.0, 7.0] 3.0 6.0\n",
      "[1.0, 7.0] 4.0 24.0\n",
      "[1.0] 7.0 168.0\n"
     ]
    },
    {
     "data": {
      "text/plain": [
       "168"
      ]
     },
     "execution_count": 44,
     "metadata": {},
     "output_type": "execute_result"
    }
   ],
   "source": [
    "solution([2,6,8,14])"
   ]
  },
  {
   "cell_type": "code",
   "execution_count": 45,
   "id": "84d94779",
   "metadata": {
    "ExecuteTime": {
     "end_time": "2022-02-25T15:52:05.135424Z",
     "start_time": "2022-02-25T15:52:05.116421Z"
    }
   },
   "outputs": [
    {
     "name": "stdout",
     "output_type": "stream",
     "text": [
      "[1.0, 4, 3.0, 16] 3 3\n",
      "[4, 1.0, 16] 3.0 9.0\n",
      "[1.0, 4.0] 4 36.0\n",
      "[1.0] 4.0 144.0\n"
     ]
    },
    {
     "data": {
      "text/plain": [
       "144"
      ]
     },
     "execution_count": 45,
     "metadata": {},
     "output_type": "execute_result"
    }
   ],
   "source": [
    "solution([3,4,9,16] )"
   ]
  },
  {
   "cell_type": "code",
   "execution_count": 46,
   "id": "d439f72f",
   "metadata": {
    "ExecuteTime": {
     "end_time": "2022-02-25T15:58:56.420501Z",
     "start_time": "2022-02-25T15:58:56.410486Z"
    }
   },
   "outputs": [
    {
     "name": "stdout",
     "output_type": "stream",
     "text": [
      "[1.0, 3, 2.0] 2 2\n",
      "[3, 1.0] 2.0 4.0\n",
      "[1.0] 3 12.0\n"
     ]
    },
    {
     "data": {
      "text/plain": [
       "12"
      ]
     },
     "execution_count": 46,
     "metadata": {},
     "output_type": "execute_result"
    }
   ],
   "source": [
    "solution([2,3,4] )"
   ]
  },
  {
   "cell_type": "code",
   "execution_count": 47,
   "id": "62195d8e",
   "metadata": {
    "ExecuteTime": {
     "end_time": "2022-02-25T15:59:05.967139Z",
     "start_time": "2022-02-25T15:59:05.953149Z"
    }
   },
   "outputs": [
    {
     "name": "stdout",
     "output_type": "stream",
     "text": [
      "[7.0, 1.0, 7] 2 2\n",
      "[1.0, 1.0] 7.0 14.0\n",
      "[1.0] 1.0 14.0\n"
     ]
    },
    {
     "data": {
      "text/plain": [
       "14"
      ]
     },
     "execution_count": 47,
     "metadata": {},
     "output_type": "execute_result"
    }
   ],
   "source": [
    "solution([14,2,7] )"
   ]
  },
  {
   "cell_type": "code",
   "execution_count": 48,
   "id": "3a4483d5",
   "metadata": {
    "ExecuteTime": {
     "end_time": "2022-02-25T16:01:49.105651Z",
     "start_time": "2022-02-25T16:01:49.091642Z"
    }
   },
   "outputs": [
    {
     "name": "stdout",
     "output_type": "stream",
     "text": [
      "[1.0, 41, 43, 47, 53, 59, 61, 67, 71, 73, 79, 83, 89, 97, 100] 37 37\n",
      "[1.0, 43, 47, 53, 59, 61, 67, 71, 73, 79, 83, 89, 97, 100] 41 1517\n",
      "[1.0, 47, 53, 59, 61, 67, 71, 73, 79, 83, 89, 97, 100] 43 65231\n",
      "[1.0, 53, 59, 61, 67, 71, 73, 79, 83, 89, 97, 100] 47 3065857\n",
      "[1.0, 59, 61, 67, 71, 73, 79, 83, 89, 97, 100] 53 162490421\n",
      "[1.0, 61, 67, 71, 73, 79, 83, 89, 97, 100] 59 9586934839\n",
      "[1.0, 67, 71, 73, 79, 83, 89, 97, 100] 61 584803025179\n",
      "[1.0, 71, 73, 79, 83, 89, 97, 100] 67 39181802686993\n",
      "[1.0, 73, 79, 83, 89, 97, 100] 71 2781907990776503\n",
      "[1.0, 79, 83, 89, 97, 100] 73 203079283326684719\n",
      "[1.0, 83, 89, 97, 100] 79 16043263382808092801\n",
      "[1.0, 89, 97, 100] 83 1331590860773071702483\n",
      "[1.0, 97, 100] 89 118511586608803381520987\n",
      "[1.0, 100] 97 11495623901053928007535739\n",
      "[1.0] 100 1149562390105392800753573900\n"
     ]
    },
    {
     "data": {
      "text/plain": [
       "1149562390105392800753573900"
      ]
     },
     "execution_count": 48,
     "metadata": {},
     "output_type": "execute_result"
    }
   ],
   "source": [
    "solution( [37,41, 43, 47, 53, 59, 61, 67, 71, 73, 79, 83, 89, 97,100])"
   ]
  },
  {
   "cell_type": "code",
   "execution_count": 57,
   "id": "b2639c34",
   "metadata": {
    "ExecuteTime": {
     "end_time": "2022-02-25T16:17:24.689275Z",
     "start_time": "2022-02-25T16:17:24.682293Z"
    }
   },
   "outputs": [
    {
     "name": "stdout",
     "output_type": "stream",
     "text": [
      "[1.0, 2.0, 49.0] 2 2\n",
      "[1.0, 49.0] 2.0 4.0\n",
      "[1.0] 49.0 196.0\n"
     ]
    },
    {
     "data": {
      "text/plain": [
       "196"
      ]
     },
     "execution_count": 57,
     "metadata": {},
     "output_type": "execute_result"
    }
   ],
   "source": [
    "solution([2,4,98])"
   ]
  },
  {
   "cell_type": "code",
   "execution_count": null,
   "id": "cf74dd25",
   "metadata": {},
   "outputs": [],
   "source": [
    "# 두번째 접근 -> 가장 간단하지만 연상량 많음, 수학적 개념 사용 X\n",
    "def solution(arr):\n",
    "    answer = max(arr)\n",
    "    while True:\n",
    "        res = True\n",
    "        for i,value in enumerate(arr):\n",
    "            if answer % value !=0:\n",
    "                res=False\n",
    "        if res == True:\n",
    "            return int(answer)\n",
    "        else:\n",
    "            answer += 1"
   ]
  },
  {
   "cell_type": "code",
   "execution_count": 37,
   "id": "343d4c00",
   "metadata": {
    "ExecuteTime": {
     "end_time": "2022-02-27T15:12:41.795188Z",
     "start_time": "2022-02-27T15:12:41.777177Z"
    }
   },
   "outputs": [],
   "source": [
    "# 세번째 접근 -> 최소공배수 구하는 공식 이용 \n",
    "def gcd(a,b): \n",
    "     #from fractions import gcd으로 대체 가능\n",
    "     #최대공약수 = 유클리드 호제법 사용 \n",
    "    while b % a !=0:\n",
    "        tmp=b % a \n",
    "        b = a\n",
    "        a = tmp\n",
    "    return a\n",
    "\n",
    "# def gcd(a, b): 이처럼 재귀적으로 짤 수도 있음 -> 어떤게 더 나은지? \n",
    "# 재귀와 반복 선택 : https://velog.io/@gillog/Algorithm-%EC%9E%AC%EA%B7%80%EC%99%80-%EB%B0%98%EB%B3%B5%EB%AC%B8\n",
    "#     if b == 0:\n",
    "#         return a\n",
    "#     return gcd(b, a%b)\n",
    "\n",
    "def lcm(a,b): \n",
    "    #lcm(최소공배수) = a * b // gcd(최대공약수)\n",
    "    return a*b / gcd(a,b)\n",
    "\n",
    "def solution(arr):\n",
    "    arr.sort()\n",
    "    answer = arr[0]\n",
    "    # 작은 수부터 둘씩 lmc구하고 그 lcm과 다음 수에 대한 lmc 다시 구하며 끝까지 감\n",
    "    for n in arr:\n",
    "        answer = lcm(n, answer) # 재귀적으로 구성 \n",
    "        \n",
    "    return int(answer)\n"
   ]
  },
  {
   "cell_type": "code",
   "execution_count": 39,
   "id": "acdc4204",
   "metadata": {
    "ExecuteTime": {
     "end_time": "2022-02-27T15:12:52.132851Z",
     "start_time": "2022-02-27T15:12:52.116848Z"
    }
   },
   "outputs": [
    {
     "data": {
      "text/plain": [
       "196"
      ]
     },
     "execution_count": 39,
     "metadata": {},
     "output_type": "execute_result"
    }
   ],
   "source": [
    "solution([2,4,98])"
   ]
  },
  {
   "cell_type": "code",
   "execution_count": 30,
   "id": "6c104453",
   "metadata": {
    "ExecuteTime": {
     "end_time": "2022-02-27T15:08:10.197470Z",
     "start_time": "2022-02-27T15:08:10.184466Z"
    }
   },
   "outputs": [
    {
     "data": {
      "text/plain": [
       "2"
      ]
     },
     "execution_count": 30,
     "metadata": {},
     "output_type": "execute_result"
    }
   ],
   "source": [
    "gcd(6,10)"
   ]
  },
  {
   "cell_type": "code",
   "execution_count": 27,
   "id": "9b0efe18",
   "metadata": {
    "ExecuteTime": {
     "end_time": "2022-02-27T14:47:03.540907Z",
     "start_time": "2022-02-27T14:47:03.526903Z"
    }
   },
   "outputs": [
    {
     "data": {
      "text/plain": [
       "30"
      ]
     },
     "execution_count": 27,
     "metadata": {},
     "output_type": "execute_result"
    }
   ],
   "source": [
    "lcm(6,10)"
   ]
  },
  {
   "cell_type": "code",
   "execution_count": null,
   "id": "87082e60",
   "metadata": {},
   "outputs": [],
   "source": []
  },
  {
   "cell_type": "code",
   "execution_count": null,
   "id": "0b6290d8",
   "metadata": {},
   "outputs": [],
   "source": []
  }
 ],
 "metadata": {
  "kernelspec": {
   "display_name": "Python 3 (ipykernel)",
   "language": "python",
   "name": "python3"
  },
  "language_info": {
   "codemirror_mode": {
    "name": "ipython",
    "version": 3
   },
   "file_extension": ".py",
   "mimetype": "text/x-python",
   "name": "python",
   "nbconvert_exporter": "python",
   "pygments_lexer": "ipython3",
   "version": "3.8.12"
  },
  "toc": {
   "base_numbering": 1,
   "nav_menu": {},
   "number_sections": true,
   "sideBar": true,
   "skip_h1_title": true,
   "title_cell": "Table of Contents",
   "title_sidebar": "Contents",
   "toc_cell": false,
   "toc_position": {},
   "toc_section_display": true,
   "toc_window_display": false
  },
  "varInspector": {
   "cols": {
    "lenName": 16,
    "lenType": 16,
    "lenVar": 40
   },
   "kernels_config": {
    "python": {
     "delete_cmd_postfix": "",
     "delete_cmd_prefix": "del ",
     "library": "var_list.py",
     "varRefreshCmd": "print(var_dic_list())"
    },
    "r": {
     "delete_cmd_postfix": ") ",
     "delete_cmd_prefix": "rm(",
     "library": "var_list.r",
     "varRefreshCmd": "cat(var_dic_list()) "
    }
   },
   "types_to_exclude": [
    "module",
    "function",
    "builtin_function_or_method",
    "instance",
    "_Feature"
   ],
   "window_display": false
  }
 },
 "nbformat": 4,
 "nbformat_minor": 5
}
