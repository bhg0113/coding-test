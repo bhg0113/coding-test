{
 "cells": [
  {
   "cell_type": "code",
   "execution_count": null,
   "id": "fd53ee3f",
   "metadata": {},
   "outputs": [],
   "source": [
    "alpha_list=['a','b','c','d','e','f','g','h','i','j','k','l','m','n','o'\n",
    "            ,'p','q','r','s','t','u','v','w','x','y','z','0','1','2','3',\n",
    "            '4','5','6','7','8','9','-','_','.']\n",
    "\n",
    "def solution(new_id):\n",
    "    new_id = new_id.lower() # 1단계\n",
    "    for s in new_id: \n",
    "        if s not in alpha_list:\n",
    "            new_id = new_id.replace(s,'') # 2단계\n",
    "        else: \n",
    "            new_id = new_id.replace('..','.') # 3단계\n",
    "            # new_id = new_id.replace('..','.').strip('.')으로 하니 테스트 5 실패 왜? \n",
    "    \n",
    "    new_id = new_id.strip('.') # 4단계\n",
    "    if len(new_id)==0: # 5단계\n",
    "        new_id = 'a'\n",
    "    if len(new_id)>=16: # 6단계\n",
    "        new_id = new_id[:15].strip('.')\n",
    "    if len(new_id)<=2 : # 7단계\n",
    "        while len(new_id)<=2:\n",
    "            new_id = new_id+ new_id[-1] \n",
    "            \n",
    "    return new_id"
   ]
  },
  {
   "cell_type": "code",
   "execution_count": null,
   "id": "a04166cd",
   "metadata": {},
   "outputs": [],
   "source": [
    "# 내 풀이 좀더 좋은 버전...? \n",
    "def solution(new_id):\n",
    "    answer = ''\n",
    "    # 1\n",
    "    new_id = new_id.lower()\n",
    "    # 2\n",
    "    for c in new_id:\n",
    "        if c.isalpha() or c.isdigit() or c in ['-', '_', '.']: # 나처럼 일일이 만드는 것보다 좋아보임\n",
    "            answer += c\n",
    "    # 3\n",
    "    while '..' in answer: # 가장 좋은 .. 제거 방법! \n",
    "        answer = answer.replace('..', '.')\n",
    "    # 4\n",
    "    if answer[0] == '.': # 이건 그냥 strip이 좋아보임\n",
    "        answer = answer[1:] if len(answer) > 1 else '.'\n",
    "    if answer[-1] == '.':\n",
    "        answer = answer[:-1]\n",
    "        \n",
    "    # 5 / 5~7은 그냥 이렇구나 정도\n",
    "    if answer == '':\n",
    "        answer = 'a'\n",
    "    # 6\n",
    "    if len(answer) > 15:\n",
    "        answer = answer[:15]\n",
    "        if answer[-1] == '.':\n",
    "            answer = answer[:-1]\n",
    "    # 7\n",
    "    while len(answer) < 3:\n",
    "        answer += answer[-1]\n",
    "    return answer"
   ]
  },
  {
   "cell_type": "code",
   "execution_count": null,
   "id": "054f4b43",
   "metadata": {},
   "outputs": [],
   "source": [
    "# 출제의도와 가까워 보이는 정규식 활용 풀이, 코드도 간단 \n",
    "import re\n",
    "\n",
    "def solution(new_id):\n",
    "    st = new_id\n",
    "    st = st.lower()\n",
    "    st = re.sub('[^a-z0-9\\-_.]', '', st) \n",
    "    st = re.sub('\\.+', '.', st)\n",
    "    st = re.sub('^[.]|[.]$', '', st) # 시작과 끝 대체인데 strip이 간단해보이긴 함\n",
    "    st = 'a' if len(st) == 0 else st[:15] \n",
    "    st = re.sub('^[.]|[.]$', '', st)\n",
    "    st = st if len(st) > 2 else st + \"\".join([st[-1] for i in range(3-len(st))]) # 한줄로 쓰기 위해 join쓴 듯\n",
    "    return st"
   ]
  }
 ],
 "metadata": {
  "kernelspec": {
   "display_name": "Python 3 (ipykernel)",
   "language": "python",
   "name": "python3"
  },
  "language_info": {
   "codemirror_mode": {
    "name": "ipython",
    "version": 3
   },
   "file_extension": ".py",
   "mimetype": "text/x-python",
   "name": "python",
   "nbconvert_exporter": "python",
   "pygments_lexer": "ipython3",
   "version": "3.8.12"
  },
  "toc": {
   "base_numbering": 1,
   "nav_menu": {},
   "number_sections": true,
   "sideBar": true,
   "skip_h1_title": true,
   "title_cell": "Table of Contents",
   "title_sidebar": "Contents",
   "toc_cell": false,
   "toc_position": {},
   "toc_section_display": true,
   "toc_window_display": false
  },
  "varInspector": {
   "cols": {
    "lenName": 16,
    "lenType": 16,
    "lenVar": 40
   },
   "kernels_config": {
    "python": {
     "delete_cmd_postfix": "",
     "delete_cmd_prefix": "del ",
     "library": "var_list.py",
     "varRefreshCmd": "print(var_dic_list())"
    },
    "r": {
     "delete_cmd_postfix": ") ",
     "delete_cmd_prefix": "rm(",
     "library": "var_list.r",
     "varRefreshCmd": "cat(var_dic_list()) "
    }
   },
   "types_to_exclude": [
    "module",
    "function",
    "builtin_function_or_method",
    "instance",
    "_Feature"
   ],
   "window_display": false
  }
 },
 "nbformat": 4,
 "nbformat_minor": 5
}
