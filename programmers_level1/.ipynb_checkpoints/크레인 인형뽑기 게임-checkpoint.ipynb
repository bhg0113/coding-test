{
 "cells": [
  {
   "cell_type": "code",
   "execution_count": 12,
   "id": "9e5a24cf",
   "metadata": {
    "ExecuteTime": {
     "end_time": "2022-03-14T14:10:55.198605Z",
     "start_time": "2022-03-14T14:10:55.186602Z"
    }
   },
   "outputs": [],
   "source": [
    "def solution(board, moves):\n",
    "    basket = []\n",
    "    answer = 0\n",
    "    \n",
    "    for move in moves: # 뽑기마다, move는 칸 번호\n",
    "        for row in range(len(board[0])): # 정사각형이므로 \n",
    "            if board[row][move-1] !=0: # 인형 '있는' 층\n",
    "                basket.append(board[row][move-1])\n",
    "                board[row][move-1] = 0\n",
    "                break # 한 번 뽑으면 다음 move\n",
    "            \n",
    "        if len(basket) >=2 and basket[-1] == basket[-2]:\n",
    "            basket.pop()\n",
    "            basket.pop()\n",
    "            answer+=2\n",
    "    \n",
    "    return answer"
   ]
  },
  {
   "cell_type": "code",
   "execution_count": 27,
   "id": "1557b287",
   "metadata": {
    "ExecuteTime": {
     "end_time": "2022-03-15T04:53:04.237545Z",
     "start_time": "2022-03-15T04:53:04.224550Z"
    }
   },
   "outputs": [],
   "source": [
    "# 특이한 풀이 \n",
    "def solution(board, moves):\n",
    "    cols = list(map(lambda x: list(filter(lambda y: y > 0, x)), zip(*board)))\n",
    "    # filter(조건 함수, 순회 가능한 데이터) -> 데이터에서 조건에 맞는 데이터만 추출하는 함수\n",
    "    \n",
    "    print(*board) # 중리스트인 board가 각각의 행들로 unpacking\n",
    "    print(list(zip(*board))) # 각 위치기리 묶는 zip -> board에서 주어진 행이 아닌 열, 즉 칸 번호마다 번호구성\n",
    "    print(cols) # 0이 넘는, 즉 인형이 있는 부분만 추출하여 리스트로, x에 대해 적용(x는 map에 따라 zip(*board)에서 순차적으로 들어감)\n",
    "    a, s = 0, [0] # s에 [0] 할당은 빈 리스트에 pop하는 오류 방지 위함\n",
    "\n",
    "    for m in moves:\n",
    "        if len(cols[m - 1]) > 0:\n",
    "            if (d := cols[m - 1].pop(0)) == (l := s.pop()): # :=는 조건문 안에서 변수 할당 및 선언, ()로 묶어 사용해야 함(코드 모호성 방지)\n",
    "                a += 2\n",
    "            else:\n",
    "                s.extend([l, d])\n",
    "                # list.extend(iterable)는 리스트 끝에 가장 바깥쪽 iterable의 모든 항목을 넣습니다.\n",
    "                # https://m.blog.naver.com/wideeyed/221541104629 참조\n",
    "\n",
    "    return a"
   ]
  },
  {
   "cell_type": "code",
   "execution_count": 28,
   "id": "76e28c6d",
   "metadata": {
    "ExecuteTime": {
     "end_time": "2022-03-15T04:53:04.463157Z",
     "start_time": "2022-03-15T04:53:04.442167Z"
    }
   },
   "outputs": [
    {
     "name": "stdout",
     "output_type": "stream",
     "text": [
      "[0, 0, 0, 0, 0] [0, 0, 1, 0, 3] [0, 2, 5, 0, 1] [4, 2, 4, 4, 2] [3, 5, 1, 3, 1]\n",
      "[(0, 0, 0, 4, 3), (0, 0, 2, 2, 5), (0, 1, 5, 4, 1), (0, 0, 0, 4, 3), (0, 3, 1, 2, 1)]\n",
      "[[4, 3], [2, 2, 5], [1, 5, 4, 1], [4, 3], [3, 1, 2, 1]]\n"
     ]
    },
    {
     "data": {
      "text/plain": [
       "4"
      ]
     },
     "execution_count": 28,
     "metadata": {},
     "output_type": "execute_result"
    }
   ],
   "source": [
    "solution([[0,0,0,0,0],[0,0,1,0,3],[0,2,5,0,1],[4,2,4,4,2],[3,5,1,3,1]],[1,5,3,5,1,2,1,4])"
   ]
  },
  {
   "cell_type": "code",
   "execution_count": null,
   "id": "fd85bde4",
   "metadata": {},
   "outputs": [],
   "source": []
  }
 ],
 "metadata": {
  "kernelspec": {
   "display_name": "Python 3 (ipykernel)",
   "language": "python",
   "name": "python3"
  },
  "language_info": {
   "codemirror_mode": {
    "name": "ipython",
    "version": 3
   },
   "file_extension": ".py",
   "mimetype": "text/x-python",
   "name": "python",
   "nbconvert_exporter": "python",
   "pygments_lexer": "ipython3",
   "version": "3.8.12"
  },
  "toc": {
   "base_numbering": 1,
   "nav_menu": {},
   "number_sections": true,
   "sideBar": true,
   "skip_h1_title": true,
   "title_cell": "Table of Contents",
   "title_sidebar": "Contents",
   "toc_cell": false,
   "toc_position": {},
   "toc_section_display": true,
   "toc_window_display": false
  },
  "varInspector": {
   "cols": {
    "lenName": 16,
    "lenType": 16,
    "lenVar": 40
   },
   "kernels_config": {
    "python": {
     "delete_cmd_postfix": "",
     "delete_cmd_prefix": "del ",
     "library": "var_list.py",
     "varRefreshCmd": "print(var_dic_list())"
    },
    "r": {
     "delete_cmd_postfix": ") ",
     "delete_cmd_prefix": "rm(",
     "library": "var_list.r",
     "varRefreshCmd": "cat(var_dic_list()) "
    }
   },
   "types_to_exclude": [
    "module",
    "function",
    "builtin_function_or_method",
    "instance",
    "_Feature"
   ],
   "window_display": false
  }
 },
 "nbformat": 4,
 "nbformat_minor": 5
}
