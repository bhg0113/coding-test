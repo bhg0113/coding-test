{
 "cells": [
  {
   "cell_type": "code",
   "execution_count": 1,
   "id": "256fe77b",
   "metadata": {
    "ExecuteTime": {
     "end_time": "2022-04-11T12:21:00.620132Z",
     "start_time": "2022-04-11T12:21:00.601118Z"
    }
   },
   "outputs": [],
   "source": [
    "def solution(lottos, win_nums):\n",
    "    answer = []\n",
    "    rank = 1\n",
    "    for n in lottos:\n",
    "        if n not in win_nums:\n",
    "            rank +=1 # 일단 다처리\n",
    "    high,low = rank - lottos.count(0), rank\n",
    "    if high >6:\n",
    "        high = 6\n",
    "    if low >6:\n",
    "        low = 6\n",
    "    return [high,low]"
   ]
  },
  {
   "cell_type": "code",
   "execution_count": null,
   "id": "712e70b5",
   "metadata": {},
   "outputs": [],
   "source": [
    "# 깔끔한 풀이  \n",
    "def solution(lottos, win_nums):\n",
    "\n",
    "    rank=[6,6,5,4,3,2,1] # 인덱스로 등수 접근하도록 \n",
    "\n",
    "    cnt_0 = lottos.count(0)\n",
    "    ans = 0\n",
    "    for x in win_nums:\n",
    "        if x in lottos:\n",
    "            ans += 1\n",
    "    return rank[cnt_0 + ans],rank[ans]"
   ]
  },
  {
   "cell_type": "code",
   "execution_count": null,
   "id": "d68016e8",
   "metadata": {},
   "outputs": [],
   "source": [
    "# 딕셔너리 활용하여 한줄코딩\n",
    "def solution(lottos, win_nums):\n",
    "    rank = { # 사실상 리스트 인덱스와 유사\n",
    "        0: 6,\n",
    "        1: 6,\n",
    "        2: 5,\n",
    "        3: 4,\n",
    "        4: 3,\n",
    "        5: 2,\n",
    "        6: 1\n",
    "    }\n",
    "    return [rank[len(set(lottos) & set(win_nums)) + lottos.count(0)], rank[len(set(lottos) & set(win_nums))]]\n",
    "# set(lottos) & set(win_nums)하면 공통된 원소 세트가 나옴 "
   ]
  },
  {
   "cell_type": "code",
   "execution_count": 3,
   "id": "59a641e1",
   "metadata": {
    "ExecuteTime": {
     "end_time": "2022-04-11T12:22:30.334517Z",
     "start_time": "2022-04-11T12:22:30.327531Z"
    }
   },
   "outputs": [
    {
     "data": {
      "text/plain": [
       "{1, 31}"
      ]
     },
     "execution_count": 3,
     "metadata": {},
     "output_type": "execute_result"
    }
   ],
   "source": [
    "lottos = [44, 1, 0, 0, 31, 25]\n",
    "win_nums = [31, 10, 45, 1, 6, 19]\n",
    "set(lottos) & set(win_nums) "
   ]
  },
  {
   "cell_type": "code",
   "execution_count": null,
   "id": "2707f8a8",
   "metadata": {},
   "outputs": [],
   "source": [
    "def solution(lottos, win_nums):\n",
    "    zero = lottos.count(0)\n",
    "    a= [x for x in lottos if x in win_nums]\n",
    "    max = zero+len(a)\n",
    "    min = len(a)\n",
    "\n",
    "    max = 7- max if max >=1 else 6 # 변수에서도 if 사용 가능 \n",
    "    min = 7- min if min >=1 else 6\n",
    "    return [max,min]"
   ]
  }
 ],
 "metadata": {
  "kernelspec": {
   "display_name": "Python 3 (ipykernel)",
   "language": "python",
   "name": "python3"
  },
  "language_info": {
   "codemirror_mode": {
    "name": "ipython",
    "version": 3
   },
   "file_extension": ".py",
   "mimetype": "text/x-python",
   "name": "python",
   "nbconvert_exporter": "python",
   "pygments_lexer": "ipython3",
   "version": "3.8.12"
  },
  "toc": {
   "base_numbering": 1,
   "nav_menu": {},
   "number_sections": true,
   "sideBar": true,
   "skip_h1_title": true,
   "title_cell": "Table of Contents",
   "title_sidebar": "Contents",
   "toc_cell": false,
   "toc_position": {},
   "toc_section_display": true,
   "toc_window_display": false
  },
  "varInspector": {
   "cols": {
    "lenName": 16,
    "lenType": 16,
    "lenVar": 40
   },
   "kernels_config": {
    "python": {
     "delete_cmd_postfix": "",
     "delete_cmd_prefix": "del ",
     "library": "var_list.py",
     "varRefreshCmd": "print(var_dic_list())"
    },
    "r": {
     "delete_cmd_postfix": ") ",
     "delete_cmd_prefix": "rm(",
     "library": "var_list.r",
     "varRefreshCmd": "cat(var_dic_list()) "
    }
   },
   "types_to_exclude": [
    "module",
    "function",
    "builtin_function_or_method",
    "instance",
    "_Feature"
   ],
   "window_display": false
  }
 },
 "nbformat": 4,
 "nbformat_minor": 5
}
