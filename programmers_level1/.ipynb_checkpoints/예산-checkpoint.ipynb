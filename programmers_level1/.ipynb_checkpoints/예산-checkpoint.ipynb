{
 "cells": [
  {
   "cell_type": "code",
   "execution_count": null,
   "id": "a94059b5",
   "metadata": {},
   "outputs": [],
   "source": [
    "def solution(d, budget):\n",
    "    if sum(d) <= budget:\n",
    "        return len(d)\n",
    "    else:\n",
    "        d.sort(reverse=True) # 비싼것부터 빼기 위해 (이해 편의상)\n",
    "        while sum(d) > budget:\n",
    "            d.pop(0)\n",
    "        return len(d)"
   ]
  },
  {
   "cell_type": "code",
   "execution_count": null,
   "id": "5d048432",
   "metadata": {},
   "outputs": [],
   "source": [
    "# 같은 방식이나 조금 더 축약된 풀이 \n",
    "def solution(d, budget):\n",
    "    d.sort()\n",
    "    while budget < sum(d): \n",
    "        d.pop()\n",
    "    return len(d)"
   ]
  }
 ],
 "metadata": {
  "kernelspec": {
   "display_name": "Python 3 (ipykernel)",
   "language": "python",
   "name": "python3"
  },
  "language_info": {
   "codemirror_mode": {
    "name": "ipython",
    "version": 3
   },
   "file_extension": ".py",
   "mimetype": "text/x-python",
   "name": "python",
   "nbconvert_exporter": "python",
   "pygments_lexer": "ipython3",
   "version": "3.8.12"
  },
  "toc": {
   "base_numbering": 1,
   "nav_menu": {},
   "number_sections": true,
   "sideBar": true,
   "skip_h1_title": true,
   "title_cell": "Table of Contents",
   "title_sidebar": "Contents",
   "toc_cell": false,
   "toc_position": {},
   "toc_section_display": true,
   "toc_window_display": false
  },
  "varInspector": {
   "cols": {
    "lenName": 16,
    "lenType": 16,
    "lenVar": 40
   },
   "kernels_config": {
    "python": {
     "delete_cmd_postfix": "",
     "delete_cmd_prefix": "del ",
     "library": "var_list.py",
     "varRefreshCmd": "print(var_dic_list())"
    },
    "r": {
     "delete_cmd_postfix": ") ",
     "delete_cmd_prefix": "rm(",
     "library": "var_list.r",
     "varRefreshCmd": "cat(var_dic_list()) "
    }
   },
   "types_to_exclude": [
    "module",
    "function",
    "builtin_function_or_method",
    "instance",
    "_Feature"
   ],
   "window_display": false
  }
 },
 "nbformat": 4,
 "nbformat_minor": 5
}
