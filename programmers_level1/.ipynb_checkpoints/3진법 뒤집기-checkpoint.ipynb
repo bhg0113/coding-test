{
 "cells": [
  {
   "cell_type": "code",
   "execution_count": 3,
   "id": "7a2b24d3",
   "metadata": {
    "ExecuteTime": {
     "end_time": "2022-06-26T04:45:29.608417Z",
     "start_time": "2022-06-26T04:45:29.600429Z"
    }
   },
   "outputs": [],
   "source": [
    "def tri_rev(number):\n",
    "    n = []\n",
    "    while number !=0:\n",
    "        n.append(str(number%3)) # 그래야 그대로 연결\n",
    "        number //= 3\n",
    "    return ''.join(n)\n",
    "        \n",
    "        \n",
    "    \n",
    "def solution(n):\n",
    "    r = tri_rev(n) \n",
    "    return int(r,3) # 문지얄로 받아야 함"
   ]
  },
  {
   "cell_type": "code",
   "execution_count": 4,
   "id": "f806f631",
   "metadata": {
    "ExecuteTime": {
     "end_time": "2022-06-26T04:45:29.774583Z",
     "start_time": "2022-06-26T04:45:29.744553Z"
    }
   },
   "outputs": [
    {
     "data": {
      "text/plain": [
       "7"
      ]
     },
     "execution_count": 4,
     "metadata": {},
     "output_type": "execute_result"
    }
   ],
   "source": [
    "solution(45)"
   ]
  },
  {
   "cell_type": "code",
   "execution_count": null,
   "id": "d1c1820a",
   "metadata": {},
   "outputs": [],
   "source": [
    "def solution(n):\n",
    "    tmp = '' # 이렇게 문자열로 하는게 더 편할듯, 리스트만말고 문자열로도 생각해보기 \n",
    "    while n:\n",
    "        tmp += str(n % 3)\n",
    "        n = n // 3\n",
    "\n",
    "    answer = int(tmp, 3)\n",
    "    return answer"
   ]
  }
 ],
 "metadata": {
  "kernelspec": {
   "display_name": "Python 3 (ipykernel)",
   "language": "python",
   "name": "python3"
  },
  "language_info": {
   "codemirror_mode": {
    "name": "ipython",
    "version": 3
   },
   "file_extension": ".py",
   "mimetype": "text/x-python",
   "name": "python",
   "nbconvert_exporter": "python",
   "pygments_lexer": "ipython3",
   "version": "3.8.12"
  },
  "toc": {
   "base_numbering": 1,
   "nav_menu": {},
   "number_sections": true,
   "sideBar": true,
   "skip_h1_title": true,
   "title_cell": "Table of Contents",
   "title_sidebar": "Contents",
   "toc_cell": false,
   "toc_position": {},
   "toc_section_display": true,
   "toc_window_display": false
  },
  "varInspector": {
   "cols": {
    "lenName": 16,
    "lenType": 16,
    "lenVar": 40
   },
   "kernels_config": {
    "python": {
     "delete_cmd_postfix": "",
     "delete_cmd_prefix": "del ",
     "library": "var_list.py",
     "varRefreshCmd": "print(var_dic_list())"
    },
    "r": {
     "delete_cmd_postfix": ") ",
     "delete_cmd_prefix": "rm(",
     "library": "var_list.r",
     "varRefreshCmd": "cat(var_dic_list()) "
    }
   },
   "types_to_exclude": [
    "module",
    "function",
    "builtin_function_or_method",
    "instance",
    "_Feature"
   ],
   "window_display": false
  }
 },
 "nbformat": 4,
 "nbformat_minor": 5
}
