{
 "cells": [
  {
   "cell_type": "code",
   "execution_count": null,
   "id": "1957dc60",
   "metadata": {},
   "outputs": [],
   "source": [
    "# 내풀이 \n",
    "def solution(answers):\n",
    "    p1 = [1,2,3,4,5]\n",
    "    p2 = [2,1,2,3,2,4,2,5]\n",
    "    p3 = [3,3,1,1,2,2,4,4,5,5]\n",
    "    answer = []\n",
    "    \n",
    "    n = len(answers)//5 \n",
    "    p1 *= n+1\n",
    "    p2 *= n+1\n",
    "    p3 *= n+1\n",
    "    \n",
    "    right_p1 = right_p2 = right_p3 = 0\n",
    "    for i,mark in enumerate(answers):\n",
    "        if mark == p1[i]:\n",
    "            right_p1+=1\n",
    "        if mark == p2[i]:\n",
    "            right_p2+=1\n",
    "        if mark == p3[i]:\n",
    "            right_p3+=1\n",
    "# 순위 메기는 부분이 애매했음            \n",
    "    res = [right_p1,right_p2,right_p3]\n",
    "    m = max(res)\n",
    "    if m !=0 and m == right_p1 and m == right_p2 and m != right_p3: #\\\n",
    "        answer= [1,2]\n",
    "    elif m !=0 and m == right_p1 and  m != right_p2 and m == right_p3: \n",
    "        answer = [1,3]\n",
    "    elif m !=0 and  m != right_p1 and m == right_p2 and m == right_p3:\n",
    "        answer = [2,3]\n",
    "    elif m !=0 and m == right_p1 and m == right_p2 and m == right_p3:\n",
    "        answer = [1,2,3]\n",
    "    else:\n",
    "        answer.append(res.index(max(res))+1)\n",
    "    \n",
    "    return answer"
   ]
  },
  {
   "cell_type": "code",
   "execution_count": null,
   "id": "352f96dc",
   "metadata": {},
   "outputs": [],
   "source": [
    "# 깔끔한 풀이 \n",
    "def solution(answers):\n",
    "    pattern1 = [1,2,3,4,5]\n",
    "    pattern2 = [2,1,2,3,2,4,2,5]\n",
    "    pattern3 = [3,3,1,1,2,2,4,4,5,5]\n",
    "    score = [0, 0, 0]\n",
    "    result = []\n",
    "\n",
    "    for idx, answer in enumerate(answers):\n",
    "        if answer == pattern1[idx%len(pattern1)]: # 나머지를 가지고 패턴 구현(생각만 해보고 구현은 못했음)\n",
    "            score[0] += 1\n",
    "        if answer == pattern2[idx%len(pattern2)]:\n",
    "            score[1] += 1\n",
    "        if answer == pattern3[idx%len(pattern3)]:\n",
    "            score[2] += 1\n",
    "\n",
    "    for idx, s in enumerate(score): # 나처럼 일일이 경우의 수 하지 않고 이렇게 처리 (나는 최악의 풀이)\n",
    "        # 비교하며  확인 \n",
    "        if s == max(score): \n",
    "            result.append(idx+1)\n",
    "\n",
    "    return result"
   ]
  }
 ],
 "metadata": {
  "kernelspec": {
   "display_name": "Python 3 (ipykernel)",
   "language": "python",
   "name": "python3"
  },
  "language_info": {
   "codemirror_mode": {
    "name": "ipython",
    "version": 3
   },
   "file_extension": ".py",
   "mimetype": "text/x-python",
   "name": "python",
   "nbconvert_exporter": "python",
   "pygments_lexer": "ipython3",
   "version": "3.8.12"
  },
  "toc": {
   "base_numbering": 1,
   "nav_menu": {},
   "number_sections": true,
   "sideBar": true,
   "skip_h1_title": true,
   "title_cell": "Table of Contents",
   "title_sidebar": "Contents",
   "toc_cell": false,
   "toc_position": {},
   "toc_section_display": true,
   "toc_window_display": false
  },
  "varInspector": {
   "cols": {
    "lenName": 16,
    "lenType": 16,
    "lenVar": 40
   },
   "kernels_config": {
    "python": {
     "delete_cmd_postfix": "",
     "delete_cmd_prefix": "del ",
     "library": "var_list.py",
     "varRefreshCmd": "print(var_dic_list())"
    },
    "r": {
     "delete_cmd_postfix": ") ",
     "delete_cmd_prefix": "rm(",
     "library": "var_list.r",
     "varRefreshCmd": "cat(var_dic_list()) "
    }
   },
   "types_to_exclude": [
    "module",
    "function",
    "builtin_function_or_method",
    "instance",
    "_Feature"
   ],
   "window_display": false
  }
 },
 "nbformat": 4,
 "nbformat_minor": 5
}
