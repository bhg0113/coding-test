{
 "cells": [
  {
   "cell_type": "code",
   "execution_count": null,
   "id": "fbe86abf",
   "metadata": {},
   "outputs": [],
   "source": [
    "dict = {'zero':0,'one':1,'two':2,'three':3,'four':4,\n",
    "        'five':5,'six':6,'seven':7,'eight':8,'nine':9}\n",
    "def solution(s):\n",
    "    for i in dict.keys():\n",
    "        if i in s:\n",
    "            s = s.replace(i,str(dict[i]))\n",
    "    s = int(s)\n",
    "    return s\n",
    "\n",
    "\n",
    "# num_dic = {\"zero\":\"0\", \"one\":\"1\", \"two\":\"2\", \"three\":\"3\", \"four\":\"4\", \"five\":\"5\", \"six\":\"6\", \"seven\":\"7\", \"eight\":\"8\", \"nine\":\"9\"}\n",
    "\n",
    "# def solution(s):\n",
    "#     answer = s\n",
    "#     for key, value in num_dic.items(): 키만 가져오지 않고 items로 한번에 키, 밸류 다 가져옴\n",
    "#         answer = answer.replace(key, value) # if로 i가 s에 있는지 찾아볼 필요없음, replace가 시간복잡도가 크다!(최대 O(N^2)) -> 다른 방법 고려도 필요 \n",
    "#     return int(answer) # return에서 int로 변환 \n",
    "\n",
    "\n",
    "# def solution(s):\n",
    "#     words = ['zero', 'one', 'two', 'three', 'four', 'five', 'six', 'seven', 'eight', 'nine']\n",
    "\n",
    "#     for i in range(len(words)):  # enumerate 쓰는 것이 더욱 좋아 보임\n",
    "#         s = s.replace(words[i], str(i)) # 딕셔너리가 아니라 리스트와 반복문 i 값으로 replace  \n",
    "\n",
    "#     return int(s)"
   ]
  }
 ],
 "metadata": {
  "kernelspec": {
   "display_name": "Python 3",
   "language": "python",
   "name": "python3"
  },
  "language_info": {
   "codemirror_mode": {
    "name": "ipython",
    "version": 3
   },
   "file_extension": ".py",
   "mimetype": "text/x-python",
   "name": "python",
   "nbconvert_exporter": "python",
   "pygments_lexer": "ipython3",
   "version": "3.8.11"
  },
  "toc": {
   "base_numbering": 1,
   "nav_menu": {},
   "number_sections": true,
   "sideBar": true,
   "skip_h1_title": true,
   "title_cell": "Table of Contents",
   "title_sidebar": "Contents",
   "toc_cell": false,
   "toc_position": {},
   "toc_section_display": true,
   "toc_window_display": false
  },
  "varInspector": {
   "cols": {
    "lenName": 16,
    "lenType": 16,
    "lenVar": 40
   },
   "kernels_config": {
    "python": {
     "delete_cmd_postfix": "",
     "delete_cmd_prefix": "del ",
     "library": "var_list.py",
     "varRefreshCmd": "print(var_dic_list())"
    },
    "r": {
     "delete_cmd_postfix": ") ",
     "delete_cmd_prefix": "rm(",
     "library": "var_list.r",
     "varRefreshCmd": "cat(var_dic_list()) "
    }
   },
   "types_to_exclude": [
    "module",
    "function",
    "builtin_function_or_method",
    "instance",
    "_Feature"
   ],
   "window_display": false
  }
 },
 "nbformat": 4,
 "nbformat_minor": 5
}
