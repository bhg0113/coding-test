{
 "cells": [
  {
   "cell_type": "markdown",
   "id": "e21e8842",
   "metadata": {},
   "source": [
    "https://programmers.co.kr/learn/courses/30/lessons/92334"
   ]
  },
  {
   "cell_type": "code",
   "execution_count": 135,
   "id": "ef77a83b",
   "metadata": {
    "ExecuteTime": {
     "end_time": "2022-03-09T03:40:26.318818Z",
     "start_time": "2022-03-09T03:40:26.304814Z"
    }
   },
   "outputs": [],
   "source": [
    "# 3번에서 시간초과... -> for문으로 신고 수 적립하여 k 이상인지로 정지여부 확인해도 되는데\n",
    "# for문 사용시 계산량 늘어날까 정지여부 만들고 하는 등의 추가 처리가 늘어나 오히려 시간초과 발생 \n",
    "# 밑에 아이디에대해 확인, 정지여부 확인이 시간초과 만듦\n",
    "from collections import Counter\n",
    "def solution(id_list, report, k):\n",
    "    suspended = {i: False for i in id_list} \n",
    "    report = list(set(report)) # 중복제거\n",
    "    reported_id = [r.split(' ')[1] for r in report] # 신고당한 사람\n",
    "    report = [r.split(' ') for r in report] # 신고 split \n",
    "    \n",
    "    reported = Counter(reported_id) #id당 신고당한 수    \n",
    "    for i in suspended.keys(): # 정지 목록 갱신\n",
    "        if reported[i] >= k:\n",
    "            suspended[i]= True\n",
    "    #print(suspended)\n",
    "    \n",
    "    answer = [0]*len(id_list)\n",
    "    for i in id_list: # 각 아이디에 대해 \n",
    "        #print(i)\n",
    "        #print(answer)\n",
    "        if suspended[i]==True: # 해당 아이디가 정지라면\n",
    "            for j in range(len(report)): # 리포트 돌아가며 확인\n",
    "                if report[j][1] == i: # 신고당한 아이디가 정지당한 것과 같을 때 \n",
    "                    answer[id_list.index(report[j][0])] += 1 # 신고자의 값 +1, 인덱스는 id_list 따라서\n",
    "\n",
    "    return answer"
   ]
  },
  {
   "cell_type": "code",
   "execution_count": 153,
   "id": "69185cc6",
   "metadata": {
    "ExecuteTime": {
     "end_time": "2022-03-09T04:17:30.174147Z",
     "start_time": "2022-03-09T04:17:30.163138Z"
    }
   },
   "outputs": [],
   "source": [
    "# 원풀이 수정\n",
    "from collections import Counter\n",
    "def solution(id_list, report, k):\n",
    "    suspended = {i: False for i in id_list} \n",
    "    report = list(set(report)) # 중복제거\n",
    "    reported_id = [r.split(' ')[1] for r in report] # 신고당한 사람\n",
    "    report = [r.split(' ') for r in report] # 신고 split \n",
    "    \n",
    "    reported = Counter(reported_id) #id당 신고당한 수    \n",
    "    for i in suspended.keys(): # 정지 목록 갱신\n",
    "        if reported[i] >= k:\n",
    "            suspended[i]= True\n",
    "    #print(suspended)\n",
    "    \n",
    "    answer = [0]*len(id_list)\n",
    "    for j in range(len(report)): # 리포트 돌아가며 확인\n",
    "        if suspended[report[j][1]] == True: # 신고당한 아이디가 정지당한 것과 같을 때 \n",
    "            answer[id_list.index(report[j][0])] += 1 # 신고자의 값 +1, 인덱스는 id_list 따라서\n",
    "\n",
    "    return answer"
   ]
  },
  {
   "cell_type": "code",
   "execution_count": 151,
   "id": "87d3fb6a",
   "metadata": {
    "ExecuteTime": {
     "end_time": "2022-03-09T04:11:43.577456Z",
     "start_time": "2022-03-09T04:11:43.566448Z"
    }
   },
   "outputs": [],
   "source": [
    "# 아래 풀이 참조\n",
    "def solution(id_list, report, k):\n",
    "    answer = [0] * len(id_list) \n",
    "    reports = {i: 0 for i in id_list} # id와 신고당한 횟수\n",
    "    report = set(report) # 중복제거\n",
    "    \n",
    "    for r in report:\n",
    "        reports[r.split()[1]] +=1  # 신고 수 적립\n",
    "    \n",
    "    for r in report:\n",
    "        if reports[r.split()[1]] >= k: # 정지 여부 확인\n",
    "            answer[id_list.index(r.split()[0])] += 1 # 정지되었으면 해당 신고자에 값 +1 \n",
    "\n",
    "    return answer"
   ]
  },
  {
   "cell_type": "code",
   "execution_count": 154,
   "id": "c7c023c0",
   "metadata": {
    "ExecuteTime": {
     "end_time": "2022-03-09T04:17:32.156863Z",
     "start_time": "2022-03-09T04:17:32.140857Z"
    }
   },
   "outputs": [
    {
     "data": {
      "text/plain": [
       "[2, 1, 1, 0]"
      ]
     },
     "execution_count": 154,
     "metadata": {},
     "output_type": "execute_result"
    }
   ],
   "source": [
    "solution([\"muzi\", \"frodo\", \"apeach\", \"neo\"],[\"muzi frodo\",\"apeach frodo\",\"frodo neo\",\"muzi neo\",\"apeach muzi\"],2)"
   ]
  },
  {
   "cell_type": "code",
   "execution_count": null,
   "id": "b50cf091",
   "metadata": {},
   "outputs": [],
   "source": []
  }
 ],
 "metadata": {
  "kernelspec": {
   "display_name": "Python 3 (ipykernel)",
   "language": "python",
   "name": "python3"
  },
  "language_info": {
   "codemirror_mode": {
    "name": "ipython",
    "version": 3
   },
   "file_extension": ".py",
   "mimetype": "text/x-python",
   "name": "python",
   "nbconvert_exporter": "python",
   "pygments_lexer": "ipython3",
   "version": "3.8.12"
  },
  "toc": {
   "base_numbering": 1,
   "nav_menu": {},
   "number_sections": true,
   "sideBar": true,
   "skip_h1_title": true,
   "title_cell": "Table of Contents",
   "title_sidebar": "Contents",
   "toc_cell": false,
   "toc_position": {},
   "toc_section_display": true,
   "toc_window_display": false
  },
  "varInspector": {
   "cols": {
    "lenName": 16,
    "lenType": 16,
    "lenVar": 40
   },
   "kernels_config": {
    "python": {
     "delete_cmd_postfix": "",
     "delete_cmd_prefix": "del ",
     "library": "var_list.py",
     "varRefreshCmd": "print(var_dic_list())"
    },
    "r": {
     "delete_cmd_postfix": ") ",
     "delete_cmd_prefix": "rm(",
     "library": "var_list.r",
     "varRefreshCmd": "cat(var_dic_list()) "
    }
   },
   "types_to_exclude": [
    "module",
    "function",
    "builtin_function_or_method",
    "instance",
    "_Feature"
   ],
   "window_display": false
  }
 },
 "nbformat": 4,
 "nbformat_minor": 5
}
