{
 "cells": [
  {
   "cell_type": "code",
   "execution_count": 1,
   "id": "a4591f39",
   "metadata": {
    "ExecuteTime": {
     "end_time": "2022-04-28T05:27:57.315154Z",
     "start_time": "2022-04-28T05:27:57.304151Z"
    }
   },
   "outputs": [],
   "source": [
    "def solution(x):\n",
    "    tmp = 0\n",
    "    for i in str(x):\n",
    "        tmp += int(i)\n",
    "    if x % tmp ==0:\n",
    "        return True\n",
    "    else:  \n",
    "        return False"
   ]
  },
  {
   "cell_type": "code",
   "execution_count": 2,
   "id": "9cdc7802",
   "metadata": {
    "ExecuteTime": {
     "end_time": "2022-04-28T05:28:57.287918Z",
     "start_time": "2022-04-28T05:28:57.281915Z"
    }
   },
   "outputs": [],
   "source": [
    "# 참조할 만한 풀이\n",
    "def Harshad(n):\n",
    "    # n은 하샤드 수 인가요?\n",
    "    return n % sum([int(c) for c in str(n)]) == 0 # tmp같이 변수 안만들고 sum으로 처리, if문 안 만들고 return에 ==0으로 처리"
   ]
  }
 ],
 "metadata": {
  "kernelspec": {
   "display_name": "Python 3 (ipykernel)",
   "language": "python",
   "name": "python3"
  },
  "language_info": {
   "codemirror_mode": {
    "name": "ipython",
    "version": 3
   },
   "file_extension": ".py",
   "mimetype": "text/x-python",
   "name": "python",
   "nbconvert_exporter": "python",
   "pygments_lexer": "ipython3",
   "version": "3.8.12"
  },
  "toc": {
   "base_numbering": 1,
   "nav_menu": {},
   "number_sections": true,
   "sideBar": true,
   "skip_h1_title": true,
   "title_cell": "Table of Contents",
   "title_sidebar": "Contents",
   "toc_cell": false,
   "toc_position": {},
   "toc_section_display": true,
   "toc_window_display": false
  },
  "varInspector": {
   "cols": {
    "lenName": 16,
    "lenType": 16,
    "lenVar": 40
   },
   "kernels_config": {
    "python": {
     "delete_cmd_postfix": "",
     "delete_cmd_prefix": "del ",
     "library": "var_list.py",
     "varRefreshCmd": "print(var_dic_list())"
    },
    "r": {
     "delete_cmd_postfix": ") ",
     "delete_cmd_prefix": "rm(",
     "library": "var_list.r",
     "varRefreshCmd": "cat(var_dic_list()) "
    }
   },
   "types_to_exclude": [
    "module",
    "function",
    "builtin_function_or_method",
    "instance",
    "_Feature"
   ],
   "window_display": false
  }
 },
 "nbformat": 4,
 "nbformat_minor": 5
}
