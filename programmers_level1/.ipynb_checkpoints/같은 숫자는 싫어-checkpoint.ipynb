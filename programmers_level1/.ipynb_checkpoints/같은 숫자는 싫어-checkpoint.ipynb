{
 "cells": [
  {
   "cell_type": "code",
   "execution_count": null,
   "id": "f1a8f5ed",
   "metadata": {},
   "outputs": [],
   "source": [
    "def solution(arr):\n",
    "    arr.insert(0,-1)\n",
    "    l=[]\n",
    "    for i,v in enumerate(arr):\n",
    "        if v != arr[i-1]:\n",
    "            l.append(v)\n",
    "    return l[1:]"
   ]
  },
  {
   "cell_type": "code",
   "execution_count": null,
   "id": "1c2b7b82",
   "metadata": {},
   "outputs": [],
   "source": [
    "# 참조할만한 풀이 \n",
    "def no_continuous(s):\n",
    "    a = []\n",
    "    for i in s:\n",
    "        if a[-1:] == [i]: # 그냥 a[-1]하면 처음에 값이 없기에 오류 발생 / 나는 임의의 값을 넣는 식으로 처리\n",
    "            # 슬라이싱은 인덱싱 오류 나지 않음 \n",
    "            continue # continue 걸어두면 뒤의 코드 무시하고 다음 반복\n",
    "        a.append(i)\n",
    "    return a"
   ]
  },
  {
   "cell_type": "code",
   "execution_count": null,
   "id": "abdc33e2",
   "metadata": {},
   "outputs": [],
   "source": [
    "def no_continuous(s):\n",
    "    result = []\n",
    "    for c in s:\n",
    "        if (len(result) == 0) or (result[-1] != c): # 인덱싱 오류 피하기 위해 조건 추가 \n",
    "            result.append(c)\n",
    "    return result"
   ]
  },
  {
   "cell_type": "code",
   "execution_count": null,
   "id": "f1ec3649",
   "metadata": {},
   "outputs": [],
   "source": [
    "def no_continuous(s):\n",
    "    # 함수를 완성하세요\n",
    "    return [s[i] for i in range(len(s)) if s[i] != s[i+1:i+2]] # 리스트 컴프리헨션으로 간단히 처리 "
   ]
  }
 ],
 "metadata": {
  "kernelspec": {
   "display_name": "Python 3 (ipykernel)",
   "language": "python",
   "name": "python3"
  },
  "language_info": {
   "codemirror_mode": {
    "name": "ipython",
    "version": 3
   },
   "file_extension": ".py",
   "mimetype": "text/x-python",
   "name": "python",
   "nbconvert_exporter": "python",
   "pygments_lexer": "ipython3",
   "version": "3.8.12"
  },
  "toc": {
   "base_numbering": 1,
   "nav_menu": {},
   "number_sections": true,
   "sideBar": true,
   "skip_h1_title": true,
   "title_cell": "Table of Contents",
   "title_sidebar": "Contents",
   "toc_cell": false,
   "toc_position": {},
   "toc_section_display": true,
   "toc_window_display": false
  },
  "varInspector": {
   "cols": {
    "lenName": 16,
    "lenType": 16,
    "lenVar": 40
   },
   "kernels_config": {
    "python": {
     "delete_cmd_postfix": "",
     "delete_cmd_prefix": "del ",
     "library": "var_list.py",
     "varRefreshCmd": "print(var_dic_list())"
    },
    "r": {
     "delete_cmd_postfix": ") ",
     "delete_cmd_prefix": "rm(",
     "library": "var_list.r",
     "varRefreshCmd": "cat(var_dic_list()) "
    }
   },
   "types_to_exclude": [
    "module",
    "function",
    "builtin_function_or_method",
    "instance",
    "_Feature"
   ],
   "window_display": false
  }
 },
 "nbformat": 4,
 "nbformat_minor": 5
}
