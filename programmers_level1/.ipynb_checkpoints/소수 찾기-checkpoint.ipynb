{
 "cells": [
  {
   "cell_type": "code",
   "execution_count": 1,
   "id": "faab4568",
   "metadata": {
    "ExecuteTime": {
     "end_time": "2022-04-26T02:37:31.336016Z",
     "start_time": "2022-04-26T02:37:31.327017Z"
    }
   },
   "outputs": [],
   "source": [
    "def solution(n):\n",
    "    if n <=3:\n",
    "        return n-1 \n",
    "    answer = n \n",
    "    for i in range(4,n+1): # 숫자범위는 4~n (1은 소수 아니므로) ~~ 2,3 같은 경우 배제위해\n",
    "        for j in range(2,int(i**0.5)+1): # 약수 범위는 2~루트n \n",
    "            if i %j == 0: # 소수 아니면 \n",
    "                answer -=1\n",
    "                break\n",
    "    return answer-1 # 1일때"
   ]
  },
  {
   "cell_type": "code",
   "execution_count": null,
   "id": "0b4f3b48",
   "metadata": {},
   "outputs": [],
   "source": [
    "# 에라토스테네스의 체 간결히 구현 -> 굉장히 빠름\n",
    "def solution(n):\n",
    "    num=set(range(2,n+1)) # set(range(3, n+1, 2))와 같이 짝수는 제외하여 속도 향상 가능 \n",
    "\n",
    "    for i in range(2,n+1): # 이 부분은 루트로 범위 수정 가능 \n",
    "        if i in num:\n",
    "            num-=set(range(2*i,n+1,i)) # i의 배수마다 걸러냄\n",
    "    return len(num)"
   ]
  }
 ],
 "metadata": {
  "kernelspec": {
   "display_name": "Python 3 (ipykernel)",
   "language": "python",
   "name": "python3"
  },
  "language_info": {
   "codemirror_mode": {
    "name": "ipython",
    "version": 3
   },
   "file_extension": ".py",
   "mimetype": "text/x-python",
   "name": "python",
   "nbconvert_exporter": "python",
   "pygments_lexer": "ipython3",
   "version": "3.8.12"
  },
  "toc": {
   "base_numbering": 1,
   "nav_menu": {},
   "number_sections": true,
   "sideBar": true,
   "skip_h1_title": true,
   "title_cell": "Table of Contents",
   "title_sidebar": "Contents",
   "toc_cell": false,
   "toc_position": {},
   "toc_section_display": true,
   "toc_window_display": false
  },
  "varInspector": {
   "cols": {
    "lenName": 16,
    "lenType": 16,
    "lenVar": 40
   },
   "kernels_config": {
    "python": {
     "delete_cmd_postfix": "",
     "delete_cmd_prefix": "del ",
     "library": "var_list.py",
     "varRefreshCmd": "print(var_dic_list())"
    },
    "r": {
     "delete_cmd_postfix": ") ",
     "delete_cmd_prefix": "rm(",
     "library": "var_list.r",
     "varRefreshCmd": "cat(var_dic_list()) "
    }
   },
   "types_to_exclude": [
    "module",
    "function",
    "builtin_function_or_method",
    "instance",
    "_Feature"
   ],
   "window_display": false
  }
 },
 "nbformat": 4,
 "nbformat_minor": 5
}
