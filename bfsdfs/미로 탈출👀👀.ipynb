{
 "cells": [
  {
   "cell_type": "markdown",
   "id": "d4b63fa0",
   "metadata": {},
   "source": [
    "https://velog.io/@suzieep/Algorithm-%EC%9D%B4%EC%BD%94%ED%85%8C-%EB%AF%B8%EB%A1%9C-%ED%83%88%EC%B6%9C-%ED%8C%8C%EC%9D%B4%EC%8D%AC"
   ]
  },
  {
   "cell_type": "code",
   "execution_count": 9,
   "id": "820d04c6",
   "metadata": {
    "ExecuteTime": {
     "end_time": "2022-07-14T14:33:58.646472Z",
     "start_time": "2022-07-14T14:33:50.546912Z"
    }
   },
   "outputs": [
    {
     "name": "stdout",
     "output_type": "stream",
     "text": [
      "3 3\n",
      "110\n",
      "010\n",
      "011\n"
     ]
    }
   ],
   "source": [
    "n,m = map(int,input().split())\n",
    "maze =[]\n",
    "\n",
    "for i in range(n):\n",
    "    maze.append(list(map(int,input())))"
   ]
  },
  {
   "cell_type": "code",
   "execution_count": 11,
   "id": "86cd4a7e",
   "metadata": {
    "ExecuteTime": {
     "end_time": "2022-07-14T14:34:01.432213Z",
     "start_time": "2022-07-14T14:34:01.414210Z"
    }
   },
   "outputs": [
    {
     "name": "stdout",
     "output_type": "stream",
     "text": [
      "5\n"
     ]
    }
   ],
   "source": [
    "# bfs -> 덱으로\n",
    "from collections import deque\n",
    "\n",
    "dx =[-1,1,0,0] # 상하좌우 방향 정의\n",
    "dy =[0,0,-1,1]\n",
    "\n",
    "def bfs(x,y):\n",
    "    queue =deque()\n",
    "    queue.append((x,y))\n",
    "    while queue:\n",
    "        x,y = queue.popleft()\n",
    "        for i in range(4):\n",
    "            nx = x +dx[i]\n",
    "            ny = y + dy[i]\n",
    "            if nx <0 or ny<0 or nx>=n or ny >=m:\n",
    "                continue \n",
    "            if maze[nx][ny]==0:\n",
    "                continue\n",
    "            if maze[nx][ny]==1:\n",
    "                maze[nx][ny]= maze[x][y]+1\n",
    "                queue.append((nx,ny))\n",
    "    return maze[n-1][m-1] # 마지막이 출구이므로 \n",
    "print(bfs(0,0))"
   ]
  },
  {
   "cell_type": "code",
   "execution_count": 12,
   "id": "243a6869",
   "metadata": {
    "ExecuteTime": {
     "end_time": "2022-07-14T14:34:01.447214Z",
     "start_time": "2022-07-14T14:34:01.435213Z"
    }
   },
   "outputs": [
    {
     "data": {
      "text/plain": [
       "[[3, 2, 0], [0, 3, 0], [0, 4, 5]]"
      ]
     },
     "execution_count": 12,
     "metadata": {},
     "output_type": "execute_result"
    }
   ],
   "source": [
    "maze # 상하좌우 다 값이 고려되므로 처음값 등 중간 경로도 값 커짐"
   ]
  },
  {
   "cell_type": "code",
   "execution_count": null,
   "id": "409b11d5",
   "metadata": {},
   "outputs": [],
   "source": []
  },
  {
   "cell_type": "code",
   "execution_count": null,
   "id": "89e882fe",
   "metadata": {},
   "outputs": [],
   "source": []
  }
 ],
 "metadata": {
  "kernelspec": {
   "display_name": "Python 3 (ipykernel)",
   "language": "python",
   "name": "python3"
  },
  "language_info": {
   "codemirror_mode": {
    "name": "ipython",
    "version": 3
   },
   "file_extension": ".py",
   "mimetype": "text/x-python",
   "name": "python",
   "nbconvert_exporter": "python",
   "pygments_lexer": "ipython3",
   "version": "3.8.12"
  },
  "toc": {
   "base_numbering": 1,
   "nav_menu": {},
   "number_sections": true,
   "sideBar": true,
   "skip_h1_title": true,
   "title_cell": "Table of Contents",
   "title_sidebar": "Contents",
   "toc_cell": false,
   "toc_position": {},
   "toc_section_display": true,
   "toc_window_display": false
  },
  "varInspector": {
   "cols": {
    "lenName": 16,
    "lenType": 16,
    "lenVar": 40
   },
   "kernels_config": {
    "python": {
     "delete_cmd_postfix": "",
     "delete_cmd_prefix": "del ",
     "library": "var_list.py",
     "varRefreshCmd": "print(var_dic_list())"
    },
    "r": {
     "delete_cmd_postfix": ") ",
     "delete_cmd_prefix": "rm(",
     "library": "var_list.r",
     "varRefreshCmd": "cat(var_dic_list()) "
    }
   },
   "types_to_exclude": [
    "module",
    "function",
    "builtin_function_or_method",
    "instance",
    "_Feature"
   ],
   "window_display": false
  }
 },
 "nbformat": 4,
 "nbformat_minor": 5
}
