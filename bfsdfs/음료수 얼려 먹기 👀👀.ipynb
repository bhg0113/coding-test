{
 "cells": [
  {
   "cell_type": "markdown",
   "id": "fe40065e",
   "metadata": {},
   "source": [
    "https://velog.io/@suzieep/Algorithm-%EC%9D%B4%EC%BD%94%ED%85%8C-%EC%9D%8C%EB%A3%8C%EC%88%98-%EC%96%BC%EB%A0%A4-%EB%A8%B9%EA%B8%B0-%ED%8C%8C%EC%9D%B4%EC%8D%AC"
   ]
  },
  {
   "cell_type": "code",
   "execution_count": 9,
   "id": "bc77f27b",
   "metadata": {
    "ExecuteTime": {
     "end_time": "2022-07-14T08:36:27.996301Z",
     "start_time": "2022-07-14T08:36:20.339690Z"
    }
   },
   "outputs": [
    {
     "name": "stdout",
     "output_type": "stream",
     "text": [
      "3 3\n",
      "001\n",
      "010\n",
      "101\n"
     ]
    }
   ],
   "source": [
    "n,m = map(int,input().split())\n",
    "frame =[]\n",
    "\n",
    "for i in range(n):\n",
    "    frame.append(list(map(int,input())))"
   ]
  },
  {
   "cell_type": "code",
   "execution_count": 10,
   "id": "61d9e417",
   "metadata": {
    "ExecuteTime": {
     "end_time": "2022-07-14T08:36:29.442253Z",
     "start_time": "2022-07-14T08:36:29.435253Z"
    }
   },
   "outputs": [],
   "source": [
    "# dfs로 해결\n",
    "# 칸 따라 가며 0이면 하,우 살펴봄(방문하지 않은) -> 1이면 그만(아이스크림 추가) 0이면 계속 탐색"
   ]
  },
  {
   "cell_type": "code",
   "execution_count": 11,
   "id": "1982a8e8",
   "metadata": {
    "ExecuteTime": {
     "end_time": "2022-07-14T08:36:29.851138Z",
     "start_time": "2022-07-14T08:36:29.835177Z"
    }
   },
   "outputs": [
    {
     "name": "stdout",
     "output_type": "stream",
     "text": [
      "3\n"
     ]
    }
   ],
   "source": [
    "def dfs(x,y):\n",
    "    if x<0 or x>=m or y<0 or y>=n:\n",
    "        return False\n",
    "    if frame[x][y]==0: # 얼음으로도, 방문하지 않은 곳으로도 활용\n",
    "        frame[x][y]=1\n",
    "        dfs(x,y-1) # 상 \n",
    "        dfs(x,y+1) # 하\n",
    "        dfs(x-1,y) # 좌\n",
    "        dfs(x+1,y) # 우\n",
    "        return True\n",
    "    return False\n",
    "        \n",
    "    \n",
    "cnt = 0\n",
    "for i in range(n):\n",
    "    for j in range(m):\n",
    "        if dfs(i,j)== True:\n",
    "            cnt +=1\n",
    "print(cnt)"
   ]
  },
  {
   "cell_type": "code",
   "execution_count": null,
   "id": "3caceb9a",
   "metadata": {},
   "outputs": [],
   "source": []
  },
  {
   "cell_type": "code",
   "execution_count": null,
   "id": "ac302ec7",
   "metadata": {},
   "outputs": [],
   "source": []
  }
 ],
 "metadata": {
  "kernelspec": {
   "display_name": "Python 3 (ipykernel)",
   "language": "python",
   "name": "python3"
  },
  "language_info": {
   "codemirror_mode": {
    "name": "ipython",
    "version": 3
   },
   "file_extension": ".py",
   "mimetype": "text/x-python",
   "name": "python",
   "nbconvert_exporter": "python",
   "pygments_lexer": "ipython3",
   "version": "3.8.12"
  },
  "toc": {
   "base_numbering": 1,
   "nav_menu": {},
   "number_sections": true,
   "sideBar": true,
   "skip_h1_title": true,
   "title_cell": "Table of Contents",
   "title_sidebar": "Contents",
   "toc_cell": false,
   "toc_position": {},
   "toc_section_display": true,
   "toc_window_display": false
  },
  "varInspector": {
   "cols": {
    "lenName": 16,
    "lenType": 16,
    "lenVar": 40
   },
   "kernels_config": {
    "python": {
     "delete_cmd_postfix": "",
     "delete_cmd_prefix": "del ",
     "library": "var_list.py",
     "varRefreshCmd": "print(var_dic_list())"
    },
    "r": {
     "delete_cmd_postfix": ") ",
     "delete_cmd_prefix": "rm(",
     "library": "var_list.r",
     "varRefreshCmd": "cat(var_dic_list()) "
    }
   },
   "types_to_exclude": [
    "module",
    "function",
    "builtin_function_or_method",
    "instance",
    "_Feature"
   ],
   "window_display": false
  }
 },
 "nbformat": 4,
 "nbformat_minor": 5
}
